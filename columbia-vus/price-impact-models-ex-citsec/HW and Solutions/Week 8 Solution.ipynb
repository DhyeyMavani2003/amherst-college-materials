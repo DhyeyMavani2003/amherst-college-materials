{
 "cells": [
  {
   "cell_type": "code",
   "execution_count": 2,
   "id": "edb5fcb0",
   "metadata": {},
   "outputs": [],
   "source": [
    "\\l C:\\q\\columbiaHdb\\\n",
    "\\c 25 200\n",
    "\n",
    "cleanData:{[dt]\n",
    " tbl: select from bin10 where date = dt;\n",
    " tbl: delete spread from tbl;\n",
    " update reverse fills reverse date, \n",
    " reverse fills reverse mid, \n",
    " reverse fills reverse vol, \n",
    " reverse fills reverse adv \n",
    " by id from tbl}\n",
    "\n",
    "tbl: cleanData 2019.01.03"
   ]
  },
  {
   "cell_type": "markdown",
   "id": "aa1cedf0",
   "metadata": {},
   "source": [
    "# Exercise 1\n",
    "\n",
    "1. Implement a TWAP scheduling function.\n",
    "2. Implement a VWAP scheduling function.\n",
    "3. Implement a PoV scheduling function with 10\\% participation rate.\n",
    "4. For a given stock, simulate buying \\$1 million using each trading schedule. Compare the three schedules.\n",
    "5. Repeat Question 4 with a buy order of 10\\% adv for the same stock. Comment on PoV and VWAP schedules when one has a perfect volume prediction."
   ]
  },
  {
   "cell_type": "markdown",
   "id": "da99f5fe",
   "metadata": {},
   "source": [
    "## Exercise 1.1"
   ]
  },
  {
   "cell_type": "code",
   "execution_count": 3,
   "id": "c7a567d9",
   "metadata": {},
   "outputs": [],
   "source": [
    "TWAPsimschedule: {[trade; adv; size]\n",
    "    timeunits: count trade;\n",
    "    mytrade: timeunits#(size % timeunits);\n",
    "    mytrade}"
   ]
  },
  {
   "cell_type": "markdown",
   "id": "de932bcf",
   "metadata": {},
   "source": [
    "## Exercise 1.2"
   ]
  },
  {
   "cell_type": "code",
   "execution_count": 4,
   "id": "11091687",
   "metadata": {},
   "outputs": [],
   "source": [
    "VWAPsimschedule: {[trade; adv; size]\n",
    "    mytrade: size * (abs(trade) % adv);\n",
    "    mytrade}"
   ]
  },
  {
   "cell_type": "markdown",
   "id": "e412257e",
   "metadata": {},
   "source": [
    "## Exercise 1.3"
   ]
  },
  {
   "cell_type": "code",
   "execution_count": 5,
   "id": "83d5c04d",
   "metadata": {},
   "outputs": [],
   "source": [
    "PoVsimschedule:{[trade; adv; size]\n",
    "    mytrade: 0.1 * abs(trade);\n",
    "    totaltrades: sums(mytrade);\n",
    "    totaltrades: totaltrades & size;\n",
    "    mytrade: deltas(totaltrades);\n",
    "    mytrade}"
   ]
  },
  {
   "cell_type": "markdown",
   "id": "84abc64f",
   "metadata": {},
   "source": [
    "## Exercise 1.4"
   ]
  },
  {
   "cell_type": "code",
   "execution_count": 6,
   "id": "9f3f2251",
   "metadata": {},
   "outputs": [],
   "source": [
    "tbl2: select from tbl where id = 0\n",
    "size: 1000000;\n",
    "tbl2: update TWAPschedule: TWAPsimschedule[trade; adv; size],\n",
    " VWAPschedule: VWAPsimschedule[trade; adv; size],\n",
    " PoVschedule: PoVsimschedule[trade; adv; size] from tbl2"
   ]
  },
  {
   "cell_type": "markdown",
   "id": "0025f40d",
   "metadata": {},
   "source": [
    "## Exercise 1.5"
   ]
  },
  {
   "cell_type": "code",
   "execution_count": 7,
   "id": "71f9bd45",
   "metadata": {},
   "outputs": [],
   "source": [
    "size: 1000000;\n",
    "tbl2: update TWAPschedule: TWAPsimschedule[trade; adv; 0.1 * last adv],\n",
    " VWAPschedule: VWAPsimschedule[trade; adv; 0.1 * last adv],\n",
    " PoVschedule: PoVsimschedule[trade; adv; 0.1 * last adv] from tbl2"
   ]
  },
  {
   "cell_type": "markdown",
   "id": "83a053bb",
   "metadata": {},
   "source": [
    "# Exercise 2\n",
    "\n",
    "In this Exercise, we assume that we historically submitted a $10\\%$ TWAP buy order on every stock in our universe. Furthermore, assume the price impact model\n",
    "\\begin{equation*}\n",
    "dI_t = -\\beta I_t dt + 0.8\\cdot \\frac{\\sigma}{\\text{adv}} dQ_t\n",
    "\\end{equation*}\n",
    "with $\\log(2)/\\beta = 60$ minutes."
   ]
  },
  {
   "cell_type": "markdown",
   "id": "05212866",
   "metadata": {},
   "source": [
    "1. Compute impact-adjusted prices across the stock universe.\n",
    "2. Simulate new prices assuming we instead submitted TWAP buy orders of $20\\%$ adv.\n",
    "3. Simulate new prices assuming we instead submitted VWAP buy orders of $10\\%$ adv.\n",
    "4. Compute the historical strategy's average impact costs. Repeat for the TWAP order from Question 2 and the VWAP order from Question 3.\n",
    "5. Compute the historical strategy's P\\&L. Repeat for the TWAP order from Question 2 and the VWAP order from Question 3."
   ]
  },
  {
   "cell_type": "code",
   "execution_count": 8,
   "id": "6fc8bc5e",
   "metadata": {},
   "outputs": [],
   "source": [
    "computeImpact : {[trade; adv; vol]\n",
    "    / exponential decay constant per 10 seconds,\n",
    "    / i.e. \\beta * \\delta t in the formula above\n",
    "    h: 60;\n",
    "    beta: (log 2) % (6 * h);\n",
    "    lambda: 0.8;\n",
    "    dailyVol: vol * sqrt 6 * 60 * 6.5;\n",
    "    / initialize impact to be zero\n",
    "    / drop the first elemetn from ema in the output\n",
    "    (neg count trade)#ema[beta; 0, lambda * dailyVol * trade % beta * adv]}"
   ]
  },
  {
   "cell_type": "markdown",
   "id": "8a20dbed",
   "metadata": {},
   "source": [
    "## Exercise 2.1"
   ]
  },
  {
   "cell_type": "code",
   "execution_count": 9,
   "id": "a96915d2",
   "metadata": {},
   "outputs": [],
   "source": [
    "tbl: update mytrade: TWAPsimschedule[trade; adv; 0.1*adv] by id from tbl\n",
    "tbl: update I: computeImpact[mytrade; adv; vol] by id from tbl\n",
    "tbl: update adjusted_mid: mid - I from tbl"
   ]
  },
  {
   "cell_type": "markdown",
   "id": "c3c55bb5",
   "metadata": {},
   "source": [
    "## Exercise 2.2"
   ]
  },
  {
   "cell_type": "code",
   "execution_count": 10,
   "id": "1d8f2669",
   "metadata": {},
   "outputs": [],
   "source": [
    "tbl: update mytrade2: TWAPsimschedule[trade; adv; 0.2*adv] by id from tbl\n",
    "tbl: update I2: computeImpact[mytrade2; adv; vol] by id from tbl\n",
    "tbl: update mid2: adjusted_mid + I2 from tbl"
   ]
  },
  {
   "cell_type": "markdown",
   "id": "4423ac65",
   "metadata": {},
   "source": [
    "## Exercise 2.3"
   ]
  },
  {
   "cell_type": "code",
   "execution_count": 11,
   "id": "8804f5af",
   "metadata": {},
   "outputs": [],
   "source": [
    "tbl: update mytrade3: VWAPsimschedule[trade; adv; 0.1*adv] by id from tbl\n",
    "tbl: update I3: computeImpact[mytrade3; adv; vol] by id from tbl\n",
    "tbl: update mid3: adjusted_mid + I3 from tbl"
   ]
  },
  {
   "cell_type": "markdown",
   "id": "4ef71354",
   "metadata": {},
   "source": [
    "## Exercise 2.4"
   ]
  },
  {
   "cell_type": "code",
   "execution_count": 12,
   "id": "ff8ed3e0",
   "metadata": {},
   "outputs": [],
   "source": [
    "tbl: update instantDeltaI: (mytrade * 0.8 * (vol * sqrt 6 * 60 * 6.5)) % adv,\n",
    " instantDeltaI2: (mytrade2 * 0.8 * (vol * sqrt 6 * 60 * 6.5)) % adv,\n",
    " instantDeltaI3: (mytrade3 * 0.8 * (vol * sqrt 6 * 60 * 6.5)) % adv by id from tbl"
   ]
  },
  {
   "cell_type": "code",
   "execution_count": 13,
   "id": "146f56cd",
   "metadata": {},
   "outputs": [],
   "source": [
    "tbl: update mytradecost: (I - 0.5 * instantDeltaI) * mytrade,\n",
    " mytrade2cost: (I2 - 0.5 * instantDeltaI2) * mytrade2,\n",
    " mytrade3cost: (I3 - 0.5 * instantDeltaI3) * mytrade3 by id from tbl"
   ]
  },
  {
   "cell_type": "code",
   "execution_count": 14,
   "id": "ce5bfd85",
   "metadata": {},
   "outputs": [],
   "source": [
    "tbl3: select impactcost: sum mytradecost,\n",
    " impactcost2: sum mytrade2cost,\n",
    " impactcost3: sum mytrade3cost by id from tbl"
   ]
  },
  {
   "cell_type": "code",
   "execution_count": 15,
   "id": "ff6a14ba",
   "metadata": {},
   "outputs": [],
   "source": [
    "tbl4: select avgimpactcost: avg impactcost,\n",
    " avgimpactcost2: avg impactcost2,\n",
    " avgimpactcost3: avg impactcost3 from tbl3"
   ]
  },
  {
   "cell_type": "markdown",
   "id": "1eeac871",
   "metadata": {},
   "source": [
    "## Exercise 2.5"
   ]
  },
  {
   "cell_type": "code",
   "execution_count": 16,
   "id": "e47243c2",
   "metadata": {},
   "outputs": [],
   "source": [
    "deltas0:{first[x]-':x}"
   ]
  },
  {
   "cell_type": "code",
   "execution_count": 17,
   "id": "c3a4646c",
   "metadata": {},
   "outputs": [],
   "source": [
    "tbl: update deltaPaL: ((sums mytrade) * (deltas0 adjusted_mid)) - mytradecost,\n",
    " deltaPaL2: ((sums mytrade2) * (deltas0 adjusted_mid)) -mytrade2cost,\n",
    " deltaPaL3: ((sums mytrade3) * (deltas0 adjusted_mid)) -mytrade3cost by id from tbl"
   ]
  },
  {
   "cell_type": "code",
   "execution_count": 18,
   "id": "1727ba04",
   "metadata": {},
   "outputs": [],
   "source": [
    "tbl5: select PaL: sum deltaPaL,\n",
    " PaL2: sum deltaPaL2,\n",
    " PaL3: sum deltaPaL3 by id from tbl"
   ]
  },
  {
   "cell_type": "code",
   "execution_count": 19,
   "id": "9fae1400",
   "metadata": {},
   "outputs": [],
   "source": [
    "tbl6: select PaL: avg PaL,\n",
    " PaL2: avg PaL2,\n",
    " PaL3: avg PaL3 from tbl5"
   ]
  },
  {
   "cell_type": "code",
   "execution_count": null,
   "id": "c8590ed5",
   "metadata": {},
   "outputs": [],
   "source": []
  }
 ],
 "metadata": {
  "kernelspec": {
   "display_name": "Q (kdb+)",
   "language": "q",
   "name": "qpk"
  },
  "language_info": {
   "file_extension": ".q",
   "mimetype": "text/x-q",
   "name": "q",
   "version": "4.0"
  }
 },
 "nbformat": 4,
 "nbformat_minor": 5
}
