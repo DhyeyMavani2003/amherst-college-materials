{
 "cells": [
  {
   "cell_type": "markdown",
   "id": "da2642e2",
   "metadata": {},
   "source": [
    "# Week 5 Solution (tentative)"
   ]
  },
  {
   "cell_type": "code",
   "execution_count": 1,
   "id": "38f067ed",
   "metadata": {},
   "outputs": [],
   "source": [
    "\\l C:\\q\\columbiaHdb\\"
   ]
  },
  {
   "cell_type": "code",
   "execution_count": 2,
   "id": "b7d74bfd",
   "metadata": {},
   "outputs": [
    {
     "data": {
      "text/plain": [
       "`bin10`date\r\n"
      ]
     },
     "execution_count": 2,
     "metadata": {},
     "output_type": "execute_result"
    }
   ],
   "source": [
    "/ print all variables\n",
    "\\v"
   ]
  },
  {
   "cell_type": "code",
   "execution_count": 3,
   "id": "c597fe3c",
   "metadata": {},
   "outputs": [],
   "source": [
    "/ set console size\n",
    "\\c 30 100"
   ]
  },
  {
   "cell_type": "code",
   "execution_count": 4,
   "id": "cfda0e83",
   "metadata": {},
   "outputs": [],
   "source": [
    "tbl: select from bin10 where date = 2019.01.03"
   ]
  },
  {
   "cell_type": "code",
   "execution_count": 21,
   "id": "a2d67bc0",
   "metadata": {},
   "outputs": [
    {
     "data": {
      "text/plain": [
       "date      | x      \r\n",
       "----------| -------\r\n",
       "2019.01.09| 29058  \r\n",
       "2019.12.24| 610324 \r\n",
       "2019.11.29| 616629 \r\n",
       "2019.07.03| 626717 \r\n",
       "2019.09.18| 887893 \r\n",
       "2019.03.08| 1122500\r\n",
       "2019.12.10| 1133044\r\n",
       "2019.12.11| 1133044\r\n",
       "2019.12.12| 1133044\r\n",
       "2019.12.13| 1133044\r\n",
       "2019.12.16| 1133044\r\n",
       "2019.12.17| 1133044\r\n",
       "2019.12.18| 1133044\r\n",
       "2019.12.19| 1133044\r\n",
       "2019.12.20| 1133044\r\n",
       "2019.12.23| 1133044\r\n",
       "2019.12.26| 1133044\r\n",
       "2019.12.27| 1133044\r\n",
       "2019.12.09| 1135385\r\n",
       "2019.12.06| 1139580\r\n",
       "2019.12.05| 1140067\r\n",
       "2019.11.21| 1144749\r\n",
       "2019.11.22| 1144749\r\n",
       "2019.11.25| 1144749\r\n",
       "2019.11.26| 1144749\r\n",
       "..\r\n"
      ]
     },
     "execution_count": 21,
     "metadata": {},
     "output_type": "execute_result"
    }
   ],
   "source": [
    "/ note that some dates have questionable data, you can drop the date 2019.01.09 for future homework\n",
    "`x xasc select count i by date from bin10 "
   ]
  },
  {
   "cell_type": "markdown",
   "id": "9cfdb236",
   "metadata": {},
   "source": [
    "# OW Model\n",
    "The baseline OW model proposes that\n",
    "$$\n",
    "    I_{t + \\delta t} - I_t = - \\beta I_t \\delta t + \\lambda \\sigma \\frac{q_t}{\\text{ADV}},\n",
    "$$\n",
    "or equivalently,\n",
    "$$\n",
    "    I_{t + \\delta t} = (1 - \\beta \\delta t) I_t + \\lambda \\sigma \\frac{q_t}{\\text{ADV}}.\n",
    "$$\n",
    "This is an exponentially weighted average (EMA) on $$ \\color{red}{\\frac{1}{\\beta \\delta t}} \\lambda \\sigma \\frac{q_t}{\\text{ADV}}$$ with smoothing factor $\\beta \\delta t$."
   ]
  },
  {
   "cell_type": "markdown",
   "id": "908f3123",
   "metadata": {},
   "source": [
    "# Data Cleaning\n",
    "\n",
    "Some id has missing values at the beginning."
   ]
  },
  {
   "cell_type": "code",
   "execution_count": 6,
   "id": "d5cd5dc8",
   "metadata": {},
   "outputs": [
    {
     "data": {
      "text/plain": [
       "date       time     id trade     mid      spread       vol          adv         \r\n",
       "--------------------------------------------------------------------------------\r\n",
       "           09:30:00 2  0                                                        \r\n",
       "           09:30:10 2  0                                                        \r\n",
       "           09:30:20 2  0                                                        \r\n",
       "           09:30:30 2  0                                                        \r\n",
       "           09:30:40 2  0                                                        \r\n",
       "           09:30:50 2  0                                                        \r\n",
       "           09:31:00 2  0                                                        \r\n",
       "           09:31:10 2  0                                                        \r\n",
       "           09:31:20 2  0                                                        \r\n",
       "           09:31:30 2  0                                                        \r\n",
       "2019.01.03 09:31:40 2  -17615.02 44.15    0.002856641  0.0004827488 1.38682e+007\r\n",
       "2019.01.03 09:31:50 2  0         44.23542 0.002303743  0.0004827488 1.38682e+007\r\n",
       "2019.01.03 09:32:00 2  0         44.22932 0.002165518  0.0004827488 1.38682e+007\r\n",
       "2019.01.03 09:32:10 2  0         44.22932 0.002165518  0.0004827488 1.38682e+007\r\n",
       "2019.01.03 09:32:20 2  0         44.22932 0.002165518  0.0004827488 1.38682e+007\r\n",
       "2019.01.03 09:32:30 2  0         44.22932 0.002165518  0.0004827488 1.38682e+007\r\n",
       "2019.01.03 09:32:40 2  1639.677  44.23949 0.002395892  0.0004827488 1.38682e+007\r\n",
       "2019.01.03 09:32:50 2  -6327.062 44.35942 0.003179165  0.0004827488 1.38682e+007\r\n",
       "2019.01.03 09:33:00 2  0         44.25982 0.001935144  0.0004827488 1.38682e+007\r\n",
       "2019.01.03 09:33:10 2  0         44.26998 0.002165518  0.0004827488 1.38682e+007\r\n",
       "2019.01.03 09:33:20 2  0         44.30251 0.00142832   0.0004827488 1.38682e+007\r\n",
       "2019.01.03 09:33:30 2  0         44.30251 0.00142832   0.0004827488 1.38682e+007\r\n",
       "2019.01.03 09:33:40 2  0         44.31064 0.00161262   0.0004827488 1.38682e+007\r\n",
       "2019.01.03 09:33:50 2  0         44.31471 0.0009675719 0.0004827488 1.38682e+007\r\n",
       "2019.01.03 09:34:00 2  0         44.30454 0.0007371976 0.0004827488 1.38682e+007\r\n",
       "..\r\n"
      ]
     },
     "execution_count": 6,
     "metadata": {},
     "output_type": "execute_result"
    }
   ],
   "source": [
    "select from tbl where id = 2"
   ]
  },
  {
   "cell_type": "code",
   "execution_count": 7,
   "id": "bba056bf",
   "metadata": {},
   "outputs": [],
   "source": [
    "/ reverse fills the missing values\n",
    "tbl: update reverse fills reverse date,\n",
    " reverse fills reverse mid,\n",
    " reverse fills reverse spread,\n",
    " reverse fills reverse vol,\n",
    " reverse fills reverse adv \n",
    " by id from tbl"
   ]
  },
  {
   "cell_type": "code",
   "execution_count": 8,
   "id": "1f6ab0dd",
   "metadata": {},
   "outputs": [
    {
     "data": {
      "text/plain": [
       "date       time     id trade     mid      spread       vol          adv         \r\n",
       "--------------------------------------------------------------------------------\r\n",
       "2019.01.03 09:30:00 2  0         44.15    0.002856641  0.0004827488 1.38682e+007\r\n",
       "2019.01.03 09:30:10 2  0         44.15    0.002856641  0.0004827488 1.38682e+007\r\n",
       "2019.01.03 09:30:20 2  0         44.15    0.002856641  0.0004827488 1.38682e+007\r\n",
       "2019.01.03 09:30:30 2  0         44.15    0.002856641  0.0004827488 1.38682e+007\r\n",
       "2019.01.03 09:30:40 2  0         44.15    0.002856641  0.0004827488 1.38682e+007\r\n",
       "2019.01.03 09:30:50 2  0         44.15    0.002856641  0.0004827488 1.38682e+007\r\n",
       "2019.01.03 09:31:00 2  0         44.15    0.002856641  0.0004827488 1.38682e+007\r\n",
       "2019.01.03 09:31:10 2  0         44.15    0.002856641  0.0004827488 1.38682e+007\r\n",
       "2019.01.03 09:31:20 2  0         44.15    0.002856641  0.0004827488 1.38682e+007\r\n",
       "2019.01.03 09:31:30 2  0         44.15    0.002856641  0.0004827488 1.38682e+007\r\n",
       "2019.01.03 09:31:40 2  -17615.02 44.15    0.002856641  0.0004827488 1.38682e+007\r\n",
       "2019.01.03 09:31:50 2  0         44.23542 0.002303743  0.0004827488 1.38682e+007\r\n",
       "2019.01.03 09:32:00 2  0         44.22932 0.002165518  0.0004827488 1.38682e+007\r\n",
       "2019.01.03 09:32:10 2  0         44.22932 0.002165518  0.0004827488 1.38682e+007\r\n",
       "2019.01.03 09:32:20 2  0         44.22932 0.002165518  0.0004827488 1.38682e+007\r\n",
       "2019.01.03 09:32:30 2  0         44.22932 0.002165518  0.0004827488 1.38682e+007\r\n",
       "2019.01.03 09:32:40 2  1639.677  44.23949 0.002395892  0.0004827488 1.38682e+007\r\n",
       "2019.01.03 09:32:50 2  -6327.062 44.35942 0.003179165  0.0004827488 1.38682e+007\r\n",
       "2019.01.03 09:33:00 2  0         44.25982 0.001935144  0.0004827488 1.38682e+007\r\n",
       "2019.01.03 09:33:10 2  0         44.26998 0.002165518  0.0004827488 1.38682e+007\r\n",
       "2019.01.03 09:33:20 2  0         44.30251 0.00142832   0.0004827488 1.38682e+007\r\n",
       "2019.01.03 09:33:30 2  0         44.30251 0.00142832   0.0004827488 1.38682e+007\r\n",
       "2019.01.03 09:33:40 2  0         44.31064 0.00161262   0.0004827488 1.38682e+007\r\n",
       "2019.01.03 09:33:50 2  0         44.31471 0.0009675719 0.0004827488 1.38682e+007\r\n",
       "2019.01.03 09:34:00 2  0         44.30454 0.0007371976 0.0004827488 1.38682e+007\r\n",
       "..\r\n"
      ]
     },
     "execution_count": 8,
     "metadata": {},
     "output_type": "execute_result"
    }
   ],
   "source": [
    "select from tbl where id = 2"
   ]
  },
  {
   "cell_type": "markdown",
   "id": "004bd440",
   "metadata": {},
   "source": [
    "# Exericse 1.1\n",
    "\n",
    "For a given halflife h, trade vector, adv and vol, implement a function that returns the impact state vector."
   ]
  },
  {
   "cell_type": "code",
   "execution_count": 9,
   "id": "d6f8ebe1",
   "metadata": {},
   "outputs": [],
   "source": [
    "computeImpact : {[trade; adv; vol; h]\n",
    " / exponential decay constant per 10 seconds, \n",
    " / i.e. \\beta * \\delta t in the formula above\n",
    " beta: (log 2) % 6 * h; \n",
    " lambda: 1;\n",
    " dailyVol: vol * sqrt 6 * 60 * 6.5;\n",
    " / initialize impact to be zero\n",
    " / drop the first elemetn from ema in the output\n",
    " (neg count trade)#ema[beta; 0, lambda * dailyVol * trade % beta * adv]}; "
   ]
  },
  {
   "cell_type": "markdown",
   "id": "451aa583",
   "metadata": {},
   "source": [
    "# Exercise 1.2\n",
    "\n",
    "Let $h = 1, 5, 30, 60$ min be halflifes. Using the cross operator, create a table that duplicates each row for each halflife $h$."
   ]
  },
  {
   "cell_type": "code",
   "execution_count": 10,
   "id": "7805953f",
   "metadata": {},
   "outputs": [],
   "source": [
    "crossTbl: ([]h: 1,5, 30, 60) cross tbl"
   ]
  },
  {
   "cell_type": "markdown",
   "id": "1f76deac",
   "metadata": {},
   "source": [
    "# Exercise 1.3\n",
    "\n",
    "For each halflife h and stock, compute the impact state vector across time. Be sure to scale the model using adv and vol."
   ]
  },
  {
   "cell_type": "code",
   "execution_count": 11,
   "id": "f892be0f",
   "metadata": {},
   "outputs": [],
   "source": [
    "tbl2: update I: computeImpact[trade; adv; vol; first h] by id, h from crossTbl"
   ]
  },
  {
   "cell_type": "code",
   "execution_count": 12,
   "id": "41ed79fa",
   "metadata": {
    "scrolled": false
   },
   "outputs": [
    {
     "data": {
      "text/plain": [
       "id h | time     impact_bps \r\n",
       "-----| --------------------\r\n",
       "0  1 | 16:00:00 -4.413128  \r\n",
       "0  5 | 16:00:00 -5.681994  \r\n",
       "0  30| 16:00:00 -6.331318  \r\n",
       "0  60| 16:00:00 -6.749565  \r\n",
       "1  1 | 16:00:00 -2.845881  \r\n",
       "1  5 | 16:00:00 -0.01882457\r\n",
       "1  30| 16:00:00 7.720802   \r\n",
       "1  60| 16:00:00 15.46085   \r\n",
       "2  1 | 16:00:00 -0.1812012 \r\n",
       "2  5 | 16:00:00 0.5857752  \r\n",
       "2  30| 16:00:00 1.983902   \r\n",
       "2  60| 16:00:00 1.611871   \r\n",
       "3  1 | 16:00:00 -0.821108  \r\n",
       "3  5 | 16:00:00 2.434364   \r\n",
       "3  30| 16:00:00 8.661006   \r\n",
       "3  60| 16:00:00 10.63799   \r\n",
       "4  1 | 16:00:00 -0.3023859 \r\n",
       "4  5 | 16:00:00 -3.146469  \r\n",
       "4  30| 16:00:00 -11.21468  \r\n",
       "4  60| 16:00:00 -17.51732  \r\n",
       "5  1 | 16:00:00 0.2837103  \r\n",
       "5  5 | 16:00:00 -1.624567  \r\n",
       "5  30| 16:00:00 -5.12655   \r\n",
       "5  60| 16:00:00 -5.983349  \r\n",
       "6  1 | 16:00:00 3.328199   \r\n",
       "..\r\n"
      ]
     },
     "execution_count": 12,
     "metadata": {},
     "output_type": "execute_result"
    }
   ],
   "source": [
    "select last time, impact_bps: 10000 * last I by id, h from tbl2"
   ]
  },
  {
   "cell_type": "markdown",
   "id": "69415bca",
   "metadata": {},
   "source": [
    "# Exercise 1.4\n",
    "\n",
    "Let $\\Delta t = 1, 15, 60$ min be prediction horizons. Using the cross operator, create a table that duplicates each row for each prediction horizon. For each prediction horizon, compute the corresponding returns $r = P_{t+\\Delta t}/P_t − 1$ and differences in impact states $\\Delta I = I_{t+\\Delta t} − I_t$."
   ]
  },
  {
   "cell_type": "code",
   "execution_count": 13,
   "id": "d98752f2",
   "metadata": {},
   "outputs": [],
   "source": [
    "crossTbl2: ([]DeltaT:1,15,60) cross tbl2\n",
    "\n",
    "tbl3: update rtn:(neg 1)+mid%(6*DeltaT) xprev mid, \n",
    "    DeltaI: I + neg (6*DeltaT) xprev I by DeltaT, h, id from crossTbl2"
   ]
  },
  {
   "cell_type": "code",
   "execution_count": 14,
   "id": "a14ca488",
   "metadata": {},
   "outputs": [
    {
     "data": {
      "text/plain": [
       "DeltaT h date       time     id trade     mid      spread        vol         adv           I     ..\r\n",
       "-------------------------------------------------------------------------------------------------..\r\n",
       "1      1 2019.01.03 09:30:00 0  454071.8  91.715   0.001148717   0.000446367 1.122415e+008 8.7351..\r\n",
       "1      1 2019.01.03 09:30:10 0  -171833.3 91.72671 0.001072136   0.000446367 1.122415e+008 4.4204..\r\n",
       "1      1 2019.01.03 09:30:20 0  -301.2193 91.58853 7.658112e-005 0.000446367 1.122415e+008 3.9039..\r\n",
       "1      1 2019.01.03 09:30:30 0  -78884.65 91.65646 0.000612649   0.000446367 1.122415e+008 1.9354..\r\n",
       "1      1 2019.01.03 09:30:40 0  -24705.54 91.60259 0.0008423923  0.000446367 1.122415e+008 1.2365..\r\n",
       "1      1 2019.01.03 09:30:50 0  -92166.19 91.58385 0.0005871219  0.000446367 1.122415e+008 -6.793..\r\n",
       "1      1 2019.01.03 09:31:00 0  -22823.01 91.56276 0.000663703   0.000446367 1.122415e+008 -1.039..\r\n",
       "1      1 2019.01.03 09:31:10 0  -4940.182 91.59088 0.0005615949  0.000446367 1.122415e+008 -1.014..\r\n",
       "1      1 2019.01.03 09:31:20 0  -41691.88 91.59322 0.0005360678  0.000446367 1.122415e+008 -1.699..\r\n",
       "1      1 2019.01.03 09:31:30 0  -539826.4 91.60727 0.0007402842  0.000446367 1.122415e+008 -0.000..\r\n",
       "1      1 2019.01.03 09:31:40 0  -53883.89 91.5487  0.0004594867  0.000446367 1.122415e+008 -0.000..\r\n",
       "1      1 2019.01.03 09:31:50 0  316896.2  91.56745 0.0003063245  0.000446367 1.122415e+008 -4.120..\r\n",
       "1      1 2019.01.03 09:32:00 0  8767.784  91.82033 0.0004594867  0.000446367 1.122415e+008 -3.475..\r\n",
       "1      1 2019.01.03 09:32:10 0  132407.8  91.84138 0.000638176   0.000446367 1.122415e+008 -5.271..\r\n",
       "1      1 2019.01.03 09:32:20 0  -52051.64 92.02614 0.0005615949  0.000446367 1.122415e+008 -1.467..\r\n",
       "1      1 2019.01.03 09:32:30 0  441082.8  92.01445 0.0004339597  0.000446367 1.122415e+008 7.1872..\r\n",
       "1      1 2019.01.03 09:32:40 0  -182.6154 92.23874 0.000638176   0.000446367 1.122415e+008 6.3534..\r\n",
       "1      1 2019.01.03 09:32:50 0  4196.414  92.18269 0.0002807974  0.000446367 1.122415e+008 5.7001..\r\n",
       "1      1 2019.01.03 09:33:00 0  112899.5  92.36479 0.0007402842  0.000446367 1.122415e+008 7.2135..\r\n",
       "1      1 2019.01.03 09:33:10 0  -51038.96 92.27376 0.000612649   0.000446367 1.122415e+008 5.3983..\r\n",
       "1      1 2019.01.03 09:33:20 0  -20440.02 92.19904 0.0003063245  0.000446367 1.122415e+008 4.3814..\r\n",
       "1      1 2019.01.03 09:33:30 0  -121802   92.20604 0.0003318515  0.000446367 1.122415e+008 1.5321..\r\n",
       "1      1 2019.01.03 09:33:40 0  24287.28  92.07989 0.0005360678  0.000446367 1.122415e+008 1.8223..\r\n",
       "1      1 2019.01.03 09:33:50 0  -14046.25 92.17101 0.0004084326  0.000446367 1.122415e+008 1.3416..\r\n",
       "1      1 2019.01.03 09:34:00 0  -12283.33 92.17334 0.0004850138  0.000446367 1.122415e+008 9.5035..\r\n",
       "..\r\n"
      ]
     },
     "execution_count": 14,
     "metadata": {},
     "output_type": "execute_result"
    }
   ],
   "source": [
    "tbl3"
   ]
  },
  {
   "cell_type": "markdown",
   "id": "781a9622",
   "metadata": {},
   "source": [
    "# Exercise 1.5\n",
    "\n",
    "For each stock, halflife, and prediction horizon, compute the covariance $E[rΔI]$ and the variance $E[(ΔI)2]$."
   ]
  },
  {
   "cell_type": "code",
   "execution_count": 15,
   "id": "1d51d26c",
   "metadata": {},
   "outputs": [],
   "source": [
    "tbl4: update covI: avg rtn*DeltaI, \n",
    "             varI: avg DeltaI*DeltaI, \n",
    "             varrtn: avg rtn*rtn \n",
    "      by DeltaT, h, id from tbl3"
   ]
  },
  {
   "cell_type": "code",
   "execution_count": 16,
   "id": "b5461d6a",
   "metadata": {},
   "outputs": [],
   "source": [
    "tbl5: select corr: first covI % sqrt varI*varrtn \n",
    "      by id, DeltaT, h from tbl4"
   ]
  },
  {
   "cell_type": "code",
   "execution_count": 17,
   "id": "9a6ff350",
   "metadata": {},
   "outputs": [
    {
     "data": {
      "text/plain": [
       "id R2          \r\n",
       "---------------\r\n",
       "0  0.1972367   \r\n",
       "0  0.2935163   \r\n",
       "0  0.3247731   \r\n",
       "0  0.3250819   \r\n",
       "0  0.07062189  \r\n",
       "0  0.2929868   \r\n",
       "0  0.6639954   \r\n",
       "0  0.6884585   \r\n",
       "0  0.002120665 \r\n",
       "0  0.05056666  \r\n",
       "0  0.4693113   \r\n",
       "0  0.5095557   \r\n",
       "1  0.09484972  \r\n",
       "1  0.2118119   \r\n",
       "1  0.2011021   \r\n",
       "1  0.1924029   \r\n",
       "1  0.0007992855\r\n",
       "1  0.01756812  \r\n",
       "1  0.1030524   \r\n",
       "1  0.1221316   \r\n",
       "1  0.001754568 \r\n",
       "1  0.04026826  \r\n",
       "1  0.2118507   \r\n",
       "1  0.2609247   \r\n",
       "2  0.1054773   \r\n",
       "..\r\n"
      ]
     },
     "execution_count": 17,
     "metadata": {},
     "output_type": "execute_result"
    }
   ],
   "source": [
    "select id, R2: corr*corr from tbl5"
   ]
  }
 ],
 "metadata": {
  "kernelspec": {
   "display_name": "Q (kdb+)",
   "language": "q",
   "name": "qpk"
  },
  "language_info": {
   "file_extension": ".q",
   "mimetype": "text/x-q",
   "name": "q",
   "version": "4.0"
  }
 },
 "nbformat": 4,
 "nbformat_minor": 5
}
