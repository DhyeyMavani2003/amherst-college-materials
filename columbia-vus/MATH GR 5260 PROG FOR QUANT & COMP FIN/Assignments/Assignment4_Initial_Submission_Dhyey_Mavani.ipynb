{
 "cells": [
  {
   "cell_type": "code",
   "execution_count": 2,
   "id": "6ea5c6d2",
   "metadata": {},
   "outputs": [
    {
     "name": "stdout",
     "output_type": "stream",
     "text": [
      "[*********************100%***********************]  8 of 8 completed\n",
      "[*********************100%***********************]  1 of 1 completed\n"
     ]
    }
   ],
   "source": [
    "import yfinance as yf\n",
    "import datetime\n",
    "\n",
    "# Define start and end dates\n",
    "start = datetime.datetime(2019, 1, 2)\n",
    "end = datetime.datetime(2020, 12, 31)\n",
    "\n",
    "# Define list of tickers\n",
    "tickers = ['AAPL', 'HD', 'JNJ', 'JPM', 'MSFT', 'UNH', 'V', 'XOM']\n",
    "\n",
    "# Use yfinance to download adjusted close prices for the tickers\n",
    "prices = yf.download(tickers, start=start, end=end)['Adj Close']\n",
    "dji = yf.download(\"^DJI\", start = start, end = end)[\"Adj Close\"]"
   ]
  },
  {
   "cell_type": "code",
   "execution_count": 3,
   "id": "860d5aed",
   "metadata": {},
   "outputs": [
    {
     "data": {
      "text/html": [
       "<div>\n",
       "<style scoped>\n",
       "    .dataframe tbody tr th:only-of-type {\n",
       "        vertical-align: middle;\n",
       "    }\n",
       "\n",
       "    .dataframe tbody tr th {\n",
       "        vertical-align: top;\n",
       "    }\n",
       "\n",
       "    .dataframe thead th {\n",
       "        text-align: right;\n",
       "    }\n",
       "</style>\n",
       "<table border=\"1\" class=\"dataframe\">\n",
       "  <thead>\n",
       "    <tr style=\"text-align: right;\">\n",
       "      <th></th>\n",
       "      <th>AAPL</th>\n",
       "      <th>HD</th>\n",
       "      <th>JNJ</th>\n",
       "      <th>JPM</th>\n",
       "      <th>MSFT</th>\n",
       "      <th>UNH</th>\n",
       "      <th>V</th>\n",
       "      <th>XOM</th>\n",
       "    </tr>\n",
       "    <tr>\n",
       "      <th>Date</th>\n",
       "      <th></th>\n",
       "      <th></th>\n",
       "      <th></th>\n",
       "      <th></th>\n",
       "      <th></th>\n",
       "      <th></th>\n",
       "      <th></th>\n",
       "      <th></th>\n",
       "    </tr>\n",
       "  </thead>\n",
       "  <tbody>\n",
       "    <tr>\n",
       "      <th>2019-01-02</th>\n",
       "      <td>38.047043</td>\n",
       "      <td>155.546677</td>\n",
       "      <td>114.144203</td>\n",
       "      <td>86.554688</td>\n",
       "      <td>96.632683</td>\n",
       "      <td>228.546432</td>\n",
       "      <td>129.230560</td>\n",
       "      <td>55.378765</td>\n",
       "    </tr>\n",
       "    <tr>\n",
       "      <th>2019-01-03</th>\n",
       "      <td>34.257278</td>\n",
       "      <td>152.118347</td>\n",
       "      <td>112.330406</td>\n",
       "      <td>85.324600</td>\n",
       "      <td>93.077744</td>\n",
       "      <td>222.313873</td>\n",
       "      <td>124.573532</td>\n",
       "      <td>54.528503</td>\n",
       "    </tr>\n",
       "    <tr>\n",
       "      <th>2019-01-04</th>\n",
       "      <td>35.719704</td>\n",
       "      <td>156.638351</td>\n",
       "      <td>114.215683</td>\n",
       "      <td>88.470116</td>\n",
       "      <td>97.406723</td>\n",
       "      <td>224.913910</td>\n",
       "      <td>129.940338</td>\n",
       "      <td>56.538937</td>\n",
       "    </tr>\n",
       "    <tr>\n",
       "      <th>2019-01-07</th>\n",
       "      <td>35.640194</td>\n",
       "      <td>159.723846</td>\n",
       "      <td>113.483025</td>\n",
       "      <td>88.531647</td>\n",
       "      <td>97.530952</td>\n",
       "      <td>225.345673</td>\n",
       "      <td>132.283386</td>\n",
       "      <td>56.832954</td>\n",
       "    </tr>\n",
       "    <tr>\n",
       "      <th>2019-01-08</th>\n",
       "      <td>36.319607</td>\n",
       "      <td>160.490707</td>\n",
       "      <td>116.118828</td>\n",
       "      <td>88.364700</td>\n",
       "      <td>98.238098</td>\n",
       "      <td>228.358658</td>\n",
       "      <td>133.002853</td>\n",
       "      <td>57.246178</td>\n",
       "    </tr>\n",
       "    <tr>\n",
       "      <th>...</th>\n",
       "      <td>...</td>\n",
       "      <td>...</td>\n",
       "      <td>...</td>\n",
       "      <td>...</td>\n",
       "      <td>...</td>\n",
       "      <td>...</td>\n",
       "      <td>...</td>\n",
       "      <td>...</td>\n",
       "    </tr>\n",
       "    <tr>\n",
       "      <th>2020-12-23</th>\n",
       "      <td>129.209290</td>\n",
       "      <td>255.949387</td>\n",
       "      <td>143.379517</td>\n",
       "      <td>116.491623</td>\n",
       "      <td>216.605499</td>\n",
       "      <td>327.533020</td>\n",
       "      <td>202.118805</td>\n",
       "      <td>37.559818</td>\n",
       "    </tr>\n",
       "    <tr>\n",
       "      <th>2020-12-24</th>\n",
       "      <td>130.205765</td>\n",
       "      <td>257.002380</td>\n",
       "      <td>143.879669</td>\n",
       "      <td>115.979332</td>\n",
       "      <td>218.300949</td>\n",
       "      <td>330.637695</td>\n",
       "      <td>205.466095</td>\n",
       "      <td>37.406956</td>\n",
       "    </tr>\n",
       "    <tr>\n",
       "      <th>2020-12-28</th>\n",
       "      <td>134.862701</td>\n",
       "      <td>255.418167</td>\n",
       "      <td>144.559128</td>\n",
       "      <td>116.743095</td>\n",
       "      <td>220.466782</td>\n",
       "      <td>335.644012</td>\n",
       "      <td>209.335251</td>\n",
       "      <td>37.532848</td>\n",
       "    </tr>\n",
       "    <tr>\n",
       "      <th>2020-12-29</th>\n",
       "      <td>133.067032</td>\n",
       "      <td>252.515320</td>\n",
       "      <td>145.455582</td>\n",
       "      <td>116.435730</td>\n",
       "      <td>219.672989</td>\n",
       "      <td>337.002319</td>\n",
       "      <td>211.048264</td>\n",
       "      <td>37.110218</td>\n",
       "    </tr>\n",
       "    <tr>\n",
       "      <th>2020-12-30</th>\n",
       "      <td>131.932373</td>\n",
       "      <td>251.633133</td>\n",
       "      <td>147.257965</td>\n",
       "      <td>116.761742</td>\n",
       "      <td>217.252304</td>\n",
       "      <td>334.712585</td>\n",
       "      <td>214.976456</td>\n",
       "      <td>37.406956</td>\n",
       "    </tr>\n",
       "  </tbody>\n",
       "</table>\n",
       "<p>504 rows × 8 columns</p>\n",
       "</div>"
      ],
      "text/plain": [
       "                  AAPL          HD         JNJ         JPM        MSFT  \\\n",
       "Date                                                                     \n",
       "2019-01-02   38.047043  155.546677  114.144203   86.554688   96.632683   \n",
       "2019-01-03   34.257278  152.118347  112.330406   85.324600   93.077744   \n",
       "2019-01-04   35.719704  156.638351  114.215683   88.470116   97.406723   \n",
       "2019-01-07   35.640194  159.723846  113.483025   88.531647   97.530952   \n",
       "2019-01-08   36.319607  160.490707  116.118828   88.364700   98.238098   \n",
       "...                ...         ...         ...         ...         ...   \n",
       "2020-12-23  129.209290  255.949387  143.379517  116.491623  216.605499   \n",
       "2020-12-24  130.205765  257.002380  143.879669  115.979332  218.300949   \n",
       "2020-12-28  134.862701  255.418167  144.559128  116.743095  220.466782   \n",
       "2020-12-29  133.067032  252.515320  145.455582  116.435730  219.672989   \n",
       "2020-12-30  131.932373  251.633133  147.257965  116.761742  217.252304   \n",
       "\n",
       "                   UNH           V        XOM  \n",
       "Date                                           \n",
       "2019-01-02  228.546432  129.230560  55.378765  \n",
       "2019-01-03  222.313873  124.573532  54.528503  \n",
       "2019-01-04  224.913910  129.940338  56.538937  \n",
       "2019-01-07  225.345673  132.283386  56.832954  \n",
       "2019-01-08  228.358658  133.002853  57.246178  \n",
       "...                ...         ...        ...  \n",
       "2020-12-23  327.533020  202.118805  37.559818  \n",
       "2020-12-24  330.637695  205.466095  37.406956  \n",
       "2020-12-28  335.644012  209.335251  37.532848  \n",
       "2020-12-29  337.002319  211.048264  37.110218  \n",
       "2020-12-30  334.712585  214.976456  37.406956  \n",
       "\n",
       "[504 rows x 8 columns]"
      ]
     },
     "execution_count": 3,
     "metadata": {},
     "output_type": "execute_result"
    }
   ],
   "source": [
    "prices"
   ]
  },
  {
   "cell_type": "code",
   "execution_count": 4,
   "id": "0956bb57",
   "metadata": {},
   "outputs": [
    {
     "data": {
      "text/plain": [
       "Date\n",
       "2019-01-02    23346.240234\n",
       "2019-01-03    22686.220703\n",
       "2019-01-04    23433.160156\n",
       "2019-01-07    23531.349609\n",
       "2019-01-08    23787.449219\n",
       "                  ...     \n",
       "2020-12-23    30129.830078\n",
       "2020-12-24    30199.869141\n",
       "2020-12-28    30403.970703\n",
       "2020-12-29    30335.669922\n",
       "2020-12-30    30409.560547\n",
       "Name: Adj Close, Length: 504, dtype: float64"
      ]
     },
     "execution_count": 4,
     "metadata": {},
     "output_type": "execute_result"
    }
   ],
   "source": [
    "dji"
   ]
  },
  {
   "cell_type": "code",
   "execution_count": 5,
   "id": "d34190a9",
   "metadata": {},
   "outputs": [],
   "source": [
    "import pandas as pd\n",
    "import numpy as np\n",
    "from sklearn.preprocessing import StandardScaler\n",
    "\n",
    "# Fill in missing values using previous day's value\n",
    "prices = prices.fillna(method='ffill')\n",
    "\n",
    "# Calculate the daily log returns\n",
    "returns = pd.DataFrame()\n",
    "for ticker in tickers:\n",
    "    returns[ticker] = prices[ticker].apply(lambda x: np.log(x)).diff()\n",
    "\n",
    "returns = returns.dropna()\n",
    "# Calculate the next day's DJI return and define labels as sign of the return\n",
    "dji_returns = dji.apply(lambda x: np.log(x)).diff()\n",
    "dji_returns = dji_returns.dropna()\n",
    "\n",
    "labels = dji_returns.apply(lambda x: 1 if x > 0 else -1)\n",
    "\n",
    "# Split data into training and test datasets\n",
    "split_date = datetime.datetime(2019, 1, 4) + pd.DateOffset(days=int(prices.shape[0]*0.8))\n",
    "X_train = returns.loc[:split_date]\n",
    "X_test = returns.loc[split_date:]\n",
    "y_train = labels.loc[:split_date]\n",
    "y_test = labels.loc[split_date:]\n",
    "\n",
    "# Standardize the feature values\n",
    "scal = StandardScaler()\n",
    "X_train = scal.fit_transform(X_train)\n",
    "X_test = scal.transform(X_test)\n"
   ]
  },
  {
   "cell_type": "code",
   "execution_count": 6,
   "id": "0b4b3d34",
   "metadata": {},
   "outputs": [
    {
     "data": {
      "text/html": [
       "<div>\n",
       "<style scoped>\n",
       "    .dataframe tbody tr th:only-of-type {\n",
       "        vertical-align: middle;\n",
       "    }\n",
       "\n",
       "    .dataframe tbody tr th {\n",
       "        vertical-align: top;\n",
       "    }\n",
       "\n",
       "    .dataframe thead th {\n",
       "        text-align: right;\n",
       "    }\n",
       "</style>\n",
       "<table border=\"1\" class=\"dataframe\">\n",
       "  <thead>\n",
       "    <tr style=\"text-align: right;\">\n",
       "      <th></th>\n",
       "      <th>AAPL</th>\n",
       "      <th>HD</th>\n",
       "      <th>JNJ</th>\n",
       "      <th>JPM</th>\n",
       "      <th>MSFT</th>\n",
       "      <th>UNH</th>\n",
       "      <th>V</th>\n",
       "      <th>XOM</th>\n",
       "    </tr>\n",
       "    <tr>\n",
       "      <th>Date</th>\n",
       "      <th></th>\n",
       "      <th></th>\n",
       "      <th></th>\n",
       "      <th></th>\n",
       "      <th></th>\n",
       "      <th></th>\n",
       "      <th></th>\n",
       "      <th></th>\n",
       "    </tr>\n",
       "  </thead>\n",
       "  <tbody>\n",
       "    <tr>\n",
       "      <th>2019-01-03</th>\n",
       "      <td>-0.104924</td>\n",
       "      <td>-0.022287</td>\n",
       "      <td>-0.016018</td>\n",
       "      <td>-0.014314</td>\n",
       "      <td>-0.037482</td>\n",
       "      <td>-0.027649</td>\n",
       "      <td>-0.036702</td>\n",
       "      <td>-0.015473</td>\n",
       "    </tr>\n",
       "    <tr>\n",
       "      <th>2019-01-04</th>\n",
       "      <td>0.041803</td>\n",
       "      <td>0.029281</td>\n",
       "      <td>0.016644</td>\n",
       "      <td>0.036202</td>\n",
       "      <td>0.045460</td>\n",
       "      <td>0.011627</td>\n",
       "      <td>0.042179</td>\n",
       "      <td>0.036206</td>\n",
       "    </tr>\n",
       "    <tr>\n",
       "      <th>2019-01-07</th>\n",
       "      <td>-0.002228</td>\n",
       "      <td>0.019507</td>\n",
       "      <td>-0.006435</td>\n",
       "      <td>0.000695</td>\n",
       "      <td>0.001275</td>\n",
       "      <td>0.001918</td>\n",
       "      <td>0.017871</td>\n",
       "      <td>0.005187</td>\n",
       "    </tr>\n",
       "    <tr>\n",
       "      <th>2019-01-08</th>\n",
       "      <td>0.018884</td>\n",
       "      <td>0.004790</td>\n",
       "      <td>0.022961</td>\n",
       "      <td>-0.001888</td>\n",
       "      <td>0.007224</td>\n",
       "      <td>0.013282</td>\n",
       "      <td>0.005424</td>\n",
       "      <td>0.007245</td>\n",
       "    </tr>\n",
       "    <tr>\n",
       "      <th>2019-01-09</th>\n",
       "      <td>0.016839</td>\n",
       "      <td>0.010290</td>\n",
       "      <td>-0.007957</td>\n",
       "      <td>-0.001692</td>\n",
       "      <td>0.014198</td>\n",
       "      <td>0.001438</td>\n",
       "      <td>0.011700</td>\n",
       "      <td>0.005261</td>\n",
       "    </tr>\n",
       "    <tr>\n",
       "      <th>...</th>\n",
       "      <td>...</td>\n",
       "      <td>...</td>\n",
       "      <td>...</td>\n",
       "      <td>...</td>\n",
       "      <td>...</td>\n",
       "      <td>...</td>\n",
       "      <td>...</td>\n",
       "      <td>...</td>\n",
       "    </tr>\n",
       "    <tr>\n",
       "      <th>2020-12-23</th>\n",
       "      <td>-0.007001</td>\n",
       "      <td>-0.000852</td>\n",
       "      <td>-0.005120</td>\n",
       "      <td>0.027561</td>\n",
       "      <td>-0.013125</td>\n",
       "      <td>0.007672</td>\n",
       "      <td>-0.002627</td>\n",
       "      <td>0.012770</td>\n",
       "    </tr>\n",
       "    <tr>\n",
       "      <th>2020-12-24</th>\n",
       "      <td>0.007683</td>\n",
       "      <td>0.004106</td>\n",
       "      <td>0.003482</td>\n",
       "      <td>-0.004407</td>\n",
       "      <td>0.007797</td>\n",
       "      <td>0.009434</td>\n",
       "      <td>0.016425</td>\n",
       "      <td>-0.004078</td>\n",
       "    </tr>\n",
       "    <tr>\n",
       "      <th>2020-12-28</th>\n",
       "      <td>0.035141</td>\n",
       "      <td>-0.006183</td>\n",
       "      <td>0.004711</td>\n",
       "      <td>0.006564</td>\n",
       "      <td>0.009872</td>\n",
       "      <td>0.015028</td>\n",
       "      <td>0.018656</td>\n",
       "      <td>0.003360</td>\n",
       "    </tr>\n",
       "    <tr>\n",
       "      <th>2020-12-29</th>\n",
       "      <td>-0.013404</td>\n",
       "      <td>-0.011430</td>\n",
       "      <td>0.006182</td>\n",
       "      <td>-0.002636</td>\n",
       "      <td>-0.003607</td>\n",
       "      <td>0.004039</td>\n",
       "      <td>0.008150</td>\n",
       "      <td>-0.011324</td>\n",
       "    </tr>\n",
       "    <tr>\n",
       "      <th>2020-12-30</th>\n",
       "      <td>-0.008564</td>\n",
       "      <td>-0.003500</td>\n",
       "      <td>0.012315</td>\n",
       "      <td>0.002796</td>\n",
       "      <td>-0.011081</td>\n",
       "      <td>-0.006818</td>\n",
       "      <td>0.018442</td>\n",
       "      <td>0.007964</td>\n",
       "    </tr>\n",
       "  </tbody>\n",
       "</table>\n",
       "<p>503 rows × 8 columns</p>\n",
       "</div>"
      ],
      "text/plain": [
       "                AAPL        HD       JNJ       JPM      MSFT       UNH  \\\n",
       "Date                                                                     \n",
       "2019-01-03 -0.104924 -0.022287 -0.016018 -0.014314 -0.037482 -0.027649   \n",
       "2019-01-04  0.041803  0.029281  0.016644  0.036202  0.045460  0.011627   \n",
       "2019-01-07 -0.002228  0.019507 -0.006435  0.000695  0.001275  0.001918   \n",
       "2019-01-08  0.018884  0.004790  0.022961 -0.001888  0.007224  0.013282   \n",
       "2019-01-09  0.016839  0.010290 -0.007957 -0.001692  0.014198  0.001438   \n",
       "...              ...       ...       ...       ...       ...       ...   \n",
       "2020-12-23 -0.007001 -0.000852 -0.005120  0.027561 -0.013125  0.007672   \n",
       "2020-12-24  0.007683  0.004106  0.003482 -0.004407  0.007797  0.009434   \n",
       "2020-12-28  0.035141 -0.006183  0.004711  0.006564  0.009872  0.015028   \n",
       "2020-12-29 -0.013404 -0.011430  0.006182 -0.002636 -0.003607  0.004039   \n",
       "2020-12-30 -0.008564 -0.003500  0.012315  0.002796 -0.011081 -0.006818   \n",
       "\n",
       "                   V       XOM  \n",
       "Date                            \n",
       "2019-01-03 -0.036702 -0.015473  \n",
       "2019-01-04  0.042179  0.036206  \n",
       "2019-01-07  0.017871  0.005187  \n",
       "2019-01-08  0.005424  0.007245  \n",
       "2019-01-09  0.011700  0.005261  \n",
       "...              ...       ...  \n",
       "2020-12-23 -0.002627  0.012770  \n",
       "2020-12-24  0.016425 -0.004078  \n",
       "2020-12-28  0.018656  0.003360  \n",
       "2020-12-29  0.008150 -0.011324  \n",
       "2020-12-30  0.018442  0.007964  \n",
       "\n",
       "[503 rows x 8 columns]"
      ]
     },
     "execution_count": 6,
     "metadata": {},
     "output_type": "execute_result"
    }
   ],
   "source": [
    "returns"
   ]
  },
  {
   "cell_type": "code",
   "execution_count": 7,
   "id": "760ebab3",
   "metadata": {},
   "outputs": [
    {
     "data": {
      "text/plain": [
       "array([[-6.48479105, -2.0909718 , -1.66293758, ..., -1.76516304,\n",
       "        -3.30683416, -1.26776836],\n",
       "       [ 2.36527302,  2.47926577,  1.58161085, ...,  0.68071096,\n",
       "         3.5110563 ,  3.04640574],\n",
       "       [-0.29056098,  1.61302727, -0.71102589, ...,  0.07606273,\n",
       "         1.4100429 ,  0.45689927],\n",
       "       ...,\n",
       "       [-0.98164485, -0.68904941, -1.13857554, ..., -0.73710569,\n",
       "        -0.2623878 , -0.53105905],\n",
       "       [ 0.12965522,  1.11187856, -0.0913771 , ..., -0.51669904,\n",
       "         1.23995366, -0.86244431],\n",
       "       [-0.52116593,  0.26281328,  0.01325603, ...,  0.76709315,\n",
       "        -0.9990838 ,  0.81374604]])"
      ]
     },
     "execution_count": 7,
     "metadata": {},
     "output_type": "execute_result"
    }
   ],
   "source": [
    "X_train"
   ]
  },
  {
   "cell_type": "code",
   "execution_count": 8,
   "id": "2c076a70",
   "metadata": {},
   "outputs": [
    {
     "data": {
      "text/plain": [
       "array([[-0.52116593,  0.26281328,  0.01325603, ...,  0.76709315,\n",
       "        -0.9990838 ,  0.81374604],\n",
       "       [ 1.25947903, -0.1341214 , -0.66172196, ...,  2.61657496,\n",
       "         1.33617446,  1.0382988 ],\n",
       "       [-0.58720699,  0.16627638, -0.73142406, ..., -0.3065758 ,\n",
       "        -0.02620141, -0.44061943],\n",
       "       ...,\n",
       "       [ 1.96343542, -0.66376474,  0.39624844, ...,  0.89246602,\n",
       "         1.47788598,  0.30438323],\n",
       "       [-0.96464429, -1.12877297,  0.54235857, ...,  0.2081351 ,\n",
       "         0.56980994, -0.9214482 ],\n",
       "       [-0.67267148, -0.42593248,  1.15159304, ..., -0.46791933,\n",
       "         1.45936038,  0.68876903]])"
      ]
     },
     "execution_count": 8,
     "metadata": {},
     "output_type": "execute_result"
    }
   ],
   "source": [
    "X_test"
   ]
  },
  {
   "cell_type": "code",
   "execution_count": 9,
   "id": "5743e2af",
   "metadata": {},
   "outputs": [
    {
     "data": {
      "text/plain": [
       " 1    161\n",
       "-1    118\n",
       "Name: Adj Close, dtype: int64"
      ]
     },
     "execution_count": 9,
     "metadata": {},
     "output_type": "execute_result"
    }
   ],
   "source": [
    "y_train.value_counts()"
   ]
  },
  {
   "cell_type": "code",
   "execution_count": 10,
   "id": "f4f73ed5",
   "metadata": {},
   "outputs": [
    {
     "data": {
      "text/plain": [
       "Date\n",
       "2019-01-03   -1\n",
       "2019-01-04    1\n",
       "2019-01-07    1\n",
       "2019-01-08    1\n",
       "2019-01-09    1\n",
       "             ..\n",
       "2020-02-05    1\n",
       "2020-02-06    1\n",
       "2020-02-07   -1\n",
       "2020-02-10    1\n",
       "2020-02-11   -1\n",
       "Name: Adj Close, Length: 279, dtype: int64"
      ]
     },
     "execution_count": 10,
     "metadata": {},
     "output_type": "execute_result"
    }
   ],
   "source": [
    "y_train"
   ]
  },
  {
   "cell_type": "code",
   "execution_count": 11,
   "id": "5e267e2d",
   "metadata": {},
   "outputs": [
    {
     "data": {
      "text/plain": [
       "Date\n",
       "2020-02-11   -1\n",
       "2020-02-12    1\n",
       "2020-02-13   -1\n",
       "2020-02-14   -1\n",
       "2020-02-18   -1\n",
       "             ..\n",
       "2020-12-23    1\n",
       "2020-12-24    1\n",
       "2020-12-28    1\n",
       "2020-12-29   -1\n",
       "2020-12-30    1\n",
       "Name: Adj Close, Length: 225, dtype: int64"
      ]
     },
     "execution_count": 11,
     "metadata": {},
     "output_type": "execute_result"
    }
   ],
   "source": [
    "y_test"
   ]
  },
  {
   "cell_type": "code",
   "execution_count": 12,
   "id": "1212ffcd",
   "metadata": {},
   "outputs": [
    {
     "data": {
      "text/plain": [
       "SVC(C=1, gamma=1)"
      ]
     },
     "execution_count": 12,
     "metadata": {},
     "output_type": "execute_result"
    }
   ],
   "source": [
    "from sklearn.svm import SVC\n",
    "\n",
    "# Fit SVM model with RBF kernel and C=1\n",
    "svm_mod = SVC(kernel='rbf', gamma=1, C=1)\n",
    "svm_mod.fit(X_train, y_train)"
   ]
  },
  {
   "cell_type": "code",
   "execution_count": 13,
   "id": "f59776fb",
   "metadata": {},
   "outputs": [
    {
     "name": "stdout",
     "output_type": "stream",
     "text": [
      "Mean cross-validated score: 0.7043\n"
     ]
    }
   ],
   "source": [
    "from sklearn.model_selection import TimeSeriesSplit, cross_val_score\n",
    "from sklearn.svm import SVC\n",
    "\n",
    "# Set up the SVM model with RBF kernel, gamma=1, and C=1\n",
    "svm_model = SVC(kernel='rbf', gamma=1, C=1)\n",
    "\n",
    "# Perform time series cross-validation with 5 splits\n",
    "tscv = TimeSeriesSplit(n_splits=5)\n",
    "\n",
    "# Compute the cross-validated scores for the trained model\n",
    "cv_scores = cross_val_score(svm_model, X_train, y_train, cv=tscv)\n",
    "\n",
    "# Compute the mean of the cross-validated scores\n",
    "mean_cv_score = cv_scores.mean()\n",
    "\n",
    "print(\"Mean cross-validated score: {:.4f}\".format(mean_cv_score))\n"
   ]
  },
  {
   "cell_type": "code",
   "execution_count": 14,
   "id": "abbb981f",
   "metadata": {},
   "outputs": [
    {
     "name": "stdout",
     "output_type": "stream",
     "text": [
      "Best parameters:  {'C': 1, 'gamma': 0.1}\n",
      "Best cross-validation score:  0.8478260869565217\n"
     ]
    }
   ],
   "source": [
    "from sklearn.model_selection import GridSearchCV\n",
    "from sklearn.svm import SVC\n",
    "\n",
    "param_grid = {'C': [0.1, 1, 10, 100], 'gamma': [0.1, 0.2, 0.3, 0.4, 0.5, 1, 5, 10]}\n",
    "svm = SVC(kernel='rbf')\n",
    "grid_search = GridSearchCV(svm, param_grid, cv=TimeSeriesSplit(n_splits=5))\n",
    "grid_search.fit(X_train, y_train)\n",
    "\n",
    "print(\"Best parameters: \", grid_search.best_params_)\n",
    "print(\"Best cross-validation score: \", grid_search.best_score_)\n"
   ]
  },
  {
   "cell_type": "code",
   "execution_count": 15,
   "id": "6ee78521",
   "metadata": {},
   "outputs": [
    {
     "data": {
      "text/plain": [
       "Timestamp('2020-02-11 00:00:00')"
      ]
     },
     "execution_count": 15,
     "metadata": {},
     "output_type": "execute_result"
    }
   ],
   "source": [
    "split_date"
   ]
  },
  {
   "cell_type": "code",
   "execution_count": 16,
   "id": "41214680",
   "metadata": {},
   "outputs": [
    {
     "data": {
      "text/plain": [
       "AAPL     78.344833\n",
       "HD      223.943039\n",
       "JNJ     139.630753\n",
       "JPM     124.826881\n",
       "MSFT    178.861359\n",
       "UNH     277.559357\n",
       "V       199.551575\n",
       "XOM      51.127159\n",
       "Name: 2020-02-11 00:00:00, dtype: float64"
      ]
     },
     "execution_count": 16,
     "metadata": {},
     "output_type": "execute_result"
    }
   ],
   "source": [
    "prices.iloc[279]"
   ]
  },
  {
   "cell_type": "code",
   "execution_count": 17,
   "id": "2d1bf20a",
   "metadata": {},
   "outputs": [
    {
     "data": {
      "text/plain": [
       "27173.9609375"
      ]
     },
     "execution_count": 17,
     "metadata": {},
     "output_type": "execute_result"
    }
   ],
   "source": [
    "dji.iloc[437] # 2020-09-30"
   ]
  },
  {
   "cell_type": "code",
   "execution_count": 18,
   "id": "76276bbd",
   "metadata": {},
   "outputs": [
    {
     "data": {
      "text/plain": [
       "True"
      ]
     },
     "execution_count": 18,
     "metadata": {},
     "output_type": "execute_result"
    }
   ],
   "source": [
    "len(prices[\"AAPL\"]) == len(dji)"
   ]
  },
  {
   "cell_type": "code",
   "execution_count": 19,
   "id": "88713671",
   "metadata": {},
   "outputs": [
    {
     "data": {
      "text/plain": [
       "AAPL    114.065018\n",
       "HD      262.014862\n",
       "JNJ     139.522430\n",
       "JPM      88.842567\n",
       "MSFT    205.590759\n",
       "UNH     301.397797\n",
       "V       196.575226\n",
       "XOM      30.142498\n",
       "Name: 2020-09-30 00:00:00, dtype: float64"
      ]
     },
     "execution_count": 19,
     "metadata": {},
     "output_type": "execute_result"
    }
   ],
   "source": [
    "prices.loc[datetime.datetime(2020, 9, 30)]"
   ]
  },
  {
   "cell_type": "code",
   "execution_count": 20,
   "id": "5e31288b",
   "metadata": {},
   "outputs": [
    {
     "data": {
      "text/plain": [
       "Timestamp('2019-01-02 00:00:00')"
      ]
     },
     "execution_count": 20,
     "metadata": {},
     "output_type": "execute_result"
    }
   ],
   "source": [
    "datetime.datetime(2020, 9, 30)-pd.DateOffset(days=637)"
   ]
  },
  {
   "cell_type": "code",
   "execution_count": 21,
   "id": "a6ff44df",
   "metadata": {},
   "outputs": [
    {
     "name": "stdout",
     "output_type": "stream",
     "text": [
      "[*********************100%***********************]  8 of 8 completed\n",
      "[*********************100%***********************]  1 of 1 completed\n"
     ]
    }
   ],
   "source": [
    "import numpy as np\n",
    "import pandas as pd\n",
    "import numpy as np\n",
    "from sklearn.preprocessing import StandardScaler\n",
    "import yfinance as yf\n",
    "import datetime\n",
    "\n",
    "# Define start and end dates\n",
    "start = datetime.datetime(2019, 1, 2)\n",
    "end = datetime.datetime(2021, 1, 31)\n",
    "\n",
    "# Define list of tickers\n",
    "tickers = ['AAPL', 'HD', 'JNJ', 'JPM', 'MSFT', 'UNH', 'V', 'XOM']\n",
    "\n",
    "# Use yfinance to download adjusted close prices for the tickers\n",
    "prices = yf.download(tickers, start=start, end=end)['Adj Close']\n",
    "dji = yf.download(\"^DJI\", start = start, end = end)[\"Adj Close\"]\n",
    "\n",
    "\n",
    "# Fill in missing values using previous day's value\n",
    "prices = prices.fillna(method='ffill')\n",
    "\n",
    "# Calculate the daily log returns\n",
    "returns = pd.DataFrame()\n",
    "for ticker in tickers:\n",
    "    returns[ticker] = prices[ticker].apply(lambda x: np.log(x)).diff()\n",
    "\n",
    "returns = returns.dropna()\n",
    "# Calculate the next day's DJI return and define labels as sign of the return\n",
    "dji_returns = dji.apply(lambda x: np.log(x)).diff()\n",
    "dji_returns = dji_returns.dropna()\n",
    "\n",
    "labels = dji_returns.apply(lambda x: 1 if x > 0 else -1)\n",
    "\n",
    "# Split data into training and test datasets\n",
    "split_date = datetime.datetime(2020, 10, 1)\n",
    "X_train = returns.loc[:split_date]\n",
    "X_test = returns.loc[split_date:]\n",
    "y_train = labels.loc[:split_date]\n",
    "y_test = labels.loc[split_date:]\n",
    "\n",
    "# Standardize the feature values\n",
    "scaler = StandardScaler()\n",
    "X_train = scaler.fit_transform(X_train)\n",
    "X_test = scaler.transform(X_test)"
   ]
  },
  {
   "cell_type": "code",
   "execution_count": 22,
   "id": "b8b8ac3e",
   "metadata": {},
   "outputs": [
    {
     "name": "stdout",
     "output_type": "stream",
     "text": [
      "Best hyperparameters: {'C': 1, 'gamma': 0.1}\n",
      "Final amount at market close of Dec 31st 2020: $11215.18\n"
     ]
    }
   ],
   "source": [
    "# Train an SVM model with RBF kernel and optimized hyperparameters and implement the trading strategy on that\n",
    "from sklearn.svm import SVC\n",
    "from sklearn.model_selection import GridSearchCV, TimeSeriesSplit\n",
    "from sklearn.pipeline import Pipeline\n",
    "from sklearn.preprocessing import StandardScaler\n",
    "\n",
    "param_grid = {'C': [0.1, 1, 10, 100], 'gamma': [0.1, 0.2, 0.3, 0.4, 0.5, 1, 5, 10]}\n",
    "svm = SVC(kernel='rbf')\n",
    "grid = GridSearchCV(svm, param_grid=param_grid, cv=TimeSeriesSplit(n_splits=5), scoring='accuracy')\n",
    "pipe = Pipeline([('scaler', StandardScaler()), ('svm', grid)])\n",
    "pipe.fit(X_train, y_train)\n",
    "print(f'Best hyperparameters: {pipe.named_steps[\"svm\"].best_params_}')\n",
    "\n",
    "# Simulate a trading strategy using the trained SVM model\n",
    "capital = 10000  # initial capital amount\n",
    "shares = 0  # number of shares held\n",
    "return_by_strat = []  # daily returns\n",
    "for i in range(len(X_test)):\n",
    "    signal = pipe.predict(X_test[i].reshape(1, -1))[0]\n",
    "    j = 437 + i + 1 # starting 1st October\n",
    "    if signal == 1 and shares == 0:\n",
    "        shares = capital / dji[j]\n",
    "        capital = 0\n",
    "    elif signal == -1 and shares > 0:\n",
    "        capital = shares * dji[j]\n",
    "        shares = 0\n",
    "    return_by_strat.append((capital + shares * dji[j]) / 10000 - 1)\n",
    "    \n",
    "# Compute the final amount at market close of Dec 31st 2020\n",
    "final_amount = (capital + shares * dji[-1]) / 10000 * 10000\n",
    "print(f'Final amount at market close of Dec 31st 2020: ${final_amount:.2f}')\n"
   ]
  },
  {
   "cell_type": "code",
   "execution_count": 23,
   "id": "94f2b0ed",
   "metadata": {},
   "outputs": [
    {
     "name": "stdout",
     "output_type": "stream",
     "text": [
      "Final amount at market close of Dec 31st 2020: $11392.75\n"
     ]
    }
   ],
   "source": [
    "# Simulate a trading strategy using the previously trained SVM model with Gamma = C = 1 as instructed by TA\n",
    "capital = 10000  # initial capital amount\n",
    "shares = 0  # number of shares held\n",
    "return_by_strat = []  # daily returns\n",
    "X_during_backtest_period = returns.loc[datetime.datetime(2020, 10, 1)+pd.DateOffset(days=1):]\n",
    "X_during_backtest_period = scal.transform(X_during_backtest_period)\n",
    "\n",
    "for i in range(len(X_during_backtest_period)):\n",
    "    signal = svm_mod.predict(X_during_backtest_period[i].reshape(1, -1))[0]\n",
    "    j = 441 + i # starting 1st October\n",
    "    if signal == 1 and shares == 0:\n",
    "        shares = capital / dji[j]\n",
    "        capital = 0\n",
    "    elif signal == -1 and shares > 0:\n",
    "        capital = shares * dji[j]\n",
    "        shares = 0\n",
    "    return_by_strat.append((capital + shares * dji[j]) / 10000 - 1)\n",
    "    \n",
    "# Compute the final amount at market close of Dec 31st 2020\n",
    "final_amount = (capital + shares * dji[-1])\n",
    "print(f'Final amount at market close of Dec 31st 2020: ${final_amount:.2f}')\n"
   ]
  },
  {
   "cell_type": "code",
   "execution_count": 24,
   "id": "59d5b80f",
   "metadata": {},
   "outputs": [
    {
     "name": "stdout",
     "output_type": "stream",
     "text": [
      "Final amount for buy-and-hold strategy: $10869.55\n"
     ]
    }
   ],
   "source": [
    "# Simple Buy and Hold Strategy Implementation\n",
    "import numpy as np\n",
    "\n",
    "# Number of shares bought on Oct 1st 2020 with initial capital\n",
    "num_shares = 10000 / dji[438]\n",
    "\n",
    "# Final amount at market close of Dec 31st 2020\n",
    "final_amount = num_shares * dji[-1]\n",
    "\n",
    "print(f\"Final amount for buy-and-hold strategy: ${np.round(final_amount, 2)}\")\n"
   ]
  },
  {
   "cell_type": "markdown",
   "id": "321cf9ee",
   "metadata": {},
   "source": [
    "I think we will make more money by the SVM strategy as per our backtesting above in the given periods of time if we optimally train it. It is around 400 more dollars in Profit. But, if we train our SVm model with the given Gamma = C = 1 parameters, then our trading strategy would make around 200 dollars less profit compared to the buy-and-hold strategy."
   ]
  },
  {
   "cell_type": "code",
   "execution_count": null,
   "id": "91f19e5a",
   "metadata": {},
   "outputs": [],
   "source": []
  }
 ],
 "metadata": {
  "kernelspec": {
   "display_name": "Python 3 (ipykernel)",
   "language": "python",
   "name": "python3"
  },
  "language_info": {
   "codemirror_mode": {
    "name": "ipython",
    "version": 3
   },
   "file_extension": ".py",
   "mimetype": "text/x-python",
   "name": "python",
   "nbconvert_exporter": "python",
   "pygments_lexer": "ipython3",
   "version": "3.9.7"
  }
 },
 "nbformat": 4,
 "nbformat_minor": 5
}
