{
 "cells": [
  {
   "cell_type": "markdown",
   "metadata": {
    "id": "4_79gm2Eqnf0"
   },
   "source": [
    "# **Assignment 2**\n",
    "### *Programming for Quant and Computational Finance*\n",
    "##### - Submission by *Dhyey Mavani (ddm2149)*"
   ]
  },
  {
   "cell_type": "markdown",
   "metadata": {
    "id": "cuhTPuMwazs9"
   },
   "source": [
    "---\n",
    "## **Simulation-Based Pricing**\n",
    "---\n",
    "\n",
    "Let the present time be 0. Let $t ≥ 0$ be the present or a future time, and $S_t$ the underlying asset value at time $t$. Let $r_S$ be the short rate process. Consider a European style derivative having a single payoff at its\n",
    "maturity time $T$. Let $X$ be the its payoff of at time $T$. For example, for a European call option with strike $K$ on a stock, then $S_T$ is the terminal stock price and $X = max(S_T-K,0)$. In theory, the value of the option is given by $V = E[exp(-\\int_0^Tr_Sds)X]$ where the expectation $E$ is taken under the risk-neutral measure.\n",
    "\n",
    "Let $Y = exp(-∫_0^Tr_Sds)X$ be the discounted payoff. Then we have $V = E[Y]$. Under simulation-based pricing, one would simulate $Y_1, Y_2, ..., Y_N$. The value under $N$ simulations is given by $V_N = \\frac{1}{N}(Y_1 + Y_2 + ... + Y_N)$, and a 95% confidence interval of this price is given by $[V_N-\\frac{1.96*sd}{\\sqrt{N}},V_N+\\frac{1.96*sd}{\\sqrt{N}}]$, where $sd$ is the sample standard deviation (ie. square root of the sample variance) computed from $Y_1, Y_2, ..., Y_N$."
   ]
  },
  {
   "cell_type": "markdown",
   "metadata": {
    "id": "LrzrsyTzqvOl"
   },
   "source": [
    "Consider the Black-Scholes model settings on a stock $S_t$ where:\n",
    "\n",
    "• the continuously compounded dividend rate is assumed to be constant $q$.\n",
    "\n",
    "• the BS volatility is assumed to be constant $σ$.\n",
    "\n",
    "• the short rate is deterministic and also a constant, $r_s$ = $r$.\n",
    "\n",
    "In this case, $S_T = S_0*exp(∫(r_s-q-σ^2/2)+∫_0^TσdW_S)$ where $W_S$ is a standard Brownian motion.\n",
    "\n",
    "Thus, we can generate samples of terminal stock price via $S_T = S_0*exp((r_s-q-σ^2/2)T+σ\\sqrt{T}z)$ where $z$ is the standard normal random variate.\n",
    "\n",
    "**a) Write a function to compute and return the theoretical BS price and delta of a European call option. The function inputs shall include: current stock price $S_0$, strike $K$, time to option expiry (in years) $T$, short rate $r$.**"
   ]
  },
  {
   "cell_type": "code",
   "execution_count": 1,
   "metadata": {
    "executionInfo": {
     "elapsed": 1037,
     "status": "ok",
     "timestamp": 1676930292248,
     "user": {
      "displayName": "Dhyey Mavani",
      "userId": "08896414327863184049"
     },
     "user_tz": 300
    },
    "id": "YEoFn_-kqtRV"
   },
   "outputs": [],
   "source": [
    "import numpy as np\n",
    "from scipy.stats import norm\n",
    "\n",
    "\"\"\"\n",
    "The inputs to the function are:\n",
    "\n",
    "  S0: the current stock price in dollars\n",
    "  K: the option strike price in dollars\n",
    "  T: the time to option expiry in years\n",
    "  r: the short interest rate\n",
    "  sigma: the volatility of the stock price\n",
    "\n",
    "The output of the function is a tuple containing \n",
    "the theoretical price and delta of the European call option.\n",
    "\n",
    "\"\"\"\n",
    "def bs_call(S0, K, T, r, sigma):\n",
    "    d1 = (np.log(S0/K) + (r + 0.5 * sigma ** 2) * T) / (sigma * np.sqrt(T))\n",
    "    d2 = d1 - sigma * np.sqrt(T)\n",
    "    price = S0 * norm.cdf(d1) - K * np.exp(-r * T) * norm.cdf(d2)\n",
    "    delta = norm.cdf(d1)\n",
    "    return price, delta\n"
   ]
  },
  {
   "cell_type": "code",
   "execution_count": 2,
   "metadata": {
    "colab": {
     "base_uri": "https://localhost:8080/"
    },
    "executionInfo": {
     "elapsed": 238,
     "status": "ok",
     "timestamp": 1676930295262,
     "user": {
      "displayName": "Dhyey Mavani",
      "userId": "08896414327863184049"
     },
     "user_tz": 300
    },
    "id": "Bu_fmPXpyxSJ",
    "outputId": "80494b67-0974-4d1b-e877-afe05a2d512f"
   },
   "outputs": [
    {
     "name": "stdout",
     "output_type": "stream",
     "text": [
      "Theoretical price:  6.040088129724239\n",
      "Delta:  0.44964793063717595\n"
     ]
    }
   ],
   "source": [
    "# Example to test the function and demonstrate the usage\n",
    "price, delta = bs_call(100, 110, 1, 0.05, 0.2)\n",
    "print(\"Theoretical price: \", price)\n",
    "print(\"Delta: \", delta)"
   ]
  },
  {
   "cell_type": "markdown",
   "metadata": {
    "id": "-_3s0N-oQuyB"
   },
   "source": [
    "**b) Write a function to compute the simulated price $V_N$ of a European call option. Besides the inputs as described part (a), the number of simulations $N$ shall also be an input. The function shall return $V_N$ and the 95% confidence interval**"
   ]
  },
  {
   "cell_type": "code",
   "execution_count": 3,
   "metadata": {
    "executionInfo": {
     "elapsed": 188,
     "status": "ok",
     "timestamp": 1676930298700,
     "user": {
      "displayName": "Dhyey Mavani",
      "userId": "08896414327863184049"
     },
     "user_tz": 300
    },
    "id": "z1B8TqLSUE7I"
   },
   "outputs": [],
   "source": [
    "import numpy as np\n",
    "from scipy.stats import norm\n",
    "\n",
    "\"\"\"\n",
    "The inputs to the function are:\n",
    "\n",
    "  S0: the current stock price in dollars\n",
    "  K: the option strike price in dollars\n",
    "  T: the time to option expiry in years\n",
    "  r: the short interest rate\n",
    "  sigma: the volatility of the stock price\n",
    "  N: the number of simulations to perform\n",
    "\n",
    "The output of the function is a tuple containing\n",
    "the simulated option price V_N and the 95% confidence\n",
    "interval of the simulated option price.\n",
    "\"\"\"\n",
    "def mc_call(S0, K, T, r, sigma, N):\n",
    "    # Generate N standard normal random variables\n",
    "    z = np.random.standard_normal(N)\n",
    "    # Compute the simulated stock prices at expiry\n",
    "    ST = S0 * np.exp((r - 0.5 * sigma ** 2) * T + sigma * np.sqrt(T) * z)\n",
    "    # Compute the payoffs of the call option\n",
    "    payoff = np.maximum(ST - K, 0)\n",
    "    # Compute the simulated option prices\n",
    "    V_N = np.exp(-r * T) * np.mean(payoff)\n",
    "    # Compute the standard error of the simulated option prices\n",
    "    se = np.std(payoff, ddof=1) / np.sqrt(N)\n",
    "    # Compute the 95% confidence interval of the simulated option prices\n",
    "    lower = V_N - 1.96 * se\n",
    "    upper = V_N + 1.96 * se\n",
    "    return V_N, (lower, upper)\n"
   ]
  },
  {
   "cell_type": "code",
   "execution_count": 4,
   "metadata": {
    "colab": {
     "base_uri": "https://localhost:8080/"
    },
    "executionInfo": {
     "elapsed": 234,
     "status": "ok",
     "timestamp": 1676930302832,
     "user": {
      "displayName": "Dhyey Mavani",
      "userId": "08896414327863184049"
     },
     "user_tz": 300
    },
    "id": "yFXFskWCz5Wm",
    "outputId": "613d5e2a-698c-467f-8707-08fae1b45de4"
   },
   "outputs": [
    {
     "name": "stdout",
     "output_type": "stream",
     "text": [
      "Simulated price:  6.0396542330428815\n",
      "95% confidence interval:  (6.015646651375374, 6.063661814710389)\n"
     ]
    }
   ],
   "source": [
    "# Example to test the function and demonstrate the usage\n",
    "V_N, conf_int = mc_call(100, 110, 1, 0.05, 0.2, 1000000)\n",
    "print(\"Simulated price: \", V_N)\n",
    "print(\"95% confidence interval: \", conf_int)"
   ]
  },
  {
   "cell_type": "markdown",
   "metadata": {
    "id": "pQsQJgSnUJB2"
   },
   "source": [
    "---\n",
    "## **Convergence and variance reduction**\n",
    "---\n",
    "\n",
    "Now take the following example data: $S_0 = 180$, $r = 1%$, $K = 160$, $σ = 20%$\n",
    "\n"
   ]
  },
  {
   "cell_type": "markdown",
   "metadata": {
    "id": "iKuqXyL2UoQH"
   },
   "source": [
    "**c) Use the example data to plot the simulated price $V_N$ against the number of simulations $N$ where $1 ≤ N ≤ 500000$. The figure shall also include a plot for (i) the upper bound (ie. $V_N+\\frac{1.96*sd}{\\sqrt{N}}$), (ii) lower bound (ie. $V_N-\\frac{1.96*sd}{\\sqrt{N}}$) with 95% confidence (iii) a flat line for the theoretical BS price. Label each of the lines properly.**"
   ]
  },
  {
   "cell_type": "code",
   "execution_count": 5,
   "metadata": {
    "colab": {
     "base_uri": "https://localhost:8080/",
     "height": 475
    },
    "executionInfo": {
     "elapsed": 8252,
     "status": "ok",
     "timestamp": 1676930427489,
     "user": {
      "displayName": "Dhyey Mavani",
      "userId": "08896414327863184049"
     },
     "user_tz": 300
    },
    "id": "MMp2Qt-tVT7j",
    "outputId": "e056e85a-003f-4026-8891-c1b65ed9f551"
   },
   "outputs": [
    {
     "name": "stderr",
     "output_type": "stream",
     "text": [
      "/usr/local/lib/python3.8/dist-packages/numpy/core/_methods.py:262: RuntimeWarning: Degrees of freedom <= 0 for slice\n",
      "  ret = _var(a, axis=axis, dtype=dtype, out=out, ddof=ddof,\n",
      "/usr/local/lib/python3.8/dist-packages/numpy/core/_methods.py:254: RuntimeWarning: invalid value encountered in double_scalars\n",
      "  ret = ret.dtype.type(ret / rcount)\n"
     ]
    },
    {
     "data": {
      "image/png": "[encoded data removed]",
      "text/plain": [
       "<Figure size 720x432 with 1 Axes>"
      ]
     },
     "metadata": {
      "needs_background": "light"
     },
     "output_type": "display_data"
    }
   ],
   "source": [
    "import matplotlib.pyplot as plt\n",
    "\n",
    "# Example data\n",
    "S0 = 180\n",
    "r = 0.01\n",
    "K = 160\n",
    "sigma = 0.2\n",
    "T = 1\n",
    "\n",
    "# Theoretical price and delta of the European call option\n",
    "d1 = (np.log(S0/K) + (r + 0.5 * sigma ** 2) * T) / (sigma * np.sqrt(T))\n",
    "d2 = d1 - sigma * np.sqrt(T)\n",
    "bs_price = S0 * norm.cdf(d1) - K * np.exp(-r * T) * norm.cdf(d2)\n",
    "\n",
    "# Simulated option prices and confidence intervals\n",
    "N = np.arange(1, 500001, 1000)\n",
    "VN = np.zeros(len(N))\n",
    "lower = np.zeros(len(N))\n",
    "upper = np.zeros(len(N))\n",
    "for i in range(len(N)):\n",
    "    VN[i], (lower[i], upper[i]) = mc_call(S0, K, T, r, sigma, N[i])\n",
    "\n",
    "# Plot the simulated option prices and confidence intervals\n",
    "plt.figure(figsize=(10, 6))\n",
    "plt.plot(N, VN, label=\"Simulated price\")\n",
    "plt.plot(N, upper, linestyle=\"--\", label=\"Upper bound\")\n",
    "plt.plot(N, lower, linestyle=\"--\", label=\"Lower bound with 95% confidence\")\n",
    "plt.axhline(bs_price, color='red', linestyle='--', label=\"Theoretical BS price\")\n",
    "plt.xlabel(\"Number of simulations\")\n",
    "plt.ylabel(\"Option price\")\n",
    "plt.title(\"Simulated European Call Option Prices\")\n",
    "plt.legend()\n",
    "plt.show()\n"
   ]
  },
  {
   "cell_type": "markdown",
   "metadata": {
    "id": "flFZZ4I9VUPE"
   },
   "source": [
    "**d) Enhance your function in part (b) to include an optional input flag for antithetical draw. If the flag is True, the simulated price $\\tilde{V_N}$ will be computed with antithetical draws using $N$ random samples. If the flag is False, the simulated price $V_N$ is computed as in part (b) with $N$ random samples.**"
   ]
  },
  {
   "cell_type": "code",
   "execution_count": 8,
   "metadata": {
    "executionInfo": {
     "elapsed": 116,
     "status": "ok",
     "timestamp": 1676930826816,
     "user": {
      "displayName": "Dhyey Mavani",
      "userId": "08896414327863184049"
     },
     "user_tz": 300
    },
    "id": "s8-yhUdkV8JF"
   },
   "outputs": [],
   "source": [
    "def mc_call(S0, K, T, r, sigma, N, antithetic=False):\n",
    "    \"\"\"\n",
    "    Simulates the price of a European call option using Monte Carlo simulation.\n",
    "\n",
    "    Args:\n",
    "    S0 (float): initial stock price\n",
    "    K (float): option strike price\n",
    "    T (float): time to option expiry (in years)\n",
    "    r (float): short rate\n",
    "    sigma (float): volatility of the stock\n",
    "    N (int): number of simulations\n",
    "    antithetic (bool): flag for using antithetical draws\n",
    "\n",
    "    Returns:\n",
    "    tuple: (simulated option price, 95% confidence interval)\n",
    "    \"\"\"\n",
    "    dt = T / 252\n",
    "    drift = np.exp((r - 0.5 * sigma ** 2) * dt)\n",
    "    if antithetic:\n",
    "        # Antithetic draw method\n",
    "        Z1 = np.random.normal(size=(N, 1))\n",
    "        Z2 = -Z1\n",
    "        S1 = S0 * np.cumprod(drift * np.exp(sigma * np.sqrt(dt) * Z1), axis=0)\n",
    "        S2 = S0 * np.cumprod(drift * np.exp(sigma * np.sqrt(dt) * Z2), axis=0)\n",
    "        VC1 = np.maximum(S1 - K, 0) * np.exp(-r * T)\n",
    "        VC2 = np.maximum(S2 - K, 0) * np.exp(-r * T)\n",
    "        VC = 0.5 * (VC1 + VC2)\n",
    "        mean = np.mean(VC)\n",
    "        std_error = 1.96 * np.std(VC, ddof=1) / np.sqrt(N)\n",
    "        lower = mean - std_error\n",
    "        upper = mean + std_error\n",
    "        return mean, (lower, upper)\n",
    "    else:\n",
    "        # Generate N standard normal random variables\n",
    "        z = np.random.standard_normal(N)\n",
    "        # Compute the simulated stock prices at expiry\n",
    "        ST = S0 * np.exp((r - 0.5 * sigma ** 2) * T + sigma * np.sqrt(T) * z)\n",
    "        # Compute the payoffs of the call option\n",
    "        payoff = np.maximum(ST - K, 0)\n",
    "        # Compute the simulated option prices\n",
    "        V_N = np.exp(-r * T) * np.mean(payoff)\n",
    "        # Compute the standard error of the simulated option prices\n",
    "        se = np.std(payoff, ddof=1) / np.sqrt(N)\n",
    "        # Compute the 95% confidence interval of the simulated option prices\n",
    "        lower = V_N - 1.96 * se\n",
    "        upper = V_N + 1.96 * se\n",
    "        return V_N, (lower, upper)\n"
   ]
  },
  {
   "cell_type": "code",
   "execution_count": 10,
   "metadata": {
    "colab": {
     "base_uri": "https://localhost:8080/"
    },
    "executionInfo": {
     "elapsed": 580,
     "status": "ok",
     "timestamp": 1676930951782,
     "user": {
      "displayName": "Dhyey Mavani",
      "userId": "08896414327863184049"
     },
     "user_tz": 300
    },
    "id": "3_4Xv6ef21Jf",
    "outputId": "81da7675-018c-4260-e6cd-d0f2adca4569"
   },
   "outputs": [
    {
     "name": "stdout",
     "output_type": "stream",
     "text": [
      "Simulated price: 27.1126\n",
      "95% confidence interval: [26.9219, 27.3034]\n",
      "Simulated price: 130.9516\n",
      "95% confidence interval: [129.2935, 132.6096]\n",
      "Theoretical price:  26.921787459713258\n",
      "Delta:  0.7700207474755612\n"
     ]
    }
   ],
   "source": [
    "S0 = 180\n",
    "K = 160\n",
    "T = 1\n",
    "r = 0.01\n",
    "sigma = 0.2\n",
    "N = 100000\n",
    "\n",
    "# Example usage without antithetic draws \n",
    "VN, (lower, upper) = mc_call(S0, K, T, r, sigma, N, antithetic=False)\n",
    "print(f\"Simulated price: {VN:.4f}\")\n",
    "print(f\"95% confidence interval: [{lower:.4f}, {upper:.4f}]\")\n",
    "\n",
    "# Example usage with antithetic draws\n",
    "VN, (lower, upper) = mc_call(S0, K, T, r, sigma, N, antithetic=True)\n",
    "print(f\"Simulated price: {VN:.4f}\")\n",
    "print(f\"95% confidence interval: [{lower:.4f}, {upper:.4f}]\")\n",
    "\n",
    "# Example usage of theoretical function with given data\n",
    "price, delta = bs_call(S0, K, T, r, sigma)\n",
    "print(\"Theoretical price: \", price)\n",
    "print(\"Delta: \", delta)\n"
   ]
  },
  {
   "cell_type": "markdown",
   "metadata": {
    "id": "vc4DNpVCV8iy"
   },
   "source": [
    "Now let’s compare the empirical distribution for $V_{2N}$ and $\\tilde{V_N}$."
   ]
  },
  {
   "cell_type": "markdown",
   "metadata": {
    "id": "bPxXxWhZWJif"
   },
   "source": [
    "**e) Use the example data and your function in part (d) to generate 1000 simulated prices for $V_{2N}$ and $\\tilde{V_N}$. Here set $N = 500000$. Chart the distribution of $V_{2N}$ and $\\tilde{V_N}$ in the same figure. Compute and compare the sample variance of the 1000 simulated prices for $V_{2N}$ and $\\tilde{V_N}$.**"
   ]
  },
  {
   "cell_type": "code",
   "execution_count": null,
   "metadata": {
    "id": "1YKd9w6BWp5N"
   },
   "outputs": [],
   "source": []
  },
  {
   "cell_type": "markdown",
   "metadata": {
    "id": "Bqcu9AArWqPH"
   },
   "source": [
    "---\n",
    "## **Greek calculations**\n",
    "---\n",
    "\n",
    "There are two potential ways to compute the numerical delta of the option using MC simulation.\n",
    "\n",
    "First the simulated price is a function of the current stock price. One can view $V_N$ as $V_N(S_0)$. With a small shift (say, $ε = 0.01S_0$) of the current stock price, one can compute the one-sided delta as:\n",
    "\n",
    "$$Δ_1 = \\frac{V_N(S_0+ε)-V_N(S_0)}{ε}$$\n",
    "\n",
    "Another approach is that since random samples are already generated in computing $V_N(S_0)$, we may as well re-use these samples to estimate $V_N(S_0+ε)$. Suppose the standard normal random samples are $z_1, ..., z_N$. Let’s denote the simulated price computed from these samples by $V_N(S_0;z_1, ..., z_N)$. Then one can estimate the one-sided delta as:\n",
    "\n",
    "$$Δ_2 = \\frac{V_N(S_0+ε;z_1, ... , z_N) - V_N(S_0;z_1, ..., z_N)}{ε}$$"
   ]
  },
  {
   "cell_type": "markdown",
   "metadata": {
    "id": "2V8YBegCZDlV"
   },
   "source": [
    "**f) Write a function to compute and return $∆_1$. Use the example data to call your function several times with different shifts. Comment if you get “good” Deltas. Does it converge to the theoretical delta?**"
   ]
  },
  {
   "cell_type": "code",
   "execution_count": null,
   "metadata": {
    "id": "IFMlBCjFZPv-"
   },
   "outputs": [],
   "source": []
  },
  {
   "cell_type": "markdown",
   "metadata": {
    "id": "pxVrw5u8ZQ33"
   },
   "source": [
    "**g) Write a function to compute and return $∆_2$. Use the example data to call your function several times with different shifts. Comment if you get “good” Deltas. Does it converge to the theoretical delta?**"
   ]
  },
  {
   "cell_type": "code",
   "execution_count": null,
   "metadata": {
    "id": "DaEci8daZjAQ"
   },
   "outputs": [],
   "source": []
  },
  {
   "cell_type": "markdown",
   "metadata": {
    "id": "GO8nHF5AZkPr"
   },
   "source": [
    "---\n",
    "#### End of the Assignment\n",
    "---"
   ]
  },
  {
   "cell_type": "markdown",
   "metadata": {
    "id": "_cN5d0c8Z_-H"
   },
   "source": []
  }
 ],
 "metadata": {
  "colab": {
   "authorship_tag": "ABX9TyPIia9y0VTKEWXfnAgJX4wD",
   "provenance": []
  },
  "kernelspec": {
   "display_name": "Python 3 (ipykernel)",
   "language": "python",
   "name": "python3"
  },
  "language_info": {
   "codemirror_mode": {
    "name": "ipython",
    "version": 3
   },
   "file_extension": ".py",
   "mimetype": "text/x-python",
   "name": "python",
   "nbconvert_exporter": "python",
   "pygments_lexer": "ipython3",
   "version": "3.9.7"
  }
 },
 "nbformat": 4,
 "nbformat_minor": 1
}
