{
 "cells": [
  {
   "cell_type": "code",
   "execution_count": 1,
   "metadata": {
    "id": "GfWZha00vz1K"
   },
   "outputs": [],
   "source": [
    "import numpy as np\n",
    "import pandas as pd"
   ]
  },
  {
   "cell_type": "code",
   "execution_count": 2,
   "metadata": {
    "executionInfo": {
     "elapsed": 151,
     "status": "ok",
     "timestamp": 1681584014600,
     "user": {
      "displayName": "Sibo Du",
      "userId": "03183887006598459165"
     },
     "user_tz": 240
    },
    "id": "7MqyyAxqFffE"
   },
   "outputs": [],
   "source": [
    "J=pd.read_csv(\"hw3_JNJ.csv\")\n",
    "J=J.set_index(\"Date\")\n",
    "J=J[\"Adj Close\"]\n",
    "M=pd.read_csv(\"hw3_MRK.csv\")\n",
    "M=M.set_index(\"Date\")\n",
    "M=M[\"Adj Close\"]\n",
    "P=pd.read_csv(\"hw3_PFE.csv\")\n",
    "P=P.set_index(\"Date\")\n",
    "P=P[\"Adj Close\"]"
   ]
  },
  {
   "cell_type": "code",
   "execution_count": 3,
   "metadata": {
    "colab": {
     "base_uri": "https://localhost:8080/"
    },
    "executionInfo": {
     "elapsed": 535,
     "status": "ok",
     "timestamp": 1681584018645,
     "user": {
      "displayName": "Sibo Du",
      "userId": "03183887006598459165"
     },
     "user_tz": 240
    },
    "id": "rlTGaN-pGDeo",
    "outputId": "cd9d82da-1fb4-4483-fb56-95f29c7cf26b"
   },
   "outputs": [
    {
     "data": {
      "text/plain": [
       "Date\n",
       "2021-02-22    31.986647\n",
       "2021-02-23    31.659872\n",
       "2021-02-24    31.510492\n",
       "2021-02-25    31.575851\n",
       "2021-02-26    31.267750\n",
       "Name: Adj Close, dtype: float64"
      ]
     },
     "execution_count": 3,
     "metadata": {},
     "output_type": "execute_result"
    }
   ],
   "source": [
    "P.tail(5)"
   ]
  },
  {
   "cell_type": "code",
   "execution_count": 4,
   "metadata": {
    "executionInfo": {
     "elapsed": 527,
     "status": "ok",
     "timestamp": 1681584025450,
     "user": {
      "displayName": "Sibo Du",
      "userId": "03183887006598459165"
     },
     "user_tz": 240
    },
    "id": "uFAJeWaXHtfV"
   },
   "outputs": [],
   "source": [
    "r1 = np.log(J) - np.log(J.shift(1))\n",
    "r2 = np.log(M) - np.log(M.shift(1))\n",
    "r3 = np.log(P) - np.log(P.shift(1))"
   ]
  },
  {
   "cell_type": "code",
   "execution_count": 5,
   "metadata": {
    "executionInfo": {
     "elapsed": 1,
     "status": "ok",
     "timestamp": 1681584025980,
     "user": {
      "displayName": "Sibo Du",
      "userId": "03183887006598459165"
     },
     "user_tz": 240
    },
    "id": "vLmgxSLuISTJ"
   },
   "outputs": [],
   "source": [
    "r1_ewm = r1.ewm(alpha=0.06, adjust=True)\n",
    "r2_ewm = r2.ewm(alpha=0.06, adjust=True)\n",
    "r3_ewm = r3.ewm(alpha=0.06, adjust=True)"
   ]
  },
  {
   "cell_type": "code",
   "execution_count": 6,
   "metadata": {
    "executionInfo": {
     "elapsed": 4,
     "status": "ok",
     "timestamp": 1681584027040,
     "user": {
      "displayName": "Sibo Du",
      "userId": "03183887006598459165"
     },
     "user_tz": 240
    },
    "id": "QSDhRMknJDOm"
   },
   "outputs": [],
   "source": [
    "ewm_mean1 = r1_ewm.mean()\n",
    "ewm_std1 = r1_ewm.std()\n",
    "ewm_mean2 = r2_ewm.mean()\n",
    "ewm_std2 = r2_ewm.std()\n",
    "ewm_mean3 = r3_ewm.mean()\n",
    "ewm_std3 = r3_ewm.std()"
   ]
  },
  {
   "cell_type": "code",
   "execution_count": 7,
   "metadata": {
    "executionInfo": {
     "elapsed": 3,
     "status": "ok",
     "timestamp": 1681587819321,
     "user": {
      "displayName": "Sibo Du",
      "userId": "03183887006598459165"
     },
     "user_tz": 240
    },
    "id": "X53zZNmhJWWg"
   },
   "outputs": [],
   "source": [
    "w1=1.2*10**6*J\n",
    "w2=2.5*10**6*M\n",
    "w3=3.5*10**6*P"
   ]
  },
  {
   "cell_type": "code",
   "execution_count": 8,
   "metadata": {
    "executionInfo": {
     "elapsed": 523,
     "status": "ok",
     "timestamp": 1681587821939,
     "user": {
      "displayName": "Sibo Du",
      "userId": "03183887006598459165"
     },
     "user_tz": 240
    },
    "id": "Wm2xl5TsYixP"
   },
   "outputs": [],
   "source": [
    "variance_p=w1*w1*ewm_std1**2+w2*w2*ewm_std2**2+w3*w3*ewm_std3**2+2*w1*w2*r1_ewm.cov(other=r2)+2*w1*w3*r1_ewm.cov(other=r3)+2*w3*w2*r2_ewm.cov(other=r3)"
   ]
  },
  {
   "cell_type": "code",
   "execution_count": 9,
   "metadata": {
    "colab": {
     "base_uri": "https://localhost:8080/"
    },
    "executionInfo": {
     "elapsed": 527,
     "status": "ok",
     "timestamp": 1681590450223,
     "user": {
      "displayName": "Sibo Du",
      "userId": "03183887006598459165"
     },
     "user_tz": 240
    },
    "id": "R342MvdlZkRQ",
    "outputId": "32258ad5-1222-494b-aef6-35969f0a25a6"
   },
   "outputs": [
    {
     "data": {
      "text/plain": [
       "9864507.366944488"
      ]
     },
     "execution_count": 9,
     "metadata": {},
     "output_type": "execute_result"
    }
   ],
   "source": [
    "#Q1 a\n",
    "#1 day 99% VaR\n",
    "2.33*np.sqrt(variance_p[-1])"
   ]
  },
  {
   "cell_type": "code",
   "execution_count": 10,
   "metadata": {
    "executionInfo": {
     "elapsed": 461,
     "status": "ok",
     "timestamp": 1681588750579,
     "user": {
      "displayName": "Sibo Du",
      "userId": "03183887006598459165"
     },
     "user_tz": 240
    },
    "id": "AtQJipiIfEK7"
   },
   "outputs": [],
   "source": [
    "J1=J[-1]*np.exp(r1)\n",
    "M1=M[-1]*np.exp(r2)\n",
    "P1=P[-1]*np.exp(r3)"
   ]
  },
  {
   "cell_type": "code",
   "execution_count": 11,
   "metadata": {
    "colab": {
     "base_uri": "https://localhost:8080/"
    },
    "executionInfo": {
     "elapsed": 154,
     "status": "ok",
     "timestamp": 1681590770931,
     "user": {
      "displayName": "Sibo Du",
      "userId": "03183887006598459165"
     },
     "user_tz": 240
    },
    "id": "5ZhP7u7QgBYQ",
    "outputId": "d425ec21-c049-4b7b-dd54-e0d62b022767"
   },
   "outputs": [
    {
     "data": {
      "text/plain": [
       "Date\n",
       "2019-03-04   -1.113799e+06\n",
       "2019-03-05    5.730132e+05\n",
       "2019-03-06   -4.062330e+06\n",
       "2019-03-07   -2.949543e+06\n",
       "2019-03-08   -2.856621e+06\n",
       "                  ...     \n",
       "2021-02-22    6.584782e+05\n",
       "2021-02-23   -3.550233e+06\n",
       "2021-02-24    1.967940e+06\n",
       "2021-02-25    5.236620e+05\n",
       "2021-02-26   -1.014895e+07\n",
       "Name: Adj Close, Length: 502, dtype: float64"
      ]
     },
     "execution_count": 11,
     "metadata": {},
     "output_type": "execute_result"
    }
   ],
   "source": [
    "portfolio_historical=1.2*10**6*(J1-J[-1])+2.5*10**6*(M1-M[-1])+3.5*10**6*(P1-P[-1])\n",
    "portfolio_historical=portfolio_historical.dropna()\n",
    "portfolio_historical"
   ]
  },
  {
   "cell_type": "code",
   "execution_count": 12,
   "metadata": {
    "colab": {
     "base_uri": "https://localhost:8080/"
    },
    "executionInfo": {
     "elapsed": 381,
     "status": "ok",
     "timestamp": 1681590799602,
     "user": {
      "displayName": "Sibo Du",
      "userId": "03183887006598459165"
     },
     "user_tz": 240
    },
    "id": "QULYJ6Y6jjcO",
    "outputId": "f76ea103-05b6-49d3-ae96-4bcce3a2e0f3"
   },
   "outputs": [
    {
     "data": {
      "text/plain": [
       "-19403874.928801242"
      ]
     },
     "execution_count": 12,
     "metadata": {},
     "output_type": "execute_result"
    }
   ],
   "source": [
    "#Q1 b\n",
    "#historical 99% VaR\n",
    "np.percentile(np.array(portfolio_historical),0.99)\n",
    "#Therefore the VaR is 19146342"
   ]
  },
  {
   "cell_type": "markdown",
   "metadata": {
    "id": "Zr46rgoLriIy"
   },
   "source": [
    "#Q1 (c)\n",
    "I would recommend the parametric approach to the risk manager because for the historical approach we actually do not have much data, so if there are only few very exceptional cases happened in the past, then when we get our 99% VaR prediction based on it, we may get very unreasonable price changes. However, for the parametric approach when we do the prediction, we make more use of the whole datasets' properties instead of focusing on one or two very exceptional cases happend in the past. Besides, it is also logical to assume that the recent price changes could play a more important role when predicting tomorrow's price change."
   ]
  },
  {
   "cell_type": "code",
   "execution_count": null,
   "metadata": {
    "id": "oIi132SOpkIa"
   },
   "outputs": [],
   "source": []
  }
 ],
 "metadata": {
  "colab": {
   "authorship_tag": "ABX9TyNSkwL6erdiiFq60N04u1pk",
   "provenance": []
  },
  "kernelspec": {
   "display_name": "Python 3 (ipykernel)",
   "language": "python",
   "name": "python3"
  },
  "language_info": {
   "codemirror_mode": {
    "name": "ipython",
    "version": 3
   },
   "file_extension": ".py",
   "mimetype": "text/x-python",
   "name": "python",
   "nbconvert_exporter": "python",
   "pygments_lexer": "ipython3",
   "version": "3.9.7"
  }
 },
 "nbformat": 4,
 "nbformat_minor": 1
}
