{
  "cells": [
    {
      "cell_type": "markdown",
      "metadata": {
        "_cell_guid": "127d41cb-f031-47ed-8182-18b4b4268e67",
        "_uuid": "91fd3340a32112c8484def249676909381220819",
        "id": "s7xVDmV1YeVa"
      },
      "source": [
        "# LSTM model of StockData\n",
        "\n",
        "[Intro to LSTM](https://machinelearningmastery.com/gentle-introduction-long-short-term-memory-networks-experts/)\n",
        "\n",
        "In this notebook we will go through a basic Long Short Term Memory (LSTM) model for time series. The notebooks does the following things:\n",
        "* First load in the data. The preproccessing only consist of normalization and the creation of windows.\n",
        "* Creation of the LSTM model\n",
        "* Training the LSTM model\n",
        "* Testing the LSTM model with 1 time step and with 1 window\n"
      ]
    },
    {
      "cell_type": "markdown",
      "metadata": {
        "_cell_guid": "77fcf79e-c42a-42c3-91a4-d20729ba4e16",
        "_uuid": "46ba1ba6434db508c0315c48e7f5ac50895b921b",
        "id": "fn1L6O-tYeVe"
      },
      "source": [
        "## Importing libraries and loading in the data"
      ]
    },
    {
      "cell_type": "markdown",
      "metadata": {
        "_cell_guid": "c5a4c6cd-533e-4fc6-ac98-9374c7d17d58",
        "_uuid": "c68269fdda537314957b3632d8d455cfabd29e90",
        "id": "Jk0XHZbhYeVe"
      },
      "source": [
        "### Import libraries\n",
        "\n",
        "Install packages accordingly if haven't done so."
      ]
    },
    {
      "cell_type": "code",
      "execution_count": null,
      "metadata": {
        "id": "uT0CF-7RHBUc"
      },
      "outputs": [],
      "source": [
        "#pip install keras"
      ]
    },
    {
      "cell_type": "code",
      "execution_count": null,
      "metadata": {
        "id": "NpTooK8rHBUd"
      },
      "outputs": [],
      "source": [
        "#pip install tensorflow"
      ]
    },
    {
      "cell_type": "code",
      "execution_count": 35,
      "metadata": {
        "id": "9HlfkHLJYeVf"
      },
      "outputs": [],
      "source": [
        "import matplotlib.pyplot as plt\n",
        "import statsmodels.tsa.seasonal as smt\n",
        "import numpy as np # linear algebra\n",
        "import pandas as pd # data processing, CSV file I/O (e.g. pd.read_csv)\n",
        "import random\n",
        "import datetime as dt\n",
        "from sklearn import linear_model \n",
        "from sklearn.metrics import mean_absolute_error\n",
        "import plotly\n",
        "\n",
        "# import the relevant Keras modules\n",
        "from keras.models import Sequential\n",
        "from keras.layers import Activation, Dense\n",
        "from keras.layers import LSTM\n",
        "from keras.layers import Dropout\n"
      ]
    },
    {
      "cell_type": "markdown",
      "metadata": {
        "_cell_guid": "1cd8a99d-6e9f-40fd-893d-12d2dbb2d511",
        "_uuid": "7e20a12ab2c0933ce9a4930713dedf700e9f4a1a",
        "id": "Z1oXex5mYeVh"
      },
      "source": [
        "### 1) Loading in the data\n",
        "\n",
        "Retrieve Close price of Google from yahoo finance from 2006-01-02 to 2022-12-30."
      ]
    },
    {
      "cell_type": "code",
      "execution_count": 36,
      "metadata": {
        "_cell_guid": "93bf734b-6100-4286-974d-f695993a6988",
        "_uuid": "7a8a7801133a86e2158ffa2b8506ce8b47aab130",
        "id": "Ah1L_nY5YeVh"
      },
      "outputs": [],
      "source": [
        "import yfinance as yf\n",
        "\n",
        "goog = yf.Ticker('goog')\n",
        "history = goog.history(interval=\"1d\",\n",
        "            start=\"2006-01-02\", end=\"2022-12-30\", prepost=False, actions=True,\n",
        "            auto_adjust=True, back_adjust=False,\n",
        "            proxy=None, rounding=False)\n",
        "df = history.reset_index()\n",
        "df['Label'] = 'Google'"
      ]
    },
    {
      "cell_type": "markdown",
      "metadata": {
        "_cell_guid": "13a9d5fa-c074-46db-b7cb-2e6712b9fb51",
        "_uuid": "eab4bb7febbb0db9539d97970e6ea9dfee41df5a",
        "id": "xm18JIfsYeVi"
      },
      "source": [
        "### Visualize the data\n",
        "\n"
      ]
    },
    {
      "cell_type": "code",
      "execution_count": 37,
      "metadata": {
        "colab": {
          "base_uri": "https://localhost:8080/",
          "height": 423
        },
        "id": "VOdiH-WpnCoZ",
        "outputId": "89e672cb-c62e-44d7-8495-6b5448127ac9"
      },
      "outputs": [
        {
          "output_type": "execute_result",
          "data": {
            "text/plain": [
              "                          Date       Open       High        Low      Close  \\\n",
              "0    2006-01-03 00:00:00-05:00  10.523555  10.851077  10.416457  10.840119   \n",
              "1    2006-01-04 00:00:00-05:00  11.056059  11.182087  10.952697  11.089434   \n",
              "2    2006-01-05 00:00:00-05:00  11.108363  11.246595  10.996283  11.238874   \n",
              "3    2006-01-06 00:00:00-05:00  11.379098  11.718576  11.288687  11.598028   \n",
              "4    2006-01-09 00:00:00-05:00  11.616708  11.790805  11.480468  11.628912   \n",
              "...                        ...        ...        ...        ...        ...   \n",
              "4273 2022-12-22 00:00:00-05:00  88.930000  89.180000  86.940002  88.260002   \n",
              "4274 2022-12-23 00:00:00-05:00  87.620003  90.099998  87.620003  89.809998   \n",
              "4275 2022-12-27 00:00:00-05:00  89.309998  89.500000  87.535004  87.930000   \n",
              "4276 2022-12-28 00:00:00-05:00  87.500000  88.519997  86.370003  86.459999   \n",
              "4277 2022-12-29 00:00:00-05:00  87.029999  89.364998  86.989998  88.949997   \n",
              "\n",
              "         Volume  Dividends  Stock Splits   Label  \n",
              "0     526815259        0.0           0.0  Google  \n",
              "1     613747887        0.0           0.0  Google  \n",
              "2     433952486        0.0           0.0  Google  \n",
              "3     712938289        0.0           0.0  Google  \n",
              "4     513593887        0.0           0.0  Google  \n",
              "...         ...        ...           ...     ...  \n",
              "4273   23656100        0.0           0.0  Google  \n",
              "4274   17815000        0.0           0.0  Google  \n",
              "4275   15470900        0.0           0.0  Google  \n",
              "4276   17879600        0.0           0.0  Google  \n",
              "4277   18280700        0.0           0.0  Google  \n",
              "\n",
              "[4278 rows x 9 columns]"
            ],
            "text/html": [
              "\n",
              "  <div id=\"df-f78797a3-b977-44ab-9129-16aaf9871b43\">\n",
              "    <div class=\"colab-df-container\">\n",
              "      <div>\n",
              "<style scoped>\n",
              "    .dataframe tbody tr th:only-of-type {\n",
              "        vertical-align: middle;\n",
              "    }\n",
              "\n",
              "    .dataframe tbody tr th {\n",
              "        vertical-align: top;\n",
              "    }\n",
              "\n",
              "    .dataframe thead th {\n",
              "        text-align: right;\n",
              "    }\n",
              "</style>\n",
              "<table border=\"1\" class=\"dataframe\">\n",
              "  <thead>\n",
              "    <tr style=\"text-align: right;\">\n",
              "      <th></th>\n",
              "      <th>Date</th>\n",
              "      <th>Open</th>\n",
              "      <th>High</th>\n",
              "      <th>Low</th>\n",
              "      <th>Close</th>\n",
              "      <th>Volume</th>\n",
              "      <th>Dividends</th>\n",
              "      <th>Stock Splits</th>\n",
              "      <th>Label</th>\n",
              "    </tr>\n",
              "  </thead>\n",
              "  <tbody>\n",
              "    <tr>\n",
              "      <th>0</th>\n",
              "      <td>2006-01-03 00:00:00-05:00</td>\n",
              "      <td>10.523555</td>\n",
              "      <td>10.851077</td>\n",
              "      <td>10.416457</td>\n",
              "      <td>10.840119</td>\n",
              "      <td>526815259</td>\n",
              "      <td>0.0</td>\n",
              "      <td>0.0</td>\n",
              "      <td>Google</td>\n",
              "    </tr>\n",
              "    <tr>\n",
              "      <th>1</th>\n",
              "      <td>2006-01-04 00:00:00-05:00</td>\n",
              "      <td>11.056059</td>\n",
              "      <td>11.182087</td>\n",
              "      <td>10.952697</td>\n",
              "      <td>11.089434</td>\n",
              "      <td>613747887</td>\n",
              "      <td>0.0</td>\n",
              "      <td>0.0</td>\n",
              "      <td>Google</td>\n",
              "    </tr>\n",
              "    <tr>\n",
              "      <th>2</th>\n",
              "      <td>2006-01-05 00:00:00-05:00</td>\n",
              "      <td>11.108363</td>\n",
              "      <td>11.246595</td>\n",
              "      <td>10.996283</td>\n",
              "      <td>11.238874</td>\n",
              "      <td>433952486</td>\n",
              "      <td>0.0</td>\n",
              "      <td>0.0</td>\n",
              "      <td>Google</td>\n",
              "    </tr>\n",
              "    <tr>\n",
              "      <th>3</th>\n",
              "      <td>2006-01-06 00:00:00-05:00</td>\n",
              "      <td>11.379098</td>\n",
              "      <td>11.718576</td>\n",
              "      <td>11.288687</td>\n",
              "      <td>11.598028</td>\n",
              "      <td>712938289</td>\n",
              "      <td>0.0</td>\n",
              "      <td>0.0</td>\n",
              "      <td>Google</td>\n",
              "    </tr>\n",
              "    <tr>\n",
              "      <th>4</th>\n",
              "      <td>2006-01-09 00:00:00-05:00</td>\n",
              "      <td>11.616708</td>\n",
              "      <td>11.790805</td>\n",
              "      <td>11.480468</td>\n",
              "      <td>11.628912</td>\n",
              "      <td>513593887</td>\n",
              "      <td>0.0</td>\n",
              "      <td>0.0</td>\n",
              "      <td>Google</td>\n",
              "    </tr>\n",
              "    <tr>\n",
              "      <th>...</th>\n",
              "      <td>...</td>\n",
              "      <td>...</td>\n",
              "      <td>...</td>\n",
              "      <td>...</td>\n",
              "      <td>...</td>\n",
              "      <td>...</td>\n",
              "      <td>...</td>\n",
              "      <td>...</td>\n",
              "      <td>...</td>\n",
              "    </tr>\n",
              "    <tr>\n",
              "      <th>4273</th>\n",
              "      <td>2022-12-22 00:00:00-05:00</td>\n",
              "      <td>88.930000</td>\n",
              "      <td>89.180000</td>\n",
              "      <td>86.940002</td>\n",
              "      <td>88.260002</td>\n",
              "      <td>23656100</td>\n",
              "      <td>0.0</td>\n",
              "      <td>0.0</td>\n",
              "      <td>Google</td>\n",
              "    </tr>\n",
              "    <tr>\n",
              "      <th>4274</th>\n",
              "      <td>2022-12-23 00:00:00-05:00</td>\n",
              "      <td>87.620003</td>\n",
              "      <td>90.099998</td>\n",
              "      <td>87.620003</td>\n",
              "      <td>89.809998</td>\n",
              "      <td>17815000</td>\n",
              "      <td>0.0</td>\n",
              "      <td>0.0</td>\n",
              "      <td>Google</td>\n",
              "    </tr>\n",
              "    <tr>\n",
              "      <th>4275</th>\n",
              "      <td>2022-12-27 00:00:00-05:00</td>\n",
              "      <td>89.309998</td>\n",
              "      <td>89.500000</td>\n",
              "      <td>87.535004</td>\n",
              "      <td>87.930000</td>\n",
              "      <td>15470900</td>\n",
              "      <td>0.0</td>\n",
              "      <td>0.0</td>\n",
              "      <td>Google</td>\n",
              "    </tr>\n",
              "    <tr>\n",
              "      <th>4276</th>\n",
              "      <td>2022-12-28 00:00:00-05:00</td>\n",
              "      <td>87.500000</td>\n",
              "      <td>88.519997</td>\n",
              "      <td>86.370003</td>\n",
              "      <td>86.459999</td>\n",
              "      <td>17879600</td>\n",
              "      <td>0.0</td>\n",
              "      <td>0.0</td>\n",
              "      <td>Google</td>\n",
              "    </tr>\n",
              "    <tr>\n",
              "      <th>4277</th>\n",
              "      <td>2022-12-29 00:00:00-05:00</td>\n",
              "      <td>87.029999</td>\n",
              "      <td>89.364998</td>\n",
              "      <td>86.989998</td>\n",
              "      <td>88.949997</td>\n",
              "      <td>18280700</td>\n",
              "      <td>0.0</td>\n",
              "      <td>0.0</td>\n",
              "      <td>Google</td>\n",
              "    </tr>\n",
              "  </tbody>\n",
              "</table>\n",
              "<p>4278 rows × 9 columns</p>\n",
              "</div>\n",
              "      <button class=\"colab-df-convert\" onclick=\"convertToInteractive('df-f78797a3-b977-44ab-9129-16aaf9871b43')\"\n",
              "              title=\"Convert this dataframe to an interactive table.\"\n",
              "              style=\"display:none;\">\n",
              "        \n",
              "  <svg xmlns=\"http://www.w3.org/2000/svg\" height=\"24px\"viewBox=\"0 0 24 24\"\n",
              "       width=\"24px\">\n",
              "    <path d=\"M0 0h24v24H0V0z\" fill=\"none\"/>\n",
              "    <path d=\"M18.56 5.44l.94 2.06.94-2.06 2.06-.94-2.06-.94-.94-2.06-.94 2.06-2.06.94zm-11 1L8.5 8.5l.94-2.06 2.06-.94-2.06-.94L8.5 2.5l-.94 2.06-2.06.94zm10 10l.94 2.06.94-2.06 2.06-.94-2.06-.94-.94-2.06-.94 2.06-2.06.94z\"/><path d=\"M17.41 7.96l-1.37-1.37c-.4-.4-.92-.59-1.43-.59-.52 0-1.04.2-1.43.59L10.3 9.45l-7.72 7.72c-.78.78-.78 2.05 0 2.83L4 21.41c.39.39.9.59 1.41.59.51 0 1.02-.2 1.41-.59l7.78-7.78 2.81-2.81c.8-.78.8-2.07 0-2.86zM5.41 20L4 18.59l7.72-7.72 1.47 1.35L5.41 20z\"/>\n",
              "  </svg>\n",
              "      </button>\n",
              "      \n",
              "  <style>\n",
              "    .colab-df-container {\n",
              "      display:flex;\n",
              "      flex-wrap:wrap;\n",
              "      gap: 12px;\n",
              "    }\n",
              "\n",
              "    .colab-df-convert {\n",
              "      background-color: #E8F0FE;\n",
              "      border: none;\n",
              "      border-radius: 50%;\n",
              "      cursor: pointer;\n",
              "      display: none;\n",
              "      fill: #1967D2;\n",
              "      height: 32px;\n",
              "      padding: 0 0 0 0;\n",
              "      width: 32px;\n",
              "    }\n",
              "\n",
              "    .colab-df-convert:hover {\n",
              "      background-color: #E2EBFA;\n",
              "      box-shadow: 0px 1px 2px rgba(60, 64, 67, 0.3), 0px 1px 3px 1px rgba(60, 64, 67, 0.15);\n",
              "      fill: #174EA6;\n",
              "    }\n",
              "\n",
              "    [theme=dark] .colab-df-convert {\n",
              "      background-color: #3B4455;\n",
              "      fill: #D2E3FC;\n",
              "    }\n",
              "\n",
              "    [theme=dark] .colab-df-convert:hover {\n",
              "      background-color: #434B5C;\n",
              "      box-shadow: 0px 1px 3px 1px rgba(0, 0, 0, 0.15);\n",
              "      filter: drop-shadow(0px 1px 2px rgba(0, 0, 0, 0.3));\n",
              "      fill: #FFFFFF;\n",
              "    }\n",
              "  </style>\n",
              "\n",
              "      <script>\n",
              "        const buttonEl =\n",
              "          document.querySelector('#df-f78797a3-b977-44ab-9129-16aaf9871b43 button.colab-df-convert');\n",
              "        buttonEl.style.display =\n",
              "          google.colab.kernel.accessAllowed ? 'block' : 'none';\n",
              "\n",
              "        async function convertToInteractive(key) {\n",
              "          const element = document.querySelector('#df-f78797a3-b977-44ab-9129-16aaf9871b43');\n",
              "          const dataTable =\n",
              "            await google.colab.kernel.invokeFunction('convertToInteractive',\n",
              "                                                     [key], {});\n",
              "          if (!dataTable) return;\n",
              "\n",
              "          const docLinkHtml = 'Like what you see? Visit the ' +\n",
              "            '<a target=\"_blank\" href=https://colab.research.google.com/notebooks/data_table.ipynb>data table notebook</a>'\n",
              "            + ' to learn more about interactive tables.';\n",
              "          element.innerHTML = '';\n",
              "          dataTable['output_type'] = 'display_data';\n",
              "          await google.colab.output.renderOutput(dataTable, element);\n",
              "          const docLink = document.createElement('div');\n",
              "          docLink.innerHTML = docLinkHtml;\n",
              "          element.appendChild(docLink);\n",
              "        }\n",
              "      </script>\n",
              "    </div>\n",
              "  </div>\n",
              "  "
            ]
          },
          "metadata": {},
          "execution_count": 37
        }
      ],
      "source": [
        "df"
      ]
    },
    {
      "cell_type": "code",
      "execution_count": 38,
      "metadata": {
        "_cell_guid": "ba0a6406-9e68-49a7-bfcb-5f6335d9837d",
        "_uuid": "e97af0dd991ecc27066dbea3d1a50190491fbe4e",
        "colab": {
          "base_uri": "https://localhost:8080/",
          "height": 448
        },
        "id": "OIm9ayW8YeVi",
        "outputId": "82a259d7-d251-453a-c7fc-3b0b8edf5601"
      },
      "outputs": [
        {
          "output_type": "execute_result",
          "data": {
            "text/plain": [
              "[<matplotlib.lines.Line2D at 0x7f288ee5f340>]"
            ]
          },
          "metadata": {},
          "execution_count": 38
        },
        {
          "output_type": "display_data",
          "data": {
            "text/plain": [
              "<Figure size 640x480 with 1 Axes>"
            ],
            "image/png": "[encoded data removed]"
          },
          "metadata": {}
        }
      ],
      "source": [
        "plt.plot(df['Date'],df['Close'])"
      ]
    },
    {
      "cell_type": "markdown",
      "metadata": {
        "_cell_guid": "64adcccf-c7ff-4f43-9378-5003e7173bab",
        "_uuid": "44526aff819b043d21950821b2117ebd0ec968c8",
        "id": "AXV7pHgyYeVj"
      },
      "source": [
        "### 2) Creating windows and normalizing the data\n",
        "\n",
        "The window here is 15. The final question will ask you to consider this parameter in your final analysis and how it might impact your results."
      ]
    },
    {
      "cell_type": "code",
      "execution_count": 57,
      "metadata": {
        "_cell_guid": "ccaad6cb-0de6-42e0-82ee-818b06debddd",
        "_uuid": "716f887dd7f0d1bed4a2b363b1caf0f70d0799ad",
        "colab": {
          "base_uri": "https://localhost:8080/",
          "height": 0
        },
        "id": "RcklkoJdYeVk",
        "outputId": "e67eac73-bad1-45dc-c9a9-2789dd83ef09"
      },
      "outputs": [
        {
          "output_type": "stream",
          "name": "stdout",
          "text": [
            "split_date: 2022-11-15 00:00:00-05:00\n"
          ]
        },
        {
          "output_type": "stream",
          "name": "stderr",
          "text": [
            "<ipython-input-57-03812d4b9464>:9: FutureWarning: In a future version of pandas all arguments of DataFrame.drop except for the argument 'labels' will be keyword-only.\n",
            "  training_set = training_set.drop(['Date','Label', 'Open', 'High', 'Low', 'Volume', 'Dividends', 'Stock Splits'], 1)\n",
            "<ipython-input-57-03812d4b9464>:10: FutureWarning: In a future version of pandas all arguments of DataFrame.drop except for the argument 'labels' will be keyword-only.\n",
            "  test_set = test_set.drop(['Date','Label', 'Open', 'High', 'Low', 'Volume', 'Dividends', 'Stock Splits'], 1)\n"
          ]
        }
      ],
      "source": [
        "window_len = 15\n",
        "\n",
        "#Create a data point (i.e. a date) which splits the training and testing set\n",
        "split_date = list(df[\"Date\"][-(2*window_len+1):])[0]\n",
        "print(\"split_date:\",split_date)\n",
        "\n",
        "#Split the training and test set\n",
        "training_set, test_set = df[df['Date'] < split_date], df[df['Date'] >= split_date]\n",
        "training_set = training_set.drop(['Date','Label', 'Open', 'High', 'Low', 'Volume', 'Dividends', 'Stock Splits'], 1)\n",
        "test_set = test_set.drop(['Date','Label', 'Open', 'High', 'Low', 'Volume', 'Dividends', 'Stock Splits'], 1)\n",
        "#Create windows for training\n",
        "LSTM_training_inputs = []\n",
        "for i in range(len(training_set)-window_len):\n",
        "    temp_set = training_set[i:(i+window_len)].copy()\n",
        "    for col in list(temp_set):\n",
        "        temp_set[col] = temp_set[col]/temp_set[col].iloc[0] - 1\n",
        "    \n",
        "    LSTM_training_inputs.append(temp_set)\n",
        "LSTM_training_outputs = (training_set['Close'][window_len:].values/training_set['Close'][:-window_len].values)-1\n",
        "\n",
        "LSTM_training_inputs = [np.array(LSTM_training_input) for LSTM_training_input in LSTM_training_inputs]\n",
        "LSTM_training_inputs = np.array(LSTM_training_inputs)\n",
        "\n",
        "#Create windows for testing\n",
        "LSTM_test_inputs = []\n",
        "for i in range(len(test_set)-window_len):\n",
        "    temp_set = test_set[i:(i+window_len)].copy()\n",
        "    \n",
        "    for col in list(temp_set):\n",
        "        temp_set[col] = temp_set[col]/temp_set[col].iloc[0] - 1\n",
        "    \n",
        "    LSTM_test_inputs.append(temp_set)\n",
        "LSTM_test_outputs = (test_set['Close'][window_len:].values/test_set['Close'][:-window_len].values)-1\n",
        "\n",
        "LSTM_test_inputs = [np.array(LSTM_test_inputs) for LSTM_test_inputs in LSTM_test_inputs]\n",
        "LSTM_test_inputs = np.array(LSTM_test_inputs)"
      ]
    },
    {
      "cell_type": "markdown",
      "metadata": {
        "_cell_guid": "1f9e074d-b290-49b0-bbd3-08d5776a1405",
        "_uuid": "d5b2f417083fcc4141bad3483672072dcaaebfd7",
        "id": "fdnLVslNYeVl"
      },
      "source": [
        "## 3) LSTM model definition\n",
        "\n",
        "LSTM's have a set of parameters that can be tuned to your data set. Consider these inputs: **activation function, loss function, dropout rate, optimizer, nn layers/architecture** and review your options in the documentation.\n",
        "\n",
        "[Keras Docs](https://keras.io/api/layers/recurrent_layers/lstm/)"
      ]
    },
    {
      "cell_type": "markdown",
      "metadata": {
        "id": "wOAQmZ-eYeVn"
      },
      "source": [
        "This is a standard function for building a LSTM model."
      ]
    },
    {
      "cell_type": "code",
      "execution_count": 58,
      "metadata": {
        "_cell_guid": "90d2eb52-a27a-4d44-a54e-e69a9a158497",
        "_uuid": "fa67caf03f6b8add47bf833faacfa1292479f1fc",
        "id": "sx9NBnmNYeVn"
      },
      "outputs": [],
      "source": [
        "def build_model(inputs, output_size, neurons, activ_func=\"tanh\",\n",
        "                dropout=0.10, loss=\"mae\", optimizer=\"adam\"):\n",
        "    \n",
        "    model = Sequential()\n",
        "\n",
        "    model.add(LSTM(neurons, input_shape=(inputs.shape[1], inputs.shape[2])))\n",
        "    model.add(Dropout(dropout))\n",
        "    model.add(Dense(units=output_size))\n",
        "    model.add(Activation(activ_func))\n",
        "\n",
        "    model.compile(loss=loss, optimizer=optimizer)\n",
        "    return model"
      ]
    },
    {
      "cell_type": "markdown",
      "metadata": {
        "_cell_guid": "ae6a8a52-b167-4849-bd20-60d05e2a6b77",
        "_uuid": "6a62d2b17ee78777e4305b8f0832adb64c7596cd",
        "id": "RLklRSWQYeVo"
      },
      "source": [
        "## 4) Training of the LSTM model\n",
        "\n",
        "Just like most ML models choosing a stopping condition is important. Here we use **Epochs** or iterations to set this stopping condition where we also monitor the loss at each step. Consider **Epochs** as a parameter to adjust."
      ]
    },
    {
      "cell_type": "code",
      "execution_count": 59,
      "metadata": {
        "_cell_guid": "8a5a1908-797d-4b34-9eba-a6a52316c243",
        "_uuid": "3f7e8dfd6c9cbd294d7f73e30e8a03b75409dfaf",
        "colab": {
          "base_uri": "https://localhost:8080/",
          "height": 0
        },
        "id": "riGrvYMCYeVo",
        "outputId": "0f38d4f9-5fc8-4691-aaf0-6c2969ccd5ec",
        "scrolled": true
      },
      "outputs": [
        {
          "output_type": "stream",
          "name": "stdout",
          "text": [
            "Epoch 1/5\n",
            "4232/4232 - 38s - loss: 0.0169 - 38s/epoch - 9ms/step\n",
            "Epoch 2/5\n",
            "4232/4232 - 33s - loss: 0.0143 - 33s/epoch - 8ms/step\n",
            "Epoch 3/5\n",
            "4232/4232 - 30s - loss: 0.0142 - 30s/epoch - 7ms/step\n",
            "Epoch 4/5\n",
            "4232/4232 - 34s - loss: 0.0139 - 34s/epoch - 8ms/step\n",
            "Epoch 5/5\n",
            "4232/4232 - 33s - loss: 0.0138 - 33s/epoch - 8ms/step\n"
          ]
        }
      ],
      "source": [
        "# initialise model architecture\n",
        "nn_model = build_model(LSTM_training_inputs, output_size=1, neurons = 32)\n",
        "# model output is next price normalised to 10th previous closing price\n",
        "# train model on data\n",
        "# note: eth_history contains information on the training error per epoch\n",
        "nn_history = nn_model.fit(LSTM_training_inputs, LSTM_training_outputs, \n",
        "                            epochs=5, batch_size=1, verbose=2, shuffle=True)"
      ]
    },
    {
      "cell_type": "markdown",
      "metadata": {
        "_cell_guid": "7866dd63-ff05-4fcd-ad77-6aa37b3904a0",
        "_uuid": "fcf55764d5abf3fc0fdb1482a609bccce90afa18",
        "id": "V42I-E9LYeVo"
      },
      "source": [
        "### Plot of prediction of one data point ahead\n",
        "As can be seen in the plot, one step prediction is not bad. The scale is a bit off, because the data is normalized. "
      ]
    },
    {
      "cell_type": "code",
      "execution_count": 60,
      "metadata": {
        "_cell_guid": "0f8b3baa-ee8c-4230-909d-4bba49212cc9",
        "_uuid": "974f151cfd79381ea720522c3bcae77c7954002c",
        "colab": {
          "base_uri": "https://localhost:8080/",
          "height": 485
        },
        "id": "GrBTQGN8YeVp",
        "outputId": "b6acbe49-a9bd-479b-c11a-da87c8d24256",
        "scrolled": true
      },
      "outputs": [
        {
          "output_type": "stream",
          "name": "stdout",
          "text": [
            "1/1 [==============================] - 1s 797ms/step\n"
          ]
        },
        {
          "output_type": "display_data",
          "data": {
            "text/plain": [
              "<Figure size 640x480 with 1 Axes>"
            ],
            "image/png": "[encoded data removed]"
          },
          "metadata": {}
        },
        {
          "output_type": "stream",
          "name": "stdout",
          "text": [
            "1/1 [==============================] - 0s 31ms/step\n",
            "The Mean Absolute Error is: 0.015322642301770946\n"
          ]
        }
      ],
      "source": [
        "plt.plot(LSTM_test_outputs, label = \"actual\")\n",
        "plt.plot(nn_model.predict(LSTM_test_inputs), label = \"predicted\")\n",
        "plt.legend()\n",
        "plt.show()\n",
        "MAE = mean_absolute_error(LSTM_test_outputs, nn_model.predict(LSTM_test_inputs))\n",
        "print('The Mean Absolute Error is: {}'.format(MAE))"
      ]
    },
    {
      "cell_type": "markdown",
      "metadata": {
        "_cell_guid": "dc86f1a3-f0be-48c0-960f-e1c8812c17c5",
        "_uuid": "af67779607f62291abda55d4185d7617ef79bd6d",
        "id": "MNhhY8O3YeVp"
      },
      "source": [
        "### Prediction of one window (n steps) ahead\n",
        "As can be seen in the plot below, the performance degrades when predicting multiple time points ahead. However, compared to something like linear regression the performance is better. "
      ]
    },
    {
      "cell_type": "code",
      "execution_count": 61,
      "metadata": {
        "_cell_guid": "554ac64d-747e-486e-b242-3d3acea035e7",
        "_uuid": "2b370414a6468a68f970febd3bba61af8c45f7c8",
        "colab": {
          "base_uri": "https://localhost:8080/",
          "height": 744
        },
        "id": "bAMXt8i3YeVp",
        "outputId": "8333f314-8fe1-4f5c-8754-9f4e152ecbd3"
      },
      "outputs": [
        {
          "output_type": "stream",
          "name": "stdout",
          "text": [
            "1/1 [==============================] - 0s 35ms/step\n",
            "1/1 [==============================] - 0s 30ms/step\n",
            "1/1 [==============================] - 0s 29ms/step\n",
            "1/1 [==============================] - 0s 31ms/step\n",
            "1/1 [==============================] - 0s 73ms/step\n",
            "1/1 [==============================] - 0s 46ms/step\n",
            "1/1 [==============================] - 0s 57ms/step\n",
            "1/1 [==============================] - 0s 44ms/step\n",
            "1/1 [==============================] - 0s 56ms/step\n",
            "1/1 [==============================] - 0s 118ms/step\n",
            "1/1 [==============================] - 0s 54ms/step\n",
            "1/1 [==============================] - 0s 56ms/step\n",
            "1/1 [==============================] - 0s 50ms/step\n",
            "1/1 [==============================] - 0s 52ms/step\n",
            "1/1 [==============================] - 0s 40ms/step\n",
            "1/1 [==============================] - 0s 40ms/step\n"
          ]
        },
        {
          "output_type": "display_data",
          "data": {
            "text/plain": [
              "<Figure size 640x480 with 1 Axes>"
            ],
            "image/png": "[encoded data removed]"
          },
          "metadata": {}
        },
        {
          "output_type": "stream",
          "name": "stdout",
          "text": [
            "The Mean Absolute Error is: 0.082710916584501\n"
          ]
        }
      ],
      "source": [
        "def predict_sequence_full(model, data, window_size):\n",
        "    #Shift the window by 1 new prediction each time, re-run predictions on new window\n",
        "    curr_frame = data[0]\n",
        "    predicted = []\n",
        "    for i in range(len(data)):\n",
        "        predicted.append(model.predict(curr_frame[np.newaxis,:,:])[0,0])\n",
        "        curr_frame = curr_frame[1:]\n",
        "        curr_frame = np.insert(curr_frame, [window_size-1], predicted[-1], axis=0)\n",
        "    return predicted\n",
        "\n",
        "predictions = predict_sequence_full(nn_model, LSTM_test_inputs, 15)\n",
        "\n",
        "plt.plot(LSTM_test_outputs, label=\"actual\")\n",
        "plt.plot(predictions, label=\"predicted\")\n",
        "plt.legend()\n",
        "plt.show()\n",
        "MAE = mean_absolute_error(LSTM_test_outputs, predictions)\n",
        "print('The Mean Absolute Error is: {}'.format(MAE))"
      ]
    },
    {
      "cell_type": "markdown",
      "metadata": {
        "_cell_guid": "c2af4c2c-0ba7-4bf4-a7e7-428f6147a0ec",
        "_uuid": "c8e77413a56b9a25e6d3ee4653bab73058180eaf",
        "id": "gPxrH_dnYeVp"
      },
      "source": [
        "## Conclusion\n",
        "\n",
        "For this HW you will run the code above with the default parameters and understand the logic and flow of the program. Once you are confident the code runs you are to test different parameter settings. You are to report the best set of parameters that you find and explain the importance of each parameter and how it impacts the training of the model. To best know how much to adjust and how to interpret the impacts I suggest changing one parameter at a at a time. This is a manual grid search you are performing so that you can become familiar with each parameter. In the future you can have grid search algorithms find the best set for you. \n",
        "\n",
        "For each define the parameter and its impact to the model. Report the set of values tested and the best parameter setting you found for each.\n",
        "\n",
        "1) Window Length\n",
        "2) LSTM Parameter: activation function\n",
        "3) LSTM Parameter: loss function\n",
        "4) LSTM Parameter: dropout rate\n",
        "5) LSTM Parameter: optimizer\n",
        "6) LSTM Parameter: nn layers/architecture\n",
        "7) Epochs\n"
      ]
    },
    {
      "cell_type": "markdown",
      "source": [
        "1. **Window Length:**\n",
        "\n",
        "- The window length parameter determines the number of time steps used to predict the next value in the time series. Increasing this parameter may allow the model to capture more complex patterns, while decreasing it may result in a smoother prediction. However, increasing it also results in increased computation time and may lead to overfitting.\n",
        "\n",
        "- This parameter determines the number of past data points that the model incorporates when making predictions. A larger window length allows the model to capture longer term dependencies but increases the model's complexity and training time. On the other hand, a smaller window length may not capture long term dependencies, leading to poor performance. However, it results in quicker training due to lower complexity.\n",
        "\n",
        "- Values tested: [10, 15, 20, 40, 50, 60]\n",
        "- Best parameter setting: 15\n",
        "\n",
        "2. **LSTM Parameter: Activation Function:**\n",
        "\n",
        "- The activation function parameter determines the non-linearity of the model. Different activation functions may be more suitable for different types of data. Common choices include \"tanh\", \"sigmoid\", and \"ReLU\".\n",
        "\n",
        "- The activation function(s) we choose to apply in the LSTM layer introduces non-linearity, allowing the network to pick up more complex patterns during training. Various options are available, including tanh, sigmoid, Relu, leakyRelu and others.\n",
        "\n",
        "- Values tested: [\"tanh\", \"sigmoid\", \"ReLU\"]\n",
        "- Best parameter setting: \"tanh\"\n",
        "\n",
        "3. **LSTM Parameter: Loss Function:**\n",
        "\n",
        "- The loss function parameter determines how the model evaluates its performance during training. Different loss functions may be more suitable for different types of data. Common choices include \"mean squared error\" (MSE) and \"mean absolute error\" (MAE).\n",
        "\n",
        "- This quantifies the difference between the predicted and true values, guiding the training process. Common options for regression tasks include mean squared error (MSE), root mean square error (RMSE), and mean absolute error (MAE). The choice of loss function can significantly affect the model's performance and sensitivity to outliers.\n",
        "\n",
        "- Values tested: [\"MSE\", \"MAE\"]\n",
        "- Best parameter setting: \"MAE\"\n",
        "\n",
        "4. **LSTM Parameter: Dropout Rate:**\n",
        "\n",
        "- The dropout rate parameter determines the percentage of neurons that are randomly dropped out during training. This can help prevent overfitting by forcing the model to learn more robust features.\n",
        "\n",
        "- This is a regularization technique that helps reduce overfitting by randomly dropping out a certain proportion of neurons in the network during training. The dropout rate controls the probability of a neuron being dropped out, with a higher rate increasing the regularization effect, which helps the model generalize better to new data. However, a dropout rate that is too high may cause the model to underfit on the training data.\n",
        "\n",
        "- Values tested: [0.10, 0.20, 0.30, 0.40, 0.50]\n",
        "- Best parameter setting: 0.10\n",
        "\n",
        "5. **LSTM Parameter: Optimizer:**\n",
        "\n",
        "- The optimizer parameter determines the algorithm used to update the weights during training. Different optimizers may be more suitable for different types of data. Common choices include \"adam\", \"sgd\", and \"rmsprop\".\n",
        "\n",
        "- This algorithm updates the neural network's weights during training iterations. Common options include Stochastic Gradient Descent (SGD), Adam, RMSprop, and Adagrad. The choice of optimizer can significantly impact the model's convergence speed and final performance.\n",
        "\n",
        "- Values tested: [\"adam\", \"sgd\", \"rmsprop\"]\n",
        "- Best parameter setting: \"adam\"\n",
        "\n",
        "6. **LSTM Parameter: NN Layers/Architecture:**\n",
        "\n",
        "- The number of LSTM layers and the number of neurons in each layer can greatly impact the performance of the model. More layers and more neurons may allow the model to capture more complex patterns, but may also lead to overfitting.\n",
        "\n",
        "- This parameter specifies the number and type of layers used in the neural network, including any extra layers added after the LSTM layers. While more complex architectures may allow the model to learn more complex patterns, they also increase the risk of overfitting and convergence issues during training. Additionally, the computational burden of the model's training increases, leading to more time for training.\n",
        "\n",
        "- Values tested: [1 layer, 32 neurons; 2 layers, 32 neurons; 2 layers, 64 neurons; 3 layers, 32 neurons; 3 layers, 64 neurons]\n",
        "- Best parameter setting: 1 layers, 32 neurons\n",
        "\n",
        "7. **Epochs:**\n",
        "\n",
        "- The epochs parameter determines the number of times the model will iterate over the training data. Increasing the number of epochs may improve the performance of the model, but may also lead to overfitting.\n",
        "\n",
        "- This parameter determines the number of iterations that the training process consists of. More epochs mean the training process continues running further. Too few epochs may result in underfitting, while too many epochs can lead to overfitting.\n",
        "\n",
        "- Values tested: [1, 5, 10, 20, 30, 40]\n",
        "- Best parameter setting: 5\n",
        "\n",
        "After performing the manual grid search, the best set of parameters found are:\n",
        "\n",
        "- Window Length: 15\n",
        "- Activation Function: \"tanh\"\n",
        "- Loss Function: \"MAE\"\n",
        "- Dropout Rate: 0.10\n",
        "- Optimizer: \"adam\"\n",
        "- NN Layers/Architecture: 1 layers, 32 neurons\n",
        "- Epochs: 5\n",
        "\n",
        "It is important to note that these parameters are specific to this particular dataset and may not generalize well to other datasets. A more comprehensive and automated grid search may be necessary to find the optimal set of parameters for a different dataset.\n",
        "\n",
        "For the purposes of being concise and for clarity, I have removed all the code and output of the different combinations I have tested to keep only the one which I think is optimal.\n",
        "\n",
        "I would like to outline my process of testing though:\n",
        "\n",
        "First, I played around by changing parameters one by one, and then I constructed for loops with different interations as different set of choices of parameters in test, and printed out the MAE in each of the cases. This made it easier for me to compare everything at one go and look at every output although it took a lot of time to run in one shot. This is also taking the same time as manual changing but is a little more efficient since the runs are clubbed. But for sure the most optimal search would be randomization or grid search, but I did not do them because we were specifically instructed to not do so for this assignment."
      ],
      "metadata": {
        "id": "ZCopsVUn5F07"
      }
    },
    {
      "cell_type": "markdown",
      "source": [],
      "metadata": {
        "id": "KXOUoMHkWBLg"
      }
    }
  ],
  "metadata": {
    "colab": {
      "provenance": []
    },
    "kernelspec": {
      "display_name": "Python 3 (ipykernel)",
      "language": "python",
      "name": "python3"
    },
    "language_info": {
      "codemirror_mode": {
        "name": "ipython",
        "version": 3
      },
      "file_extension": ".py",
      "mimetype": "text/x-python",
      "name": "python",
      "nbconvert_exporter": "python",
      "pygments_lexer": "ipython3",
      "version": "3.9.7"
    }
  },
  "nbformat": 4,
  "nbformat_minor": 0
}