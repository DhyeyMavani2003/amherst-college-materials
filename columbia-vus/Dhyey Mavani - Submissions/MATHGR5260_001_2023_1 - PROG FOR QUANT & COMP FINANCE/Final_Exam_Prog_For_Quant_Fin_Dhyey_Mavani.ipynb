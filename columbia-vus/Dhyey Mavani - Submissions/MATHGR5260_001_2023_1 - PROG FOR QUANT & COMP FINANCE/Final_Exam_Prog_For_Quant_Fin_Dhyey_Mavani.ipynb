{
 "cells": [
  {
   "cell_type": "code",
   "execution_count": 1,
   "id": "e56ae70a",
   "metadata": {},
   "outputs": [],
   "source": [
    "# necessary imports\n",
    "import numpy as np\n",
    "import pandas as pd\n",
    "import sklearn\n",
    "import matplotlib.pyplot as plt\n",
    "import scipy.stats as stats\n",
    "from sklearn import svm\n",
    "from sklearn.svm import SVR\n",
    "from sklearn.model_selection import train_test_split\n",
    "from sklearn.metrics import mean_squared_error\n",
    "from sklearn.preprocessing import StandardScaler \n",
    "from sklearn.model_selection import cross_val_score\n",
    "from sklearn.model_selection import GridSearchCV \n",
    "from sklearn.model_selection import TimeSeriesSplit \n",
    "from sklearn.ensemble import RandomForestRegressor\n",
    "from sklearn.neural_network import MLPRegressor \n",
    "from sklearn.neural_network import MLPClassifier\n",
    "\n",
    "import warnings\n",
    "warnings.filterwarnings('ignore')"
   ]
  },
  {
   "cell_type": "markdown",
   "id": "0d59ac52",
   "metadata": {},
   "source": [
    "# Question 1"
   ]
  },
  {
   "cell_type": "markdown",
   "id": "2fd63e71",
   "metadata": {},
   "source": [
    "### part a"
   ]
  },
  {
   "cell_type": "code",
   "execution_count": 7,
   "id": "252f4cf8",
   "metadata": {},
   "outputs": [
    {
     "data": {
      "text/html": [
       "<div>\n",
       "<style scoped>\n",
       "    .dataframe tbody tr th:only-of-type {\n",
       "        vertical-align: middle;\n",
       "    }\n",
       "\n",
       "    .dataframe tbody tr th {\n",
       "        vertical-align: top;\n",
       "    }\n",
       "\n",
       "    .dataframe thead th {\n",
       "        text-align: right;\n",
       "    }\n",
       "</style>\n",
       "<table border=\"1\" class=\"dataframe\">\n",
       "  <thead>\n",
       "    <tr style=\"text-align: right;\">\n",
       "      <th></th>\n",
       "      <th>Date</th>\n",
       "      <th>JNJ</th>\n",
       "      <th>MRK</th>\n",
       "      <th>PFE</th>\n",
       "    </tr>\n",
       "  </thead>\n",
       "  <tbody>\n",
       "    <tr>\n",
       "      <th>0</th>\n",
       "      <td>2022-03-07</td>\n",
       "      <td>167.67</td>\n",
       "      <td>74.79</td>\n",
       "      <td>46.40</td>\n",
       "    </tr>\n",
       "    <tr>\n",
       "      <th>1</th>\n",
       "      <td>2022-03-08</td>\n",
       "      <td>164.27</td>\n",
       "      <td>74.04</td>\n",
       "      <td>45.88</td>\n",
       "    </tr>\n",
       "    <tr>\n",
       "      <th>2</th>\n",
       "      <td>2022-03-09</td>\n",
       "      <td>164.90</td>\n",
       "      <td>74.85</td>\n",
       "      <td>47.14</td>\n",
       "    </tr>\n",
       "    <tr>\n",
       "      <th>3</th>\n",
       "      <td>2022-03-10</td>\n",
       "      <td>165.19</td>\n",
       "      <td>74.94</td>\n",
       "      <td>47.58</td>\n",
       "    </tr>\n",
       "    <tr>\n",
       "      <th>4</th>\n",
       "      <td>2022-03-11</td>\n",
       "      <td>164.89</td>\n",
       "      <td>75.30</td>\n",
       "      <td>48.61</td>\n",
       "    </tr>\n",
       "    <tr>\n",
       "      <th>...</th>\n",
       "      <td>...</td>\n",
       "      <td>...</td>\n",
       "      <td>...</td>\n",
       "      <td>...</td>\n",
       "    </tr>\n",
       "    <tr>\n",
       "      <th>245</th>\n",
       "      <td>2023-02-27</td>\n",
       "      <td>155.63</td>\n",
       "      <td>108.60</td>\n",
       "      <td>40.78</td>\n",
       "    </tr>\n",
       "    <tr>\n",
       "      <th>246</th>\n",
       "      <td>2023-02-28</td>\n",
       "      <td>153.26</td>\n",
       "      <td>105.51</td>\n",
       "      <td>40.57</td>\n",
       "    </tr>\n",
       "    <tr>\n",
       "      <th>247</th>\n",
       "      <td>2023-03-01</td>\n",
       "      <td>152.57</td>\n",
       "      <td>105.91</td>\n",
       "      <td>40.18</td>\n",
       "    </tr>\n",
       "    <tr>\n",
       "      <th>248</th>\n",
       "      <td>2023-03-02</td>\n",
       "      <td>152.45</td>\n",
       "      <td>106.27</td>\n",
       "      <td>40.62</td>\n",
       "    </tr>\n",
       "    <tr>\n",
       "      <th>249</th>\n",
       "      <td>2023-03-03</td>\n",
       "      <td>154.02</td>\n",
       "      <td>106.14</td>\n",
       "      <td>41.15</td>\n",
       "    </tr>\n",
       "  </tbody>\n",
       "</table>\n",
       "<p>250 rows × 4 columns</p>\n",
       "</div>"
      ],
      "text/plain": [
       "           Date     JNJ     MRK    PFE\n",
       "0    2022-03-07  167.67   74.79  46.40\n",
       "1    2022-03-08  164.27   74.04  45.88\n",
       "2    2022-03-09  164.90   74.85  47.14\n",
       "3    2022-03-10  165.19   74.94  47.58\n",
       "4    2022-03-11  164.89   75.30  48.61\n",
       "..          ...     ...     ...    ...\n",
       "245  2023-02-27  155.63  108.60  40.78\n",
       "246  2023-02-28  153.26  105.51  40.57\n",
       "247  2023-03-01  152.57  105.91  40.18\n",
       "248  2023-03-02  152.45  106.27  40.62\n",
       "249  2023-03-03  154.02  106.14  41.15\n",
       "\n",
       "[250 rows x 4 columns]"
      ]
     },
     "execution_count": 7,
     "metadata": {},
     "output_type": "execute_result"
    }
   ],
   "source": [
    "prices = pd.read_csv(\"q1_prices.csv\")\n",
    "prices"
   ]
  },
  {
   "cell_type": "code",
   "execution_count": 10,
   "id": "24abcc7c",
   "metadata": {},
   "outputs": [],
   "source": [
    "from numpy.random import normal\n",
    "z1 = normal(loc=0, scale=1, size=10000)\n",
    "z2 = normal(loc=0, scale=1, size=10000)\n",
    "z3 = normal(loc=0, scale=1, size=10000)\n",
    "\n",
    "S1 = 154.02*np.exp(0.05*z1)\n",
    "S2 = 106.14*np.exp(0.03*z1 + 0.01*z2)\n",
    "S3 = 41.15*np.exp(0.03*z1 + 0.01*z2 + 0.02*z3)"
   ]
  },
  {
   "cell_type": "markdown",
   "id": "3c760c7b",
   "metadata": {},
   "source": [
    "### part b"
   ]
  },
  {
   "cell_type": "code",
   "execution_count": 12,
   "id": "fc414b07",
   "metadata": {},
   "outputs": [
    {
     "data": {
      "text/plain": [
       "array([5.91377322e+08, 5.74848726e+08, 6.04931003e+08, ...,\n",
       "       5.73606146e+08, 5.52758780e+08, 6.05168758e+08])"
      ]
     },
     "execution_count": 12,
     "metadata": {},
     "output_type": "execute_result"
    }
   ],
   "source": [
    "portfolio = (1.2*S1 + 2.5*S2 + 3.5*S3)*(10**6)\n",
    "portfolio"
   ]
  },
  {
   "cell_type": "code",
   "execution_count": 13,
   "id": "70036708",
   "metadata": {},
   "outputs": [
    {
     "data": {
      "text/plain": [
       "array([ -2821677.63998044, -19350274.01240635,  10732003.32335091, ...,\n",
       "       -20592854.42997265, -41440219.86699843,  10969757.85770011])"
      ]
     },
     "execution_count": 13,
     "metadata": {},
     "output_type": "execute_result"
    }
   ],
   "source": [
    "cur_price_port = (1.2*154.02 + 2.5*106.14 + 3.5*41.15)*(10**6)\n",
    "change = portfolio - np.array([cur_price_port for i in range(10000)])\n",
    "change"
   ]
  },
  {
   "cell_type": "code",
   "execution_count": 14,
   "id": "365a9482",
   "metadata": {},
   "outputs": [
    {
     "data": {
      "text/plain": [
       "-48742291.77765883"
      ]
     },
     "execution_count": 14,
     "metadata": {},
     "output_type": "execute_result"
    }
   ],
   "source": [
    "VaR = np.percentile(change,0.99)\n",
    "VaR"
   ]
  },
  {
   "cell_type": "markdown",
   "id": "50ddeb81",
   "metadata": {},
   "source": [
    "### part c"
   ]
  },
  {
   "cell_type": "code",
   "execution_count": 18,
   "id": "b62ccb72",
   "metadata": {},
   "outputs": [
    {
     "data": {
      "text/plain": [
       "<seaborn.axisgrid.FacetGrid at 0x7f897071ef40>"
      ]
     },
     "execution_count": 18,
     "metadata": {},
     "output_type": "execute_result"
    },
    {
     "data": {
      "image/png": "[encoded data removed]",
      "text/plain": [
       "<Figure size 500x500 with 1 Axes>"
      ]
     },
     "metadata": {},
     "output_type": "display_data"
    }
   ],
   "source": [
    "import seaborn as sns\n",
    "sns.displot(change, kde=True, bins=15).set(xlabel = \"PnL\")"
   ]
  },
  {
   "cell_type": "markdown",
   "id": "809ea794",
   "metadata": {},
   "source": [
    "### part d"
   ]
  },
  {
   "cell_type": "code",
   "execution_count": 21,
   "id": "9291d721",
   "metadata": {},
   "outputs": [
    {
     "data": {
      "text/html": [
       "<div>\n",
       "<style scoped>\n",
       "    .dataframe tbody tr th:only-of-type {\n",
       "        vertical-align: middle;\n",
       "    }\n",
       "\n",
       "    .dataframe tbody tr th {\n",
       "        vertical-align: top;\n",
       "    }\n",
       "\n",
       "    .dataframe thead th {\n",
       "        text-align: right;\n",
       "    }\n",
       "</style>\n",
       "<table border=\"1\" class=\"dataframe\">\n",
       "  <thead>\n",
       "    <tr style=\"text-align: right;\">\n",
       "      <th></th>\n",
       "      <th>Date</th>\n",
       "      <th>JNJ</th>\n",
       "      <th>MRK</th>\n",
       "      <th>PFE</th>\n",
       "    </tr>\n",
       "  </thead>\n",
       "  <tbody>\n",
       "    <tr>\n",
       "      <th>0</th>\n",
       "      <td>2022-03-07</td>\n",
       "      <td>167.67</td>\n",
       "      <td>74.79</td>\n",
       "      <td>46.40</td>\n",
       "    </tr>\n",
       "    <tr>\n",
       "      <th>1</th>\n",
       "      <td>2022-03-08</td>\n",
       "      <td>164.27</td>\n",
       "      <td>74.04</td>\n",
       "      <td>45.88</td>\n",
       "    </tr>\n",
       "    <tr>\n",
       "      <th>2</th>\n",
       "      <td>2022-03-09</td>\n",
       "      <td>164.90</td>\n",
       "      <td>74.85</td>\n",
       "      <td>47.14</td>\n",
       "    </tr>\n",
       "    <tr>\n",
       "      <th>3</th>\n",
       "      <td>2022-03-10</td>\n",
       "      <td>165.19</td>\n",
       "      <td>74.94</td>\n",
       "      <td>47.58</td>\n",
       "    </tr>\n",
       "    <tr>\n",
       "      <th>4</th>\n",
       "      <td>2022-03-11</td>\n",
       "      <td>164.89</td>\n",
       "      <td>75.30</td>\n",
       "      <td>48.61</td>\n",
       "    </tr>\n",
       "    <tr>\n",
       "      <th>...</th>\n",
       "      <td>...</td>\n",
       "      <td>...</td>\n",
       "      <td>...</td>\n",
       "      <td>...</td>\n",
       "    </tr>\n",
       "    <tr>\n",
       "      <th>245</th>\n",
       "      <td>2023-02-27</td>\n",
       "      <td>155.63</td>\n",
       "      <td>108.60</td>\n",
       "      <td>40.78</td>\n",
       "    </tr>\n",
       "    <tr>\n",
       "      <th>246</th>\n",
       "      <td>2023-02-28</td>\n",
       "      <td>153.26</td>\n",
       "      <td>105.51</td>\n",
       "      <td>40.57</td>\n",
       "    </tr>\n",
       "    <tr>\n",
       "      <th>247</th>\n",
       "      <td>2023-03-01</td>\n",
       "      <td>152.57</td>\n",
       "      <td>105.91</td>\n",
       "      <td>40.18</td>\n",
       "    </tr>\n",
       "    <tr>\n",
       "      <th>248</th>\n",
       "      <td>2023-03-02</td>\n",
       "      <td>152.45</td>\n",
       "      <td>106.27</td>\n",
       "      <td>40.62</td>\n",
       "    </tr>\n",
       "    <tr>\n",
       "      <th>249</th>\n",
       "      <td>2023-03-03</td>\n",
       "      <td>154.02</td>\n",
       "      <td>106.14</td>\n",
       "      <td>41.15</td>\n",
       "    </tr>\n",
       "  </tbody>\n",
       "</table>\n",
       "<p>250 rows × 4 columns</p>\n",
       "</div>"
      ],
      "text/plain": [
       "           Date     JNJ     MRK    PFE\n",
       "0    2022-03-07  167.67   74.79  46.40\n",
       "1    2022-03-08  164.27   74.04  45.88\n",
       "2    2022-03-09  164.90   74.85  47.14\n",
       "3    2022-03-10  165.19   74.94  47.58\n",
       "4    2022-03-11  164.89   75.30  48.61\n",
       "..          ...     ...     ...    ...\n",
       "245  2023-02-27  155.63  108.60  40.78\n",
       "246  2023-02-28  153.26  105.51  40.57\n",
       "247  2023-03-01  152.57  105.91  40.18\n",
       "248  2023-03-02  152.45  106.27  40.62\n",
       "249  2023-03-03  154.02  106.14  41.15\n",
       "\n",
       "[250 rows x 4 columns]"
      ]
     },
     "execution_count": 21,
     "metadata": {},
     "output_type": "execute_result"
    }
   ],
   "source": [
    "prices"
   ]
  },
  {
   "cell_type": "code",
   "execution_count": 22,
   "id": "0c416b36",
   "metadata": {},
   "outputs": [],
   "source": [
    "jnj = prices[\"JNJ\"]\n",
    "mrk = prices[\"MRK\"]\n",
    "pfe = prices[\"PFE\"]"
   ]
  },
  {
   "cell_type": "code",
   "execution_count": 32,
   "id": "e4a6bb5b",
   "metadata": {},
   "outputs": [],
   "source": [
    "def vol(data):\n",
    "    returns = np.log(data) - np.log(data.shift(1))\n",
    "    returns_ewm = returns.ewm(alpha=0.06, adjust=True)\n",
    "    ewm_mean = returns_ewm.mean()\n",
    "    ewm_std = returns_ewm.std()\n",
    "    return (ewm_std[249])**2"
   ]
  },
  {
   "cell_type": "code",
   "execution_count": 33,
   "id": "b320ecbb",
   "metadata": {},
   "outputs": [
    {
     "name": "stdout",
     "output_type": "stream",
     "text": [
      "For JNJ 9.865669821513314e-05\n",
      "For MRk 0.00016818304556846117\n",
      "For PFE 0.00014346095083639742\n"
     ]
    }
   ],
   "source": [
    "print(f\"For JNJ {vol(jnj)}\")\n",
    "print(f\"For MRk {vol(mrk)}\")\n",
    "print(f\"For PFE {vol(pfe)}\")"
   ]
  },
  {
   "cell_type": "code",
   "execution_count": null,
   "id": "96266792",
   "metadata": {},
   "outputs": [],
   "source": []
  },
  {
   "cell_type": "markdown",
   "id": "af432e4c",
   "metadata": {},
   "source": [
    "### part e"
   ]
  },
  {
   "cell_type": "code",
   "execution_count": 35,
   "id": "7a3d79c9",
   "metadata": {},
   "outputs": [
    {
     "name": "stdout",
     "output_type": "stream",
     "text": [
      "2.495701154760925\n",
      "1.5972487390469916\n",
      "3.593809662855731\n"
     ]
    }
   ],
   "source": [
    "deno = 0.03165\n",
    "print((0.05/deno)**2)\n",
    "print((0.04/deno)**2)\n",
    "print((0.06/deno)**2)\n",
    "# we can see that they are not the same here"
   ]
  },
  {
   "cell_type": "markdown",
   "id": "b69d1fa0",
   "metadata": {},
   "source": [
    "# Question 2"
   ]
  },
  {
   "cell_type": "markdown",
   "id": "0c597f71",
   "metadata": {},
   "source": [
    "### part a"
   ]
  },
  {
   "cell_type": "code",
   "execution_count": 61,
   "id": "268c525e",
   "metadata": {},
   "outputs": [
    {
     "data": {
      "text/html": [
       "<div>\n",
       "<style scoped>\n",
       "    .dataframe tbody tr th:only-of-type {\n",
       "        vertical-align: middle;\n",
       "    }\n",
       "\n",
       "    .dataframe tbody tr th {\n",
       "        vertical-align: top;\n",
       "    }\n",
       "\n",
       "    .dataframe thead th {\n",
       "        text-align: right;\n",
       "    }\n",
       "</style>\n",
       "<table border=\"1\" class=\"dataframe\">\n",
       "  <thead>\n",
       "    <tr style=\"text-align: right;\">\n",
       "      <th></th>\n",
       "      <th>Date</th>\n",
       "      <th>OIL</th>\n",
       "      <th>USDX</th>\n",
       "      <th>GOLD</th>\n",
       "      <th>DJI</th>\n",
       "    </tr>\n",
       "  </thead>\n",
       "  <tbody>\n",
       "    <tr>\n",
       "      <th>0</th>\n",
       "      <td>2021-03-08</td>\n",
       "      <td>65.05</td>\n",
       "      <td>92.31</td>\n",
       "      <td>1677.7</td>\n",
       "      <td>31802.44</td>\n",
       "    </tr>\n",
       "    <tr>\n",
       "      <th>1</th>\n",
       "      <td>2021-03-09</td>\n",
       "      <td>64.01</td>\n",
       "      <td>91.96</td>\n",
       "      <td>1716.6</td>\n",
       "      <td>31832.74</td>\n",
       "    </tr>\n",
       "    <tr>\n",
       "      <th>2</th>\n",
       "      <td>2021-03-10</td>\n",
       "      <td>64.44</td>\n",
       "      <td>91.79</td>\n",
       "      <td>1721.5</td>\n",
       "      <td>32297.02</td>\n",
       "    </tr>\n",
       "    <tr>\n",
       "      <th>3</th>\n",
       "      <td>2021-03-11</td>\n",
       "      <td>66.02</td>\n",
       "      <td>91.42</td>\n",
       "      <td>1722.3</td>\n",
       "      <td>32485.59</td>\n",
       "    </tr>\n",
       "    <tr>\n",
       "      <th>4</th>\n",
       "      <td>2021-03-12</td>\n",
       "      <td>65.61</td>\n",
       "      <td>91.68</td>\n",
       "      <td>1719.5</td>\n",
       "      <td>32778.64</td>\n",
       "    </tr>\n",
       "    <tr>\n",
       "      <th>...</th>\n",
       "      <td>...</td>\n",
       "      <td>...</td>\n",
       "      <td>...</td>\n",
       "      <td>...</td>\n",
       "      <td>...</td>\n",
       "    </tr>\n",
       "    <tr>\n",
       "      <th>502</th>\n",
       "      <td>2023-02-27</td>\n",
       "      <td>75.68</td>\n",
       "      <td>104.67</td>\n",
       "      <td>1817.0</td>\n",
       "      <td>32889.09</td>\n",
       "    </tr>\n",
       "    <tr>\n",
       "      <th>503</th>\n",
       "      <td>2023-02-28</td>\n",
       "      <td>77.05</td>\n",
       "      <td>104.87</td>\n",
       "      <td>1828.9</td>\n",
       "      <td>32656.70</td>\n",
       "    </tr>\n",
       "    <tr>\n",
       "      <th>504</th>\n",
       "      <td>2023-03-01</td>\n",
       "      <td>77.69</td>\n",
       "      <td>104.48</td>\n",
       "      <td>1837.7</td>\n",
       "      <td>32661.84</td>\n",
       "    </tr>\n",
       "    <tr>\n",
       "      <th>505</th>\n",
       "      <td>2023-03-02</td>\n",
       "      <td>78.16</td>\n",
       "      <td>105.03</td>\n",
       "      <td>1833.5</td>\n",
       "      <td>33003.57</td>\n",
       "    </tr>\n",
       "    <tr>\n",
       "      <th>506</th>\n",
       "      <td>2023-03-03</td>\n",
       "      <td>79.68</td>\n",
       "      <td>104.52</td>\n",
       "      <td>1847.7</td>\n",
       "      <td>33390.97</td>\n",
       "    </tr>\n",
       "  </tbody>\n",
       "</table>\n",
       "<p>507 rows × 5 columns</p>\n",
       "</div>"
      ],
      "text/plain": [
       "           Date    OIL    USDX    GOLD       DJI\n",
       "0    2021-03-08  65.05   92.31  1677.7  31802.44\n",
       "1    2021-03-09  64.01   91.96  1716.6  31832.74\n",
       "2    2021-03-10  64.44   91.79  1721.5  32297.02\n",
       "3    2021-03-11  66.02   91.42  1722.3  32485.59\n",
       "4    2021-03-12  65.61   91.68  1719.5  32778.64\n",
       "..          ...    ...     ...     ...       ...\n",
       "502  2023-02-27  75.68  104.67  1817.0  32889.09\n",
       "503  2023-02-28  77.05  104.87  1828.9  32656.70\n",
       "504  2023-03-01  77.69  104.48  1837.7  32661.84\n",
       "505  2023-03-02  78.16  105.03  1833.5  33003.57\n",
       "506  2023-03-03  79.68  104.52  1847.7  33390.97\n",
       "\n",
       "[507 rows x 5 columns]"
      ]
     },
     "execution_count": 61,
     "metadata": {},
     "output_type": "execute_result"
    }
   ],
   "source": [
    "data = pd.read_csv(\"q2_data.csv\")\n",
    "data"
   ]
  },
  {
   "cell_type": "code",
   "execution_count": 63,
   "id": "ba96f194",
   "metadata": {},
   "outputs": [
    {
     "data": {
      "text/html": [
       "<div>\n",
       "<style scoped>\n",
       "    .dataframe tbody tr th:only-of-type {\n",
       "        vertical-align: middle;\n",
       "    }\n",
       "\n",
       "    .dataframe tbody tr th {\n",
       "        vertical-align: top;\n",
       "    }\n",
       "\n",
       "    .dataframe thead th {\n",
       "        text-align: right;\n",
       "    }\n",
       "</style>\n",
       "<table border=\"1\" class=\"dataframe\">\n",
       "  <thead>\n",
       "    <tr style=\"text-align: right;\">\n",
       "      <th></th>\n",
       "      <th>OIL</th>\n",
       "      <th>USDX</th>\n",
       "      <th>GOLD</th>\n",
       "    </tr>\n",
       "  </thead>\n",
       "  <tbody>\n",
       "    <tr>\n",
       "      <th>0</th>\n",
       "      <td>65.05</td>\n",
       "      <td>92.31</td>\n",
       "      <td>1677.7</td>\n",
       "    </tr>\n",
       "    <tr>\n",
       "      <th>1</th>\n",
       "      <td>64.01</td>\n",
       "      <td>91.96</td>\n",
       "      <td>1716.6</td>\n",
       "    </tr>\n",
       "    <tr>\n",
       "      <th>2</th>\n",
       "      <td>64.44</td>\n",
       "      <td>91.79</td>\n",
       "      <td>1721.5</td>\n",
       "    </tr>\n",
       "    <tr>\n",
       "      <th>3</th>\n",
       "      <td>66.02</td>\n",
       "      <td>91.42</td>\n",
       "      <td>1722.3</td>\n",
       "    </tr>\n",
       "    <tr>\n",
       "      <th>4</th>\n",
       "      <td>65.61</td>\n",
       "      <td>91.68</td>\n",
       "      <td>1719.5</td>\n",
       "    </tr>\n",
       "    <tr>\n",
       "      <th>...</th>\n",
       "      <td>...</td>\n",
       "      <td>...</td>\n",
       "      <td>...</td>\n",
       "    </tr>\n",
       "    <tr>\n",
       "      <th>502</th>\n",
       "      <td>75.68</td>\n",
       "      <td>104.67</td>\n",
       "      <td>1817.0</td>\n",
       "    </tr>\n",
       "    <tr>\n",
       "      <th>503</th>\n",
       "      <td>77.05</td>\n",
       "      <td>104.87</td>\n",
       "      <td>1828.9</td>\n",
       "    </tr>\n",
       "    <tr>\n",
       "      <th>504</th>\n",
       "      <td>77.69</td>\n",
       "      <td>104.48</td>\n",
       "      <td>1837.7</td>\n",
       "    </tr>\n",
       "    <tr>\n",
       "      <th>505</th>\n",
       "      <td>78.16</td>\n",
       "      <td>105.03</td>\n",
       "      <td>1833.5</td>\n",
       "    </tr>\n",
       "    <tr>\n",
       "      <th>506</th>\n",
       "      <td>79.68</td>\n",
       "      <td>104.52</td>\n",
       "      <td>1847.7</td>\n",
       "    </tr>\n",
       "  </tbody>\n",
       "</table>\n",
       "<p>507 rows × 3 columns</p>\n",
       "</div>"
      ],
      "text/plain": [
       "       OIL    USDX    GOLD\n",
       "0    65.05   92.31  1677.7\n",
       "1    64.01   91.96  1716.6\n",
       "2    64.44   91.79  1721.5\n",
       "3    66.02   91.42  1722.3\n",
       "4    65.61   91.68  1719.5\n",
       "..     ...     ...     ...\n",
       "502  75.68  104.67  1817.0\n",
       "503  77.05  104.87  1828.9\n",
       "504  77.69  104.48  1837.7\n",
       "505  78.16  105.03  1833.5\n",
       "506  79.68  104.52  1847.7\n",
       "\n",
       "[507 rows x 3 columns]"
      ]
     },
     "execution_count": 63,
     "metadata": {},
     "output_type": "execute_result"
    }
   ],
   "source": [
    "# Split data into features (X) and target (y)\n",
    "X = data.drop('DJI', axis=1)\n",
    "y = data['DJI']\n",
    "X = X.dropna()\n",
    "y = y.dropna()\n",
    "X = X.drop(\"Date\", axis = 1)\n",
    "X"
   ]
  },
  {
   "cell_type": "code",
   "execution_count": 64,
   "id": "3a9b59e7",
   "metadata": {},
   "outputs": [],
   "source": [
    "dji_prices = y\n",
    "dji_returns = np.log(dji_prices) - np.log(dji_prices.shift(1))\n",
    "dji_returns = dji_returns.dropna()"
   ]
  },
  {
   "cell_type": "code",
   "execution_count": 65,
   "id": "71674ff5",
   "metadata": {},
   "outputs": [
    {
     "data": {
      "text/plain": [
       "3      0.005822\n",
       "4      0.008980\n",
       "5      0.005319\n",
       "6     -0.003877\n",
       "7      0.005754\n",
       "         ...   \n",
       "502    0.002197\n",
       "503   -0.007091\n",
       "504    0.000157\n",
       "505    0.010408\n",
       "506    0.011670\n",
       "Name: DJI, Length: 504, dtype: float64"
      ]
     },
     "execution_count": 65,
     "metadata": {},
     "output_type": "execute_result"
    }
   ],
   "source": [
    "dji_returns = dji_returns.loc[3:]\n",
    "dji_returns"
   ]
  },
  {
   "cell_type": "code",
   "execution_count": 66,
   "id": "e1ef8581",
   "metadata": {},
   "outputs": [
    {
     "data": {
      "text/plain": [
       "3      1\n",
       "4      1\n",
       "5      1\n",
       "6     -1\n",
       "7      1\n",
       "      ..\n",
       "502    1\n",
       "503   -1\n",
       "504    1\n",
       "505    1\n",
       "506    1\n",
       "Name: DJI, Length: 504, dtype: int64"
      ]
     },
     "execution_count": 66,
     "metadata": {},
     "output_type": "execute_result"
    }
   ],
   "source": [
    "labels = dji_returns.apply(lambda x: 1 if x > 0 else -1)\n",
    "labels"
   ]
  },
  {
   "cell_type": "code",
   "execution_count": 67,
   "id": "7b849af7",
   "metadata": {},
   "outputs": [],
   "source": [
    "X_train, X_test = np.array(X[:400]),np.array(X[400:504])\n",
    "y_train, y_test = labels[:400], labels[400:]"
   ]
  },
  {
   "cell_type": "code",
   "execution_count": 68,
   "id": "eb72095f",
   "metadata": {},
   "outputs": [
    {
     "data": {
      "text/plain": [
       "(array([[  65.05,   92.31, 1677.7 ],\n",
       "        [  64.01,   91.96, 1716.6 ],\n",
       "        [  64.44,   91.79, 1721.5 ],\n",
       "        ...,\n",
       "        [  78.5 ,  114.11, 1626.7 ],\n",
       "        [  82.15,  112.6 , 1660.4 ],\n",
       "        [  81.23,  112.25, 1658.5 ]]),\n",
       " array([[  79.49,  112.12, 1662.4 ],\n",
       "        [  83.63,  111.75, 1692.9 ],\n",
       "        [  86.52,  110.07, 1721.1 ],\n",
       "        [  87.76,  111.07, 1711.4 ],\n",
       "        [  88.45,  112.26, 1711.7 ],\n",
       "        [  92.64,  112.8 , 1700.5 ],\n",
       "        [  91.13,  113.14, 1667.3 ],\n",
       "        [  89.35,  113.22, 1678.7 ],\n",
       "        [  87.27,  113.32, 1670.3 ],\n",
       "        [  89.11,  112.36, 1670.  ],\n",
       "        [  85.61,  113.31, 1641.7 ],\n",
       "        [  85.46,  112.04, 1657.  ],\n",
       "        [  82.82,  112.13, 1649.  ],\n",
       "        [  85.55,  112.98, 1627.5 ],\n",
       "        [  85.98,  112.88, 1630.8 ],\n",
       "        [  85.05,  112.01, 1651.  ],\n",
       "        [  84.58,  111.99, 1648.7 ],\n",
       "        [  85.32,  110.95, 1652.8 ],\n",
       "        [  87.91,  109.7 , 1664.  ],\n",
       "        [  89.08,  110.59, 1660.7 ],\n",
       "        [  87.9 ,  110.67, 1639.6 ],\n",
       "        [  86.53,  111.53, 1635.9 ],\n",
       "        [  88.37,  111.48, 1645.  ],\n",
       "        [  90.  ,  111.35, 1645.7 ],\n",
       "        [  88.17,  112.93, 1627.3 ],\n",
       "        [  92.61,  110.88, 1672.5 ],\n",
       "        [  91.79,  110.12, 1676.5 ],\n",
       "        [  88.91,  109.62, 1712.1 ],\n",
       "        [  85.83,  110.55, 1710.1 ],\n",
       "        [  86.47,  108.21, 1750.3 ],\n",
       "        [  88.96,  106.29, 1766.  ],\n",
       "        [  85.87,  106.66, 1773.6 ],\n",
       "        [  86.92,  106.4 , 1773.8 ],\n",
       "        [  85.59,  106.28, 1773.  ],\n",
       "        [  81.64,  106.69, 1760.8 ],\n",
       "        [  80.08,  106.93, 1751.9 ],\n",
       "        [  79.73,  107.84, 1737.4 ],\n",
       "        [  80.95,  107.22, 1738.3 ],\n",
       "        [  77.94,  106.08, 1744.9 ],\n",
       "        [  76.28,  105.96, 1753.3 ],\n",
       "        [  77.24,  106.68, 1740.1 ],\n",
       "        [  78.2 ,  106.82, 1748.4 ],\n",
       "        [  80.55,  105.95, 1746.  ],\n",
       "        [  81.22,  104.73, 1801.1 ],\n",
       "        [  79.98,  104.55, 1795.9 ],\n",
       "        [  76.93,  105.29, 1767.4 ],\n",
       "        [  74.25,  105.58, 1769.3 ],\n",
       "        [  72.01,  105.1 , 1785.5 ],\n",
       "        [  71.46,  104.77, 1788.7 ],\n",
       "        [  71.02,  104.81, 1798.1 ],\n",
       "        [  73.17,  105.13, 1780.5 ],\n",
       "        [  75.39,  103.98, 1813.9 ],\n",
       "        [  77.28,  103.77, 1807.5 ],\n",
       "        [  76.11,  104.56, 1777.2 ],\n",
       "        [  74.29,  104.7 , 1790.  ],\n",
       "        [  75.19,  104.72, 1787.7 ],\n",
       "        [  76.09,  103.97, 1815.9 ],\n",
       "        [  78.29,  104.16, 1815.9 ],\n",
       "        [  77.49,  104.43, 1787.  ],\n",
       "        [  79.56,  104.31, 1795.9 ],\n",
       "        [  79.53,  104.18, 1814.8 ],\n",
       "        [  78.96,  104.46, 1807.9 ],\n",
       "        [  78.4 ,  103.84, 1819.5 ],\n",
       "        [  80.26,  103.52, 1819.7 ],\n",
       "        [  76.93,  104.52, 1839.7 ],\n",
       "        [  72.84,  104.25, 1852.8 ],\n",
       "        [  73.67,  105.04, 1834.8 ],\n",
       "        [  73.77,  103.88, 1864.2 ],\n",
       "        [  74.63,  103.  , 1872.7 ],\n",
       "        [  75.12,  103.24, 1871.6 ],\n",
       "        [  77.41,  103.19, 1874.6 ],\n",
       "        [  78.39,  102.25, 1895.5 ],\n",
       "        [  79.86,  102.2 , 1918.4 ],\n",
       "        [  78.85,  102.37, 1912.4 ],\n",
       "        [  80.18,  102.39, 1907.2 ],\n",
       "        [  79.48,  102.36, 1904.4 ],\n",
       "        [  80.33,  102.06, 1922.1 ],\n",
       "        [  81.31,  102.01, 1926.4 ],\n",
       "        [  81.62,  102.14, 1927.1 ],\n",
       "        [  80.13,  101.92, 1933.9 ],\n",
       "        [  80.15,  101.64, 1941.2 ],\n",
       "        [  81.01,  101.84, 1929.1 ],\n",
       "        [  79.68,  101.93, 1928.6 ],\n",
       "        [  77.9 ,  102.28, 1922.9 ],\n",
       "        [  78.87,  102.1 , 1929.5 ],\n",
       "        [  76.41,  101.22, 1927.8 ],\n",
       "        [  75.88,  101.75, 1916.3 ],\n",
       "        [  73.39,  102.92, 1862.9 ],\n",
       "        [  74.11,  103.62, 1866.2 ],\n",
       "        [  77.14,  103.43, 1871.7 ],\n",
       "        [  78.47,  103.41, 1877.4 ],\n",
       "        [  78.06,  103.22, 1866.2 ],\n",
       "        [  79.72,  103.63, 1862.8 ],\n",
       "        [  80.14,  103.35, 1851.9 ],\n",
       "        [  79.06,  103.23, 1854.  ],\n",
       "        [  78.59,  103.92, 1834.2 ],\n",
       "        [  78.49,  103.86, 1842.  ],\n",
       "        [  76.34,  103.86, 1840.4 ],\n",
       "        [  76.16,  104.18, 1833.  ],\n",
       "        [  73.95,  104.59, 1832.  ],\n",
       "        [  75.39,  104.6 , 1818.  ],\n",
       "        [  76.32,  105.21, 1808.8 ],\n",
       "        [  75.68,  104.67, 1817.  ],\n",
       "        [  77.05,  104.87, 1828.9 ]]))"
      ]
     },
     "execution_count": 68,
     "metadata": {},
     "output_type": "execute_result"
    }
   ],
   "source": [
    "X_train, X_test"
   ]
  },
  {
   "cell_type": "code",
   "execution_count": 69,
   "id": "1de6ac90",
   "metadata": {},
   "outputs": [
    {
     "data": {
      "text/plain": [
       "(3      1\n",
       " 4      1\n",
       " 5      1\n",
       " 6     -1\n",
       " 7      1\n",
       "       ..\n",
       " 398    1\n",
       " 399   -1\n",
       " 400   -1\n",
       " 401    1\n",
       " 402    1\n",
       " Name: DJI, Length: 400, dtype: int64,\n",
       " 403   -1\n",
       " 404   -1\n",
       " 405   -1\n",
       " 406   -1\n",
       " 407    1\n",
       "       ..\n",
       " 502    1\n",
       " 503   -1\n",
       " 504    1\n",
       " 505    1\n",
       " 506    1\n",
       " Name: DJI, Length: 104, dtype: int64)"
      ]
     },
     "execution_count": 69,
     "metadata": {},
     "output_type": "execute_result"
    }
   ],
   "source": [
    "y_train, y_test"
   ]
  },
  {
   "cell_type": "markdown",
   "id": "4fb4846b",
   "metadata": {},
   "source": [
    "### part b"
   ]
  },
  {
   "cell_type": "code",
   "execution_count": 70,
   "id": "ddc28697",
   "metadata": {},
   "outputs": [
    {
     "data": {
      "text/plain": [
       "RandomForestRegressor(max_depth=3, max_features=1, max_leaf_nodes=10,\n",
       "                      n_estimators=5, random_state=8990)"
      ]
     },
     "execution_count": 70,
     "metadata": {},
     "output_type": "execute_result"
    }
   ],
   "source": [
    "# create random forest model\n",
    "model_rf = RandomForestRegressor(max_depth = 3,\n",
    "                                 random_state=8990,\n",
    "                                 max_features = 1,\n",
    "                                 max_leaf_nodes = 10,\n",
    "                                 n_estimators = 5)\n",
    "model_rf.fit(X_train, y_train)"
   ]
  },
  {
   "cell_type": "code",
   "execution_count": 72,
   "id": "b53d79cd",
   "metadata": {},
   "outputs": [
    {
     "name": "stdout",
     "output_type": "stream",
     "text": [
      "Test score of the decision tree is -0.11409456554524144\n"
     ]
    }
   ],
   "source": [
    "print(f\"Test score of the decision tree is {model_rf.score(X_test, y_test)}\")"
   ]
  },
  {
   "cell_type": "markdown",
   "id": "b35142f6",
   "metadata": {},
   "source": [
    "### part c"
   ]
  },
  {
   "cell_type": "code",
   "execution_count": 79,
   "id": "70674954",
   "metadata": {},
   "outputs": [
    {
     "data": {
      "text/plain": [
       "[DecisionTreeRegressor(max_depth=3, max_features=1, max_leaf_nodes=10,\n",
       "                       random_state=278794167),\n",
       " DecisionTreeRegressor(max_depth=3, max_features=1, max_leaf_nodes=10,\n",
       "                       random_state=59160543),\n",
       " DecisionTreeRegressor(max_depth=3, max_features=1, max_leaf_nodes=10,\n",
       "                       random_state=44438419),\n",
       " DecisionTreeRegressor(max_depth=3, max_features=1, max_leaf_nodes=10,\n",
       "                       random_state=403416065),\n",
       " DecisionTreeRegressor(max_depth=3, max_features=1, max_leaf_nodes=10,\n",
       "                       random_state=1071104409)]"
      ]
     },
     "execution_count": 79,
     "metadata": {},
     "output_type": "execute_result"
    }
   ],
   "source": [
    "# Extract single tree\n",
    "estimators = model_rf.estimators_\n",
    "estimators"
   ]
  },
  {
   "cell_type": "code",
   "execution_count": 81,
   "id": "cb83b9ab",
   "metadata": {},
   "outputs": [
    {
     "name": "stdout",
     "output_type": "stream",
     "text": [
      "(3, <bound method BaseDecisionTree.get_n_leaves of DecisionTreeRegressor(max_depth=3, max_features=1, max_leaf_nodes=10,\n",
      "                      random_state=278794167)>, array([0.42651767, 0.18610082, 0.38738152]), -0.2909938323893366)\n",
      "(3, <bound method BaseDecisionTree.get_n_leaves of DecisionTreeRegressor(max_depth=3, max_features=1, max_leaf_nodes=10,\n",
      "                      random_state=59160543)>, array([0.27831965, 0.19785702, 0.52382333]), -0.3715346472434069)\n",
      "(3, <bound method BaseDecisionTree.get_n_leaves of DecisionTreeRegressor(max_depth=3, max_features=1, max_leaf_nodes=10,\n",
      "                      random_state=44438419)>, array([0.28048408, 0.44308682, 0.2764291 ]), -0.19100340136054417)\n",
      "(3, <bound method BaseDecisionTree.get_n_leaves of DecisionTreeRegressor(max_depth=3, max_features=1, max_leaf_nodes=10,\n",
      "                      random_state=403416065)>, array([0.49823735, 0.32056133, 0.18120132]), -0.19838778645596844)\n",
      "(3, <bound method BaseDecisionTree.get_n_leaves of DecisionTreeRegressor(max_depth=3, max_features=1, max_leaf_nodes=10,\n",
      "                      random_state=1071104409)>, array([0.58182198, 0.41817802, 0.        ]), -0.0031400870597548813)\n"
     ]
    }
   ],
   "source": [
    "def stats(dt):\n",
    "    depth = dt.get_depth()\n",
    "    feature_important = dt.feature_importances_\n",
    "    tst_score = dt.score(X_test, y_test)\n",
    "    leaves = dt.get_n_leaves\n",
    "    return depth, leaves, feature_important, tst_score\n",
    "\n",
    "for i in range(len(estimators)):\n",
    "    print(stats(estimators[i]))\n"
   ]
  },
  {
   "cell_type": "code",
   "execution_count": null,
   "id": "519063f2",
   "metadata": {},
   "outputs": [],
   "source": []
  },
  {
   "cell_type": "markdown",
   "id": "a78b2cfb",
   "metadata": {},
   "source": [
    "### part d"
   ]
  },
  {
   "cell_type": "code",
   "execution_count": 95,
   "id": "d7fd98a8",
   "metadata": {},
   "outputs": [
    {
     "data": {
      "text/html": [
       "<div>\n",
       "<style scoped>\n",
       "    .dataframe tbody tr th:only-of-type {\n",
       "        vertical-align: middle;\n",
       "    }\n",
       "\n",
       "    .dataframe tbody tr th {\n",
       "        vertical-align: top;\n",
       "    }\n",
       "\n",
       "    .dataframe thead th {\n",
       "        text-align: right;\n",
       "    }\n",
       "</style>\n",
       "<table border=\"1\" class=\"dataframe\">\n",
       "  <thead>\n",
       "    <tr style=\"text-align: right;\">\n",
       "      <th></th>\n",
       "      <th>Date</th>\n",
       "      <th>OIL</th>\n",
       "      <th>USDX</th>\n",
       "      <th>GOLD</th>\n",
       "      <th>DJI</th>\n",
       "    </tr>\n",
       "  </thead>\n",
       "  <tbody>\n",
       "    <tr>\n",
       "      <th>446</th>\n",
       "      <td>2022-12-06</td>\n",
       "      <td>74.25</td>\n",
       "      <td>105.58</td>\n",
       "      <td>1769.3</td>\n",
       "      <td>33596.34</td>\n",
       "    </tr>\n",
       "    <tr>\n",
       "      <th>447</th>\n",
       "      <td>2022-12-07</td>\n",
       "      <td>72.01</td>\n",
       "      <td>105.10</td>\n",
       "      <td>1785.5</td>\n",
       "      <td>33597.92</td>\n",
       "    </tr>\n",
       "    <tr>\n",
       "      <th>448</th>\n",
       "      <td>2022-12-08</td>\n",
       "      <td>71.46</td>\n",
       "      <td>104.77</td>\n",
       "      <td>1788.7</td>\n",
       "      <td>33781.48</td>\n",
       "    </tr>\n",
       "    <tr>\n",
       "      <th>449</th>\n",
       "      <td>2022-12-09</td>\n",
       "      <td>71.02</td>\n",
       "      <td>104.81</td>\n",
       "      <td>1798.1</td>\n",
       "      <td>33476.46</td>\n",
       "    </tr>\n",
       "    <tr>\n",
       "      <th>450</th>\n",
       "      <td>2022-12-12</td>\n",
       "      <td>73.17</td>\n",
       "      <td>105.13</td>\n",
       "      <td>1780.5</td>\n",
       "      <td>34005.04</td>\n",
       "    </tr>\n",
       "    <tr>\n",
       "      <th>...</th>\n",
       "      <td>...</td>\n",
       "      <td>...</td>\n",
       "      <td>...</td>\n",
       "      <td>...</td>\n",
       "      <td>...</td>\n",
       "    </tr>\n",
       "    <tr>\n",
       "      <th>502</th>\n",
       "      <td>2023-02-27</td>\n",
       "      <td>75.68</td>\n",
       "      <td>104.67</td>\n",
       "      <td>1817.0</td>\n",
       "      <td>32889.09</td>\n",
       "    </tr>\n",
       "    <tr>\n",
       "      <th>503</th>\n",
       "      <td>2023-02-28</td>\n",
       "      <td>77.05</td>\n",
       "      <td>104.87</td>\n",
       "      <td>1828.9</td>\n",
       "      <td>32656.70</td>\n",
       "    </tr>\n",
       "    <tr>\n",
       "      <th>504</th>\n",
       "      <td>2023-03-01</td>\n",
       "      <td>77.69</td>\n",
       "      <td>104.48</td>\n",
       "      <td>1837.7</td>\n",
       "      <td>32661.84</td>\n",
       "    </tr>\n",
       "    <tr>\n",
       "      <th>505</th>\n",
       "      <td>2023-03-02</td>\n",
       "      <td>78.16</td>\n",
       "      <td>105.03</td>\n",
       "      <td>1833.5</td>\n",
       "      <td>33003.57</td>\n",
       "    </tr>\n",
       "    <tr>\n",
       "      <th>506</th>\n",
       "      <td>2023-03-03</td>\n",
       "      <td>79.68</td>\n",
       "      <td>104.52</td>\n",
       "      <td>1847.7</td>\n",
       "      <td>33390.97</td>\n",
       "    </tr>\n",
       "  </tbody>\n",
       "</table>\n",
       "<p>61 rows × 5 columns</p>\n",
       "</div>"
      ],
      "text/plain": [
       "           Date    OIL    USDX    GOLD       DJI\n",
       "446  2022-12-06  74.25  105.58  1769.3  33596.34\n",
       "447  2022-12-07  72.01  105.10  1785.5  33597.92\n",
       "448  2022-12-08  71.46  104.77  1788.7  33781.48\n",
       "449  2022-12-09  71.02  104.81  1798.1  33476.46\n",
       "450  2022-12-12  73.17  105.13  1780.5  34005.04\n",
       "..          ...    ...     ...     ...       ...\n",
       "502  2023-02-27  75.68  104.67  1817.0  32889.09\n",
       "503  2023-02-28  77.05  104.87  1828.9  32656.70\n",
       "504  2023-03-01  77.69  104.48  1837.7  32661.84\n",
       "505  2023-03-02  78.16  105.03  1833.5  33003.57\n",
       "506  2023-03-03  79.68  104.52  1847.7  33390.97\n",
       "\n",
       "[61 rows x 5 columns]"
      ]
     },
     "execution_count": 95,
     "metadata": {},
     "output_type": "execute_result"
    }
   ],
   "source": [
    "dji_prices = data[data[\"Date\"] >= \"2022-12-06\"]\n",
    "dji_prices"
   ]
  },
  {
   "cell_type": "code",
   "execution_count": 99,
   "id": "39ab81c4",
   "metadata": {},
   "outputs": [
    {
     "ename": "KeyError",
     "evalue": "-1",
     "output_type": "error",
     "traceback": [
      "\u001b[0;31m---------------------------------------------------------------------------\u001b[0m",
      "\u001b[0;31mKeyError\u001b[0m                                  Traceback (most recent call last)",
      "\u001b[0;32m~/opt/anaconda3/lib/python3.9/site-packages/pandas/core/indexes/base.py\u001b[0m in \u001b[0;36mget_loc\u001b[0;34m(self, key, method, tolerance)\u001b[0m\n\u001b[1;32m   3628\u001b[0m             \u001b[0;32mtry\u001b[0m\u001b[0;34m:\u001b[0m\u001b[0;34m\u001b[0m\u001b[0;34m\u001b[0m\u001b[0m\n\u001b[0;32m-> 3629\u001b[0;31m                 \u001b[0;32mreturn\u001b[0m \u001b[0mself\u001b[0m\u001b[0;34m.\u001b[0m\u001b[0m_engine\u001b[0m\u001b[0;34m.\u001b[0m\u001b[0mget_loc\u001b[0m\u001b[0;34m(\u001b[0m\u001b[0mcasted_key\u001b[0m\u001b[0;34m)\u001b[0m\u001b[0;34m\u001b[0m\u001b[0;34m\u001b[0m\u001b[0m\n\u001b[0m\u001b[1;32m   3630\u001b[0m             \u001b[0;32mexcept\u001b[0m \u001b[0mKeyError\u001b[0m \u001b[0;32mas\u001b[0m \u001b[0merr\u001b[0m\u001b[0;34m:\u001b[0m\u001b[0;34m\u001b[0m\u001b[0;34m\u001b[0m\u001b[0m\n",
      "\u001b[0;32m~/opt/anaconda3/lib/python3.9/site-packages/pandas/_libs/index.pyx\u001b[0m in \u001b[0;36mpandas._libs.index.IndexEngine.get_loc\u001b[0;34m()\u001b[0m\n",
      "\u001b[0;32m~/opt/anaconda3/lib/python3.9/site-packages/pandas/_libs/index.pyx\u001b[0m in \u001b[0;36mpandas._libs.index.IndexEngine.get_loc\u001b[0;34m()\u001b[0m\n",
      "\u001b[0;32mpandas/_libs/hashtable_class_helper.pxi\u001b[0m in \u001b[0;36mpandas._libs.hashtable.PyObjectHashTable.get_item\u001b[0;34m()\u001b[0m\n",
      "\u001b[0;32mpandas/_libs/hashtable_class_helper.pxi\u001b[0m in \u001b[0;36mpandas._libs.hashtable.PyObjectHashTable.get_item\u001b[0;34m()\u001b[0m\n",
      "\u001b[0;31mKeyError\u001b[0m: -1",
      "\nThe above exception was the direct cause of the following exception:\n",
      "\u001b[0;31mKeyError\u001b[0m                                  Traceback (most recent call last)",
      "\u001b[0;32m/var/folders/rb/x4vhwjb16wj764ztdb96gnlh0000gn/T/ipykernel_9584/84086882.py\u001b[0m in \u001b[0;36m<module>\u001b[0;34m\u001b[0m\n\u001b[1;32m     13\u001b[0m         \u001b[0mshares\u001b[0m \u001b[0;34m=\u001b[0m \u001b[0;36m0\u001b[0m\u001b[0;34m\u001b[0m\u001b[0;34m\u001b[0m\u001b[0m\n\u001b[1;32m     14\u001b[0m \u001b[0;31m# Compute the final amount at market close of Dec 31st 2020\u001b[0m\u001b[0;34m\u001b[0m\u001b[0;34m\u001b[0m\u001b[0m\n\u001b[0;32m---> 15\u001b[0;31m \u001b[0mfinal_amount\u001b[0m \u001b[0;34m=\u001b[0m \u001b[0;34m(\u001b[0m\u001b[0mcapital\u001b[0m \u001b[0;34m+\u001b[0m \u001b[0mshares\u001b[0m \u001b[0;34m*\u001b[0m \u001b[0mdji_prices\u001b[0m\u001b[0;34m[\u001b[0m\u001b[0;34m-\u001b[0m\u001b[0;36m1\u001b[0m\u001b[0;34m]\u001b[0m\u001b[0;34m)\u001b[0m\u001b[0;34m\u001b[0m\u001b[0;34m\u001b[0m\u001b[0m\n\u001b[0m\u001b[1;32m     16\u001b[0m \u001b[0mprint\u001b[0m\u001b[0;34m(\u001b[0m\u001b[0;34mf'Final amount for model based trading strategy: ${final_amount:.5f}'\u001b[0m\u001b[0;34m)\u001b[0m\u001b[0;34m\u001b[0m\u001b[0;34m\u001b[0m\u001b[0m\n",
      "\u001b[0;32m~/opt/anaconda3/lib/python3.9/site-packages/pandas/core/frame.py\u001b[0m in \u001b[0;36m__getitem__\u001b[0;34m(self, key)\u001b[0m\n\u001b[1;32m   3503\u001b[0m             \u001b[0;32mif\u001b[0m \u001b[0mself\u001b[0m\u001b[0;34m.\u001b[0m\u001b[0mcolumns\u001b[0m\u001b[0;34m.\u001b[0m\u001b[0mnlevels\u001b[0m \u001b[0;34m>\u001b[0m \u001b[0;36m1\u001b[0m\u001b[0;34m:\u001b[0m\u001b[0;34m\u001b[0m\u001b[0;34m\u001b[0m\u001b[0m\n\u001b[1;32m   3504\u001b[0m                 \u001b[0;32mreturn\u001b[0m \u001b[0mself\u001b[0m\u001b[0;34m.\u001b[0m\u001b[0m_getitem_multilevel\u001b[0m\u001b[0;34m(\u001b[0m\u001b[0mkey\u001b[0m\u001b[0;34m)\u001b[0m\u001b[0;34m\u001b[0m\u001b[0;34m\u001b[0m\u001b[0m\n\u001b[0;32m-> 3505\u001b[0;31m             \u001b[0mindexer\u001b[0m \u001b[0;34m=\u001b[0m \u001b[0mself\u001b[0m\u001b[0;34m.\u001b[0m\u001b[0mcolumns\u001b[0m\u001b[0;34m.\u001b[0m\u001b[0mget_loc\u001b[0m\u001b[0;34m(\u001b[0m\u001b[0mkey\u001b[0m\u001b[0;34m)\u001b[0m\u001b[0;34m\u001b[0m\u001b[0;34m\u001b[0m\u001b[0m\n\u001b[0m\u001b[1;32m   3506\u001b[0m             \u001b[0;32mif\u001b[0m \u001b[0mis_integer\u001b[0m\u001b[0;34m(\u001b[0m\u001b[0mindexer\u001b[0m\u001b[0;34m)\u001b[0m\u001b[0;34m:\u001b[0m\u001b[0;34m\u001b[0m\u001b[0;34m\u001b[0m\u001b[0m\n\u001b[1;32m   3507\u001b[0m                 \u001b[0mindexer\u001b[0m \u001b[0;34m=\u001b[0m \u001b[0;34m[\u001b[0m\u001b[0mindexer\u001b[0m\u001b[0;34m]\u001b[0m\u001b[0;34m\u001b[0m\u001b[0;34m\u001b[0m\u001b[0m\n",
      "\u001b[0;32m~/opt/anaconda3/lib/python3.9/site-packages/pandas/core/indexes/base.py\u001b[0m in \u001b[0;36mget_loc\u001b[0;34m(self, key, method, tolerance)\u001b[0m\n\u001b[1;32m   3629\u001b[0m                 \u001b[0;32mreturn\u001b[0m \u001b[0mself\u001b[0m\u001b[0;34m.\u001b[0m\u001b[0m_engine\u001b[0m\u001b[0;34m.\u001b[0m\u001b[0mget_loc\u001b[0m\u001b[0;34m(\u001b[0m\u001b[0mcasted_key\u001b[0m\u001b[0;34m)\u001b[0m\u001b[0;34m\u001b[0m\u001b[0;34m\u001b[0m\u001b[0m\n\u001b[1;32m   3630\u001b[0m             \u001b[0;32mexcept\u001b[0m \u001b[0mKeyError\u001b[0m \u001b[0;32mas\u001b[0m \u001b[0merr\u001b[0m\u001b[0;34m:\u001b[0m\u001b[0;34m\u001b[0m\u001b[0;34m\u001b[0m\u001b[0m\n\u001b[0;32m-> 3631\u001b[0;31m                 \u001b[0;32mraise\u001b[0m \u001b[0mKeyError\u001b[0m\u001b[0;34m(\u001b[0m\u001b[0mkey\u001b[0m\u001b[0;34m)\u001b[0m \u001b[0;32mfrom\u001b[0m \u001b[0merr\u001b[0m\u001b[0;34m\u001b[0m\u001b[0;34m\u001b[0m\u001b[0m\n\u001b[0m\u001b[1;32m   3632\u001b[0m             \u001b[0;32mexcept\u001b[0m \u001b[0mTypeError\u001b[0m\u001b[0;34m:\u001b[0m\u001b[0;34m\u001b[0m\u001b[0;34m\u001b[0m\u001b[0m\n\u001b[1;32m   3633\u001b[0m                 \u001b[0;31m# If we have a listlike key, _check_indexing_error will raise\u001b[0m\u001b[0;34m\u001b[0m\u001b[0;34m\u001b[0m\u001b[0m\n",
      "\u001b[0;31mKeyError\u001b[0m: -1"
     ]
    }
   ],
   "source": [
    "capital = 10000 # initial capital amount\n",
    "shares = 0 # number of shares held\n",
    "\n",
    "predicted_labels = model_rf.predict(X_test[43:])\n",
    "for i in range(len(predicted_labels)):\n",
    "    j = 404 + i # starting 1st October\n",
    "    signal = predicted_labels[i]\n",
    "    if signal == 1 and shares == 0:\n",
    "        shares = capital / dji_prices[j]\n",
    "        capital = 0\n",
    "    elif signal == -1 and shares > 0:\n",
    "        capital = shares * dji_prices[j]\n",
    "        shares = 0\n",
    "\n",
    "final_amount = (capital + shares * dji_prices[-1])\n",
    "print(f'Final amount for model based trading strategy: ${final_amount:.5f}')"
   ]
  },
  {
   "cell_type": "markdown",
   "id": "363d1fae",
   "metadata": {},
   "source": [
    "### part e"
   ]
  },
  {
   "cell_type": "code",
   "execution_count": 87,
   "id": "0ee30263",
   "metadata": {},
   "outputs": [
    {
     "data": {
      "text/html": [
       "<div>\n",
       "<style scoped>\n",
       "    .dataframe tbody tr th:only-of-type {\n",
       "        vertical-align: middle;\n",
       "    }\n",
       "\n",
       "    .dataframe tbody tr th {\n",
       "        vertical-align: top;\n",
       "    }\n",
       "\n",
       "    .dataframe thead th {\n",
       "        text-align: right;\n",
       "    }\n",
       "</style>\n",
       "<table border=\"1\" class=\"dataframe\">\n",
       "  <thead>\n",
       "    <tr style=\"text-align: right;\">\n",
       "      <th></th>\n",
       "      <th>Date</th>\n",
       "      <th>OIL</th>\n",
       "      <th>USDX</th>\n",
       "      <th>GOLD</th>\n",
       "      <th>DJI</th>\n",
       "    </tr>\n",
       "  </thead>\n",
       "  <tbody>\n",
       "    <tr>\n",
       "      <th>0</th>\n",
       "      <td>2021-03-08</td>\n",
       "      <td>65.05</td>\n",
       "      <td>92.31</td>\n",
       "      <td>1677.7</td>\n",
       "      <td>31802.44</td>\n",
       "    </tr>\n",
       "    <tr>\n",
       "      <th>1</th>\n",
       "      <td>2021-03-09</td>\n",
       "      <td>64.01</td>\n",
       "      <td>91.96</td>\n",
       "      <td>1716.6</td>\n",
       "      <td>31832.74</td>\n",
       "    </tr>\n",
       "    <tr>\n",
       "      <th>2</th>\n",
       "      <td>2021-03-10</td>\n",
       "      <td>64.44</td>\n",
       "      <td>91.79</td>\n",
       "      <td>1721.5</td>\n",
       "      <td>32297.02</td>\n",
       "    </tr>\n",
       "    <tr>\n",
       "      <th>3</th>\n",
       "      <td>2021-03-11</td>\n",
       "      <td>66.02</td>\n",
       "      <td>91.42</td>\n",
       "      <td>1722.3</td>\n",
       "      <td>32485.59</td>\n",
       "    </tr>\n",
       "    <tr>\n",
       "      <th>4</th>\n",
       "      <td>2021-03-12</td>\n",
       "      <td>65.61</td>\n",
       "      <td>91.68</td>\n",
       "      <td>1719.5</td>\n",
       "      <td>32778.64</td>\n",
       "    </tr>\n",
       "    <tr>\n",
       "      <th>...</th>\n",
       "      <td>...</td>\n",
       "      <td>...</td>\n",
       "      <td>...</td>\n",
       "      <td>...</td>\n",
       "      <td>...</td>\n",
       "    </tr>\n",
       "    <tr>\n",
       "      <th>502</th>\n",
       "      <td>2023-02-27</td>\n",
       "      <td>75.68</td>\n",
       "      <td>104.67</td>\n",
       "      <td>1817.0</td>\n",
       "      <td>32889.09</td>\n",
       "    </tr>\n",
       "    <tr>\n",
       "      <th>503</th>\n",
       "      <td>2023-02-28</td>\n",
       "      <td>77.05</td>\n",
       "      <td>104.87</td>\n",
       "      <td>1828.9</td>\n",
       "      <td>32656.70</td>\n",
       "    </tr>\n",
       "    <tr>\n",
       "      <th>504</th>\n",
       "      <td>2023-03-01</td>\n",
       "      <td>77.69</td>\n",
       "      <td>104.48</td>\n",
       "      <td>1837.7</td>\n",
       "      <td>32661.84</td>\n",
       "    </tr>\n",
       "    <tr>\n",
       "      <th>505</th>\n",
       "      <td>2023-03-02</td>\n",
       "      <td>78.16</td>\n",
       "      <td>105.03</td>\n",
       "      <td>1833.5</td>\n",
       "      <td>33003.57</td>\n",
       "    </tr>\n",
       "    <tr>\n",
       "      <th>506</th>\n",
       "      <td>2023-03-03</td>\n",
       "      <td>79.68</td>\n",
       "      <td>104.52</td>\n",
       "      <td>1847.7</td>\n",
       "      <td>33390.97</td>\n",
       "    </tr>\n",
       "  </tbody>\n",
       "</table>\n",
       "<p>507 rows × 5 columns</p>\n",
       "</div>"
      ],
      "text/plain": [
       "           Date    OIL    USDX    GOLD       DJI\n",
       "0    2021-03-08  65.05   92.31  1677.7  31802.44\n",
       "1    2021-03-09  64.01   91.96  1716.6  31832.74\n",
       "2    2021-03-10  64.44   91.79  1721.5  32297.02\n",
       "3    2021-03-11  66.02   91.42  1722.3  32485.59\n",
       "4    2021-03-12  65.61   91.68  1719.5  32778.64\n",
       "..          ...    ...     ...     ...       ...\n",
       "502  2023-02-27  75.68  104.67  1817.0  32889.09\n",
       "503  2023-02-28  77.05  104.87  1828.9  32656.70\n",
       "504  2023-03-01  77.69  104.48  1837.7  32661.84\n",
       "505  2023-03-02  78.16  105.03  1833.5  33003.57\n",
       "506  2023-03-03  79.68  104.52  1847.7  33390.97\n",
       "\n",
       "[507 rows x 5 columns]"
      ]
     },
     "execution_count": 87,
     "metadata": {},
     "output_type": "execute_result"
    }
   ],
   "source": [
    "data = pd.read_csv(\"q2_data.csv\")\n",
    "data"
   ]
  },
  {
   "cell_type": "code",
   "execution_count": 88,
   "id": "79a91cf3",
   "metadata": {},
   "outputs": [
    {
     "data": {
      "text/html": [
       "<div>\n",
       "<style scoped>\n",
       "    .dataframe tbody tr th:only-of-type {\n",
       "        vertical-align: middle;\n",
       "    }\n",
       "\n",
       "    .dataframe tbody tr th {\n",
       "        vertical-align: top;\n",
       "    }\n",
       "\n",
       "    .dataframe thead th {\n",
       "        text-align: right;\n",
       "    }\n",
       "</style>\n",
       "<table border=\"1\" class=\"dataframe\">\n",
       "  <thead>\n",
       "    <tr style=\"text-align: right;\">\n",
       "      <th></th>\n",
       "      <th>Date</th>\n",
       "      <th>OIL</th>\n",
       "      <th>USDX</th>\n",
       "      <th>GOLD</th>\n",
       "      <th>DJI</th>\n",
       "    </tr>\n",
       "  </thead>\n",
       "  <tbody>\n",
       "    <tr>\n",
       "      <th>446</th>\n",
       "      <td>2022-12-06</td>\n",
       "      <td>74.25</td>\n",
       "      <td>105.58</td>\n",
       "      <td>1769.3</td>\n",
       "      <td>33596.34</td>\n",
       "    </tr>\n",
       "    <tr>\n",
       "      <th>447</th>\n",
       "      <td>2022-12-07</td>\n",
       "      <td>72.01</td>\n",
       "      <td>105.10</td>\n",
       "      <td>1785.5</td>\n",
       "      <td>33597.92</td>\n",
       "    </tr>\n",
       "    <tr>\n",
       "      <th>448</th>\n",
       "      <td>2022-12-08</td>\n",
       "      <td>71.46</td>\n",
       "      <td>104.77</td>\n",
       "      <td>1788.7</td>\n",
       "      <td>33781.48</td>\n",
       "    </tr>\n",
       "    <tr>\n",
       "      <th>449</th>\n",
       "      <td>2022-12-09</td>\n",
       "      <td>71.02</td>\n",
       "      <td>104.81</td>\n",
       "      <td>1798.1</td>\n",
       "      <td>33476.46</td>\n",
       "    </tr>\n",
       "    <tr>\n",
       "      <th>450</th>\n",
       "      <td>2022-12-12</td>\n",
       "      <td>73.17</td>\n",
       "      <td>105.13</td>\n",
       "      <td>1780.5</td>\n",
       "      <td>34005.04</td>\n",
       "    </tr>\n",
       "    <tr>\n",
       "      <th>...</th>\n",
       "      <td>...</td>\n",
       "      <td>...</td>\n",
       "      <td>...</td>\n",
       "      <td>...</td>\n",
       "      <td>...</td>\n",
       "    </tr>\n",
       "    <tr>\n",
       "      <th>502</th>\n",
       "      <td>2023-02-27</td>\n",
       "      <td>75.68</td>\n",
       "      <td>104.67</td>\n",
       "      <td>1817.0</td>\n",
       "      <td>32889.09</td>\n",
       "    </tr>\n",
       "    <tr>\n",
       "      <th>503</th>\n",
       "      <td>2023-02-28</td>\n",
       "      <td>77.05</td>\n",
       "      <td>104.87</td>\n",
       "      <td>1828.9</td>\n",
       "      <td>32656.70</td>\n",
       "    </tr>\n",
       "    <tr>\n",
       "      <th>504</th>\n",
       "      <td>2023-03-01</td>\n",
       "      <td>77.69</td>\n",
       "      <td>104.48</td>\n",
       "      <td>1837.7</td>\n",
       "      <td>32661.84</td>\n",
       "    </tr>\n",
       "    <tr>\n",
       "      <th>505</th>\n",
       "      <td>2023-03-02</td>\n",
       "      <td>78.16</td>\n",
       "      <td>105.03</td>\n",
       "      <td>1833.5</td>\n",
       "      <td>33003.57</td>\n",
       "    </tr>\n",
       "    <tr>\n",
       "      <th>506</th>\n",
       "      <td>2023-03-03</td>\n",
       "      <td>79.68</td>\n",
       "      <td>104.52</td>\n",
       "      <td>1847.7</td>\n",
       "      <td>33390.97</td>\n",
       "    </tr>\n",
       "  </tbody>\n",
       "</table>\n",
       "<p>61 rows × 5 columns</p>\n",
       "</div>"
      ],
      "text/plain": [
       "           Date    OIL    USDX    GOLD       DJI\n",
       "446  2022-12-06  74.25  105.58  1769.3  33596.34\n",
       "447  2022-12-07  72.01  105.10  1785.5  33597.92\n",
       "448  2022-12-08  71.46  104.77  1788.7  33781.48\n",
       "449  2022-12-09  71.02  104.81  1798.1  33476.46\n",
       "450  2022-12-12  73.17  105.13  1780.5  34005.04\n",
       "..          ...    ...     ...     ...       ...\n",
       "502  2023-02-27  75.68  104.67  1817.0  32889.09\n",
       "503  2023-02-28  77.05  104.87  1828.9  32656.70\n",
       "504  2023-03-01  77.69  104.48  1837.7  32661.84\n",
       "505  2023-03-02  78.16  105.03  1833.5  33003.57\n",
       "506  2023-03-03  79.68  104.52  1847.7  33390.97\n",
       "\n",
       "[61 rows x 5 columns]"
      ]
     },
     "execution_count": 88,
     "metadata": {},
     "output_type": "execute_result"
    }
   ],
   "source": [
    "dji_prices = data[data[\"Date\"] >= \"2022-12-06\"]\n",
    "dji_prices"
   ]
  },
  {
   "cell_type": "code",
   "execution_count": 89,
   "id": "cb447cf1",
   "metadata": {},
   "outputs": [
    {
     "name": "stdout",
     "output_type": "stream",
     "text": [
      "Final amount for buy-and-hold strategy: $9938.87132\n"
     ]
    }
   ],
   "source": [
    "# Simple Buy and Hold Strategy Implementation\n",
    "# Number of shares bought on Oct 1st 2020 with initial capital\n",
    "num_shares = 10000 / 33596.34\n",
    "# Final amount at market close of Dec 31st 2020\n",
    "final_amount = num_shares * 33390.97\n",
    "print(f\"Final amount for buy-and-hold strategy: ${np.round(final_amount, 5)}\")"
   ]
  },
  {
   "cell_type": "code",
   "execution_count": 90,
   "id": "d599a3a6",
   "metadata": {},
   "outputs": [
    {
     "data": {
      "text/plain": [
       "array([10000.        , 10000.47028932, 10055.10719322,  9964.31754173,\n",
       "       10121.65015594, 10152.48684827, 10110.13402055,  9882.6896025 ,\n",
       "        9798.82332421,  9750.32994665,  9777.77341222,  9934.55834772,\n",
       "        9830.68096108,  9883.19858651,  9894.39921134,  9785.50342091,\n",
       "        9888.21996682,  9866.32770117,  9863.08925317,  9902.79595932,\n",
       "        9801.68673135, 10010.20051589,  9976.5778058 , 10032.07492245,\n",
       "       10112.11637934, 10176.69484235, 10210.22230398, 10210.22230398,\n",
       "       10093.61436395,  9910.8891028 ,  9835.76187168,  9934.26367277,\n",
       "       10009.88798185, 10040.96279535, 10043.90359188, 10105.09180464,\n",
       "       10113.6254723 , 10035.94141505, 10145.75992504, 10147.81967321,\n",
       "       10136.20531284, 10098.12676024, 10087.71193529, 10166.78900142,\n",
       "       10104.97274405, 10030.81883324, 10081.23801581, 10193.35141864,\n",
       "       10146.72133929, 10158.26426331, 10029.91694929, 10068.5640162 ,\n",
       "        9861.07117621,  9835.91962696,  9868.31005996,  9768.00449097,\n",
       "        9789.48599758,  9720.31477238,  9721.84470094,  9823.56113791,\n",
       "        9938.87131753])"
      ]
     },
     "execution_count": 90,
     "metadata": {},
     "output_type": "execute_result"
    }
   ],
   "source": [
    "final_amounts = num_shares * np.array(dji_prices[\"DJI\"])\n",
    "final_amounts"
   ]
  },
  {
   "cell_type": "code",
   "execution_count": 94,
   "id": "10b86d63",
   "metadata": {},
   "outputs": [
    {
     "data": {
      "text/plain": [
       "[<matplotlib.lines.Line2D at 0x7f897a519670>]"
      ]
     },
     "execution_count": 94,
     "metadata": {},
     "output_type": "execute_result"
    },
    {
     "data": {
      "image/png": "[encoded data removed]",
      "text/plain": [
       "<Figure size 640x480 with 1 Axes>"
      ]
     },
     "metadata": {},
     "output_type": "display_data"
    }
   ],
   "source": [
    "# plot for the buy and hold strategy\n",
    "x = [i for i in range(len(dji_prices))]\n",
    "plt.plot(x,final_amounts)"
   ]
  },
  {
   "cell_type": "code",
   "execution_count": null,
   "id": "580727e2",
   "metadata": {},
   "outputs": [],
   "source": []
  }
 ],
 "metadata": {
  "kernelspec": {
   "display_name": "Python 3 (ipykernel)",
   "language": "python",
   "name": "python3"
  },
  "language_info": {
   "codemirror_mode": {
    "name": "ipython",
    "version": 3
   },
   "file_extension": ".py",
   "mimetype": "text/x-python",
   "name": "python",
   "nbconvert_exporter": "python",
   "pygments_lexer": "ipython3",
   "version": "3.9.7"
  }
 },
 "nbformat": 4,
 "nbformat_minor": 5
}
