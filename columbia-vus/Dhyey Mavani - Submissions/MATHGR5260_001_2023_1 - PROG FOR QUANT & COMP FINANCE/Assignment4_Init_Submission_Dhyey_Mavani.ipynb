{
 "cells": [
  {
   "cell_type": "code",
   "execution_count": 125,
   "id": "37b0ae1d",
   "metadata": {},
   "outputs": [
    {
     "name": "stdout",
     "output_type": "stream",
     "text": [
      "[*********************100%***********************]  8 of 8 completed\n",
      "[*********************100%***********************]  1 of 1 completed\n"
     ]
    }
   ],
   "source": [
    "import yfinance as yf\n",
    "import datetime\n",
    "\n",
    "# Define start and end dates\n",
    "start = datetime.datetime(2019, 1, 2)\n",
    "end = datetime.datetime(2020, 12, 31)\n",
    "\n",
    "# Define list of tickers\n",
    "tickers = ['AAPL', 'HD', 'JNJ', 'JPM', 'MSFT', 'UNH', 'V', 'XOM']\n",
    "\n",
    "# Use yfinance to download adjusted close prices for the tickers\n",
    "prices = yf.download(tickers, start=start, end=end)['Adj Close']\n",
    "dji = yf.download(\"^DJI\", start = start, end = end)[\"Adj Close\"]"
   ]
  },
  {
   "cell_type": "code",
   "execution_count": 126,
   "id": "f1f0078f",
   "metadata": {},
   "outputs": [
    {
     "data": {
      "text/html": [
       "<div>\n",
       "<style scoped>\n",
       "    .dataframe tbody tr th:only-of-type {\n",
       "        vertical-align: middle;\n",
       "    }\n",
       "\n",
       "    .dataframe tbody tr th {\n",
       "        vertical-align: top;\n",
       "    }\n",
       "\n",
       "    .dataframe thead th {\n",
       "        text-align: right;\n",
       "    }\n",
       "</style>\n",
       "<table border=\"1\" class=\"dataframe\">\n",
       "  <thead>\n",
       "    <tr style=\"text-align: right;\">\n",
       "      <th></th>\n",
       "      <th>AAPL</th>\n",
       "      <th>HD</th>\n",
       "      <th>JNJ</th>\n",
       "      <th>JPM</th>\n",
       "      <th>MSFT</th>\n",
       "      <th>UNH</th>\n",
       "      <th>V</th>\n",
       "      <th>XOM</th>\n",
       "    </tr>\n",
       "    <tr>\n",
       "      <th>Date</th>\n",
       "      <th></th>\n",
       "      <th></th>\n",
       "      <th></th>\n",
       "      <th></th>\n",
       "      <th></th>\n",
       "      <th></th>\n",
       "      <th></th>\n",
       "      <th></th>\n",
       "    </tr>\n",
       "  </thead>\n",
       "  <tbody>\n",
       "    <tr>\n",
       "      <th>2019-01-02</th>\n",
       "      <td>38.047043</td>\n",
       "      <td>155.546707</td>\n",
       "      <td>114.144211</td>\n",
       "      <td>86.554695</td>\n",
       "      <td>96.632652</td>\n",
       "      <td>228.546432</td>\n",
       "      <td>129.230560</td>\n",
       "      <td>55.378773</td>\n",
       "    </tr>\n",
       "    <tr>\n",
       "      <th>2019-01-03</th>\n",
       "      <td>34.257286</td>\n",
       "      <td>152.118393</td>\n",
       "      <td>112.330406</td>\n",
       "      <td>85.324615</td>\n",
       "      <td>93.077744</td>\n",
       "      <td>222.313934</td>\n",
       "      <td>124.573540</td>\n",
       "      <td>54.528488</td>\n",
       "    </tr>\n",
       "    <tr>\n",
       "      <th>2019-01-04</th>\n",
       "      <td>35.719700</td>\n",
       "      <td>156.638336</td>\n",
       "      <td>114.215683</td>\n",
       "      <td>88.470131</td>\n",
       "      <td>97.406715</td>\n",
       "      <td>224.913910</td>\n",
       "      <td>129.940292</td>\n",
       "      <td>56.538956</td>\n",
       "    </tr>\n",
       "    <tr>\n",
       "      <th>2019-01-07</th>\n",
       "      <td>35.640190</td>\n",
       "      <td>159.723816</td>\n",
       "      <td>113.483025</td>\n",
       "      <td>88.531639</td>\n",
       "      <td>97.530945</td>\n",
       "      <td>225.345673</td>\n",
       "      <td>132.283432</td>\n",
       "      <td>56.832970</td>\n",
       "    </tr>\n",
       "    <tr>\n",
       "      <th>2019-01-08</th>\n",
       "      <td>36.319611</td>\n",
       "      <td>160.490677</td>\n",
       "      <td>116.118843</td>\n",
       "      <td>88.364693</td>\n",
       "      <td>98.238113</td>\n",
       "      <td>228.358658</td>\n",
       "      <td>133.002884</td>\n",
       "      <td>57.246185</td>\n",
       "    </tr>\n",
       "    <tr>\n",
       "      <th>...</th>\n",
       "      <td>...</td>\n",
       "      <td>...</td>\n",
       "      <td>...</td>\n",
       "      <td>...</td>\n",
       "      <td>...</td>\n",
       "      <td>...</td>\n",
       "      <td>...</td>\n",
       "      <td>...</td>\n",
       "    </tr>\n",
       "    <tr>\n",
       "      <th>2020-12-23</th>\n",
       "      <td>129.209290</td>\n",
       "      <td>255.949387</td>\n",
       "      <td>143.379532</td>\n",
       "      <td>116.491623</td>\n",
       "      <td>216.605530</td>\n",
       "      <td>327.533112</td>\n",
       "      <td>202.118820</td>\n",
       "      <td>37.559818</td>\n",
       "    </tr>\n",
       "    <tr>\n",
       "      <th>2020-12-24</th>\n",
       "      <td>130.205795</td>\n",
       "      <td>257.002350</td>\n",
       "      <td>143.879684</td>\n",
       "      <td>115.979332</td>\n",
       "      <td>218.300949</td>\n",
       "      <td>330.637756</td>\n",
       "      <td>205.466110</td>\n",
       "      <td>37.406948</td>\n",
       "    </tr>\n",
       "    <tr>\n",
       "      <th>2020-12-28</th>\n",
       "      <td>134.862671</td>\n",
       "      <td>255.418137</td>\n",
       "      <td>144.559113</td>\n",
       "      <td>116.743095</td>\n",
       "      <td>220.466827</td>\n",
       "      <td>335.644043</td>\n",
       "      <td>209.335236</td>\n",
       "      <td>37.532845</td>\n",
       "    </tr>\n",
       "    <tr>\n",
       "      <th>2020-12-29</th>\n",
       "      <td>133.066986</td>\n",
       "      <td>252.515366</td>\n",
       "      <td>145.455582</td>\n",
       "      <td>116.435738</td>\n",
       "      <td>219.672974</td>\n",
       "      <td>337.002289</td>\n",
       "      <td>211.048279</td>\n",
       "      <td>37.110218</td>\n",
       "    </tr>\n",
       "    <tr>\n",
       "      <th>2020-12-30</th>\n",
       "      <td>131.932373</td>\n",
       "      <td>251.633133</td>\n",
       "      <td>147.257980</td>\n",
       "      <td>116.761734</td>\n",
       "      <td>217.252304</td>\n",
       "      <td>334.712585</td>\n",
       "      <td>214.976440</td>\n",
       "      <td>37.406948</td>\n",
       "    </tr>\n",
       "  </tbody>\n",
       "</table>\n",
       "<p>504 rows × 8 columns</p>\n",
       "</div>"
      ],
      "text/plain": [
       "                  AAPL          HD         JNJ         JPM        MSFT  \\\n",
       "Date                                                                     \n",
       "2019-01-02   38.047043  155.546707  114.144211   86.554695   96.632652   \n",
       "2019-01-03   34.257286  152.118393  112.330406   85.324615   93.077744   \n",
       "2019-01-04   35.719700  156.638336  114.215683   88.470131   97.406715   \n",
       "2019-01-07   35.640190  159.723816  113.483025   88.531639   97.530945   \n",
       "2019-01-08   36.319611  160.490677  116.118843   88.364693   98.238113   \n",
       "...                ...         ...         ...         ...         ...   \n",
       "2020-12-23  129.209290  255.949387  143.379532  116.491623  216.605530   \n",
       "2020-12-24  130.205795  257.002350  143.879684  115.979332  218.300949   \n",
       "2020-12-28  134.862671  255.418137  144.559113  116.743095  220.466827   \n",
       "2020-12-29  133.066986  252.515366  145.455582  116.435738  219.672974   \n",
       "2020-12-30  131.932373  251.633133  147.257980  116.761734  217.252304   \n",
       "\n",
       "                   UNH           V        XOM  \n",
       "Date                                           \n",
       "2019-01-02  228.546432  129.230560  55.378773  \n",
       "2019-01-03  222.313934  124.573540  54.528488  \n",
       "2019-01-04  224.913910  129.940292  56.538956  \n",
       "2019-01-07  225.345673  132.283432  56.832970  \n",
       "2019-01-08  228.358658  133.002884  57.246185  \n",
       "...                ...         ...        ...  \n",
       "2020-12-23  327.533112  202.118820  37.559818  \n",
       "2020-12-24  330.637756  205.466110  37.406948  \n",
       "2020-12-28  335.644043  209.335236  37.532845  \n",
       "2020-12-29  337.002289  211.048279  37.110218  \n",
       "2020-12-30  334.712585  214.976440  37.406948  \n",
       "\n",
       "[504 rows x 8 columns]"
      ]
     },
     "execution_count": 126,
     "metadata": {},
     "output_type": "execute_result"
    }
   ],
   "source": [
    "prices"
   ]
  },
  {
   "cell_type": "code",
   "execution_count": 127,
   "id": "81347bb5",
   "metadata": {},
   "outputs": [],
   "source": [
    "import pandas as pd\n",
    "import numpy as np\n",
    "from sklearn.preprocessing import StandardScaler\n",
    "\n",
    "# Fill in missing values using previous day's value\n",
    "prices = prices.fillna(method='ffill')\n",
    "\n",
    "# Calculate the daily log returns\n",
    "returns = pd.DataFrame()\n",
    "for ticker in tickers:\n",
    "    returns[ticker] = prices[ticker].apply(lambda x: np.log(x)).diff()\n",
    "\n",
    "returns = returns.dropna()\n",
    "# Calculate the next day's DJI return and define labels as sign of the return\n",
    "dji_returns = dji.apply(lambda x: np.log(x)).diff()\n",
    "dji_returns = dji_returns.dropna()\n",
    "\n",
    "labels = dji_returns.apply(lambda x: 1 if x > 0 else -1)\n",
    "\n",
    "# Split data into training and test datasets\n",
    "split_date = datetime.datetime(2019, 1, 4) + pd.DateOffset(days=int(prices.shape[0]*0.8))\n",
    "X_train = returns.loc[:split_date]\n",
    "X_test = returns.loc[split_date+pd.DateOffset(days=1):]\n",
    "y_train = labels.loc[:split_date]\n",
    "y_test = labels.loc[split_date+pd.DateOffset(days=1):]\n",
    "\n",
    "# Standardize the feature values\n",
    "scaler = StandardScaler()\n",
    "X_train = scaler.fit_transform(X_train)\n",
    "X_test = scaler.transform(X_test)\n"
   ]
  },
  {
   "cell_type": "code",
   "execution_count": 128,
   "id": "c72ff5f3",
   "metadata": {},
   "outputs": [
    {
     "data": {
      "text/html": [
       "<div>\n",
       "<style scoped>\n",
       "    .dataframe tbody tr th:only-of-type {\n",
       "        vertical-align: middle;\n",
       "    }\n",
       "\n",
       "    .dataframe tbody tr th {\n",
       "        vertical-align: top;\n",
       "    }\n",
       "\n",
       "    .dataframe thead th {\n",
       "        text-align: right;\n",
       "    }\n",
       "</style>\n",
       "<table border=\"1\" class=\"dataframe\">\n",
       "  <thead>\n",
       "    <tr style=\"text-align: right;\">\n",
       "      <th></th>\n",
       "      <th>AAPL</th>\n",
       "      <th>HD</th>\n",
       "      <th>JNJ</th>\n",
       "      <th>JPM</th>\n",
       "      <th>MSFT</th>\n",
       "      <th>UNH</th>\n",
       "      <th>V</th>\n",
       "      <th>XOM</th>\n",
       "    </tr>\n",
       "    <tr>\n",
       "      <th>Date</th>\n",
       "      <th></th>\n",
       "      <th></th>\n",
       "      <th></th>\n",
       "      <th></th>\n",
       "      <th></th>\n",
       "      <th></th>\n",
       "      <th></th>\n",
       "      <th></th>\n",
       "    </tr>\n",
       "  </thead>\n",
       "  <tbody>\n",
       "    <tr>\n",
       "      <th>2019-01-03</th>\n",
       "      <td>-0.104924</td>\n",
       "      <td>-0.022287</td>\n",
       "      <td>-0.016018</td>\n",
       "      <td>-0.014314</td>\n",
       "      <td>-0.037482</td>\n",
       "      <td>-0.027649</td>\n",
       "      <td>-0.036702</td>\n",
       "      <td>-0.015473</td>\n",
       "    </tr>\n",
       "    <tr>\n",
       "      <th>2019-01-04</th>\n",
       "      <td>0.041803</td>\n",
       "      <td>0.029280</td>\n",
       "      <td>0.016644</td>\n",
       "      <td>0.036202</td>\n",
       "      <td>0.045460</td>\n",
       "      <td>0.011627</td>\n",
       "      <td>0.042179</td>\n",
       "      <td>0.036207</td>\n",
       "    </tr>\n",
       "    <tr>\n",
       "      <th>2019-01-07</th>\n",
       "      <td>-0.002228</td>\n",
       "      <td>0.019507</td>\n",
       "      <td>-0.006435</td>\n",
       "      <td>0.000695</td>\n",
       "      <td>0.001275</td>\n",
       "      <td>0.001918</td>\n",
       "      <td>0.017872</td>\n",
       "      <td>0.005187</td>\n",
       "    </tr>\n",
       "    <tr>\n",
       "      <th>2019-01-08</th>\n",
       "      <td>0.018884</td>\n",
       "      <td>0.004790</td>\n",
       "      <td>0.022961</td>\n",
       "      <td>-0.001888</td>\n",
       "      <td>0.007225</td>\n",
       "      <td>0.013282</td>\n",
       "      <td>0.005424</td>\n",
       "      <td>0.007244</td>\n",
       "    </tr>\n",
       "    <tr>\n",
       "      <th>2019-01-09</th>\n",
       "      <td>0.016839</td>\n",
       "      <td>0.010290</td>\n",
       "      <td>-0.007957</td>\n",
       "      <td>-0.001692</td>\n",
       "      <td>0.014198</td>\n",
       "      <td>0.001438</td>\n",
       "      <td>0.011700</td>\n",
       "      <td>0.005261</td>\n",
       "    </tr>\n",
       "    <tr>\n",
       "      <th>...</th>\n",
       "      <td>...</td>\n",
       "      <td>...</td>\n",
       "      <td>...</td>\n",
       "      <td>...</td>\n",
       "      <td>...</td>\n",
       "      <td>...</td>\n",
       "      <td>...</td>\n",
       "      <td>...</td>\n",
       "    </tr>\n",
       "    <tr>\n",
       "      <th>2020-12-23</th>\n",
       "      <td>-0.007000</td>\n",
       "      <td>-0.000852</td>\n",
       "      <td>-0.005121</td>\n",
       "      <td>0.027561</td>\n",
       "      <td>-0.013125</td>\n",
       "      <td>0.007672</td>\n",
       "      <td>-0.002627</td>\n",
       "      <td>0.012770</td>\n",
       "    </tr>\n",
       "    <tr>\n",
       "      <th>2020-12-24</th>\n",
       "      <td>0.007683</td>\n",
       "      <td>0.004106</td>\n",
       "      <td>0.003482</td>\n",
       "      <td>-0.004407</td>\n",
       "      <td>0.007797</td>\n",
       "      <td>0.009434</td>\n",
       "      <td>0.016425</td>\n",
       "      <td>-0.004078</td>\n",
       "    </tr>\n",
       "    <tr>\n",
       "      <th>2020-12-28</th>\n",
       "      <td>0.035141</td>\n",
       "      <td>-0.006183</td>\n",
       "      <td>0.004711</td>\n",
       "      <td>0.006564</td>\n",
       "      <td>0.009873</td>\n",
       "      <td>0.015028</td>\n",
       "      <td>0.018656</td>\n",
       "      <td>0.003360</td>\n",
       "    </tr>\n",
       "    <tr>\n",
       "      <th>2020-12-29</th>\n",
       "      <td>-0.013404</td>\n",
       "      <td>-0.011430</td>\n",
       "      <td>0.006182</td>\n",
       "      <td>-0.002636</td>\n",
       "      <td>-0.003607</td>\n",
       "      <td>0.004039</td>\n",
       "      <td>0.008150</td>\n",
       "      <td>-0.011324</td>\n",
       "    </tr>\n",
       "    <tr>\n",
       "      <th>2020-12-30</th>\n",
       "      <td>-0.008563</td>\n",
       "      <td>-0.003500</td>\n",
       "      <td>0.012315</td>\n",
       "      <td>0.002796</td>\n",
       "      <td>-0.011081</td>\n",
       "      <td>-0.006818</td>\n",
       "      <td>0.018442</td>\n",
       "      <td>0.007964</td>\n",
       "    </tr>\n",
       "  </tbody>\n",
       "</table>\n",
       "<p>503 rows × 8 columns</p>\n",
       "</div>"
      ],
      "text/plain": [
       "                AAPL        HD       JNJ       JPM      MSFT       UNH  \\\n",
       "Date                                                                     \n",
       "2019-01-03 -0.104924 -0.022287 -0.016018 -0.014314 -0.037482 -0.027649   \n",
       "2019-01-04  0.041803  0.029280  0.016644  0.036202  0.045460  0.011627   \n",
       "2019-01-07 -0.002228  0.019507 -0.006435  0.000695  0.001275  0.001918   \n",
       "2019-01-08  0.018884  0.004790  0.022961 -0.001888  0.007225  0.013282   \n",
       "2019-01-09  0.016839  0.010290 -0.007957 -0.001692  0.014198  0.001438   \n",
       "...              ...       ...       ...       ...       ...       ...   \n",
       "2020-12-23 -0.007000 -0.000852 -0.005121  0.027561 -0.013125  0.007672   \n",
       "2020-12-24  0.007683  0.004106  0.003482 -0.004407  0.007797  0.009434   \n",
       "2020-12-28  0.035141 -0.006183  0.004711  0.006564  0.009873  0.015028   \n",
       "2020-12-29 -0.013404 -0.011430  0.006182 -0.002636 -0.003607  0.004039   \n",
       "2020-12-30 -0.008563 -0.003500  0.012315  0.002796 -0.011081 -0.006818   \n",
       "\n",
       "                   V       XOM  \n",
       "Date                            \n",
       "2019-01-03 -0.036702 -0.015473  \n",
       "2019-01-04  0.042179  0.036207  \n",
       "2019-01-07  0.017872  0.005187  \n",
       "2019-01-08  0.005424  0.007244  \n",
       "2019-01-09  0.011700  0.005261  \n",
       "...              ...       ...  \n",
       "2020-12-23 -0.002627  0.012770  \n",
       "2020-12-24  0.016425 -0.004078  \n",
       "2020-12-28  0.018656  0.003360  \n",
       "2020-12-29  0.008150 -0.011324  \n",
       "2020-12-30  0.018442  0.007964  \n",
       "\n",
       "[503 rows x 8 columns]"
      ]
     },
     "execution_count": 128,
     "metadata": {},
     "output_type": "execute_result"
    }
   ],
   "source": [
    "returns"
   ]
  },
  {
   "cell_type": "code",
   "execution_count": 129,
   "id": "a8265f72",
   "metadata": {},
   "outputs": [
    {
     "data": {
      "text/plain": [
       "\"\\nfrom sklearn.model_selection import train_test_split\\nimport pandas as pd\\nimport numpy as np\\nfrom sklearn.preprocessing import StandardScaler\\n\\n# Fill in missing values using previous day's value\\nprices = prices.fillna(method='ffill')\\n\\n# Calculate the daily log returns\\nreturns = pd.DataFrame()\\nfor ticker in tickers:\\n    returns[ticker] = prices[ticker].apply(lambda x: np.log(x)).diff()\\nreturns = returns.dropna()\\n\\n# Calculate the next day's DJI return and define labels as sign of the return\\ndji_returns = dji.shift(1)\\ndji_returns = dji_returns[1:]\\nlabels = dji_returns.apply(lambda x: 1 if x > 0 else -1)\\n\\n# Split the data into training and test sets\\nX_train, X_test, y_train, y_test = train_test_split(returns, labels, test_size=0.2, random_state=8990)\\n\\n# Standardize the feature values\\nscaler = StandardScaler()\\nX_train = scaler.fit_transform(X_train)\\nX_test = scaler.transform(X_test)\\n\""
      ]
     },
     "execution_count": 129,
     "metadata": {},
     "output_type": "execute_result"
    }
   ],
   "source": [
    "'''\n",
    "from sklearn.model_selection import train_test_split\n",
    "import pandas as pd\n",
    "import numpy as np\n",
    "from sklearn.preprocessing import StandardScaler\n",
    "\n",
    "# Fill in missing values using previous day's value\n",
    "prices = prices.fillna(method='ffill')\n",
    "\n",
    "# Calculate the daily log returns\n",
    "returns = pd.DataFrame()\n",
    "for ticker in tickers:\n",
    "    returns[ticker] = prices[ticker].apply(lambda x: np.log(x)).diff()\n",
    "returns = returns.dropna()\n",
    "\n",
    "# Calculate the next day's DJI return and define labels as sign of the return\n",
    "dji_returns = dji.shift(1)\n",
    "dji_returns = dji_returns[1:]\n",
    "labels = dji_returns.apply(lambda x: 1 if x > 0 else -1)\n",
    "\n",
    "# Split the data into training and test sets\n",
    "X_train, X_test, y_train, y_test = train_test_split(returns, labels, test_size=0.2, random_state=8990)\n",
    "\n",
    "# Standardize the feature values\n",
    "scaler = StandardScaler()\n",
    "X_train = scaler.fit_transform(X_train)\n",
    "X_test = scaler.transform(X_test)\n",
    "'''"
   ]
  },
  {
   "cell_type": "code",
   "execution_count": 130,
   "id": "41627167",
   "metadata": {},
   "outputs": [
    {
     "data": {
      "text/plain": [
       "array([[-6.48478557, -2.09096053, -1.66294943, ..., -1.76514479,\n",
       "        -3.30683349, -1.26780122],\n",
       "       [ 2.36525601,  2.47922824,  1.581616  , ...,  0.68069348,\n",
       "         3.51102532,  3.04645237],\n",
       "       [-0.29056137,  1.61301755, -0.71102806, ...,  0.07606273,\n",
       "         1.41010513,  0.45689277],\n",
       "       ...,\n",
       "       [-0.98162285, -0.68906716, -1.13858993, ..., -0.73710526,\n",
       "        -0.26241481, -0.53107058],\n",
       "       [ 0.12964949,  1.11188391, -0.09136643, ..., -0.51669178,\n",
       "         1.23995551, -0.86244296],\n",
       "       [-0.52116071,  0.26282523,  0.01323446, ...,  0.76707903,\n",
       "        -0.99905233,  0.8137634 ]])"
      ]
     },
     "execution_count": 130,
     "metadata": {},
     "output_type": "execute_result"
    }
   ],
   "source": [
    "X_train"
   ]
  },
  {
   "cell_type": "code",
   "execution_count": 131,
   "id": "b74a6af6",
   "metadata": {},
   "outputs": [
    {
     "data": {
      "text/plain": [
       "array([[ 1.25948041, -0.1341031 , -0.66171318, ...,  2.61659363,\n",
       "         1.33614341,  1.03829074],\n",
       "       [-0.58721347,  0.16624011, -0.73141538, ..., -0.30656894,\n",
       "        -0.02617554, -0.44063725],\n",
       "       [-0.14129649,  0.85525782, -0.04527883, ..., -0.75215067,\n",
       "         1.06147001, -0.36061188],\n",
       "       ...,\n",
       "       [ 1.96341001, -0.66376413,  0.39622879, ...,  0.89245968,\n",
       "         1.47787523,  0.30439126],\n",
       "       [-0.96465259, -1.12874521,  0.54237089, ...,  0.20812372,\n",
       "         0.56982321, -0.92143827],\n",
       "       [-0.67265158, -0.42594809,  1.15160711, ..., -0.46791335,\n",
       "         1.45934993,  0.68875088]])"
      ]
     },
     "execution_count": 131,
     "metadata": {},
     "output_type": "execute_result"
    }
   ],
   "source": [
    "X_test"
   ]
  },
  {
   "cell_type": "code",
   "execution_count": 132,
   "id": "4e419861",
   "metadata": {},
   "outputs": [
    {
     "data": {
      "text/plain": [
       " 1    161\n",
       "-1    118\n",
       "Name: Adj Close, dtype: int64"
      ]
     },
     "execution_count": 132,
     "metadata": {},
     "output_type": "execute_result"
    }
   ],
   "source": [
    "y_train.value_counts()"
   ]
  },
  {
   "cell_type": "code",
   "execution_count": 133,
   "id": "02e3e20d",
   "metadata": {},
   "outputs": [
    {
     "data": {
      "text/plain": [
       "Date\n",
       "2020-02-12    1\n",
       "2020-02-13   -1\n",
       "2020-02-14   -1\n",
       "2020-02-18   -1\n",
       "2020-02-19    1\n",
       "             ..\n",
       "2020-12-23    1\n",
       "2020-12-24    1\n",
       "2020-12-28    1\n",
       "2020-12-29   -1\n",
       "2020-12-30    1\n",
       "Name: Adj Close, Length: 224, dtype: int64"
      ]
     },
     "execution_count": 133,
     "metadata": {},
     "output_type": "execute_result"
    }
   ],
   "source": [
    "y_test"
   ]
  },
  {
   "cell_type": "code",
   "execution_count": 134,
   "id": "bc9fac97",
   "metadata": {},
   "outputs": [
    {
     "data": {
      "text/plain": [
       "SVC(C=1, gamma=1)"
      ]
     },
     "execution_count": 134,
     "metadata": {},
     "output_type": "execute_result"
    }
   ],
   "source": [
    "from sklearn.svm import SVC\n",
    "\n",
    "# Fit SVM model with RBF kernel and C=1\n",
    "svm = SVC(kernel='rbf', gamma=1, C=1)\n",
    "svm.fit(X_train, y_train)"
   ]
  },
  {
   "cell_type": "code",
   "execution_count": 135,
   "id": "e1877f43",
   "metadata": {},
   "outputs": [
    {
     "name": "stdout",
     "output_type": "stream",
     "text": [
      "Mean cross-validated score: 0.7043\n"
     ]
    }
   ],
   "source": [
    "from sklearn.model_selection import TimeSeriesSplit, cross_val_score\n",
    "from sklearn.svm import SVC\n",
    "\n",
    "# Set up the SVM model with RBF kernel, gamma=1, and C=1\n",
    "svm_model = SVC(kernel='rbf', gamma=1, C=1)\n",
    "\n",
    "# Perform time series cross-validation with 5 splits\n",
    "tscv = TimeSeriesSplit(n_splits=5)\n",
    "\n",
    "# Compute the cross-validated scores for the trained model\n",
    "cv_scores = cross_val_score(svm_model, X_train, y_train, cv=tscv)\n",
    "\n",
    "# Compute the mean of the cross-validated scores\n",
    "mean_cv_score = cv_scores.mean()\n",
    "\n",
    "print(\"Mean cross-validated score: {:.4f}\".format(mean_cv_score))\n"
   ]
  },
  {
   "cell_type": "code",
   "execution_count": 136,
   "id": "aed237a8",
   "metadata": {},
   "outputs": [
    {
     "name": "stdout",
     "output_type": "stream",
     "text": [
      "Best parameters:  {'C': 1, 'gamma': 0.1}\n",
      "Best cross-validation score:  0.8478260869565217\n"
     ]
    }
   ],
   "source": [
    "from sklearn.model_selection import GridSearchCV\n",
    "from sklearn.svm import SVC\n",
    "\n",
    "param_grid = {'C': [0.1, 1, 10, 100], 'gamma': [0.1, 0.2, 0.3, 0.4, 0.5, 1, 5, 10]}\n",
    "svm = SVC(kernel='rbf')\n",
    "grid_search = GridSearchCV(svm, param_grid, cv=TimeSeriesSplit(n_splits=5))\n",
    "grid_search.fit(X_train, y_train)\n",
    "\n",
    "print(\"Best parameters: \", grid_search.best_params_)\n",
    "print(\"Best cross-validation score: \", grid_search.best_score_)\n"
   ]
  },
  {
   "cell_type": "code",
   "execution_count": 137,
   "id": "31da5c2c",
   "metadata": {},
   "outputs": [
    {
     "data": {
      "text/plain": [
       "Timestamp('2020-02-11 00:00:00')"
      ]
     },
     "execution_count": 137,
     "metadata": {},
     "output_type": "execute_result"
    }
   ],
   "source": [
    "split_date"
   ]
  },
  {
   "cell_type": "code",
   "execution_count": 138,
   "id": "19c769a2",
   "metadata": {},
   "outputs": [
    {
     "data": {
      "text/plain": [
       "AAPL     78.344841\n",
       "HD      223.943039\n",
       "JNJ     139.630722\n",
       "JPM     124.826881\n",
       "MSFT    178.861328\n",
       "UNH     277.559296\n",
       "V       199.551620\n",
       "XOM      51.127171\n",
       "Name: 2020-02-11 00:00:00, dtype: float64"
      ]
     },
     "execution_count": 138,
     "metadata": {},
     "output_type": "execute_result"
    }
   ],
   "source": [
    "prices.iloc[279]"
   ]
  },
  {
   "cell_type": "code",
   "execution_count": 139,
   "id": "7a6a6a05",
   "metadata": {},
   "outputs": [
    {
     "data": {
      "text/plain": [
       "29276.33984375"
      ]
     },
     "execution_count": 139,
     "metadata": {},
     "output_type": "execute_result"
    }
   ],
   "source": [
    "dji.iloc[279]"
   ]
  },
  {
   "cell_type": "code",
   "execution_count": 140,
   "id": "c00269fd",
   "metadata": {},
   "outputs": [
    {
     "data": {
      "text/plain": [
       "True"
      ]
     },
     "execution_count": 140,
     "metadata": {},
     "output_type": "execute_result"
    }
   ],
   "source": [
    "len(prices[\"AAPL\"]) == len(dji)"
   ]
  },
  {
   "cell_type": "code",
   "execution_count": 141,
   "id": "ca046c64",
   "metadata": {},
   "outputs": [
    {
     "name": "stdout",
     "output_type": "stream",
     "text": [
      "Best hyperparameters: {'C': 1, 'gamma': 0.1}\n",
      "Final amount at market close of Dec 31st 2020: $10361.98\n"
     ]
    }
   ],
   "source": [
    "import numpy as np\n",
    "\n",
    "# Fill in missing values using previous day's value\n",
    "dji = np.nan_to_num(dji, nan=np.nan)\n",
    "dji = np.where(np.isnan(dji), np.roll(dji, 1), dji)\n",
    "\n",
    "# Calculate the daily log returns\n",
    "dji_returns = np.log(dji[1:]) - np.log(dji[:-1])\n",
    "\n",
    "# Train an SVM model with RBF kernel and optimized hyperparameters\n",
    "from sklearn.svm import SVC\n",
    "from sklearn.model_selection import GridSearchCV, TimeSeriesSplit\n",
    "from sklearn.pipeline import Pipeline\n",
    "from sklearn.preprocessing import StandardScaler\n",
    "\n",
    "X_train = X_train[:, 1:]  # exclude the DJI returns\n",
    "X_test = X_test[:, 1:]\n",
    "param_grid = {'C': [0.1, 1, 10, 100], 'gamma': [0.1, 0.2, 0.3, 0.4, 0.5, 1, 5, 10]}\n",
    "svm = SVC(kernel='rbf')\n",
    "grid = GridSearchCV(svm, param_grid=param_grid, cv=TimeSeriesSplit(n_splits=5), scoring='accuracy')\n",
    "pipe = Pipeline([('scaler', StandardScaler()), ('svm', grid)])\n",
    "pipe.fit(X_train, y_train)\n",
    "print(f'Best hyperparameters: {pipe.named_steps[\"svm\"].best_params_}')\n",
    "\n",
    "# Simulate a trading strategy using the trained SVM model\n",
    "capital = 10000  # initial capital amount\n",
    "shares = 0  # number of shares held\n",
    "returns = []  # daily returns\n",
    "for i in range(len(X_test)):\n",
    "    signal = pipe.predict(X_test[i].reshape(1, -1))[0]\n",
    "    j = 279 + i + 1\n",
    "    if signal == 1 and shares == 0:\n",
    "        shares = capital / dji[j]\n",
    "        capital = 0\n",
    "    elif signal == -1 and shares > 0:\n",
    "        capital = shares * dji[j]\n",
    "        shares = 0\n",
    "    returns.append((capital + shares * dji[j]) / 10000 - 1)\n",
    "    \n",
    "# Compute the final amount at market close of Dec 31st 2020\n",
    "final_amount = (capital + shares * dji[-1]) / 10000 * 10000\n",
    "print(f'Final amount at market close of Dec 31st 2020: ${final_amount:.2f}')\n"
   ]
  },
  {
   "cell_type": "code",
   "execution_count": 142,
   "id": "6d9bbb3e",
   "metadata": {},
   "outputs": [
    {
     "name": "stdout",
     "output_type": "stream",
     "text": [
      "Final amount for buy-and-hold strategy: $13025.46\n"
     ]
    }
   ],
   "source": [
    "# Simple Buy and Hold Strategy Implementation\n",
    "import numpy as np\n",
    "\n",
    "# Number of shares bought on Oct 1st 2020 with initial capital\n",
    "num_shares = 10000 / dji[0]\n",
    "\n",
    "# Final amount at market close of Dec 31st 2020\n",
    "final_amount = num_shares * dji[-1]\n",
    "\n",
    "print(f\"Final amount for buy-and-hold strategy: ${np.round(final_amount, 2)}\")\n"
   ]
  },
  {
   "cell_type": "markdown",
   "id": "ce4fec36",
   "metadata": {},
   "source": [
    "I think we will make more money by the simple buy-and hold strategy as per our backtesting above in the given periods of time."
   ]
  },
  {
   "cell_type": "code",
   "execution_count": null,
   "id": "e9440d00",
   "metadata": {},
   "outputs": [],
   "source": []
  }
 ],
 "metadata": {
  "kernelspec": {
   "display_name": "Python 3 (ipykernel)",
   "language": "python",
   "name": "python3"
  },
  "language_info": {
   "codemirror_mode": {
    "name": "ipython",
    "version": 3
   },
   "file_extension": ".py",
   "mimetype": "text/x-python",
   "name": "python",
   "nbconvert_exporter": "python",
   "pygments_lexer": "ipython3",
   "version": "3.9.7"
  }
 },
 "nbformat": 4,
 "nbformat_minor": 5
}
