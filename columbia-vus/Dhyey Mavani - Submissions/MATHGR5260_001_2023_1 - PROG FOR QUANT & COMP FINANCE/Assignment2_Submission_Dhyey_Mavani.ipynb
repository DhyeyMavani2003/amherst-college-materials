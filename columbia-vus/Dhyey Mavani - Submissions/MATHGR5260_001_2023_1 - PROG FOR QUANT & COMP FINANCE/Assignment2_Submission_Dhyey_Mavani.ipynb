{
  "cells": [
    {
      "cell_type": "markdown",
      "metadata": {
        "id": "4_79gm2Eqnf0"
      },
      "source": [
        "# **Assignment 2**\n",
        "### *Programming for Quant and Computational Finance*\n",
        "##### - Submission by *Dhyey Mavani (ddm2149)*"
      ]
    },
    {
      "cell_type": "markdown",
      "metadata": {
        "id": "cuhTPuMwazs9"
      },
      "source": [
        "---\n",
        "## **Simulation-Based Pricing**\n",
        "---\n",
        "\n",
        "Let the present time be 0. Let $t ≥ 0$ be the present or a future time, and $S_t$ the underlying asset value at time $t$. Let $r_S$ be the short rate process. Consider a European style derivative having a single payoff at its\n",
        "maturity time $T$. Let $X$ be the its payoff of at time $T$. For example, for a European call option with strike $K$ on a stock, then $S_T$ is the terminal stock price and $X = max(S_T-K,0)$. In theory, the value of the option is given by $V = E[exp(-\\int_0^Tr_Sds)X]$ where the expectation $E$ is taken under the risk-neutral measure.\n",
        "\n",
        "Let $Y = exp(-∫_0^Tr_Sds)X$ be the discounted payoff. Then we have $V = E[Y]$. Under simulation-based pricing, one would simulate $Y_1, Y_2, ..., Y_N$. The value under $N$ simulations is given by $V_N = \\frac{1}{N}(Y_1 + Y_2 + ... + Y_N)$, and a 95% confidence interval of this price is given by $[V_N-\\frac{1.96*sd}{\\sqrt{N}},V_N+\\frac{1.96*sd}{\\sqrt{N}}]$, where $sd$ is the sample standard deviation (ie. square root of the sample variance) computed from $Y_1, Y_2, ..., Y_N$."
      ]
    },
    {
      "cell_type": "markdown",
      "metadata": {
        "id": "LrzrsyTzqvOl"
      },
      "source": [
        "Consider the Black-Scholes model settings on a stock $S_t$ where:\n",
        "\n",
        "• the continuously compounded dividend rate is assumed to be constant $q$.\n",
        "\n",
        "• the BS volatility is assumed to be constant $σ$.\n",
        "\n",
        "• the short rate is deterministic and also a constant, $r_s$ = $r$.\n",
        "\n",
        "In this case, $S_T = S_0*exp(∫(r_s-q-σ^2/2)+∫_0^TσdW_S)$ where $W_S$ is a standard Brownian motion.\n",
        "\n",
        "Thus, we can generate samples of terminal stock price via $S_T = S_0*exp((r_s-q-σ^2/2)T+σ\\sqrt{T}z)$ where $z$ is the standard normal random variate.\n",
        "\n",
        "**a) Write a function to compute and return the theoretical BS price and delta of a European call option. The function inputs shall include: current stock price $S_0$, strike $K$, time to option expiry (in years) $T$, short rate $r$, the dividend rate $q$ and the volatility $\\sigma$.**"
      ]
    },
    {
      "cell_type": "code",
      "execution_count": null,
      "metadata": {
        "id": "YEoFn_-kqtRV"
      },
      "outputs": [],
      "source": [
        "import numpy as np\n",
        "from scipy.stats import norm\n",
        "\n",
        "def bs_call_price_delta(S0, K, T, r, q, sigma):\n",
        "\n",
        "    d1 = (np.log(S0/K) + (r - q + 0.5*sigma**2)*T) / (sigma*np.sqrt(T))\n",
        "    d2 = d1 - sigma*np.sqrt(T)\n",
        "    \n",
        "    price = S0*np.exp(-q*T)*norm.cdf(d1) - K*np.exp(-r*T)*norm.cdf(d2)\n",
        "    delta = np.exp(-q*T)*norm.cdf(d1)\n",
        "    \n",
        "    return price, delta\n"
      ]
    },
    {
      "cell_type": "code",
      "source": [
        "# Example usage of theoretical function with given data\n",
        "price, delta = bs_call_price_delta(180, 160, 0.25, 0.01, 0.015, 0.20)\n",
        "print(\"Theoretical price: \", price)\n",
        "print(\"Delta: \", delta)"
      ],
      "metadata": {
        "colab": {
          "base_uri": "https://localhost:8080/"
        },
        "id": "Fq8rhkyuqiwJ",
        "outputId": "160a6e1b-7660-4f35-c1f1-04836842c26a"
      },
      "execution_count": null,
      "outputs": [
        {
          "output_type": "stream",
          "name": "stdout",
          "text": [
            "Theoretical price:  20.743527985763706\n",
            "Delta:  0.8845566261664979\n"
          ]
        }
      ]
    },
    {
      "cell_type": "markdown",
      "metadata": {
        "id": "-_3s0N-oQuyB"
      },
      "source": [
        "**b) Write a function to compute the simulated price $V_N$ of a European call option. Besides the inputs as described part (a), the number of simulations $N$ shall also be an input. The function shall return $V_N$ and the 95% confidence interval**"
      ]
    },
    {
      "cell_type": "code",
      "execution_count": null,
      "metadata": {
        "id": "z1B8TqLSUE7I"
      },
      "outputs": [],
      "source": [
        "import numpy as np\n",
        "\n",
        "def simulated_call_price_CI_generator(S0, K, T, r, q, sigma, N):\n",
        "\n",
        "    drift = (r - q - 0.5 * sigma ** 2) * T\n",
        "    discount_factor = np.exp(-r * T)\n",
        "    \n",
        "    z = np.random.standard_normal(N)\n",
        "    ST = S0 * np.exp(drift + sigma * np.sqrt(T) * z)\n",
        "    payoff = np.maximum(ST - K, 0)\n",
        "    \n",
        "    V_N = discount_factor * np.mean(payoff)\n",
        "    se = np.std(payoff, ddof=1) / np.sqrt(N)\n",
        "    lower = V_N - 1.96 * se\n",
        "    upper = V_N + 1.96 * se\n",
        "    \n",
        "    return V_N, (lower, upper)\n"
      ]
    },
    {
      "cell_type": "code",
      "execution_count": null,
      "metadata": {
        "colab": {
          "base_uri": "https://localhost:8080/"
        },
        "id": "yFXFskWCz5Wm",
        "outputId": "c2a2ec96-f62e-438e-cd7e-750a22a3395f"
      },
      "outputs": [
        {
          "output_type": "stream",
          "name": "stdout",
          "text": [
            "Simulated price:  20.73970535966762\n",
            "95% confidence interval:  (20.729517437148797, 20.749893282186445)\n"
          ]
        }
      ],
      "source": [
        "# Example to test the function and demonstrate the usage\n",
        "V_N, conf_int = simulated_call_price_CI_generator(180, 160, 0.25, 0.01, 0.015, 0.20, 10000000)\n",
        "print(\"Simulated price: \", V_N)\n",
        "print(\"95% confidence interval: \", conf_int)"
      ]
    },
    {
      "cell_type": "markdown",
      "metadata": {
        "id": "pQsQJgSnUJB2"
      },
      "source": [
        "---\n",
        "## **Convergence and variance reduction**\n",
        "---\n",
        "\n",
        "Now take the following example data: $S_0 = 180$, $r = 0.01$, $K = 160$, $q = 0.015$, $σ = 0.20$, $T = 0.25$\n",
        "\n"
      ]
    },
    {
      "cell_type": "markdown",
      "metadata": {
        "id": "iKuqXyL2UoQH"
      },
      "source": [
        "**c) Use the example data to plot the simulated price $V_N$ against the number of simulations $N$ where $1 ≤ N ≤ 500000$. The figure shall also include a plot for (i) the upper bound (ie. $V_N+\\frac{1.96*sd}{\\sqrt{N}}$), (ii) lower bound (ie. $V_N-\\frac{1.96*sd}{\\sqrt{N}}$) with 95% confidence (iii) a flat line for the theoretical BS price. Label each of the lines properly.**"
      ]
    },
    {
      "cell_type": "code",
      "execution_count": null,
      "metadata": {
        "colab": {
          "base_uri": "https://localhost:8080/",
          "height": 295
        },
        "id": "MMp2Qt-tVT7j",
        "outputId": "31daead4-5b18-4ff9-f82c-a207dde00fae"
      },
      "outputs": [
        {
          "output_type": "display_data",
          "data": {
            "text/plain": [
              "<Figure size 432x288 with 1 Axes>"
            ],
            "image/png": "[encoded data removed]"
          },
          "metadata": {
            "needs_background": "light"
          }
        }
      ],
      "source": [
        "import matplotlib.pyplot as plt\n",
        "\n",
        "# Example data\n",
        "S0 = 180\n",
        "r = 0.01\n",
        "K = 160\n",
        "q = 0.015\n",
        "sigma = 0.2\n",
        "T = 0.25\n",
        "N_sim = 500000\n",
        "# Theoretical Price\n",
        "bs_price, _ = bs_call_price_delta(180, 160, 0.25, 0.01, 0.015, 0.20)\n",
        "\n",
        "# Set the range of simulations to plot\n",
        "N_range = np.arange(1, N_sim+1, 10)\n",
        "\n",
        "# Initialize the arrays to store the simulated prices and standard deviations\n",
        "mc_prices = np.zeros(len(N_range))\n",
        "mc_lowers = np.zeros(len(N_range))\n",
        "mc_uppers = np.zeros(len(N_range))\n",
        "\n",
        "# Compute the simulated prices and standard deviations for each number of simulations\n",
        "for i in range(len(N_range)):\n",
        "    mc_prices[i], (mc_lowers[i], mc_uppers[i]) = simulated_call_price_CI_generator(S0, K, T, r, q, sigma, N_range[i])\n",
        "\n",
        "# Plot the results\n",
        "#plt.plot(N_range, mc_prices, label='Simulated price')\n",
        "plt.plot(N_range, mc_lowers, label='Lower bound (95% CI)')\n",
        "plt.plot(N_range, mc_uppers, label='Upper bound (95% CI)')\n",
        "plt.plot(N_range, np.ones(len(N_range))*bs_price, 'blue', label='BS price')\n",
        "plt.xlabel('Number of simulations (N)')\n",
        "plt.ylabel('Option price')\n",
        "plt.title('Simulated price vs theoretical price')\n",
        "plt.legend()\n",
        "plt.show()\n"
      ]
    },
    {
      "cell_type": "markdown",
      "metadata": {
        "id": "flFZZ4I9VUPE"
      },
      "source": [
        "**d) Enhance your function in part (b) to include an optional input flag for antithetical draw. If the flag is True, the simulated price $\\tilde{V_N}$ will be computed with antithetical draws using $N$ random samples. If the flag is False, the simulated price $V_N$ is computed as in part (b) with $N$ random samples.**"
      ]
    },
    {
      "cell_type": "code",
      "execution_count": null,
      "metadata": {
        "id": "s8-yhUdkV8JF"
      },
      "outputs": [],
      "source": [
        "def enhanced_simulated_call_price_CI_generator(S0, K, T, r, q, sigma, N, antithetic=False):\n",
        "    # Compute the drift and the discount factor\n",
        "    drift = (r - q - 0.5 * sigma ** 2) * T\n",
        "    discount_factor = np.exp(-r * T)\n",
        "\n",
        "    # Generate standard normal random variables\n",
        "    if antithetic:\n",
        "        z1 = np.random.standard_normal(N)\n",
        "        z2 = -z1\n",
        "        z = np.concatenate([z1, z2])\n",
        "    else:\n",
        "        z = np.random.standard_normal(N)\n",
        "\n",
        "    # Compute the simulated stock prices at expiry\n",
        "    ST = S0 * np.exp(drift + sigma * np.sqrt(T) * z)\n",
        "\n",
        "    # Compute the payoffs of the call option\n",
        "    payoff = np.maximum(ST - K, 0)\n",
        "\n",
        "    # Compute the simulated option prices\n",
        "    if antithetic:\n",
        "        V_N = discount_factor * np.mean(payoff)\n",
        "    else:\n",
        "        V_N = discount_factor * np.mean(payoff[:N])\n",
        "\n",
        "    # Compute the standard error of the simulated option prices\n",
        "    se = np.std(payoff, ddof=1) / np.sqrt(N)\n",
        "\n",
        "    # Compute the 95% confidence interval of the simulated option prices\n",
        "    lower = V_N - 1.96 * se\n",
        "    upper = V_N + 1.96 * se\n",
        "\n",
        "    return V_N, (lower, upper)\n",
        "\n",
        "\n"
      ]
    },
    {
      "cell_type": "code",
      "execution_count": null,
      "metadata": {
        "colab": {
          "base_uri": "https://localhost:8080/"
        },
        "id": "3_4Xv6ef21Jf",
        "outputId": "21096d3a-b674-4b81-c643-62b6666314b7"
      },
      "outputs": [
        {
          "output_type": "stream",
          "name": "stdout",
          "text": [
            "Simulated price: 20.7732\n",
            "95% confidence interval: [20.6712, 20.8752]\n",
            "Simulated price: 20.7466\n",
            "95% confidence interval: [20.6447, 20.8485]\n",
            "Theoretical price:  20.743527985763706\n",
            "Delta:  0.8845566261664979\n"
          ]
        }
      ],
      "source": [
        "S0 = 180\n",
        "K = 160\n",
        "T = 0.25\n",
        "r = 0.01\n",
        "q = 0.015\n",
        "sigma = 0.2\n",
        "N = 100000\n",
        "\n",
        "# Example usage without antithetic draws \n",
        "VN, (lower, upper) = enhanced_simulated_call_price_CI_generator(S0, K, T, r, q, sigma, N, antithetic=False)\n",
        "print(f\"Simulated price: {VN:.4f}\")\n",
        "print(f\"95% confidence interval: [{lower:.4f}, {upper:.4f}]\")\n",
        "\n",
        "# Example usage with antithetic draws\n",
        "VN, (lower, upper) = enhanced_simulated_call_price_CI_generator(S0, K, T, r, q, sigma, N, antithetic=True)\n",
        "print(f\"Simulated price: {VN:.4f}\")\n",
        "print(f\"95% confidence interval: [{lower:.4f}, {upper:.4f}]\")\n",
        "\n",
        "# Example usage of theoretical function with given data\n",
        "price, delta = bs_call_price_delta(180, 160, 0.25, 0.01, 0.015, 0.20)\n",
        "print(\"Theoretical price: \", price)\n",
        "print(\"Delta: \", delta)\n",
        "\n"
      ]
    },
    {
      "cell_type": "markdown",
      "metadata": {
        "id": "vc4DNpVCV8iy"
      },
      "source": [
        "Now let’s compare the empirical distribution for $V_{2N}$ and $\\tilde{V_N}$."
      ]
    },
    {
      "cell_type": "markdown",
      "metadata": {
        "id": "bPxXxWhZWJif"
      },
      "source": [
        "**e) Use the example data and your function in part (d) to generate 1000 simulated prices for $V_{2N}$ and $\\tilde{V_N}$. Here set $N = 500000$. Chart the distribution of $V_{2N}$ and $\\tilde{V_N}$ in the same figure. Compute and compare the sample variance of the 1000 simulated prices for $V_{2N}$ and $\\tilde{V_N}$.**"
      ]
    },
    {
      "cell_type": "markdown",
      "source": [
        "We can see that $Var(V_{2N}) > Var(\\tilde{V_N})$. This illustrates the power of using antithetical draw in this case. Not only does it reduce variance, we can do our analysis with a fewer number of simulations.\n"
      ],
      "metadata": {
        "id": "lGHdkB0gT1MN"
      }
    },
    {
      "cell_type": "code",
      "execution_count": null,
      "metadata": {
        "id": "1YKd9w6BWp5N",
        "colab": {
          "base_uri": "https://localhost:8080/",
          "height": 316
        },
        "outputId": "c8052db8-9a8e-4721-e2c0-5c4fff5d19c4"
      },
      "outputs": [
        {
          "output_type": "display_data",
          "data": {
            "text/plain": [
              "<Figure size 432x288 with 1 Axes>"
            ],
            "image/png": "[encoded data removed]"
          },
          "metadata": {
            "needs_background": "light"
          }
        },
        {
          "output_type": "stream",
          "name": "stdout",
          "text": [
            "Sample variance of V_N_tilde: 0.00003\n",
            "Sample variance of V_2N: 0.00029\n"
          ]
        }
      ],
      "source": [
        "S0 = 180\n",
        "K = 160\n",
        "T = 0.25\n",
        "r = 0.01\n",
        "q = 0.015\n",
        "sigma = 0.2\n",
        "N = 500000\n",
        "N_sim = 1000\n",
        "N_range = np.arange(0, N_sim)\n",
        "\n",
        "\n",
        "v_n_tilde = []\n",
        "v_2n = []\n",
        "for i in range(1000):\n",
        "    v_n_tilde_i, _ = enhanced_simulated_call_price_CI_generator(S0, K, T, r, q, sigma, N, antithetic=True)\n",
        "    v_n_tilde.append(v_n_tilde_i)\n",
        "    \n",
        "    v_2n_i, _ = enhanced_simulated_call_price_CI_generator(S0, K, T, r, q, sigma, 2*N, antithetic=False)\n",
        "    v_2n.append(v_2n_i)\n",
        "\n",
        "import matplotlib.pyplot as plt\n",
        "\n",
        "plt.hist(v_n_tilde, bins=50, alpha=0.5, label='V_N_tilde')\n",
        "plt.hist(v_2n, bins=50, alpha=0.5, label='V_2N')\n",
        "plt.legend(loc='upper right')\n",
        "plt.xlabel('Option Price')\n",
        "plt.ylabel('Frequency')\n",
        "plt.show()\n",
        "\n",
        "# Compute the sample variances\n",
        "var_V_n_tilde = np.var(v_n_tilde, ddof=1)\n",
        "var_V_2n = np.var(v_2n, ddof=1)\n",
        "\n",
        "print(f'Sample variance of V_N_tilde: {var_V_n_tilde:.5f}')\n",
        "print(f'Sample variance of V_2N: {var_V_2n:.5f}')\n"
      ]
    },
    {
      "cell_type": "markdown",
      "metadata": {
        "id": "Bqcu9AArWqPH"
      },
      "source": [
        "---\n",
        "## **Greek calculations**\n",
        "---\n",
        "\n",
        "There are two potential ways to compute the numerical delta of the option using MC simulation.\n",
        "\n",
        "First the simulated price is a function of the current stock price. One can view $V_N$ as $V_N(S_0)$. With a small shift (say, $ε = 0.01S_0$) of the current stock price, one can compute the one-sided delta as:\n",
        "\n",
        "$$Δ_1 = \\frac{V_N(S_0+ε)-V_N(S_0)}{ε}$$\n",
        "\n",
        "Another approach is that since random samples are already generated in computing $V_N(S_0)$, we may as well re-use these samples to estimate $V_N(S_0+ε)$. Suppose the standard normal random samples are $z_1, ..., z_N$. Let’s denote the simulated price computed from these samples by $V_N(S_0;z_1, ..., z_N)$. Then one can estimate the one-sided delta as:\n",
        "\n",
        "$$Δ_2 = \\frac{V_N(S_0+ε;z_1, ... , z_N) - V_N(S_0;z_1, ..., z_N)}{ε}$$"
      ]
    },
    {
      "cell_type": "markdown",
      "metadata": {
        "id": "2V8YBegCZDlV"
      },
      "source": [
        "**f) Write a function to compute and return $∆_1$. Use the example data to call your function several times with different shifts. Comment if you get “good” Deltas. Does it converge to the theoretical delta?**"
      ]
    },
    {
      "cell_type": "markdown",
      "source": [
        "We can see from the results below that this method is not able to give us \"good\" deltas which I consider to be close to the theoretical delta value. We can see that we don't have a convergence to the theoretical delta in this case."
      ],
      "metadata": {
        "id": "EV3jYT9X_ZEj"
      }
    },
    {
      "cell_type": "code",
      "execution_count": null,
      "metadata": {
        "id": "IFMlBCjFZPv-"
      },
      "outputs": [],
      "source": [
        "def delta_1(S0, K, T, r, q, sigma, N, epsilon):\n",
        "    V_N_S0, (_, __) = enhanced_simulated_call_price_CI_generator(S0, K, T, r, q, sigma, N)\n",
        "    V_N_S0_plus_epsilon, (_, __) = enhanced_simulated_call_price_CI_generator(S0 + epsilon, K, T, r, q, sigma, N)\n",
        "    delta = (V_N_S0_plus_epsilon - V_N_S0)/epsilon\n",
        "    return delta\n"
      ]
    },
    {
      "cell_type": "code",
      "source": [
        "S0 = 180\n",
        "K = 160\n",
        "T = 0.25\n",
        "r = 0.01\n",
        "q = 0.015\n",
        "sigma = 0.2\n",
        "N = 500000\n",
        "\n",
        "# Example usage of theoretical function with given data\n",
        "price, delta = bs_call_price_delta(180, 160, 0.25, 0.01, 0.015, 0.20)\n",
        "print(\"Theoretical Delta: \", delta)\n",
        "\n",
        "print(f\"Delta_1 using epsilon = 0.5 is: {delta_1(S0, K, T, r, q, sigma, N, epsilon=0.5):.4f}\")\n",
        "print(f\"Delta_1 using epsilon = 0.1 is: {delta_1(S0, K, T, r, q, sigma, N, epsilon=0.1):.4f}\")\n",
        "print(f\"Delta_1 using epsilon = 0.05 is: {delta_1(S0, K, T, r, q, sigma, N, epsilon=0.05):.4f}\")\n",
        "print(f\"Delta_1 using epsilon = 0.02 is: {delta_1(S0, K, T, r, q, sigma, N, epsilon=0.02):.4f}\")\n",
        "print(f\"Delta_1 using epsilon = 0.01 is: {delta_1(S0, K, T, r, q, sigma, N, epsilon=0.01):.4f}\")\n",
        "print(f\"Delta_1 using epsilon = 0.005 is: {delta_1(S0, K, T, r, q, sigma, N, epsilon=0.005):.4f}\")\n",
        "print(f\"Delta_1 using epsilon = 0.0001 is: {delta_1(S0, K, T, r, q, sigma, N, epsilon=0.0001):.4f}\")\n",
        "print(f\"Delta_1 using epsilon = 0.00001 is: {delta_1(S0, K, T, r, q, sigma, N, epsilon=0.00001):.4f}\")\n",
        "print(f\"Delta_1 using epsilon = 0.000001 is: {delta_1(S0, K, T, r, q, sigma, N, epsilon=0.000001):.4f}\")\n",
        "print(f\"Delta_1 using epsilon = 0.0000001 is: {delta_1(S0, K, T, r, q, sigma, N, epsilon=0.0000001):.4f}\")"
      ],
      "metadata": {
        "colab": {
          "base_uri": "https://localhost:8080/"
        },
        "id": "f4soFUuen-tv",
        "outputId": "9dc43bb8-4102-46b3-f049-cd027d90c30b"
      },
      "execution_count": null,
      "outputs": [
        {
          "output_type": "stream",
          "name": "stdout",
          "text": [
            "Theoretical Delta:  0.8845566261664979\n",
            "Delta_1 using epsilon = 0.5 is: 0.8313\n",
            "Delta_1 using epsilon = 0.1 is: 1.7501\n",
            "Delta_1 using epsilon = 0.05 is: 1.7913\n",
            "Delta_1 using epsilon = 0.02 is: 2.0860\n",
            "Delta_1 using epsilon = 0.01 is: 3.0526\n",
            "Delta_1 using epsilon = 0.005 is: -2.9905\n",
            "Delta_1 using epsilon = 0.0001 is: 147.8730\n",
            "Delta_1 using epsilon = 0.00001 is: 2791.4429\n",
            "Delta_1 using epsilon = 0.000001 is: -18497.7926\n",
            "Delta_1 using epsilon = 0.0000001 is: -132520.2386\n"
          ]
        }
      ]
    },
    {
      "cell_type": "markdown",
      "metadata": {
        "id": "pxVrw5u8ZQ33"
      },
      "source": [
        "**g) Write a function to compute and return $∆_2$. Use the example data to call your function several times with different shifts. Comment if you get “good” Deltas. Does it converge to the theoretical delta?**"
      ]
    },
    {
      "cell_type": "markdown",
      "source": [
        "We can see that this method is able to give us \"good\" delta values which we define as values which are comparable to the theoretical value of delta. Also, we can see from the examples run below that our delta_2 function outputs seem to converge to the theoretical delta as we decrease our epsilon."
      ],
      "metadata": {
        "id": "UljShvZ5_trI"
      }
    },
    {
      "cell_type": "code",
      "execution_count": null,
      "metadata": {
        "id": "DaEci8daZjAQ"
      },
      "outputs": [],
      "source": [
        "def delta_2(S0, K, T, r, q, sigma, N, epsilon):\n",
        "    # Compute VN at S0\n",
        "    z = np.random.standard_normal(N)\n",
        "    ST = S0 * np.exp((r - q - 0.5 * sigma ** 2) * T + sigma * np.sqrt(T) * z)\n",
        "    payoff = np.maximum(ST - K, 0)\n",
        "    VN_S0 = np.exp(-r * T) * np.mean(payoff)\n",
        "    \n",
        "    # Compute VN at S0 + epsilon using the same z samples\n",
        "    ST_epsilon = (S0 + epsilon) * np.exp((r - q - 0.5 * sigma ** 2) * T + sigma * np.sqrt(T) * z)\n",
        "    payoff_epsilon = np.maximum(ST_epsilon - K, 0)\n",
        "    VN_S0_epsilon = np.exp(-r * T) * np.mean(payoff_epsilon)\n",
        "    \n",
        "    # Compute delta\n",
        "    delta = (VN_S0_epsilon - VN_S0) / epsilon\n",
        "    \n",
        "    return delta\n"
      ]
    },
    {
      "cell_type": "code",
      "source": [
        "S0 = 180\n",
        "K = 160\n",
        "T = 0.25\n",
        "r = 0.01\n",
        "sigma = 0.2\n",
        "N = 500000\n",
        "\n",
        "# Example usage of theoretical function with given data\n",
        "price, delta = bs_call_price_delta(180, 160, 0.25, 0.01, 0.015, 0.20)\n",
        "print(\"Theoretical Delta: \", delta)\n",
        "\n",
        "print(f\"Delta_2 using epsilon = 0.5 is: {delta_2(S0, K, T, r, q, sigma, N, epsilon=0.5):.4f}\")\n",
        "print(f\"Delta_2 using epsilon = 0.1 is: {delta_2(S0, K, T, r, q, sigma, N, epsilon=0.1):.4f}\")\n",
        "print(f\"Delta_2 using epsilon = 0.05 is: {delta_2(S0, K, T, r, q, sigma, N, epsilon=0.05):.4f}\")\n",
        "print(f\"Delta_2 using epsilon = 0.02 is: {delta_2(S0, K, T, r, q, sigma, N, epsilon=0.02):.4f}\")\n",
        "print(f\"Delta_2 using epsilon = 0.01 is: {delta_2(S0, K, T, r, q, sigma, N, epsilon=0.01):.4f}\")\n",
        "print(f\"Delta_2 using epsilon = 0.005 is: {delta_2(S0, K, T, r, q, sigma, N, epsilon=0.005):.4f}\")\n",
        "print(f\"Delta_2 using epsilon = 0.0001 is: {delta_2(S0, K, T, r, q, sigma, N, epsilon=0.0001):.4f}\")\n",
        "print(f\"Delta_2 using epsilon = 0.00001 is: {delta_2(S0, K, T, r, q, sigma, N, epsilon=0.00001):.4f}\")\n",
        "print(f\"Delta_2 using epsilon = 0.000001 is: {delta_2(S0, K, T, r, q, sigma, N, epsilon=0.000001):.4f}\")\n",
        "print(f\"Delta_2 using epsilon = 0.0000001 is: {delta_2(S0, K, T, r, q, sigma, N, epsilon=0.0000001):.4f}\")"
      ],
      "metadata": {
        "colab": {
          "base_uri": "https://localhost:8080/"
        },
        "id": "zQNzi-1MpzaP",
        "outputId": "c0b473b2-a483-4c58-faf1-90da94d10e21"
      },
      "execution_count": null,
      "outputs": [
        {
          "output_type": "stream",
          "name": "stdout",
          "text": [
            "Theoretical Delta:  0.8845566261664979\n",
            "Delta_2 using epsilon = 0.5 is: 0.8867\n",
            "Delta_2 using epsilon = 0.1 is: 0.8855\n",
            "Delta_2 using epsilon = 0.05 is: 0.8852\n",
            "Delta_2 using epsilon = 0.02 is: 0.8854\n",
            "Delta_2 using epsilon = 0.01 is: 0.8850\n",
            "Delta_2 using epsilon = 0.005 is: 0.8847\n",
            "Delta_2 using epsilon = 0.0001 is: 0.8842\n",
            "Delta_2 using epsilon = 0.00001 is: 0.8849\n",
            "Delta_2 using epsilon = 0.000001 is: 0.8848\n",
            "Delta_2 using epsilon = 0.0000001 is: 0.8844\n"
          ]
        }
      ]
    },
    {
      "cell_type": "markdown",
      "metadata": {
        "id": "GO8nHF5AZkPr"
      },
      "source": [
        "---\n",
        "#### End of the Assignment\n",
        "---"
      ]
    }
  ],
  "metadata": {
    "colab": {
      "provenance": []
    },
    "kernelspec": {
      "display_name": "Python 3 (ipykernel)",
      "language": "python",
      "name": "python3"
    },
    "language_info": {
      "codemirror_mode": {
        "name": "ipython",
        "version": 3
      },
      "file_extension": ".py",
      "mimetype": "text/x-python",
      "name": "python",
      "nbconvert_exporter": "python",
      "pygments_lexer": "ipython3",
      "version": "3.9.7"
    }
  },
  "nbformat": 4,
  "nbformat_minor": 0
}