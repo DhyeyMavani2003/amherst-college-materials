{
 "cells": [
  {
   "cell_type": "code",
   "execution_count": 1,
   "id": "a22a8a45",
   "metadata": {},
   "outputs": [],
   "source": [
    "import os\n",
    "import sys\n",
    "sys.path.insert(0, os.path.abspath('..'))\n",
    "\n",
    "import warnings\n",
    "warnings.filterwarnings('ignore')\n",
    "\n",
    "%matplotlib inline\n",
    "# pip uninstall pandas\n",
    "# pip install pandas==0.24\n",
    "# pip install pandas.util\n",
    "import pandas as pd\n",
    "\n",
    "# conda install -c anaconda quandl\n",
    "import quandl\n",
    "\n",
    "# pip install cvxportfolio\n",
    "# pip install multiprocess\n",
    "# pip install pandas_datareader\n",
    "import cvxportfolio as cp"
   ]
  },
  {
   "cell_type": "code",
   "execution_count": null,
   "id": "d493bd95",
   "metadata": {},
   "outputs": [],
   "source": []
  },
  {
   "cell_type": "code",
   "execution_count": 2,
   "id": "5f06298a",
   "metadata": {},
   "outputs": [
    {
     "data": {
      "text/html": [
       "<div>\n",
       "<style scoped>\n",
       "    .dataframe tbody tr th:only-of-type {\n",
       "        vertical-align: middle;\n",
       "    }\n",
       "\n",
       "    .dataframe tbody tr th {\n",
       "        vertical-align: top;\n",
       "    }\n",
       "\n",
       "    .dataframe thead th {\n",
       "        text-align: right;\n",
       "    }\n",
       "</style>\n",
       "<table border=\"1\" class=\"dataframe\">\n",
       "  <thead>\n",
       "    <tr style=\"text-align: right;\">\n",
       "      <th></th>\n",
       "      <th>AMZN</th>\n",
       "      <th>GOOGL</th>\n",
       "      <th>TSLA</th>\n",
       "      <th>NKE</th>\n",
       "      <th>USDOLLAR</th>\n",
       "    </tr>\n",
       "    <tr>\n",
       "      <th>Date</th>\n",
       "      <th></th>\n",
       "      <th></th>\n",
       "      <th></th>\n",
       "      <th></th>\n",
       "      <th></th>\n",
       "    </tr>\n",
       "  </thead>\n",
       "  <tbody>\n",
       "    <tr>\n",
       "      <th>2016-12-23</th>\n",
       "      <td>-0.007503</td>\n",
       "      <td>-0.002322</td>\n",
       "      <td>0.023459</td>\n",
       "      <td>-0.004411</td>\n",
       "      <td>0.000020</td>\n",
       "    </tr>\n",
       "    <tr>\n",
       "      <th>2016-12-27</th>\n",
       "      <td>0.014213</td>\n",
       "      <td>0.002637</td>\n",
       "      <td>0.029015</td>\n",
       "      <td>-0.011944</td>\n",
       "      <td>0.000020</td>\n",
       "    </tr>\n",
       "    <tr>\n",
       "      <th>2016-12-28</th>\n",
       "      <td>0.000946</td>\n",
       "      <td>-0.006618</td>\n",
       "      <td>0.000957</td>\n",
       "      <td>-0.005264</td>\n",
       "      <td>0.000021</td>\n",
       "    </tr>\n",
       "    <tr>\n",
       "      <th>2016-12-29</th>\n",
       "      <td>-0.009040</td>\n",
       "      <td>-0.002101</td>\n",
       "      <td>-0.023027</td>\n",
       "      <td>0.000784</td>\n",
       "      <td>0.000018</td>\n",
       "    </tr>\n",
       "    <tr>\n",
       "      <th>2016-12-30</th>\n",
       "      <td>-0.019970</td>\n",
       "      <td>-0.012991</td>\n",
       "      <td>-0.004612</td>\n",
       "      <td>-0.004505</td>\n",
       "      <td>0.000020</td>\n",
       "    </tr>\n",
       "  </tbody>\n",
       "</table>\n",
       "</div>"
      ],
      "text/plain": [
       "                AMZN     GOOGL      TSLA       NKE  USDOLLAR\n",
       "Date                                                        \n",
       "2016-12-23 -0.007503 -0.002322  0.023459 -0.004411  0.000020\n",
       "2016-12-27  0.014213  0.002637  0.029015 -0.011944  0.000020\n",
       "2016-12-28  0.000946 -0.006618  0.000957 -0.005264  0.000021\n",
       "2016-12-29 -0.009040 -0.002101 -0.023027  0.000784  0.000018\n",
       "2016-12-30 -0.019970 -0.012991 -0.004612 -0.004505  0.000020"
      ]
     },
     "execution_count": 2,
     "metadata": {},
     "output_type": "execute_result"
    }
   ],
   "source": [
    "# Download the problem data from Quandl and select four liquid stocks, and the risk-free rate\n",
    "tickers = ['AMZN', 'GOOGL', 'TSLA', 'NKE']\n",
    "start_date='2012-01-01'\n",
    "end_date='2016-12-31'\n",
    "returns = pd.DataFrame(dict([(ticker, quandl.get('WIKI/'+ticker, \n",
    "                                    start_date=start_date, \n",
    "                                    end_date=end_date)['Adj. Close'].pct_change())\n",
    "                for ticker in tickers]))\n",
    "returns[[\"USDOLLAR\"]]=quandl.get('FRED/DTB3', start_date=start_date, end_date=end_date)/(250*100)\n",
    "returns = returns.fillna(method='ffill').iloc[1:]\n",
    "\n",
    "returns.tail()"
   ]
  },
  {
   "cell_type": "code",
   "execution_count": 3,
   "id": "eda7d548",
   "metadata": {},
   "outputs": [
    {
     "data": {
      "text/html": [
       "<div>\n",
       "<style scoped>\n",
       "    .dataframe tbody tr th:only-of-type {\n",
       "        vertical-align: middle;\n",
       "    }\n",
       "\n",
       "    .dataframe tbody tr th {\n",
       "        vertical-align: top;\n",
       "    }\n",
       "\n",
       "    .dataframe thead th {\n",
       "        text-align: right;\n",
       "    }\n",
       "</style>\n",
       "<table border=\"1\" class=\"dataframe\">\n",
       "  <thead>\n",
       "    <tr style=\"text-align: right;\">\n",
       "      <th></th>\n",
       "      <th>AMZN</th>\n",
       "      <th>GOOGL</th>\n",
       "      <th>TSLA</th>\n",
       "      <th>NKE</th>\n",
       "      <th>USDOLLAR</th>\n",
       "    </tr>\n",
       "    <tr>\n",
       "      <th>Date</th>\n",
       "      <th></th>\n",
       "      <th></th>\n",
       "      <th></th>\n",
       "      <th></th>\n",
       "      <th></th>\n",
       "    </tr>\n",
       "  </thead>\n",
       "  <tbody>\n",
       "    <tr>\n",
       "      <th>2016-12-23</th>\n",
       "      <td>0.000683</td>\n",
       "      <td>0.000219</td>\n",
       "      <td>-0.000074</td>\n",
       "      <td>-0.000660</td>\n",
       "      <td>0.000012</td>\n",
       "    </tr>\n",
       "    <tr>\n",
       "      <th>2016-12-27</th>\n",
       "      <td>0.000542</td>\n",
       "      <td>0.000150</td>\n",
       "      <td>-0.000124</td>\n",
       "      <td>-0.000706</td>\n",
       "      <td>0.000013</td>\n",
       "    </tr>\n",
       "    <tr>\n",
       "      <th>2016-12-28</th>\n",
       "      <td>0.000627</td>\n",
       "      <td>0.000179</td>\n",
       "      <td>-0.000023</td>\n",
       "      <td>-0.000691</td>\n",
       "      <td>0.000013</td>\n",
       "    </tr>\n",
       "    <tr>\n",
       "      <th>2016-12-29</th>\n",
       "      <td>0.000707</td>\n",
       "      <td>0.000215</td>\n",
       "      <td>-0.000052</td>\n",
       "      <td>-0.000664</td>\n",
       "      <td>0.000013</td>\n",
       "    </tr>\n",
       "    <tr>\n",
       "      <th>2016-12-30</th>\n",
       "      <td>0.000901</td>\n",
       "      <td>0.000302</td>\n",
       "      <td>0.000133</td>\n",
       "      <td>-0.000598</td>\n",
       "      <td>0.000013</td>\n",
       "    </tr>\n",
       "  </tbody>\n",
       "</table>\n",
       "</div>"
      ],
      "text/plain": [
       "                AMZN     GOOGL      TSLA       NKE  USDOLLAR\n",
       "Date                                                        \n",
       "2016-12-23  0.000683  0.000219 -0.000074 -0.000660  0.000012\n",
       "2016-12-27  0.000542  0.000150 -0.000124 -0.000706  0.000013\n",
       "2016-12-28  0.000627  0.000179 -0.000023 -0.000691  0.000013\n",
       "2016-12-29  0.000707  0.000215 -0.000052 -0.000664  0.000013\n",
       "2016-12-30  0.000901  0.000302  0.000133 -0.000598  0.000013"
      ]
     },
     "execution_count": 3,
     "metadata": {},
     "output_type": "execute_result"
    }
   ],
   "source": [
    "# We compute rolling estimates of the first and second moments of the returns using a window of 250 days. \n",
    "# We shift them by one unit (so at every day we present the optimizer with only past data).\n",
    "\n",
    "r_hat = returns.rolling(window=250, min_periods=250).mean().shift(1).dropna()\n",
    "Sigma_hat = returns.rolling(window=250, min_periods=250, closed='neither').cov().dropna().droplevel(1)\n",
    "\n",
    "r_hat.tail()"
   ]
  },
  {
   "cell_type": "code",
   "execution_count": null,
   "id": "6a598491",
   "metadata": {},
   "outputs": [],
   "source": []
  },
  {
   "cell_type": "code",
   "execution_count": 9,
   "id": "64c8d48b",
   "metadata": {},
   "outputs": [
    {
     "ename": "AttributeError",
     "evalue": "module 'pandas' has no attribute 'Panel'",
     "output_type": "error",
     "traceback": [
      "\u001b[0;31m---------------------------------------------------------------------------\u001b[0m",
      "\u001b[0;31mAttributeError\u001b[0m                            Traceback (most recent call last)",
      "\u001b[0;32m/var/folders/rb/x4vhwjb16wj764ztdb96gnlh0000gn/T/ipykernel_635/2136803551.py\u001b[0m in \u001b[0;36m<module>\u001b[0;34m\u001b[0m\n\u001b[1;32m      5\u001b[0m \u001b[0;31m# - a Pandas DataFrame indexed by timestamps with asset names as columns, for values that vary by asset and in time.\u001b[0m\u001b[0;34m\u001b[0m\u001b[0;34m\u001b[0m\u001b[0m\n\u001b[1;32m      6\u001b[0m \u001b[0;34m\u001b[0m\u001b[0m\n\u001b[0;32m----> 7\u001b[0;31m \u001b[0mtcost_model\u001b[0m\u001b[0;34m=\u001b[0m\u001b[0mcp\u001b[0m\u001b[0;34m.\u001b[0m\u001b[0mTcostModel\u001b[0m\u001b[0;34m(\u001b[0m\u001b[0mhalf_spread\u001b[0m\u001b[0;34m=\u001b[0m\u001b[0;36m10E-4\u001b[0m\u001b[0;34m)\u001b[0m\u001b[0;34m\u001b[0m\u001b[0;34m\u001b[0m\u001b[0m\n\u001b[0m\u001b[1;32m      8\u001b[0m \u001b[0mhcost_model\u001b[0m\u001b[0;34m=\u001b[0m\u001b[0mcp\u001b[0m\u001b[0;34m.\u001b[0m\u001b[0mHcostModel\u001b[0m\u001b[0;34m(\u001b[0m\u001b[0mborrow_costs\u001b[0m\u001b[0;34m=\u001b[0m\u001b[0;36m1E-4\u001b[0m\u001b[0;34m)\u001b[0m\u001b[0;34m\u001b[0m\u001b[0;34m\u001b[0m\u001b[0m\n",
      "\u001b[0;32m~/opt/anaconda3/lib/python3.9/site-packages/cvxportfolio/costs.py\u001b[0m in \u001b[0;36m__init__\u001b[0;34m(self, half_spread, nonlin_coeff, sigma, volume, power)\u001b[0m\n\u001b[1;32m    126\u001b[0m     def __init__(self, half_spread, nonlin_coeff=0., sigma=0., volume=1.,\n\u001b[1;32m    127\u001b[0m                  power=1.5):\n\u001b[0;32m--> 128\u001b[0;31m         \u001b[0mnull_checker\u001b[0m\u001b[0;34m(\u001b[0m\u001b[0mhalf_spread\u001b[0m\u001b[0;34m)\u001b[0m\u001b[0;34m\u001b[0m\u001b[0;34m\u001b[0m\u001b[0m\n\u001b[0m\u001b[1;32m    129\u001b[0m         \u001b[0mself\u001b[0m\u001b[0;34m.\u001b[0m\u001b[0mhalf_spread\u001b[0m \u001b[0;34m=\u001b[0m \u001b[0mhalf_spread\u001b[0m\u001b[0;34m\u001b[0m\u001b[0;34m\u001b[0m\u001b[0m\n\u001b[1;32m    130\u001b[0m         \u001b[0mnull_checker\u001b[0m\u001b[0;34m(\u001b[0m\u001b[0msigma\u001b[0m\u001b[0;34m)\u001b[0m\u001b[0;34m\u001b[0m\u001b[0;34m\u001b[0m\u001b[0m\n",
      "\u001b[0;32m~/opt/anaconda3/lib/python3.9/site-packages/cvxportfolio/utils/data_management.py\u001b[0m in \u001b[0;36mnull_checker\u001b[0;34m(obj)\u001b[0m\n\u001b[1;32m     23\u001b[0m \u001b[0;32mdef\u001b[0m \u001b[0mnull_checker\u001b[0m\u001b[0;34m(\u001b[0m\u001b[0mobj\u001b[0m\u001b[0;34m)\u001b[0m\u001b[0;34m:\u001b[0m\u001b[0;34m\u001b[0m\u001b[0;34m\u001b[0m\u001b[0m\n\u001b[1;32m     24\u001b[0m     \u001b[0;34m\"\"\"Check if obj contains NaN.\"\"\"\u001b[0m\u001b[0;34m\u001b[0m\u001b[0;34m\u001b[0m\u001b[0m\n\u001b[0;32m---> 25\u001b[0;31m     if (isinstance(obj, pd.Panel) or\n\u001b[0m\u001b[1;32m     26\u001b[0m         \u001b[0misinstance\u001b[0m\u001b[0;34m(\u001b[0m\u001b[0mobj\u001b[0m\u001b[0;34m,\u001b[0m \u001b[0mpd\u001b[0m\u001b[0;34m.\u001b[0m\u001b[0mDataFrame\u001b[0m\u001b[0;34m)\u001b[0m \u001b[0;32mor\u001b[0m\u001b[0;34m\u001b[0m\u001b[0;34m\u001b[0m\u001b[0m\n\u001b[1;32m     27\u001b[0m             isinstance(obj, pd.Series)):\n",
      "\u001b[0;32m~/opt/anaconda3/lib/python3.9/site-packages/pandas/__init__.py\u001b[0m in \u001b[0;36m__getattr__\u001b[0;34m(name)\u001b[0m\n\u001b[1;32m    262\u001b[0m         \u001b[0;32mreturn\u001b[0m \u001b[0m_SparseArray\u001b[0m\u001b[0;34m\u001b[0m\u001b[0;34m\u001b[0m\u001b[0m\n\u001b[1;32m    263\u001b[0m \u001b[0;34m\u001b[0m\u001b[0m\n\u001b[0;32m--> 264\u001b[0;31m     \u001b[0;32mraise\u001b[0m \u001b[0mAttributeError\u001b[0m\u001b[0;34m(\u001b[0m\u001b[0;34mf\"module 'pandas' has no attribute '{name}'\"\u001b[0m\u001b[0;34m)\u001b[0m\u001b[0;34m\u001b[0m\u001b[0;34m\u001b[0m\u001b[0m\n\u001b[0m\u001b[1;32m    265\u001b[0m \u001b[0;34m\u001b[0m\u001b[0m\n\u001b[1;32m    266\u001b[0m \u001b[0;34m\u001b[0m\u001b[0m\n",
      "\u001b[0;31mAttributeError\u001b[0m: module 'pandas' has no attribute 'Panel'"
     ]
    }
   ],
   "source": [
    "# Here we define the transaction cost and holding cost model (sections 2.3 and 2.4 of the paper). The data can be expressed as\n",
    "\n",
    "# - a scalar (like we're doing here), the same value for all assets and all time periods;\n",
    "# - a Pandas Series indexed by the asset names, for asset-specific values;\n",
    "# - a Pandas DataFrame indexed by timestamps with asset names as columns, for values that vary by asset and in time.\n",
    "\n",
    "tcost_model=cp.TcostModel(half_spread=10E-4)\n",
    "hcost_model=cp.HcostModel(borrow_costs=1E-4)"
   ]
  },
  {
   "cell_type": "code",
   "execution_count": 10,
   "id": "5cf96ace",
   "metadata": {},
   "outputs": [
    {
     "ename": "NameError",
     "evalue": "name 'tcost_model' is not defined",
     "output_type": "error",
     "traceback": [
      "\u001b[0;31m---------------------------------------------------------------------------\u001b[0m",
      "\u001b[0;31mNameError\u001b[0m                                 Traceback (most recent call last)",
      "\u001b[0;32m/var/folders/rb/x4vhwjb16wj764ztdb96gnlh0000gn/T/ipykernel_635/1493968361.py\u001b[0m in \u001b[0;36m<module>\u001b[0;34m\u001b[0m\n\u001b[1;32m      5\u001b[0m \u001b[0;34m\u001b[0m\u001b[0m\n\u001b[1;32m      6\u001b[0m spo_policy = cp.SinglePeriodOpt(return_forecast=r_hat, \n\u001b[0;32m----> 7\u001b[0;31m                                 \u001b[0mcosts\u001b[0m\u001b[0;34m=\u001b[0m\u001b[0;34m[\u001b[0m\u001b[0mgamma_risk\u001b[0m\u001b[0;34m*\u001b[0m\u001b[0mrisk_model\u001b[0m\u001b[0;34m,\u001b[0m \u001b[0mgamma_trade\u001b[0m\u001b[0;34m*\u001b[0m\u001b[0mtcost_model\u001b[0m\u001b[0;34m,\u001b[0m \u001b[0mgamma_hold\u001b[0m\u001b[0;34m*\u001b[0m\u001b[0mhcost_model\u001b[0m\u001b[0;34m]\u001b[0m\u001b[0;34m,\u001b[0m\u001b[0;34m\u001b[0m\u001b[0;34m\u001b[0m\u001b[0m\n\u001b[0m\u001b[1;32m      8\u001b[0m                                 constraints=[leverage_limit])\n",
      "\u001b[0;31mNameError\u001b[0m: name 'tcost_model' is not defined"
     ]
    }
   ],
   "source": [
    "# We define the single period optimization policy (section 4 of the paper).\n",
    "risk_model = cp.FullSigma(Sigma_hat)\n",
    "gamma_risk, gamma_trade, gamma_hold = 5., 1., 1.\n",
    "leverage_limit = cp.LeverageLimit(3)\n",
    "\n",
    "spo_policy = cp.SinglePeriodOpt(return_forecast=r_hat, \n",
    "                                costs=[gamma_risk*risk_model, gamma_trade*tcost_model, gamma_hold*hcost_model],\n",
    "                                constraints=[leverage_limit])"
   ]
  },
  {
   "cell_type": "code",
   "execution_count": 11,
   "id": "219acd8d",
   "metadata": {},
   "outputs": [
    {
     "ename": "NameError",
     "evalue": "name 'tcost_model' is not defined",
     "output_type": "error",
     "traceback": [
      "\u001b[0;31m---------------------------------------------------------------------------\u001b[0m",
      "\u001b[0;31mNameError\u001b[0m                                 Traceback (most recent call last)",
      "\u001b[0;32m/var/folders/rb/x4vhwjb16wj764ztdb96gnlh0000gn/T/ipykernel_635/475905206.py\u001b[0m in \u001b[0;36m<module>\u001b[0;34m\u001b[0m\n\u001b[1;32m      1\u001b[0m \u001b[0;31m# We run a backtest, which returns a result object. By calling its summary method we get some basic statistics.\u001b[0m\u001b[0;34m\u001b[0m\u001b[0;34m\u001b[0m\u001b[0m\n\u001b[0;32m----> 2\u001b[0;31m \u001b[0mmarket_sim\u001b[0m\u001b[0;34m=\u001b[0m\u001b[0mcp\u001b[0m\u001b[0;34m.\u001b[0m\u001b[0mMarketSimulator\u001b[0m\u001b[0;34m(\u001b[0m\u001b[0mreturns\u001b[0m\u001b[0;34m,\u001b[0m \u001b[0;34m[\u001b[0m\u001b[0mtcost_model\u001b[0m\u001b[0;34m,\u001b[0m \u001b[0mhcost_model\u001b[0m\u001b[0;34m]\u001b[0m\u001b[0;34m,\u001b[0m \u001b[0mcash_key\u001b[0m\u001b[0;34m=\u001b[0m\u001b[0;34m'USDOLLAR'\u001b[0m\u001b[0;34m)\u001b[0m\u001b[0;34m\u001b[0m\u001b[0;34m\u001b[0m\u001b[0m\n\u001b[0m\u001b[1;32m      3\u001b[0m \u001b[0minit_portfolio\u001b[0m \u001b[0;34m=\u001b[0m \u001b[0mpd\u001b[0m\u001b[0;34m.\u001b[0m\u001b[0mSeries\u001b[0m\u001b[0;34m(\u001b[0m\u001b[0mindex\u001b[0m\u001b[0;34m=\u001b[0m\u001b[0mreturns\u001b[0m\u001b[0;34m.\u001b[0m\u001b[0mcolumns\u001b[0m\u001b[0;34m,\u001b[0m \u001b[0mdata\u001b[0m\u001b[0;34m=\u001b[0m\u001b[0;36m250000.\u001b[0m\u001b[0;34m)\u001b[0m\u001b[0;34m\u001b[0m\u001b[0;34m\u001b[0m\u001b[0m\n\u001b[1;32m      4\u001b[0m \u001b[0minit_portfolio\u001b[0m\u001b[0;34m.\u001b[0m\u001b[0mUSDOLLAR\u001b[0m \u001b[0;34m=\u001b[0m \u001b[0;36m0\u001b[0m\u001b[0;34m\u001b[0m\u001b[0;34m\u001b[0m\u001b[0m\n\u001b[1;32m      5\u001b[0m results = market_sim.run_multiple_backtest(init_portfolio,\n",
      "\u001b[0;31mNameError\u001b[0m: name 'tcost_model' is not defined"
     ]
    }
   ],
   "source": [
    "# We run a backtest, which returns a result object. By calling its summary method we get some basic statistics.\n",
    "market_sim=cp.MarketSimulator(returns, [tcost_model, hcost_model], cash_key='USDOLLAR') \n",
    "init_portfolio = pd.Series(index=returns.columns, data=250000.)\n",
    "init_portfolio.USDOLLAR = 0\n",
    "results = market_sim.run_multiple_backtest(init_portfolio,\n",
    "                               start_time='2013-01-03',  end_time='2016-12-31',  \n",
    "                               policies=[spo_policy, cp.Hold()])\n",
    "results[0].summary()"
   ]
  },
  {
   "cell_type": "code",
   "execution_count": 12,
   "id": "ed141acd",
   "metadata": {},
   "outputs": [
    {
     "ename": "NameError",
     "evalue": "name 'results' is not defined",
     "output_type": "error",
     "traceback": [
      "\u001b[0;31m---------------------------------------------------------------------------\u001b[0m",
      "\u001b[0;31mNameError\u001b[0m                                 Traceback (most recent call last)",
      "\u001b[0;32m/var/folders/rb/x4vhwjb16wj764ztdb96gnlh0000gn/T/ipykernel_635/1543612757.py\u001b[0m in \u001b[0;36m<module>\u001b[0;34m\u001b[0m\n\u001b[1;32m      1\u001b[0m \u001b[0;31m# total portfolio value in time\u001b[0m\u001b[0;34m\u001b[0m\u001b[0;34m\u001b[0m\u001b[0m\n\u001b[0;32m----> 2\u001b[0;31m \u001b[0mresults\u001b[0m\u001b[0;34m[\u001b[0m\u001b[0;36m0\u001b[0m\u001b[0;34m]\u001b[0m\u001b[0;34m.\u001b[0m\u001b[0mv\u001b[0m\u001b[0;34m.\u001b[0m\u001b[0mplot\u001b[0m\u001b[0;34m(\u001b[0m\u001b[0mfigsize\u001b[0m\u001b[0;34m=\u001b[0m\u001b[0;34m(\u001b[0m\u001b[0;36m12\u001b[0m\u001b[0;34m,\u001b[0m\u001b[0;36m5\u001b[0m\u001b[0;34m)\u001b[0m\u001b[0;34m)\u001b[0m\u001b[0;34m\u001b[0m\u001b[0;34m\u001b[0m\u001b[0m\n\u001b[0m\u001b[1;32m      3\u001b[0m \u001b[0mresults\u001b[0m\u001b[0;34m[\u001b[0m\u001b[0;36m1\u001b[0m\u001b[0;34m]\u001b[0m\u001b[0;34m.\u001b[0m\u001b[0mv\u001b[0m\u001b[0;34m.\u001b[0m\u001b[0mplot\u001b[0m\u001b[0;34m(\u001b[0m\u001b[0mfigsize\u001b[0m\u001b[0;34m=\u001b[0m\u001b[0;34m(\u001b[0m\u001b[0;36m12\u001b[0m\u001b[0;34m,\u001b[0m\u001b[0;36m5\u001b[0m\u001b[0;34m)\u001b[0m\u001b[0;34m)\u001b[0m\u001b[0;34m\u001b[0m\u001b[0;34m\u001b[0m\u001b[0m\n",
      "\u001b[0;31mNameError\u001b[0m: name 'results' is not defined"
     ]
    }
   ],
   "source": [
    "# total portfolio value in time\n",
    "results[0].v.plot(figsize=(12,5))\n",
    "results[1].v.plot(figsize=(12,5))"
   ]
  },
  {
   "cell_type": "code",
   "execution_count": 13,
   "id": "7b1ebde5",
   "metadata": {},
   "outputs": [
    {
     "ename": "NameError",
     "evalue": "name 'results' is not defined",
     "output_type": "error",
     "traceback": [
      "\u001b[0;31m---------------------------------------------------------------------------\u001b[0m",
      "\u001b[0;31mNameError\u001b[0m                                 Traceback (most recent call last)",
      "\u001b[0;32m/var/folders/rb/x4vhwjb16wj764ztdb96gnlh0000gn/T/ipykernel_635/1473511738.py\u001b[0m in \u001b[0;36m<module>\u001b[0;34m\u001b[0m\n\u001b[1;32m      1\u001b[0m \u001b[0;31m# portfolio weight vectors over time\u001b[0m\u001b[0;34m\u001b[0m\u001b[0;34m\u001b[0m\u001b[0m\n\u001b[0;32m----> 2\u001b[0;31m \u001b[0mresults\u001b[0m\u001b[0;34m[\u001b[0m\u001b[0;36m0\u001b[0m\u001b[0;34m]\u001b[0m\u001b[0;34m.\u001b[0m\u001b[0mw\u001b[0m\u001b[0;34m.\u001b[0m\u001b[0mplot\u001b[0m\u001b[0;34m(\u001b[0m\u001b[0mfigsize\u001b[0m\u001b[0;34m=\u001b[0m\u001b[0;34m(\u001b[0m\u001b[0;36m12\u001b[0m\u001b[0;34m,\u001b[0m\u001b[0;36m6\u001b[0m\u001b[0;34m)\u001b[0m\u001b[0;34m)\u001b[0m\u001b[0;34m\u001b[0m\u001b[0;34m\u001b[0m\u001b[0m\n\u001b[0m",
      "\u001b[0;31mNameError\u001b[0m: name 'results' is not defined"
     ]
    }
   ],
   "source": [
    "# portfolio weight vectors over time\n",
    "results[0].w.plot(figsize=(12,6))"
   ]
  },
  {
   "cell_type": "code",
   "execution_count": null,
   "id": "db2276a9",
   "metadata": {},
   "outputs": [],
   "source": []
  }
 ],
 "metadata": {
  "kernelspec": {
   "display_name": "Python 3 (ipykernel)",
   "language": "python",
   "name": "python3"
  },
  "language_info": {
   "codemirror_mode": {
    "name": "ipython",
    "version": 3
   },
   "file_extension": ".py",
   "mimetype": "text/x-python",
   "name": "python",
   "nbconvert_exporter": "python",
   "pygments_lexer": "ipython3",
   "version": "3.9.7"
  }
 },
 "nbformat": 4,
 "nbformat_minor": 5
}
