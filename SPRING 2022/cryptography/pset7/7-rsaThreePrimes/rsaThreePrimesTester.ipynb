{
 "cells": [
  {
   "cell_type": "markdown",
   "metadata": {},
   "source": [
    "Alice decides that she wants to receive messages using a non-standard variant of RSA. Like in the usual RSA, she will choose a public key $N,e$, where $N$ is a number whose factorization she knows, and $\\gcd(e,\\phi(N)) = 1$. In this case, she will take $N = pqr$, where $p,q,r$ are distinct primes. To encrypt a message $m$ for Alice ($0 \\leq m < N$), Bob computes $c \\equiv m^e \\pmod{N}$. Write a function $\\texttt{rsaThreePrimes(p,q,r,e,c)}$ to do the following: given the three primes $p,q,r$, the number $e$, and the ciphertext $c$ sent by Bob, recover the original plaintext $m$.\n",
    "\n",
    "\\textit{Note.} While this setup is perfectly functional, in practice it is more efficient to use products of two primes, hence that is the standard. I encourage you to think about why it is more efficient to use only two primes.\n"
   ]
  },
  {
   "cell_type": "code",
   "execution_count": 10,
   "metadata": {
    "mainSource": true
   },
   "outputs": [],
   "source": [
    "# Run this cell every time you change your source code.\n",
    "import importlib, rsaThreePrimesSoln\n",
    "importlib.reload(rsaThreePrimesSoln)\n",
    "from rsaThreePrimesSoln import rsaThreePrimes"
   ]
  },
  {
   "cell_type": "code",
   "execution_count": 11,
   "metadata": {},
   "outputs": [
    {
     "data": {
      "text/plain": [
       "8808"
      ]
     },
     "execution_count": 11,
     "metadata": {},
     "output_type": "execute_result"
    }
   ],
   "source": [
    "# Sample test case (Three 5-bit primes)\n",
    "# Expected: 8808\n",
    "# Time limit: 1s (not enforced by this notebook)\n",
    "rsaThreePrimes(17,19,31,2777,3674)"
   ]
  },
  {
   "cell_type": "code",
   "execution_count": 12,
   "metadata": {},
   "outputs": [
    {
     "data": {
      "text/plain": [
       "74639"
      ]
     },
     "execution_count": 12,
     "metadata": {},
     "output_type": "execute_result"
    }
   ],
   "source": [
    "# Sample test case (Three 6-bit primes)\n",
    "# Expected: 74639\n",
    "# Time limit: 1s (not enforced by this notebook)\n",
    "rsaThreePrimes(59,53,61,44537,161696)"
   ]
  },
  {
   "cell_type": "code",
   "execution_count": 13,
   "metadata": {},
   "outputs": [
    {
     "data": {
      "text/plain": [
       "553324"
      ]
     },
     "execution_count": 13,
     "metadata": {},
     "output_type": "execute_result"
    }
   ],
   "source": [
    "# Sample test case (Three 8-bit primes)\n",
    "# Expected: 553324\n",
    "# Time limit: 1s (not enforced by this notebook)\n",
    "rsaThreePrimes(181,151,131,1536923,910637)"
   ]
  },
  {
   "cell_type": "code",
   "execution_count": 14,
   "metadata": {},
   "outputs": [
    {
     "data": {
      "text/plain": [
       "40944573351622"
      ]
     },
     "execution_count": 14,
     "metadata": {},
     "output_type": "execute_result"
    }
   ],
   "source": [
    "# Sample test case (Three 16-bit primes)\n",
    "# Expected: 40944573351622\n",
    "# Time limit: 1s (not enforced by this notebook)\n",
    "rsaThreePrimes(57329,36151,56873,105659590669423,42818519450745)"
   ]
  },
  {
   "cell_type": "code",
   "execution_count": 15,
   "metadata": {},
   "outputs": [
    {
     "data": {
      "text/plain": [
       "15262844240243978522211508054"
      ]
     },
     "execution_count": 15,
     "metadata": {},
     "output_type": "execute_result"
    }
   ],
   "source": [
    "# Sample test case (Three 32-bit primes)\n",
    "# Expected: 15262844240243978522211508054\n",
    "# Time limit: 1s (not enforced by this notebook)\n",
    "rsaThreePrimes(3671954537,2456735767,3956290529,30279757751397860981907349399,19274359256274880994296493278)"
   ]
  },
  {
   "cell_type": "code",
   "execution_count": 16,
   "metadata": {},
   "outputs": [
    {
     "data": {
      "text/plain": [
       "3888387939092830115931240850803515231246421514730532765803649090974957894540770513741052292796786097962471265295729"
      ]
     },
     "execution_count": 16,
     "metadata": {},
     "output_type": "execute_result"
    }
   ],
   "source": [
    "# Sample test case (Three 128-bit primes)\n",
    "# Expected: 3888387939092830115931240850803515231246421514730532765803649090974957894540770513741052292796786097962471265295729\n",
    "# Time limit: 1s (not enforced by this notebook)\n",
    "rsaThreePrimes(188229107344535111375603921675002563647,218437629855600396843490887547817903507,310653987822628145158106835997189364641,8567120636980312430608684727841988983522756249807940501584542315845564750194813461035314592569400872409620860091227,8172772147962620164433190442034059036518823998257040003437789411346392781041701538692358122200978478574581691500956)"
   ]
  },
  {
   "cell_type": "code",
   "execution_count": null,
   "metadata": {},
   "outputs": [],
   "source": []
  }
 ],
 "metadata": {
  "kernelspec": {
   "display_name": "Python 3 (ipykernel)",
   "language": "python",
   "name": "python3"
  },
  "language_info": {
   "codemirror_mode": {
    "name": "ipython",
    "version": 3
   },
   "file_extension": ".py",
   "mimetype": "text/x-python",
   "name": "python",
   "nbconvert_exporter": "python",
   "pygments_lexer": "ipython3",
   "version": "3.9.7"
  }
 },
 "nbformat": 4,
 "nbformat_minor": 2
}
