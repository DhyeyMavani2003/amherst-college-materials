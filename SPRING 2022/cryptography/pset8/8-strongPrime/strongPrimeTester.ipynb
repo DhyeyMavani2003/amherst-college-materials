{
 "cells": [
  {
   "cell_type": "markdown",
   "metadata": {},
   "source": [
    "We've discussed in class the need for choosing primes $p$ such that $p-1$ has a large prime factor, and also mentioned that it is also a good idea to ensure that $p+1$ also has a large prime factor (for reasons we won't discuss). In this problem, you will write a function $\\texttt{strongPrime(qbits,pbits)}$ to construct such a prime. You will be given integers $\\texttt{qbits}$ and $\\texttt{pbits}$, and should return $3$ prime numbers $q_1, q_2, p$ such that both $q_1$ and $q_2$ are at least $\\texttt{qbits}$ bits long, $p$ is exactly $\\texttt{pbits}$ bits long, and such that $q_1 \\mid (p-1)$ and $q_2 \\mid (p+1)$. As with last week's $\\texttt{makeQP}$ problem, I recommend choosing the subordinate primes $q_1, q_2$ first, and using these to narrow the search for the last prime $p$.\n"
   ]
  },
  {
   "cell_type": "code",
   "execution_count": 84,
   "metadata": {
    "mainSource": true
   },
   "outputs": [],
   "source": [
    "# Run this cell every time you change your source code.\n",
    "import importlib, strongPrimeSoln\n",
    "importlib.reload(strongPrimeSoln)\n",
    "from strongPrimeSoln import strongPrime"
   ]
  },
  {
   "cell_type": "code",
   "execution_count": 85,
   "metadata": {},
   "outputs": [
    {
     "name": "stdout",
     "output_type": "stream",
     "text": [
      "5 7 17389 4 1\n"
     ]
    }
   ],
   "source": [
    "# Sample test case (3-bit q's, 15-bit p)\n",
    "# Expected: Many answers possible. To check your answers: verify that (p-1)%q1 ==0, (p+1)%q2 ==0, all three of q1,q2,p are prime, q1 and q2 are both at least 2^2, and p is between 2^14 and 2^15.\n",
    "# Time limit: 4s (not enforced by this notebook)\n",
    "q2,q1,p = strongPrime(3,15)\n",
    "print(q1,q2,p,p%q1,p%q2)"
   ]
  },
  {
   "cell_type": "code",
   "execution_count": 86,
   "metadata": {},
   "outputs": [
    {
     "data": {
      "text/plain": [
       "(13, 11, 666511)"
      ]
     },
     "execution_count": 86,
     "metadata": {},
     "output_type": "execute_result"
    }
   ],
   "source": [
    "# Sample test case (4-bit q's, 20-bit p)\n",
    "# Expected: Many answers possible. To check your answers: verify that (p-1)%q1 ==0, (p+1)%q2 ==0, all three of q1,q2,p are prime, q1 and q2 are both at least 2^3, and p is between 2^19 and 2^20.\n",
    "# Time limit: 4s (not enforced by this notebook)\n",
    "strongPrime(4,20)"
   ]
  },
  {
   "cell_type": "code",
   "execution_count": 87,
   "metadata": {},
   "outputs": [
    {
     "data": {
      "text/plain": [
       "(229, 139, 3098994713)"
      ]
     },
     "execution_count": 87,
     "metadata": {},
     "output_type": "execute_result"
    }
   ],
   "source": [
    "# Sample test case (8-bit q's, 32-bit p)\n",
    "# Expected: Many answers possible. To check your answers: verify that (p-1)%q1 ==0, (p+1)%q2 ==0, all three of q1,q2,p are prime, q1 and q2 are both at least 2^7, and p is between 2^31 and 2^32.\n",
    "# Time limit: 4s (not enforced by this notebook)\n",
    "strongPrime(8,32)"
   ]
  },
  {
   "cell_type": "code",
   "execution_count": 88,
   "metadata": {},
   "outputs": [
    {
     "data": {
      "text/plain": [
       "(3064249519, 2306369129, 307833915410590154317795801763336348813)"
      ]
     },
     "execution_count": 88,
     "metadata": {},
     "output_type": "execute_result"
    }
   ],
   "source": [
    "# Sample test case (32-bit q's, 128-bit p)\n",
    "# Expected: Many answers possible. To check your answers: verify that (p-1)%q1 ==0, (p+1)%q2 ==0, all three of q1,q2,p are prime, q1 and q2 are both at least 2^31, and p is between 2^127 and 2^128.\n",
    "# Time limit: 4s (not enforced by this notebook)\n",
    "strongPrime(32,128)"
   ]
  },
  {
   "cell_type": "code",
   "execution_count": 89,
   "metadata": {},
   "outputs": [
    {
     "data": {
      "text/plain": [
       "(102933063581783734220394578718358621106982450638016958248480451856674145728171,\n",
       " 81047822293046045058637645351507158812712007592671185017007015247259623398691,\n",
       " 154274915007972305720207016730715609360216015148590842340103436089207938035309999568044135711422321997661115129691477749217041111586048043504414371621134269621722950281172819488592366441493447547799363643993617537331464834657506598958046656102738750175320863082400226336059836626010236486998603251296053386171)"
      ]
     },
     "execution_count": 89,
     "metadata": {},
     "output_type": "execute_result"
    }
   ],
   "source": [
    "# Sample test case (256-bit q's, 1024-bit p)\n",
    "# Expected: Many answers possible. To check your answers: verify that (p-1)%q1 ==0, (p+1)%q2 ==0, all three of q1,q2,p are prime, q1 and q2 are both at least 2^255, and p is between 2^1023 and 2^1024.\n",
    "# Time limit: 4s (not enforced by this notebook)\n",
    "strongPrime(256,1024)"
   ]
  },
  {
   "cell_type": "code",
   "execution_count": 29,
   "metadata": {},
   "outputs": [
    {
     "name": "stdout",
     "output_type": "stream",
     "text": [
      "2313\n"
     ]
    }
   ],
   "source": [
    "import math\n",
    "import random\n",
    "\n",
    "def pickQ(qbits):\n",
    "    q_b_ = 1<<(qbits-1)\n",
    "    q_b = 1<<qbits\n",
    "    q = random.randint(q_b_,q_b - 1)\n",
    "    while(isPrime(q) != True):\n",
    "        q = random.randint(q_b_,q_b - 1)\n",
    "    return q    \n",
    "\n",
    "def isWitness(a,n):\n",
    "    k = 0\n",
    "    q = n - 1\n",
    "    while q % 2 == 0:\n",
    "        q = q // 2\n",
    "        k += 1\n",
    "    b = pow(a,q,n)\n",
    "    if b == 1:\n",
    "        return False\n",
    "    for i in range(k):\n",
    "        if b == n - 1:\n",
    "            return False\n",
    "        b = b*b%n\n",
    "    return True\n",
    "\n",
    "def isPrime(n):\n",
    "    for x in range(100):\n",
    "        num = random.randint(1, n-1)\n",
    "        if isWitness(num,n):\n",
    "            return False\n",
    "    return True\n",
    "\n",
    "pbits = 8\n",
    "#p = pickQ(pbits)\n",
    "\n",
    "while (((((math.log(2)*pbits)**(1/3))*(math.log(pbits*math.log(2)))**(2/3))) < (64*math.log(2))):\n",
    "    pbits += 1\n",
    "    #p = pickQ(pbits)\n",
    "\n",
    "print(pbits)\n"
   ]
  },
  {
   "cell_type": "code",
   "execution_count": null,
   "metadata": {},
   "outputs": [],
   "source": []
  },
  {
   "cell_type": "code",
   "execution_count": null,
   "metadata": {},
   "outputs": [],
   "source": []
  }
 ],
 "metadata": {
  "kernelspec": {
   "display_name": "Python 3 (ipykernel)",
   "language": "python",
   "name": "python3"
  },
  "language_info": {
   "codemirror_mode": {
    "name": "ipython",
    "version": 3
   },
   "file_extension": ".py",
   "mimetype": "text/x-python",
   "name": "python",
   "nbconvert_exporter": "python",
   "pygments_lexer": "ipython3",
   "version": "3.9.7"
  }
 },
 "nbformat": 4,
 "nbformat_minor": 2
}
