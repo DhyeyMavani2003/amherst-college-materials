{
 "cells": [
  {
   "cell_type": "code",
   "execution_count": 23,
   "id": "47b98cb0",
   "metadata": {},
   "outputs": [
    {
     "name": "stdout",
     "output_type": "stream",
     "text": [
      "5\n"
     ]
    }
   ],
   "source": [
    "# Run this cell every time you change your source code.\n",
    "import importlib, untitled\n",
    "importlib.reload(untitled)\n",
    "from untitled import test\n",
    "\n",
    "print(test(23)) # a = 5 works out"
   ]
  },
  {
   "cell_type": "code",
   "execution_count": 24,
   "id": "21b504c3",
   "metadata": {},
   "outputs": [
    {
     "data": {
      "text/plain": [
       "2"
      ]
     },
     "execution_count": 24,
     "metadata": {},
     "output_type": "execute_result"
    }
   ],
   "source": [
    "test(29) # a = 2 works out"
   ]
  },
  {
   "cell_type": "code",
   "execution_count": 25,
   "id": "bc959ed3",
   "metadata": {},
   "outputs": [
    {
     "data": {
      "text/plain": [
       "6"
      ]
     },
     "execution_count": 25,
     "metadata": {},
     "output_type": "execute_result"
    }
   ],
   "source": [
    "test(41) # a = 6 works out"
   ]
  },
  {
   "cell_type": "code",
   "execution_count": 26,
   "id": "f32a7e92",
   "metadata": {},
   "outputs": [
    {
     "data": {
      "text/plain": [
       "3"
      ]
     },
     "execution_count": 26,
     "metadata": {},
     "output_type": "execute_result"
    }
   ],
   "source": [
    "test(43) # a = 3 works out"
   ]
  },
  {
   "cell_type": "code",
   "execution_count": null,
   "id": "b8a0360f",
   "metadata": {},
   "outputs": [],
   "source": []
  }
 ],
 "metadata": {
  "kernelspec": {
   "display_name": "Python 3 (ipykernel)",
   "language": "python",
   "name": "python3"
  },
  "language_info": {
   "codemirror_mode": {
    "name": "ipython",
    "version": 3
   },
   "file_extension": ".py",
   "mimetype": "text/x-python",
   "name": "python",
   "nbconvert_exporter": "python",
   "pygments_lexer": "ipython3",
   "version": "3.9.7"
  }
 },
 "nbformat": 4,
 "nbformat_minor": 5
}
