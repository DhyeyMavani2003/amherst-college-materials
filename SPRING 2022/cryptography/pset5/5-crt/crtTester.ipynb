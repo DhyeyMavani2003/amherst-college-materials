{
 "cells": [
  {
   "cell_type": "markdown",
   "metadata": {},
   "source": [
    "Suppose that you are given two integers $m_1, m_2$ with $\\gcd(m_1,m_2) = 1$, and two integers $a_1, a_2$. Write a function $\\texttt{crt(a1,m1,a2,m2)}$ that efficiently determines the unique integer $x$ such that \n",
    "\\begin{eqnarray*}\n",
    "x &\\equiv& a_1 \\pmod{m_1},\\\\\n",
    "x &\\equiv& a_2 \\pmod{m_2},\n",
    "\\end{eqnarray*}\n",
    "and $0 \\leq x < m_1 m_2$. The fact that $x$ exists and is unique comes from the Chinese Remainder Theorem.\n",
    "\n"
   ]
  },
  {
   "cell_type": "code",
   "execution_count": 18,
   "metadata": {
    "mainSource": true
   },
   "outputs": [],
   "source": [
    "# Run this cell every time you change your source code.\n",
    "import importlib, crtSoln\n",
    "importlib.reload(crtSoln)\n",
    "from crtSoln import crt"
   ]
  },
  {
   "cell_type": "code",
   "execution_count": 19,
   "metadata": {},
   "outputs": [
    {
     "data": {
      "text/plain": [
       "9"
      ]
     },
     "execution_count": 19,
     "metadata": {},
     "output_type": "execute_result"
    }
   ],
   "source": [
    "# Sample test case (Two 3-bit moduli)\n",
    "# Expected: 9\n",
    "# Time limit: 1s (not enforced by this notebook)\n",
    "crt(4,5,1,4)"
   ]
  },
  {
   "cell_type": "code",
   "execution_count": 20,
   "metadata": {},
   "outputs": [
    {
     "data": {
      "text/plain": [
       "60"
      ]
     },
     "execution_count": 20,
     "metadata": {},
     "output_type": "execute_result"
    }
   ],
   "source": [
    "# Sample test case (Two 5-bit moduli)\n",
    "# Expected: 60\n",
    "# Time limit: 1s (not enforced by this notebook)\n",
    "crt(2,29,4,28)"
   ]
  },
  {
   "cell_type": "code",
   "execution_count": 21,
   "metadata": {},
   "outputs": [
    {
     "data": {
      "text/plain": [
       "5478213"
      ]
     },
     "execution_count": 21,
     "metadata": {},
     "output_type": "execute_result"
    }
   ],
   "source": [
    "# Sample test case (Two 12-bit moduli)\n",
    "# Expected: 5478213\n",
    "# Time limit: 1s (not enforced by this notebook)\n",
    "crt(1845,3368,948,2063)"
   ]
  },
  {
   "cell_type": "code",
   "execution_count": 22,
   "metadata": {},
   "outputs": [
    {
     "data": {
      "text/plain": [
       "84716535497171"
      ]
     },
     "execution_count": 22,
     "metadata": {},
     "output_type": "execute_result"
    }
   ],
   "source": [
    "# Sample test case (Two 24-bit moduli)\n",
    "# Expected: 84716535497171\n",
    "# Time limit: 1s (not enforced by this notebook)\n",
    "crt(6318604,9839269,5367081,16634330)"
   ]
  },
  {
   "cell_type": "code",
   "execution_count": 23,
   "metadata": {},
   "outputs": [
    {
     "data": {
      "text/plain": [
       "14460203282421473693"
      ]
     },
     "execution_count": 23,
     "metadata": {},
     "output_type": "execute_result"
    }
   ],
   "source": [
    "# Sample test case (Two 32-bit moduli)\n",
    "# Expected: 14460203282421473693\n",
    "# Time limit: 1s (not enforced by this notebook)\n",
    "crt(3745983657,4124779898,1185909280,3600451663)"
   ]
  },
  {
   "cell_type": "code",
   "execution_count": 24,
   "metadata": {},
   "outputs": [
    {
     "data": {
      "text/plain": [
       "1368077847568080512697327225134788301082606861688646904984248480721429277424"
      ]
     },
     "execution_count": 24,
     "metadata": {},
     "output_type": "execute_result"
    }
   ],
   "source": [
    "# Sample test case (Two 128-bit moduli)\n",
    "# Expected: 1368077847568080512697327225134788301082606861688646904984248480721429277424\n",
    "# Time limit: 1s (not enforced by this notebook)\n",
    "crt(67565375066679632457611279767791569774,214793613179414412182307586802133497234,83369943498167005759386184838610399531,187375983330068754494802832154030849713)"
   ]
  },
  {
   "cell_type": "code",
   "execution_count": 25,
   "metadata": {},
   "outputs": [
    {
     "data": {
      "text/plain": [
       "28525310964962022272751058086268209603254313974815770876468400010137715042798282339459224586724043491165350016020921517740437333735865492463014942561512"
      ]
     },
     "execution_count": 25,
     "metadata": {},
     "output_type": "execute_result"
    }
   ],
   "source": [
    "# Sample test case (Two 256-bit moduli)\n",
    "# Expected: 28525310964962022272751058086268209603254313974815770876468400010137715042798282339459224586724043491165350016020921517740437333735865492463014942561512\n",
    "# Time limit: 1s (not enforced by this notebook)\n",
    "crt(41915245009215687393517963999046342018968105176933656839702189663394647703732,109769446932969517042530308781459229684963064368718192130193748369002762157978,58778162653126335492913536681801725452277458844770562769965006510045775389945,80324011003849129043591382787156960452420963534162646360679075147113736797709)"
   ]
  },
  {
   "cell_type": "code",
   "execution_count": null,
   "metadata": {},
   "outputs": [],
   "source": []
  },
  {
   "cell_type": "code",
   "execution_count": null,
   "metadata": {},
   "outputs": [],
   "source": []
  }
 ],
 "metadata": {
  "kernelspec": {
   "display_name": "Python 3 (ipykernel)",
   "language": "python",
   "name": "python3"
  },
  "language_info": {
   "codemirror_mode": {
    "name": "ipython",
    "version": 3
   },
   "file_extension": ".py",
   "mimetype": "text/x-python",
   "name": "python",
   "nbconvert_exporter": "python",
   "pygments_lexer": "ipython3",
   "version": "3.9.7"
  }
 },
 "nbformat": 4,
 "nbformat_minor": 2
}
