{
 "cells": [
  {
   "cell_type": "markdown",
   "metadata": {},
   "source": [
    "Write function $\\texttt{bsgsBoundedOrder(g,h,p,q)}$ to solve the discrete logarithm function $g^x \\equiv h \\pmod{p}$ under the assumption that the order of $g$ is at most $q$. You may assume that $p$ is a prime number, but unlike the previous set it will be quite large ($256$ bits). The integer $q$ will be various sizes, up to $40$ bits. Any correct solution $x$ will be marked correct, even if it is not the smallest possible solution.\n",
    "\n"
   ]
  },
  {
   "cell_type": "code",
   "execution_count": 1,
   "metadata": {
    "mainSource": true
   },
   "outputs": [],
   "source": [
    "# Run this cell every time you change your source code.\n",
    "import importlib, bsgsBoundedOrderSoln\n",
    "importlib.reload(bsgsBoundedOrderSoln)\n",
    "from bsgsBoundedOrderSoln import bsgsBoundedOrder"
   ]
  },
  {
   "cell_type": "code",
   "execution_count": 2,
   "metadata": {},
   "outputs": [
    {
     "data": {
      "text/plain": [
       "6"
      ]
     },
     "execution_count": 2,
     "metadata": {},
     "output_type": "execute_result"
    }
   ],
   "source": [
    "# Sample test case (3-bit q, 7-bit p)\n",
    "# Expected: 6 (not unique; other answers possible)\n",
    "# Time limit: 4s (not enforced by this notebook)\n",
    "bsgsBoundedOrder(45,30,71,7)"
   ]
  },
  {
   "cell_type": "code",
   "execution_count": 3,
   "metadata": {},
   "outputs": [
    {
     "data": {
      "text/plain": [
       "10"
      ]
     },
     "execution_count": 3,
     "metadata": {},
     "output_type": "execute_result"
    }
   ],
   "source": [
    "# Sample test case (4-bit q, 11-bit p)\n",
    "# Expected: 10 (not unique; other answers possible)\n",
    "# Time limit: 4s (not enforced by this notebook)\n",
    "bsgsBoundedOrder(22,1560,2003,13)"
   ]
  },
  {
   "cell_type": "code",
   "execution_count": 4,
   "metadata": {},
   "outputs": [
    {
     "data": {
      "text/plain": [
       "587"
      ]
     },
     "execution_count": 4,
     "metadata": {},
     "output_type": "execute_result"
    }
   ],
   "source": [
    "# Sample test case (10-bit q, 256-bit p)\n",
    "# Expected: 587 (not unique; other answers possible)\n",
    "# Time limit: 4s (not enforced by this notebook)\n",
    "bsgsBoundedOrder(21696570713257546567275283162061920231422825491772264699134766721843942468261,70428755550264822495108953776398114841977880835886834113074208938394367597120,90947590802233516497215061442866769837892660733280411169187071040224306064079,643)"
   ]
  },
  {
   "cell_type": "code",
   "execution_count": 5,
   "metadata": {},
   "outputs": [
    {
     "ename": "KeyboardInterrupt",
     "evalue": "",
     "output_type": "error",
     "traceback": [
      "\u001b[0;31m---------------------------------------------------------------------------\u001b[0m",
      "\u001b[0;31mKeyboardInterrupt\u001b[0m                         Traceback (most recent call last)",
      "\u001b[0;32m/var/folders/rb/x4vhwjb16wj764ztdb96gnlh0000gn/T/ipykernel_63470/1329880301.py\u001b[0m in \u001b[0;36m<module>\u001b[0;34m\u001b[0m\n\u001b[1;32m      2\u001b[0m \u001b[0;31m# Expected: 361490 (not unique; other answers possible)\u001b[0m\u001b[0;34m\u001b[0m\u001b[0;34m\u001b[0m\u001b[0m\n\u001b[1;32m      3\u001b[0m \u001b[0;31m# Time limit: 4s (not enforced by this notebook)\u001b[0m\u001b[0;34m\u001b[0m\u001b[0;34m\u001b[0m\u001b[0m\n\u001b[0;32m----> 4\u001b[0;31m \u001b[0mbsgsBoundedOrder\u001b[0m\u001b[0;34m(\u001b[0m\u001b[0;36m39512905823305007499519561175295532911372990175192599592135482893329690516092\u001b[0m\u001b[0;34m,\u001b[0m\u001b[0;36m8286847597513539241434682809868690423310736093293181212540156429920280658778\u001b[0m\u001b[0;34m,\u001b[0m\u001b[0;36m63726168386543984188937475158436873875320553521629443809840497108162602040389\u001b[0m\u001b[0;34m,\u001b[0m\u001b[0;36m1001093\u001b[0m\u001b[0;34m)\u001b[0m\u001b[0;34m\u001b[0m\u001b[0;34m\u001b[0m\u001b[0m\n\u001b[0m",
      "\u001b[0;32m~/Desktop/SPRING 2022/cryptography/pset5/5-bsgsBoundedOrder/bsgsBoundedOrderSoln.py\u001b[0m in \u001b[0;36mbsgsBoundedOrder\u001b[0;34m(g, h, p, q)\u001b[0m\n\u001b[1;32m     11\u001b[0m         \u001b[0mt\u001b[0m\u001b[0;34m[\u001b[0m\u001b[0mpow\u001b[0m\u001b[0;34m(\u001b[0m\u001b[0mg\u001b[0m\u001b[0;34m,\u001b[0m \u001b[0mi\u001b[0m\u001b[0;34m,\u001b[0m \u001b[0mp\u001b[0m\u001b[0;34m)\u001b[0m\u001b[0;34m]\u001b[0m\u001b[0;34m=\u001b[0m\u001b[0mi\u001b[0m\u001b[0;34m\u001b[0m\u001b[0;34m\u001b[0m\u001b[0m\n\u001b[1;32m     12\u001b[0m     \u001b[0;31m# Fermat’s Little Theorem\u001b[0m\u001b[0;34m\u001b[0m\u001b[0;34m\u001b[0m\u001b[0m\n\u001b[0;32m---> 13\u001b[0;31m         \u001b[0mc\u001b[0m \u001b[0;34m=\u001b[0m \u001b[0mpow\u001b[0m\u001b[0;34m(\u001b[0m\u001b[0mg\u001b[0m\u001b[0;34m,\u001b[0m \u001b[0mq\u001b[0m \u001b[0;34m*\u001b[0m \u001b[0;34m(\u001b[0m\u001b[0mp\u001b[0m \u001b[0;34m-\u001b[0m \u001b[0;36m2\u001b[0m\u001b[0;34m)\u001b[0m\u001b[0;34m,\u001b[0m \u001b[0mp\u001b[0m\u001b[0;34m)\u001b[0m\u001b[0;34m\u001b[0m\u001b[0;34m\u001b[0m\u001b[0m\n\u001b[0m\u001b[1;32m     14\u001b[0m \u001b[0;34m\u001b[0m\u001b[0m\n\u001b[1;32m     15\u001b[0m     \u001b[0;32mfor\u001b[0m \u001b[0mj\u001b[0m \u001b[0;32min\u001b[0m \u001b[0mrange\u001b[0m\u001b[0;34m(\u001b[0m\u001b[0mq\u001b[0m\u001b[0;34m)\u001b[0m\u001b[0;34m:\u001b[0m\u001b[0;34m\u001b[0m\u001b[0;34m\u001b[0m\u001b[0m\n",
      "\u001b[0;31mKeyboardInterrupt\u001b[0m: "
     ]
    }
   ],
   "source": [
    "# Sample test case (20-bit q, 256-bit p)\n",
    "# Expected: 361490 (not unique; other answers possible)\n",
    "# Time limit: 4s (not enforced by this notebook)\n",
    "bsgsBoundedOrder(39512905823305007499519561175295532911372990175192599592135482893329690516092,8286847597513539241434682809868690423310736093293181212540156429920280658778,63726168386543984188937475158436873875320553521629443809840497108162602040389,1001093)"
   ]
  },
  {
   "cell_type": "code",
   "execution_count": null,
   "metadata": {},
   "outputs": [],
   "source": [
    "# Sample test case (30-bit q, 256-bit p)\n",
    "# Expected: 430306326 (not unique; other answers possible)\n",
    "# Time limit: 4s (not enforced by this notebook)\n",
    "bsgsBoundedOrder(65768551147810914006263944218234342671406604594446578934030505918233796485669,17722479814981008083084781549684510204330659417059186896569867709737601626311,78324609439871228837234434895299277213500649312084932282965729749114687714681,1020090859)"
   ]
  },
  {
   "cell_type": "code",
   "execution_count": null,
   "metadata": {},
   "outputs": [],
   "source": [
    "# Sample test case (40-bit q, 256-bit p)\n",
    "# Expected: 485380372591 (not unique; other answers possible)\n",
    "# Time limit: 4s (not enforced by this notebook)\n",
    "bsgsBoundedOrder(5199120781432722665532747188492367375646006395666353766922916300666950856848,72538634616929152064917420757123161278714484195607844493760438703870551738995,97392433850845859187021576404660618327885238980785086351904658498963712910907,839488511671)"
   ]
  },
  {
   "cell_type": "code",
   "execution_count": null,
   "metadata": {},
   "outputs": [],
   "source": []
  }
 ],
 "metadata": {
  "kernelspec": {
   "display_name": "Python 3 (ipykernel)",
   "language": "python",
   "name": "python3"
  },
  "language_info": {
   "codemirror_mode": {
    "name": "ipython",
    "version": 3
   },
   "file_extension": ".py",
   "mimetype": "text/x-python",
   "name": "python",
   "nbconvert_exporter": "python",
   "pygments_lexer": "ipython3",
   "version": "3.9.7"
  }
 },
 "nbformat": 4,
 "nbformat_minor": 2
}
