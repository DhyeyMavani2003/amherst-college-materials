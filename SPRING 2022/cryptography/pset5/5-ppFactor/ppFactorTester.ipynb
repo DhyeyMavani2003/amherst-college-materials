{
 "cells": [
  {
   "cell_type": "markdown",
   "metadata": {},
   "source": [
    "Write a function $\\texttt{ppFactor(N)}$ which accepts an integer $N \\geq 2$, and returns a list of the prime powers (all powers of different primes) factoring $N$, in any order. For example, if $N = 12$ the function should return either $\\texttt{[4,3]}$ or $\\texttt{[3,4]}$. The integer $N$ may be quite large (up to $1024$ bits), but you may assume that all of the prime-power factors are $16$ bits or smaller.\n",
    "\n"
   ]
  },
  {
   "cell_type": "code",
   "execution_count": 62,
   "metadata": {
    "mainSource": true
   },
   "outputs": [],
   "source": [
    "# Run this cell every time you change your source code.\n",
    "import importlib, ppFactorSoln\n",
    "importlib.reload(ppFactorSoln)\n",
    "from ppFactorSoln import ppFactor"
   ]
  },
  {
   "cell_type": "code",
   "execution_count": 63,
   "metadata": {},
   "outputs": [
    {
     "data": {
      "text/plain": [
       "[2, 7, 11]"
      ]
     },
     "execution_count": 63,
     "metadata": {},
     "output_type": "execute_result"
    }
   ],
   "source": [
    "# Sample test case (8-bit number)\n",
    "# Expected: [2, 7, 11]\n",
    "# Time limit: 1s (not enforced by this notebook)\n",
    "ppFactor(154)"
   ]
  },
  {
   "cell_type": "code",
   "execution_count": 64,
   "metadata": {},
   "outputs": [
    {
     "data": {
      "text/plain": [
       "[4, 9]"
      ]
     },
     "execution_count": 64,
     "metadata": {},
     "output_type": "execute_result"
    }
   ],
   "source": [
    "# Sample test case (6-bit number)\n",
    "# Expected: [4, 9]\n",
    "# Time limit: 1s (not enforced by this notebook)\n",
    "ppFactor(36)"
   ]
  },
  {
   "cell_type": "code",
   "execution_count": 65,
   "metadata": {},
   "outputs": [
    {
     "data": {
      "text/plain": [
       "[61,\n",
       " 83,\n",
       " 137,\n",
       " 239,\n",
       " 607,\n",
       " 1601,\n",
       " 1753,\n",
       " 3583,\n",
       " 4999,\n",
       " 5399,\n",
       " 6337,\n",
       " 7129,\n",
       " 8237,\n",
       " 8297,\n",
       " 8677,\n",
       " 9103,\n",
       " 9413,\n",
       " 11777,\n",
       " 12553,\n",
       " 13859,\n",
       " 16223,\n",
       " 16363,\n",
       " 17911,\n",
       " 18637,\n",
       " 20873,\n",
       " 21499,\n",
       " 22031,\n",
       " 23609,\n",
       " 25349,\n",
       " 27109,\n",
       " 27283,\n",
       " 27737,\n",
       " 27917,\n",
       " 28631,\n",
       " 29153,\n",
       " 30169,\n",
       " 33247,\n",
       " 34487,\n",
       " 34739,\n",
       " 35447,\n",
       " 35591,\n",
       " 36739,\n",
       " 38119,\n",
       " 38167,\n",
       " 40819,\n",
       " 41039,\n",
       " 41081,\n",
       " 41597,\n",
       " 42181,\n",
       " 42397,\n",
       " 43321,\n",
       " 43543,\n",
       " 44621,\n",
       " 45691,\n",
       " 47701,\n",
       " 48649,\n",
       " 50101,\n",
       " 51577,\n",
       " 54217,\n",
       " 55147,\n",
       " 55291,\n",
       " 55901,\n",
       " 57041,\n",
       " 57773,\n",
       " 61409,\n",
       " 62633,\n",
       " 62873,\n",
       " 64123,\n",
       " 64279,\n",
       " 65011,\n",
       " 65173,\n",
       " 65497]"
      ]
     },
     "execution_count": 65,
     "metadata": {},
     "output_type": "execute_result"
    }
   ],
   "source": [
    "# Sample test case (1018-bit number)\n",
    "# Expected: [64279, 43321, 65011, 11777, 13859, 21499, 16223, 38167, 62873, 8237, 41597, 27109, 45691, 23609, 18637, 16363, 4999, 5399, 27917, 33247, 48649, 50101, 8297, 47701, 57773, 27737, 36739, 55147, 27283, 3583, 64123, 43543, 239, 35591, 83, 9103, 1753, 34739, 62633, 34487, 38119, 25349, 22031, 55901, 41081, 54217, 55291, 12553, 61409, 6337, 44621, 42397, 1601, 41039, 40819, 17911, 51577, 42181, 65173, 35447, 7129, 65497, 57041, 61, 607, 28631, 137, 20873, 30169, 9413, 8677, 29153]\n",
    "# Time limit: 1s (not enforced by this notebook)\n",
    "ppFactor(2594292454877798323334912840487235187771959995361139084073956181370050046379010089343214723240271364176588481997797870583024918910542024445903367051858887643579082820064849184599709494809766132374068655364600498240844592873814627114850883605539370263290313589338083396395837218780140845410341119372728869753)"
   ]
  },
  {
   "cell_type": "code",
   "execution_count": 66,
   "metadata": {},
   "outputs": [
    {
     "data": {
      "text/plain": [
       "[4, 11]"
      ]
     },
     "execution_count": 66,
     "metadata": {},
     "output_type": "execute_result"
    }
   ],
   "source": [
    "# Sample test case (6-bit number)\n",
    "# Expected: [4, 11]\n",
    "# Time limit: 1s (not enforced by this notebook)\n",
    "ppFactor(44)"
   ]
  },
  {
   "cell_type": "code",
   "execution_count": 67,
   "metadata": {},
   "outputs": [
    {
     "data": {
      "text/plain": [
       "[125, 2401, 1331, 24389, 11449]"
      ]
     },
     "execution_count": 67,
     "metadata": {},
     "output_type": "execute_result"
    }
   ],
   "source": [
    "# Sample test case (57-bit number)\n",
    "# Expected: [125, 24389, 1331, 11449, 2401]\n",
    "# Time limit: 1s (not enforced by this notebook)\n",
    "ppFactor(111542860472148875)"
   ]
  },
  {
   "cell_type": "code",
   "execution_count": null,
   "metadata": {},
   "outputs": [],
   "source": []
  }
 ],
 "metadata": {
  "kernelspec": {
   "display_name": "Python 3 (ipykernel)",
   "language": "python",
   "name": "python3"
  },
  "language_info": {
   "codemirror_mode": {
    "name": "ipython",
    "version": 3
   },
   "file_extension": ".py",
   "mimetype": "text/x-python",
   "name": "python",
   "nbconvert_exporter": "python",
   "pygments_lexer": "ipython3",
   "version": "3.9.7"
  }
 },
 "nbformat": 4,
 "nbformat_minor": 2
}
