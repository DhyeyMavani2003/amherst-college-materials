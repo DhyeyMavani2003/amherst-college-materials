{
 "cells": [
  {
   "cell_type": "markdown",
   "metadata": {},
   "source": [
    "Write a function $\\texttt{bezout(a,b)}$ that takes two positive integers $a,b$ and returns three integers $g,u,v$, where $g = \\gcd(a,b)$ and $au + bv = g$. The numbers in the test bank will range up to 256 bits in size, but there will also be smaller case that can be solved by a naive approach. I recommend that you implement the extended Euclidean algorithm (either the way we outlined it in class, or following one of the methods in the text), but other methods may also work.\n"
   ]
  },
  {
   "cell_type": "code",
   "execution_count": 1,
   "metadata": {
    "mainSource": true
   },
   "outputs": [],
   "source": [
    "# Run this cell every time you change your source code.\n",
    "import importlib, bezoutSoln\n",
    "importlib.reload(bezoutSoln)\n",
    "from bezoutSoln import bezout"
   ]
  },
  {
   "cell_type": "code",
   "execution_count": 2,
   "metadata": {},
   "outputs": [
    {
     "data": {
      "text/plain": [
       "(2, -1, 1)"
      ]
     },
     "execution_count": 2,
     "metadata": {},
     "output_type": "execute_result"
    }
   ],
   "source": [
    "# Sample test case (Two 5-bit integers)\n",
    "# Expected: [2, -1, 1] (other answers are possible, per Exercise 1.11(d)\n",
    "# Time limit: 1s (not enforced by this notebook)\n",
    "bezout(28,30)"
   ]
  },
  {
   "cell_type": "code",
   "execution_count": 3,
   "metadata": {},
   "outputs": [
    {
     "data": {
      "text/plain": [
       "(1, -24093, 15155)"
      ]
     },
     "execution_count": 3,
     "metadata": {},
     "output_type": "execute_result"
    }
   ],
   "source": [
    "# Sample test case (Two 16-bit integers)\n",
    "# Expected: [1, -24093, 15155] (other answers are possible, per Exercise 1.11(d)\n",
    "# Time limit: 1s (not enforced by this notebook)\n",
    "bezout(36548,58103)"
   ]
  },
  {
   "cell_type": "code",
   "execution_count": 4,
   "metadata": {},
   "outputs": [
    {
     "data": {
      "text/plain": [
       "(1, -4521623, 3834493)"
      ]
     },
     "execution_count": 4,
     "metadata": {},
     "output_type": "execute_result"
    }
   ],
   "source": [
    "# Sample test case (Two 24-bit integers)\n",
    "# Expected: [1, -4521623, 3834493] (other answers are possible, per Exercise 1.11(d)\n",
    "# Time limit: 1s (not enforced by this notebook)\n",
    "bezout(13322744,15710141)"
   ]
  },
  {
   "cell_type": "code",
   "execution_count": 31,
   "metadata": {},
   "outputs": [
    {
     "data": {
      "text/plain": [
       "(4, 1285201831, -2530892351)"
      ]
     },
     "execution_count": 31,
     "metadata": {},
     "output_type": "execute_result"
    }
   ],
   "source": [
    "# Sample test case (Two 36-bit integers)\n",
    "# Expected: [4, 1285201831, -2530892351] (other answers are possible, per Exercise 1.11(d)\n",
    "# Time limit: 1s (not enforced by this notebook)\n",
    "bezout(68189511040,34627029636)"
   ]
  },
  {
   "cell_type": "code",
   "execution_count": 32,
   "metadata": {},
   "outputs": [
    {
     "data": {
      "text/plain": [
       "(1, -23583481202521, 36440583742417)"
      ]
     },
     "execution_count": 32,
     "metadata": {},
     "output_type": "execute_result"
    }
   ],
   "source": [
    "# Sample test case (Two 48-bit integers)\n",
    "# Expected: [1, -23583481202521, 36440583742417] (other answers are possible, per Exercise 1.11(d)\n",
    "# Time limit: 1s (not enforced by this notebook)\n",
    "bezout(267123508777462,172875997062359)"
   ]
  },
  {
   "cell_type": "code",
   "execution_count": 33,
   "metadata": {},
   "outputs": [
    {
     "data": {
      "text/plain": [
       "(9, -698029259786945721, 651178841257300505)"
      ]
     },
     "execution_count": 33,
     "metadata": {},
     "output_type": "execute_result"
    }
   ],
   "source": [
    "# Sample test case (Two 64-bit integers)\n",
    "# Expected: [9, -698029259786945721, 651178841257300505] (other answers are possible, per Exercise 1.11(d)\n",
    "# Time limit: 1s (not enforced by this notebook)\n",
    "bezout(15624280876045764186,16748402318404237323)"
   ]
  },
  {
   "cell_type": "code",
   "execution_count": 34,
   "metadata": {},
   "outputs": [
    {
     "data": {
      "text/plain": [
       "(1,\n",
       " -17915112139969660441068910110576098476629801941377347561351508153807062132370,\n",
       " 22725954836126169973289417616288894124221568736838883951699240002513024583559)"
      ]
     },
     "execution_count": 34,
     "metadata": {},
     "output_type": "execute_result"
    }
   ],
   "source": [
    "# Sample test case (Two 256-bit integers)\n",
    "# Expected: [1, -17915112139969660441068910110576098476629801941377347561351508153807062132370, 22725954836126169973289417616288894124221568736838883951699240002513024583559] (other answers are possible, per Exercise 1.11(d)\n",
    "# Time limit: 1s (not enforced by this notebook)\n",
    "bezout(95608027080424707458462767766479434492877480208067230111371727924335234820590,75368825599542146553811539301510561198360248554549701782187366700609835440539)"
   ]
  },
  {
   "cell_type": "code",
   "execution_count": null,
   "metadata": {},
   "outputs": [],
   "source": []
  },
  {
   "cell_type": "code",
   "execution_count": null,
   "metadata": {},
   "outputs": [],
   "source": []
  }
 ],
 "metadata": {
  "kernelspec": {
   "display_name": "Python 3 (ipykernel)",
   "language": "python",
   "name": "python3"
  },
  "language_info": {
   "codemirror_mode": {
    "name": "ipython",
    "version": 3
   },
   "file_extension": ".py",
   "mimetype": "text/x-python",
   "name": "python",
   "nbconvert_exporter": "python",
   "pygments_lexer": "ipython3",
   "version": "3.9.7"
  }
 },
 "nbformat": 4,
 "nbformat_minor": 2
}
