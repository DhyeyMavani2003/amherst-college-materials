{
 "cells": [
  {
   "cell_type": "markdown",
   "metadata": {},
   "source": [
    "Write a function $\\texttt{gcd(a,b)}$ that takes two positive integers $a,b$ and returns their greatest common divisor. To pass all test cases, your code should finish in less than one second when $a,b$ are $1024$-bit integers, but the test bank contains smaller cases as well, so that less efficient algorithms will receive partial credit.\n",
    "\n",
    "(The assumption that $a,b$ are positive is not really necessary, but it simplifies things slightly; all test inputs will use only positive numbers.)\n"
   ]
  },
  {
   "cell_type": "code",
   "execution_count": 1,
   "metadata": {
    "mainSource": true
   },
   "outputs": [],
   "source": [
    "# Run this cell every time you change your source code.\n",
    "import importlib, gcdSoln\n",
    "importlib.reload(gcdSoln)\n",
    "from gcdSoln import gcd"
   ]
  },
  {
   "cell_type": "code",
   "execution_count": 2,
   "metadata": {},
   "outputs": [
    {
     "data": {
      "text/plain": [
       "6"
      ]
     },
     "execution_count": 2,
     "metadata": {},
     "output_type": "execute_result"
    }
   ],
   "source": [
    "# Sample test case 1 (Two 3-bit integers)\n",
    "# Expected: 6\n",
    "# Time limit: 1s (not enforced by this notebook)\n",
    "gcd(6,6)"
   ]
  },
  {
   "cell_type": "code",
   "execution_count": 3,
   "metadata": {},
   "outputs": [
    {
     "data": {
      "text/plain": [
       "3"
      ]
     },
     "execution_count": 3,
     "metadata": {},
     "output_type": "execute_result"
    }
   ],
   "source": [
    "# Sample test case 2 (Two 5-bit integers)\n",
    "# Expected: 3\n",
    "# Time limit: 1s (not enforced by this notebook)\n",
    "gcd(18,21)"
   ]
  },
  {
   "cell_type": "code",
   "execution_count": 4,
   "metadata": {},
   "outputs": [
    {
     "data": {
      "text/plain": [
       "83"
      ]
     },
     "execution_count": 4,
     "metadata": {},
     "output_type": "execute_result"
    }
   ],
   "source": [
    "# Sample test case 3 (Two 10-bit integers)\n",
    "# Expected: 83\n",
    "# Time limit: 1s (not enforced by this notebook)\n",
    "gcd(747,913)"
   ]
  },
  {
   "cell_type": "code",
   "execution_count": 5,
   "metadata": {},
   "outputs": [
    {
     "data": {
      "text/plain": [
       "10"
      ]
     },
     "execution_count": 5,
     "metadata": {},
     "output_type": "execute_result"
    }
   ],
   "source": [
    "# Sample test case 4 (Two 32-bit integers)\n",
    "# Expected: 10\n",
    "# Time limit: 1s (not enforced by this notebook)\n",
    "gcd(4268727850,2807386080)"
   ]
  },
  {
   "cell_type": "code",
   "execution_count": 6,
   "metadata": {},
   "outputs": [
    {
     "data": {
      "text/plain": [
       "2"
      ]
     },
     "execution_count": 6,
     "metadata": {},
     "output_type": "execute_result"
    }
   ],
   "source": [
    "# Sample test case 5 (Two 64-bit integers)\n",
    "# Expected: 2\n",
    "# Time limit: 1s (not enforced by this notebook)\n",
    "gcd(13743935578818751400,11862302045552437374)"
   ]
  },
  {
   "cell_type": "code",
   "execution_count": 7,
   "metadata": {},
   "outputs": [
    {
     "data": {
      "text/plain": [
       "8"
      ]
     },
     "execution_count": 7,
     "metadata": {},
     "output_type": "execute_result"
    }
   ],
   "source": [
    "# Sample test case 6 (Two 1024-bit integers)\n",
    "# Expected: 8\n",
    "# Time limit: 1s (not enforced by this notebook)\n",
    "gcd(166388527719831970347136818799739630045777693898264555759523006821158873093895881382504290522570944135203133616567378164607693636300284862484742351694010027970372995422133007152517769432873145496449969665975094757128402771870760358917565317999062033842383966807254064089677480462784137168689454642220956357576,121892574132547398566387203589949908452114342574436610453646609220449916394744042947172810270595951572860255065515971747280434302458828328539236196575845964027171798694480051093213376598316840384134347564768917218654389541748081982668145659569601861081625127382996481440675672095929416578773863184550258624944)"
   ]
  },
  {
   "cell_type": "code",
   "execution_count": null,
   "metadata": {},
   "outputs": [],
   "source": []
  }
 ],
 "metadata": {
  "kernelspec": {
   "display_name": "Python 3 (ipykernel)",
   "language": "python",
   "name": "python3"
  },
  "language_info": {
   "codemirror_mode": {
    "name": "ipython",
    "version": 3
   },
   "file_extension": ".py",
   "mimetype": "text/x-python",
   "name": "python",
   "nbconvert_exporter": "python",
   "pygments_lexer": "ipython3",
   "version": "3.9.7"
  }
 },
 "nbformat": 4,
 "nbformat_minor": 2
}
