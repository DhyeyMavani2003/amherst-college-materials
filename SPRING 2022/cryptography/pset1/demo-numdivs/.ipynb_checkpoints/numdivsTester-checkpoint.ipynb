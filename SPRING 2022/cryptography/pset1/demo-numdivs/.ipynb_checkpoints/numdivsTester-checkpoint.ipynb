{
 "cells": [
  {
   "cell_type": "markdown",
   "metadata": {},
   "source": [
    "Write a function $\\texttt{numdivs(n)}$, which takes a positive integer $n$ as input and returns the number of divisors of $n$.\n"
   ]
  },
  {
   "cell_type": "code",
   "execution_count": 1,
   "metadata": {
    "mainSource": true
   },
   "outputs": [],
   "source": [
    "# Run this cell every time you change your source code.\n",
    "import importlib, numdivsSoln\n",
    "importlib.reload(numdivsSoln)\n",
    "from numdivsSoln import numdivs"
   ]
  },
  {
   "cell_type": "code",
   "execution_count": 2,
   "metadata": {},
   "outputs": [
    {
     "data": {
      "text/plain": [
       "2"
      ]
     },
     "execution_count": 2,
     "metadata": {},
     "output_type": "execute_result"
    }
   ],
   "source": [
    "# Sample test case 1 (random 1-bit integer)\n",
    "# Expected: 2\n",
    "# Time limit: 1s (not enforced by this notebook)\n",
    "numdivs(2)"
   ]
  },
  {
   "cell_type": "code",
   "execution_count": 3,
   "metadata": {},
   "outputs": [
    {
     "data": {
      "text/plain": [
       "2"
      ]
     },
     "execution_count": 3,
     "metadata": {},
     "output_type": "execute_result"
    }
   ],
   "source": [
    "# Sample test case 2 (random 2-bit integer)\n",
    "# Expected: 2\n",
    "# Time limit: 1s (not enforced by this notebook)\n",
    "numdivs(2)"
   ]
  },
  {
   "cell_type": "code",
   "execution_count": 4,
   "metadata": {},
   "outputs": [
    {
     "data": {
      "text/plain": [
       "2"
      ]
     },
     "execution_count": 4,
     "metadata": {},
     "output_type": "execute_result"
    }
   ],
   "source": [
    "# Sample test case 3 (random 3-bit integer)\n",
    "# Expected: 2\n",
    "# Time limit: 1s (not enforced by this notebook)\n",
    "numdivs(7)"
   ]
  },
  {
   "cell_type": "code",
   "execution_count": 5,
   "metadata": {},
   "outputs": [
    {
     "data": {
      "text/plain": [
       "2"
      ]
     },
     "execution_count": 5,
     "metadata": {},
     "output_type": "execute_result"
    }
   ],
   "source": [
    "# Sample test case 4 (random 4-bit integer)\n",
    "# Expected: 2\n",
    "# Time limit: 1s (not enforced by this notebook)\n",
    "numdivs(13)"
   ]
  },
  {
   "cell_type": "code",
   "execution_count": 6,
   "metadata": {},
   "outputs": [
    {
     "data": {
      "text/plain": [
       "3"
      ]
     },
     "execution_count": 6,
     "metadata": {},
     "output_type": "execute_result"
    }
   ],
   "source": [
    "# Sample test case 5 (random 5-bit integer)\n",
    "# Expected: 3\n",
    "# Time limit: 1s (not enforced by this notebook)\n",
    "numdivs(25)"
   ]
  },
  {
   "cell_type": "code",
   "execution_count": 7,
   "metadata": {},
   "outputs": [
    {
     "data": {
      "text/plain": [
       "2"
      ]
     },
     "execution_count": 7,
     "metadata": {},
     "output_type": "execute_result"
    }
   ],
   "source": [
    "# Sample test case 6 (random 6-bit integer)\n",
    "# Expected: 2\n",
    "# Time limit: 1s (not enforced by this notebook)\n",
    "numdivs(41)"
   ]
  },
  {
   "cell_type": "code",
   "execution_count": 8,
   "metadata": {},
   "outputs": [
    {
     "data": {
      "text/plain": [
       "8"
      ]
     },
     "execution_count": 8,
     "metadata": {},
     "output_type": "execute_result"
    }
   ],
   "source": [
    "# Sample test case 7 (random 7-bit integer)\n",
    "# Expected: 8\n",
    "# Time limit: 1s (not enforced by this notebook)\n",
    "numdivs(102)"
   ]
  },
  {
   "cell_type": "code",
   "execution_count": 9,
   "metadata": {},
   "outputs": [
    {
     "data": {
      "text/plain": [
       "10"
      ]
     },
     "execution_count": 9,
     "metadata": {},
     "output_type": "execute_result"
    }
   ],
   "source": [
    "# Sample test case 8 (random 8-bit integer)\n",
    "# Expected: 10\n",
    "# Time limit: 1s (not enforced by this notebook)\n",
    "numdivs(208)"
   ]
  },
  {
   "cell_type": "code",
   "execution_count": 10,
   "metadata": {},
   "outputs": [
    {
     "data": {
      "text/plain": [
       "4"
      ]
     },
     "execution_count": 10,
     "metadata": {},
     "output_type": "execute_result"
    }
   ],
   "source": [
    "# Sample test case 9 (random 9-bit integer)\n",
    "# Expected: 4\n",
    "# Time limit: 1s (not enforced by this notebook)\n",
    "numdivs(339)"
   ]
  },
  {
   "cell_type": "code",
   "execution_count": 11,
   "metadata": {},
   "outputs": [
    {
     "data": {
      "text/plain": [
       "4"
      ]
     },
     "execution_count": 11,
     "metadata": {},
     "output_type": "execute_result"
    }
   ],
   "source": [
    "# Sample test case 10 (random 10-bit integer)\n",
    "# Expected: 4\n",
    "# Time limit: 1s (not enforced by this notebook)\n",
    "numdivs(527)"
   ]
  },
  {
   "cell_type": "code",
   "execution_count": null,
   "metadata": {},
   "outputs": [],
   "source": []
  }
 ],
 "metadata": {
  "kernelspec": {
   "display_name": "Python 3 (ipykernel)",
   "language": "python",
   "name": "python3"
  },
  "language_info": {
   "codemirror_mode": {
    "name": "ipython",
    "version": 3
   },
   "file_extension": ".py",
   "mimetype": "text/x-python",
   "name": "python",
   "nbconvert_exporter": "python",
   "pygments_lexer": "ipython3",
   "version": "3.9.7"
  }
 },
 "nbformat": 4,
 "nbformat_minor": 2
}
