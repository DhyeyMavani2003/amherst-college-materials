{
    "cells": [
        {
            "cell_type": "markdown",
            "metadata": {},
            "source": [
                "Write a function $\\mathtt{factor(n)}$ that takes a postiive integer $n$, which you may assume is a product of two distinct primes, and returns the two prime factors.\n"
            ]
        },
        {
            "cell_type": "code",
            "execution_count": null,
            "metadata": {
                "mainSource": true
            },
            "outputs": [],
            "source": [
                "# Run this cell every time you change your source code.\n",
                "import importlib, factorChallengeSoln\nimportlib.reload(factorChallengeSoln)\nfrom factorChallengeSoln import factor"
            ]
        },
        {
            "cell_type": "code",
            "execution_count": null,
            "metadata": {},
            "outputs": [],
            "source": [
                "# Sample test case 1 (6-bit primes)\n# Expected: (47, 59)\n# Time limit: 10s (not enforced by this notebook)\nfactor(2773)"
            ]
        },
        {
            "cell_type": "code",
            "execution_count": null,
            "metadata": {},
            "outputs": [],
            "source": [
                "# Sample test case 2 (6-bit safe primes)\n# Expected: (47, 59)\n# Time limit: 10s (not enforced by this notebook)\nfactor(2773)"
            ]
        },
        {
            "cell_type": "code",
            "execution_count": null,
            "metadata": {},
            "outputs": [],
            "source": [
                "# Sample test case 3 (7-bit primes)\n# Expected: (71, 83)\n# Time limit: 10s (not enforced by this notebook)\nfactor(5893)"
            ]
        },
        {
            "cell_type": "code",
            "execution_count": null,
            "metadata": {},
            "outputs": [],
            "source": [
                "# Sample test case 4 (7-bit safe primes)\n# Expected: (83, 107)\n# Time limit: 10s (not enforced by this notebook)\nfactor(8881)"
            ]
        },
        {
            "cell_type": "code",
            "execution_count": null,
            "metadata": {},
            "outputs": [],
            "source": [
                "# Sample test case 5 (8-bit primes)\n# Expected: (157, 181)\n# Time limit: 10s (not enforced by this notebook)\nfactor(28417)"
            ]
        },
        {
            "cell_type": "code",
            "execution_count": null,
            "metadata": {},
            "outputs": [],
            "source": [
                "# Sample test case 6 (8-bit safe primes)\n# Expected: (167, 179)\n# Time limit: 10s (not enforced by this notebook)\nfactor(29893)"
            ]
        },
        {
            "cell_type": "code",
            "execution_count": null,
            "metadata": {},
            "outputs": [],
            "source": [
                "# Sample test case 7 (9-bit primes)\n# Expected: (337, 383)\n# Time limit: 10s (not enforced by this notebook)\nfactor(129071)"
            ]
        },
        {
            "cell_type": "code",
            "execution_count": null,
            "metadata": {},
            "outputs": [],
            "source": [
                "# Sample test case 8 (9-bit safe primes)\n# Expected: (347, 479)\n# Time limit: 10s (not enforced by this notebook)\nfactor(166213)"
            ]
        },
        {
            "cell_type": "code",
            "execution_count": null,
            "metadata": {},
            "outputs": [],
            "source": [
                "# Sample test case 9 (10-bit primes)\n# Expected: (593, 853)\n# Time limit: 10s (not enforced by this notebook)\nfactor(505829)"
            ]
        },
        {
            "cell_type": "code",
            "execution_count": null,
            "metadata": {},
            "outputs": [],
            "source": [
                "# Sample test case 10 (10-bit safe primes)\n# Expected: (839, 1019)\n# Time limit: 10s (not enforced by this notebook)\nfactor(854941)"
            ]
        },
        {
            "cell_type": "code",
            "execution_count": null,
            "metadata": {},
            "outputs": [],
            "source": [
                "# Sample test case 11 (11-bit primes)\n# Expected: (1609, 1621)\n# Time limit: 10s (not enforced by this notebook)\nfactor(2608189)"
            ]
        },
        {
            "cell_type": "code",
            "execution_count": null,
            "metadata": {},
            "outputs": [],
            "source": [
                "# Sample test case 12 (11-bit safe primes)\n# Expected: (1283, 1319)\n# Time limit: 10s (not enforced by this notebook)\nfactor(1692277)"
            ]
        },
        {
            "cell_type": "code",
            "execution_count": null,
            "metadata": {},
            "outputs": [],
            "source": [
                "# Sample test case 13 (12-bit primes)\n# Expected: (2699, 2837)\n# Time limit: 10s (not enforced by this notebook)\nfactor(7657063)"
            ]
        },
        {
            "cell_type": "code",
            "execution_count": null,
            "metadata": {},
            "outputs": [],
            "source": [
                "# Sample test case 14 (12-bit safe primes)\n# Expected: (2099, 2459)\n# Time limit: 10s (not enforced by this notebook)\nfactor(5161441)"
            ]
        },
        {
            "cell_type": "code",
            "execution_count": null,
            "metadata": {},
            "outputs": [],
            "source": [
                "# Sample test case 15 (13-bit primes)\n# Expected: (5381, 5651)\n# Time limit: 10s (not enforced by this notebook)\nfactor(30408031)"
            ]
        },
        {
            "cell_type": "code",
            "execution_count": null,
            "metadata": {},
            "outputs": [],
            "source": [
                "# Sample test case 16 (13-bit safe primes)\n# Expected: (5639, 5807)\n# Time limit: 10s (not enforced by this notebook)\nfactor(32745673)"
            ]
        },
        {
            "cell_type": "code",
            "execution_count": null,
            "metadata": {},
            "outputs": [],
            "source": [
                "# Sample test case 17 (14-bit primes)\n# Expected: (12577, 14347)\n# Time limit: 10s (not enforced by this notebook)\nfactor(180442219)"
            ]
        },
        {
            "cell_type": "code",
            "execution_count": null,
            "metadata": {},
            "outputs": [],
            "source": [
                "# Sample test case 18 (14-bit safe primes)\n# Expected: (14699, 15287)\n# Time limit: 10s (not enforced by this notebook)\nfactor(224703613)"
            ]
        },
        {
            "cell_type": "code",
            "execution_count": null,
            "metadata": {},
            "outputs": [],
            "source": [
                "# Sample test case 19 (15-bit primes)\n# Expected: (21493, 29473)\n# Time limit: 10s (not enforced by this notebook)\nfactor(633463189)"
            ]
        },
        {
            "cell_type": "code",
            "execution_count": null,
            "metadata": {},
            "outputs": [],
            "source": [
                "# Sample test case 20 (15-bit safe primes)\n# Expected: (20507, 22343)\n# Time limit: 10s (not enforced by this notebook)\nfactor(458187901)"
            ]
        },
        {
            "cell_type": "code",
            "execution_count": null,
            "metadata": {},
            "outputs": [],
            "source": [
                "# Sample test case 21 (16-bit primes)\n# Expected: (39869, 48947)\n# Time limit: 10s (not enforced by this notebook)\nfactor(1951467943)"
            ]
        },
        {
            "cell_type": "code",
            "execution_count": null,
            "metadata": {},
            "outputs": [],
            "source": [
                "# Sample test case 22 (16-bit safe primes)\n# Expected: (36299, 53987)\n# Time limit: 10s (not enforced by this notebook)\nfactor(1959674113)"
            ]
        },
        {
            "cell_type": "code",
            "execution_count": null,
            "metadata": {},
            "outputs": [],
            "source": [
                "# Sample test case 23 (17-bit primes)\n# Expected: (98519, 107057)\n# Time limit: 10s (not enforced by this notebook)\nfactor(10547148583)"
            ]
        },
        {
            "cell_type": "code",
            "execution_count": null,
            "metadata": {},
            "outputs": [],
            "source": [
                "# Sample test case 24 (17-bit safe primes)\n# Expected: (95279, 114299)\n# Time limit: 10s (not enforced by this notebook)\nfactor(10890294421)"
            ]
        },
        {
            "cell_type": "code",
            "execution_count": null,
            "metadata": {},
            "outputs": [],
            "source": [
                "# Sample test case 25 (18-bit primes)\n# Expected: (199933, 258527)\n# Time limit: 10s (not enforced by this notebook)\nfactor(51688078691)"
            ]
        },
        {
            "cell_type": "code",
            "execution_count": null,
            "metadata": {},
            "outputs": [],
            "source": [
                "# Sample test case 26 (18-bit safe primes)\n# Expected: (133919, 171203)\n# Time limit: 10s (not enforced by this notebook)\nfactor(22927334557)"
            ]
        },
        {
            "cell_type": "code",
            "execution_count": null,
            "metadata": {},
            "outputs": [],
            "source": [
                "# Sample test case 27 (19-bit primes)\n# Expected: (375247, 519703)\n# Time limit: 10s (not enforced by this notebook)\nfactor(195016991641)"
            ]
        },
        {
            "cell_type": "code",
            "execution_count": null,
            "metadata": {},
            "outputs": [],
            "source": [
                "# Sample test case 28 (19-bit safe primes)\n# Expected: (354539, 507503)\n# Time limit: 10s (not enforced by this notebook)\nfactor(179929606117)"
            ]
        },
        {
            "cell_type": "code",
            "execution_count": null,
            "metadata": {},
            "outputs": [],
            "source": [
                "# Sample test case 29 (20-bit primes)\n# Expected: (726091, 819937)\n# Time limit: 10s (not enforced by this notebook)\nfactor(595348876267)"
            ]
        },
        {
            "cell_type": "code",
            "execution_count": null,
            "metadata": {},
            "outputs": [],
            "source": [
                "# Sample test case 30 (20-bit safe primes)\n# Expected: (783359, 884999)\n# Time limit: 10s (not enforced by this notebook)\nfactor(693271931641)"
            ]
        },
        {
            "cell_type": "code",
            "execution_count": null,
            "metadata": {},
            "outputs": [],
            "source": [
                "# Sample test case 31 (21-bit primes)\n# Expected: (1143887, 1529531)\n# Time limit: 10s (not enforced by this notebook)\nfactor(1749610626997)"
            ]
        },
        {
            "cell_type": "code",
            "execution_count": null,
            "metadata": {},
            "outputs": [],
            "source": [
                "# Sample test case 32 (21-bit safe primes)\n# Expected: (1120919, 1707779)\n# Time limit: 10s (not enforced by this notebook)\nfactor(1914281928901)"
            ]
        },
        {
            "cell_type": "code",
            "execution_count": null,
            "metadata": {},
            "outputs": [],
            "source": [
                "# Sample test case 33 (22-bit primes)\n# Expected: (2332607, 3242689)\n# Time limit: 10s (not enforced by this notebook)\nfactor(7563919060223)"
            ]
        },
        {
            "cell_type": "code",
            "execution_count": null,
            "metadata": {},
            "outputs": [],
            "source": [
                "# Sample test case 34 (22-bit safe primes)\n# Expected: (2384483, 3687239)\n# Time limit: 10s (not enforced by this notebook)\nfactor(8792158712437)"
            ]
        },
        {
            "cell_type": "code",
            "execution_count": null,
            "metadata": {},
            "outputs": [],
            "source": [
                "# Sample test case 35 (23-bit primes)\n# Expected: (5664419, 7424569)\n# Time limit: 10s (not enforced by this notebook)\nfactor(42055869710411)"
            ]
        },
        {
            "cell_type": "code",
            "execution_count": null,
            "metadata": {},
            "outputs": [],
            "source": [
                "# Sample test case 36 (23-bit safe primes)\n# Expected: (4628483, 5333039)\n# Time limit: 10s (not enforced by this notebook)\nfactor(24683880349837)"
            ]
        },
        {
            "cell_type": "code",
            "execution_count": null,
            "metadata": {},
            "outputs": [],
            "source": [
                "# Sample test case 37 (24-bit primes)\n# Expected: (8623939, 11115971)\n# Time limit: 10s (not enforced by this notebook)\nfactor(95863455829769)"
            ]
        },
        {
            "cell_type": "code",
            "execution_count": null,
            "metadata": {},
            "outputs": [],
            "source": [
                "# Sample test case 38 (24-bit safe primes)\n# Expected: (9564383, 13800467)\n# Time limit: 10s (not enforced by this notebook)\nfactor(131992951966861)"
            ]
        },
        {
            "cell_type": "code",
            "execution_count": null,
            "metadata": {},
            "outputs": [],
            "source": [
                "# Sample test case 39 (25-bit primes)\n# Expected: (23221301, 29436193)\n# Time limit: 10s (not enforced by this notebook)\nfactor(683546697947093)"
            ]
        },
        {
            "cell_type": "code",
            "execution_count": null,
            "metadata": {},
            "outputs": [],
            "source": [
                "# Sample test case 40 (25-bit safe primes)\n# Expected: (28370543, 33415667)\n# Time limit: 10s (not enforced by this notebook)\nfactor(948020617497181)"
            ]
        },
        {
            "cell_type": "code",
            "execution_count": null,
            "metadata": {},
            "outputs": [],
            "source": [
                "# Sample test case 41 (26-bit primes)\n# Expected: (37133683, 51044639)\n# Time limit: 10s (not enforced by this notebook)\nfactor(1895475443475437)"
            ]
        },
        {
            "cell_type": "code",
            "execution_count": null,
            "metadata": {},
            "outputs": [],
            "source": [
                "# Sample test case 42 (26-bit safe primes)\n# Expected: (36871427, 50468687)\n# Time limit: 10s (not enforced by this notebook)\nfactor(1860852508506349)"
            ]
        },
        {
            "cell_type": "code",
            "execution_count": null,
            "metadata": {},
            "outputs": [],
            "source": [
                "# Sample test case 43 (27-bit primes)\n# Expected: (81712069, 102659087)\n# Time limit: 10s (not enforced by this notebook)\nfactor(8388486400421003)"
            ]
        },
        {
            "cell_type": "code",
            "execution_count": null,
            "metadata": {},
            "outputs": [],
            "source": [
                "# Sample test case 44 (27-bit safe primes)\n# Expected: (95732927, 98014919)\n# Time limit: 10s (not enforced by this notebook)\nfactor(9383255085537913)"
            ]
        },
        {
            "cell_type": "code",
            "execution_count": null,
            "metadata": {},
            "outputs": [],
            "source": [
                "# Sample test case 45 (28-bit primes)\n# Expected: (222760379, 242529367)\n# Time limit: 10s (not enforced by this notebook)\nfactor(54025933711550093)"
            ]
        },
        {
            "cell_type": "code",
            "execution_count": null,
            "metadata": {},
            "outputs": [],
            "source": [
                "# Sample test case 46 (28-bit safe primes)\n# Expected: (255734399, 259871099)\n# Time limit: 10s (not enforced by this notebook)\nfactor(66457979320234501)"
            ]
        },
        {
            "cell_type": "code",
            "execution_count": null,
            "metadata": {},
            "outputs": [],
            "source": [
                "# Sample test case 47 (29-bit primes)\n# Expected: (344790793, 373479217)\n# Time limit: 10s (not enforced by this notebook)\nfactor(128772195398449081)"
            ]
        },
        {
            "cell_type": "code",
            "execution_count": null,
            "metadata": {},
            "outputs": [],
            "source": [
                "# Sample test case 48 (29-bit safe primes)\n# Expected: (312621623, 464897627)\n# Time limit: 10s (not enforced by this notebook)\nfactor(145337050681588621)"
            ]
        },
        {
            "cell_type": "code",
            "execution_count": null,
            "metadata": {},
            "outputs": [],
            "source": [
                "# Sample test case 49 (30-bit primes)\n# Expected: (652044047, 826626791)\n# Time limit: 10s (not enforced by this notebook)\nfactor(538997078162263177)"
            ]
        },
        {
            "cell_type": "code",
            "execution_count": null,
            "metadata": {},
            "outputs": [],
            "source": [
                "# Sample test case 50 (30-bit safe primes)\n# Expected: (572844863, 847979267)\n# Time limit: 10s (not enforced by this notebook)\nfactor(485760567031455421)"
            ]
        },
        {
            "cell_type": "code",
            "execution_count": null,
            "metadata": {},
            "outputs": [],
            "source": [
                "# Sample test case 51 (31-bit primes)\n# Expected: (1278576421, 1415638087)\n# Time limit: 10s (not enforced by this notebook)\nfactor(1810001478707746627)"
            ]
        },
        {
            "cell_type": "code",
            "execution_count": null,
            "metadata": {},
            "outputs": [],
            "source": [
                "# Sample test case 52 (31-bit safe primes)\n# Expected: (1382335979, 2123723807)\n# Time limit: 10s (not enforced by this notebook)\nfactor(2935699827874952053)"
            ]
        },
        {
            "cell_type": "code",
            "execution_count": null,
            "metadata": {},
            "outputs": [],
            "source": [
                "# Sample test case 53 (32-bit primes)\n# Expected: (2894493247, 3648387389)\n# Time limit: 10s (not enforced by this notebook)\nfactor(10560232659900462083)"
            ]
        },
        {
            "cell_type": "code",
            "execution_count": null,
            "metadata": {},
            "outputs": [],
            "source": [
                "# Sample test case 54 (32-bit safe primes)\n# Expected: (2488745543, 3226007627)\n# Time limit: 10s (not enforced by this notebook)\nfactor(8028712103380256461)"
            ]
        },
        {
            "cell_type": "code",
            "execution_count": null,
            "metadata": {},
            "outputs": [],
            "source": [
                "# Sample test case 55 (33-bit primes)\n# Expected: (4886056111, 7416813919)\n# Time limit: 10s (not enforced by this notebook)\nfactor(36238968973079809009)"
            ]
        },
        {
            "cell_type": "code",
            "execution_count": null,
            "metadata": {},
            "outputs": [],
            "source": [
                "# Sample test case 56 (33-bit safe primes)\n# Expected: (5271895379, 7569347399)\n# Time limit: 10s (not enforced by this notebook)\nfactor(39904807574833769221)"
            ]
        },
        {
            "cell_type": "code",
            "execution_count": null,
            "metadata": {},
            "outputs": [],
            "source": [
                "# Sample test case 57 (34-bit primes)\n# Expected: (12921805607, 16591505041)\n# Time limit: 10s (not enforced by this notebook)\nfactor(214392202867362564887)"
            ]
        },
        {
            "cell_type": "code",
            "execution_count": null,
            "metadata": {},
            "outputs": [],
            "source": [
                "# Sample test case 58 (34-bit safe primes)\n# Expected: (9115301687, 17144934839)\n# Time limit: 10s (not enforced by this notebook)\nfactor(156281253461441773393)"
            ]
        },
        {
            "cell_type": "code",
            "execution_count": null,
            "metadata": {},
            "outputs": [],
            "source": [
                "# Sample test case 59 (35-bit primes)\n# Expected: (22055211107, 26055325171)\n# Time limit: 10s (not enforced by this notebook)\nfactor(574655697107935874297)"
            ]
        },
        {
            "cell_type": "code",
            "execution_count": null,
            "metadata": {},
            "outputs": [],
            "source": [
                "# Sample test case 60 (35-bit safe primes)\n# Expected: (23764814219, 25162638407)\n# Time limit: 10s (not enforced by this notebook)\nfactor(597985427002229109133)"
            ]
        },
        {
            "cell_type": "code",
            "execution_count": null,
            "metadata": {},
            "outputs": [],
            "source": [
                "# Sample test case 61 (36-bit primes)\n# Expected: (44809533151, 58343088337)\n# Time limit: 10s (not enforced by this notebook)\nfactor(2614326550968522959887)"
            ]
        },
        {
            "cell_type": "code",
            "execution_count": null,
            "metadata": {},
            "outputs": [],
            "source": [
                "# Sample test case 62 (36-bit safe primes)\n# Expected: (49952461883, 53142812783)\n# Time limit: 10s (not enforced by this notebook)\nfactor(2654614329898212650389)"
            ]
        },
        {
            "cell_type": "code",
            "execution_count": null,
            "metadata": {},
            "outputs": [],
            "source": [
                "# Sample test case 63 (37-bit primes)\n# Expected: (82188258199, 83796184387)\n# Time limit: 10s (not enforced by this notebook)\nfactor(6887062438489768539013)"
            ]
        },
        {
            "cell_type": "code",
            "execution_count": null,
            "metadata": {},
            "outputs": [],
            "source": [
                "# Sample test case 64 (37-bit safe primes)\n# Expected: (87848915867, 132948266147)\n# Time limit: 10s (not enforced by this notebook)\nfactor(11679361047411327254449)"
            ]
        },
        {
            "cell_type": "code",
            "execution_count": null,
            "metadata": {},
            "outputs": [],
            "source": [
                "# Sample test case 65 (38-bit primes)\n# Expected: (157230939727, 177589713481)\n# Time limit: 10s (not enforced by this notebook)\nfactor(27922597536466310359687)"
            ]
        },
        {
            "cell_type": "code",
            "execution_count": null,
            "metadata": {},
            "outputs": [],
            "source": [
                "# Sample test case 66 (38-bit safe primes)\n# Expected: (170262051599, 243761400119)\n# Time limit: 10s (not enforced by this notebook)\nfactor(41503316084905662740281)"
            ]
        },
        {
            "cell_type": "code",
            "execution_count": null,
            "metadata": {},
            "outputs": [],
            "source": [
                "# Sample test case 67 (39-bit primes)\n# Expected: (441404792111, 512061275633)\n# Time limit: 10s (not enforced by this notebook)\nfactor(226026300918877834931263)"
            ]
        },
        {
            "cell_type": "code",
            "execution_count": null,
            "metadata": {},
            "outputs": [],
            "source": [
                "# Sample test case 68 (39-bit safe primes)\n# Expected: (384354216383, 388423365203)\n# Time limit: 10s (not enforced by this notebook)\nfactor(149292158157446894720749)"
            ]
        },
        {
            "cell_type": "code",
            "execution_count": null,
            "metadata": {},
            "outputs": [],
            "source": [
                "# Sample test case 69 (40-bit primes)\n# Expected: (573724265713, 712408349299)\n# Time limit: 10s (not enforced by this notebook)\nfactor(408725957089379193285187)"
            ]
        },
        {
            "cell_type": "code",
            "execution_count": null,
            "metadata": {},
            "outputs": [],
            "source": [
                "# Sample test case 70 (40-bit safe primes)\n# Expected: (724190008259, 843198650759)\n# Time limit: 10s (not enforced by this notebook)\nfactor(610636037857137866618581)"
            ]
        },
        {
            "cell_type": "code",
            "execution_count": null,
            "metadata": {},
            "outputs": [],
            "source": [
                "# Sample test case 71 (41-bit primes)\n# Expected: (2134253707501, 2189421844081)\n# Time limit: 10s (not enforced by this notebook)\nfactor(4672781688013550602151581)"
            ]
        },
        {
            "cell_type": "code",
            "execution_count": null,
            "metadata": {},
            "outputs": [],
            "source": [
                "# Sample test case 72 (41-bit safe primes)\n# Expected: (1231238076539, 1302393102203)\n# Time limit: 10s (not enforced by this notebook)\nfactor(1603555978054082963515417)"
            ]
        },
        {
            "cell_type": "code",
            "execution_count": null,
            "metadata": {},
            "outputs": [],
            "source": [
                "# Sample test case 73 (42-bit primes)\n# Expected: (2226611206321, 3889307635957)\n# Time limit: 10s (not enforced by this notebook)\nfactor(8659975967051692485284197)"
            ]
        },
        {
            "cell_type": "code",
            "execution_count": null,
            "metadata": {},
            "outputs": [],
            "source": [
                "# Sample test case 74 (42-bit safe primes)\n# Expected: (2520676128479, 3990083614667)\n# Time limit: 10s (not enforced by this notebook)\nfactor(10057708518126307620801493)"
            ]
        },
        {
            "cell_type": "code",
            "execution_count": null,
            "metadata": {},
            "outputs": [],
            "source": [
                "# Sample test case 75 (43-bit primes)\n# Expected: (4508954329027, 8105206738907)\n# Time limit: 10s (not enforced by this notebook)\nfactor(36546007013053530960353489)"
            ]
        },
        {
            "cell_type": "code",
            "execution_count": null,
            "metadata": {},
            "outputs": [],
            "source": [
                "# Sample test case 76 (43-bit safe primes)\n# Expected: (7439560005887, 8238976800623)\n# Time limit: 10s (not enforced by this notebook)\nfactor(61294362295345702305267601)"
            ]
        },
        {
            "cell_type": "code",
            "execution_count": null,
            "metadata": {},
            "outputs": [],
            "source": [
                "# Sample test case 77 (44-bit primes)\n# Expected: (9808995980393, 15819284001967)\n# Time limit: 10s (not enforced by this notebook)\nfactor(155171293187989593705433031)"
            ]
        },
        {
            "cell_type": "code",
            "execution_count": null,
            "metadata": {},
            "outputs": [],
            "source": [
                "# Sample test case 78 (44-bit safe primes)\n# Expected: (10766942990759, 14467509752903)\n# Time limit: 10s (not enforced by this notebook)\nfactor(155770852727756427902423377)"
            ]
        },
        {
            "cell_type": "code",
            "execution_count": null,
            "metadata": {},
            "outputs": [],
            "source": [
                "# Sample test case 79 (45-bit primes)\n# Expected: (25692978396751, 30460640505991)\n# Time limit: 10s (not enforced by this notebook)\nfactor(782624578471625212590435241)"
            ]
        },
        {
            "cell_type": "code",
            "execution_count": null,
            "metadata": {},
            "outputs": [],
            "source": [
                "# Sample test case 80 (45-bit safe primes)\n# Expected: (22827744622499, 28984895366543)\n# Time limit: 10s (not enforced by this notebook)\nfactor(661659789337298149769650957)"
            ]
        },
        {
            "cell_type": "code",
            "execution_count": null,
            "metadata": {},
            "outputs": [],
            "source": [
                "# Sample test case 81 (46-bit primes)\n# Expected: (39688735488067, 66196853580131)\n# Time limit: 10s (not enforced by this notebook)\nfactor(2627269411884120260578796777)"
            ]
        },
        {
            "cell_type": "code",
            "execution_count": null,
            "metadata": {},
            "outputs": [],
            "source": [
                "# Sample test case 82 (46-bit safe primes)\n# Expected: (47216294093303, 61831663662947)\n# Time limit: 10s (not enforced by this notebook)\nfactor(2919462015787902173161943941)"
            ]
        },
        {
            "cell_type": "code",
            "execution_count": null,
            "metadata": {},
            "outputs": [],
            "source": [
                "# Sample test case 83 (47-bit primes)\n# Expected: (102586135572209, 113037772141573)\n# Time limit: 10s (not enforced by this notebook)\nfactor(11596108217695877449712344757)"
            ]
        },
        {
            "cell_type": "code",
            "execution_count": null,
            "metadata": {},
            "outputs": [],
            "source": [
                "# Sample test case 84 (47-bit safe primes)\n# Expected: (80122319128679, 108558253776683)\n# Time limit: 10s (not enforced by this notebook)\nfactor(8697939053147517625606791757)"
            ]
        },
        {
            "cell_type": "code",
            "execution_count": null,
            "metadata": {},
            "outputs": [],
            "source": [
                "# Sample test case 85 (48-bit primes)\n# Expected: (204391150705421, 222986367537211)\n# Time limit: 10s (not enforced by this notebook)\nfactor(45576440252552490457116920831)"
            ]
        },
        {
            "cell_type": "code",
            "execution_count": null,
            "metadata": {},
            "outputs": [],
            "source": [
                "# Sample test case 86 (48-bit safe primes)\n# Expected: (158660568183263, 168049726527083)\n# Time limit: 10s (not enforced by this notebook)\nfactor(26662865093828953195676811829)"
            ]
        },
        {
            "cell_type": "code",
            "execution_count": null,
            "metadata": {},
            "outputs": [],
            "source": [
                "# Sample test case 87 (49-bit primes)\n# Expected: (422096218115027, 557940124460669)\n# Time limit: 10s (not enforced by this notebook)\nfactor(235504416469475853346179373063)"
            ]
        },
        {
            "cell_type": "code",
            "execution_count": null,
            "metadata": {},
            "outputs": [],
            "source": [
                "# Sample test case 88 (49-bit safe primes)\n# Expected: (364439286829259, 488486035340159)\n# Time limit: 10s (not enforced by this notebook)\nfactor(178023502345419754266618912181)"
            ]
        },
        {
            "cell_type": "code",
            "execution_count": null,
            "metadata": {},
            "outputs": [],
            "source": [
                "# Sample test case 89 (50-bit primes)\n# Expected: (573853843227187, 980021533156921)\n# Time limit: 10s (not enforced by this notebook)\nfactor(562389123247499189950724411227)"
            ]
        },
        {
            "cell_type": "code",
            "execution_count": null,
            "metadata": {},
            "outputs": [],
            "source": [
                "# Sample test case 90 (50-bit safe primes)\n# Expected: (823512228704063, 994187937108923)\n# Time limit: 10s (not enforced by this notebook)\nfactor(818725923839263999975163654149)"
            ]
        },
        {
            "cell_type": "code",
            "execution_count": null,
            "metadata": {},
            "outputs": [],
            "source": [
                "# Sample test case 91 (51-bit primes)\n# Expected: (1316890205038081, 1712646741869033)\n# Time limit: 10s (not enforced by this notebook)\nfactor(2255367719057712251098879645673)"
            ]
        },
        {
            "cell_type": "code",
            "execution_count": null,
            "metadata": {},
            "outputs": [],
            "source": [
                "# Sample test case 92 (51-bit safe primes)\n# Expected: (1316825235547379, 2090594667880127)\n# Time limit: 10s (not enforced by this notebook)\nfactor(2752947815965342807314401037133)"
            ]
        },
        {
            "cell_type": "code",
            "execution_count": null,
            "metadata": {},
            "outputs": [],
            "source": [
                "# Sample test case 93 (52-bit primes)\n# Expected: (2754769016214023, 2962965787798067)\n# Time limit: 10s (not enforced by this notebook)\nfactor(8162286348328288663093977693541)"
            ]
        },
        {
            "cell_type": "code",
            "execution_count": null,
            "metadata": {},
            "outputs": [],
            "source": [
                "# Sample test case 94 (52-bit safe primes)\n# Expected: (2818597086197423, 4316086824679667)\n# Time limit: 10s (not enforced by this notebook)\nfactor(12165309747817197098839095898141)"
            ]
        },
        {
            "cell_type": "code",
            "execution_count": null,
            "metadata": {},
            "outputs": [],
            "source": [
                "# Sample test case 95 (53-bit primes)\n# Expected: (8609822621690809, 8955657738743783)\n# Time limit: 10s (not enforced by this notebook)\nfactor(77106624591156579963359096990447)"
            ]
        },
        {
            "cell_type": "code",
            "execution_count": null,
            "metadata": {},
            "outputs": [],
            "source": [
                "# Sample test case 96 (53-bit safe primes)\n# Expected: (6143950375497647, 7735597967905007)\n# Time limit: 10s (not enforced by this notebook)\nfactor(47527130039608802843961648018529)"
            ]
        },
        {
            "cell_type": "code",
            "execution_count": null,
            "metadata": {},
            "outputs": [],
            "source": [
                "# Sample test case 97 (54-bit primes)\n# Expected: (11143967835532289, 17886730043991847)\n# Time limit: 10s (not enforced by this notebook)\nfactor(199329144293094187618627621247783)"
            ]
        },
        {
            "cell_type": "code",
            "execution_count": null,
            "metadata": {},
            "outputs": [],
            "source": [
                "# Sample test case 98 (54-bit safe primes)\n# Expected: (16650814262009387, 17258642496141779)\n# Time limit: 10s (not enforced by this notebook)\nfactor(287370450617678820624363380879473)"
            ]
        },
        {
            "cell_type": "code",
            "execution_count": null,
            "metadata": {},
            "outputs": [],
            "source": [
                "# Sample test case 99 (55-bit primes)\n# Expected: (23900652932015539, 33302838926374949)\n# Time limit: 10s (not enforced by this notebook)\nfactor(795959594830104649762277408332511)"
            ]
        },
        {
            "cell_type": "code",
            "execution_count": null,
            "metadata": {},
            "outputs": [],
            "source": [
                "# Sample test case 100 (55-bit safe primes)\n# Expected: (18747028173935927, 26254760205361223)\n# Time limit: 10s (not enforced by this notebook)\nfactor(492198729269838652177458692358721)"
            ]
        }
    ],
    "metadata": {
        "kernelspec": {
            "display_name": "Python 3",
            "language": "python",
            "name": "python3"
        },
        "language_info": {
            "codemirror_mode": {
                "name": "ipython",
                "version": 3
            },
            "file_extension": ".py",
            "mimetype": "text/x-python",
            "name": "python",
            "nbconvert_exporter": "python",
            "pygments_lexer": "ipython3",
            "version": "3.7.1"
        }
    },
    "nbformat": 4,
    "nbformat_minor": 2
}