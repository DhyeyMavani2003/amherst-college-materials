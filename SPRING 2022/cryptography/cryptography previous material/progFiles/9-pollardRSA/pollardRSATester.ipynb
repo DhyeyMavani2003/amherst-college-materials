{
    "cells": [
        {
            "cell_type": "markdown",
            "metadata": {},
            "source": [
                "Implement Pollard's factoring algorithm, and use it to attempt to break $96$-bit RSA encryption. More specifically: you should write a function $\\texttt{pollardRSA(N,e,c)}$ that takes an RSA public key $(N,e)$ and ciphertext $c$, and attempts to extract the plaintext. For the grading test-cases, I have generated $96$-bit RSA moduli {\\it without making any effort to choose strong primes}; as a result, some of these moduli are more susceptible to Pollard's algorithm than others. However, many cases will not be unually susceptible to Pollard, so {\\it for full points on this problem your code only needs to solve $10$ of the $50$ test cases.} But you may enjoy trying variations on Pollard's algorithm (or another factoring algorithm altogether) to see how many test-cases you are able to solve. I will enable an ``leaderboard'' on Gradescope to show the five highest scores obtained (your real name will not be used if you don't wish to use it; Gradescope will allow you to choose a pseudonym for the leaderboard).\n",
                "\n",
                "The sample cases (from the testing notebook) will include a few smaller cases to help debug your program, then ten $96$-bit cases that I have specifically chosen to be susceptible to Pollard. So the sample cases will give you a sense of whether Pollard's algorithm is implemented well, but don't necessarily indicate that it will pass all of the cases on Gradescope.\n"
            ]
        },
        {
            "cell_type": "code",
            "execution_count": null,
            "metadata": {
                "mainSource": true
            },
            "outputs": [],
            "source": [
                "# Run this cell every time you change your source code.\n",
                "import importlib, pollardRSASoln\nimportlib.reload(pollardRSASoln)\nfrom pollardRSASoln import pollardRSA"
            ]
        },
        {
            "cell_type": "code",
            "execution_count": null,
            "metadata": {},
            "outputs": [],
            "source": [
                "# Sample test case (6-bit modulus; chosen to be weak against Pollard)\n# Expected: 12\n# Time limit: 2s (not enforced by this notebook)\npollardRSA(35,5,17)"
            ]
        },
        {
            "cell_type": "code",
            "execution_count": null,
            "metadata": {},
            "outputs": [],
            "source": [
                "# Sample test case (20-bit modulus; chosen to be weak against Pollard)\n# Expected: 371258\n# Time limit: 2s (not enforced by this notebook)\npollardRSA(372143,147533,49342)"
            ]
        },
        {
            "cell_type": "code",
            "execution_count": null,
            "metadata": {},
            "outputs": [],
            "source": [
                "# Sample test case (40-bit modulus; chosen to be weak against Pollard)\n# Expected: 262341303019\n# Time limit: 2s (not enforced by this notebook)\npollardRSA(477699668233,276698590691,256287263139)"
            ]
        },
        {
            "cell_type": "code",
            "execution_count": null,
            "metadata": {},
            "outputs": [],
            "source": [
                "# Sample test case (96-bit modulus; chosen to be weak against Pollard)\n# Expected: 19083485334404091390295594041\n# Time limit: 2s (not enforced by this notebook)\npollardRSA(46078560881844952408027970311,12139962845764773192771679189,25572640800575526175280260355)"
            ]
        },
        {
            "cell_type": "code",
            "execution_count": null,
            "metadata": {},
            "outputs": [],
            "source": [
                "# Sample test case (96-bit modulus; chosen to be weak against Pollard)\n# Expected: 8016837127228832072072422543\n# Time limit: 2s (not enforced by this notebook)\npollardRSA(28711114914165095737440671489,1757557829194729537043631709,6999022349353157116509393824)"
            ]
        },
        {
            "cell_type": "code",
            "execution_count": null,
            "metadata": {},
            "outputs": [],
            "source": [
                "# Sample test case (96-bit modulus; chosen to be weak against Pollard)\n# Expected: 12259500001066080074423043871\n# Time limit: 2s (not enforced by this notebook)\npollardRSA(50020898133751876623882380449,15190953205362543065008459831,25769132826891297732765303868)"
            ]
        },
        {
            "cell_type": "code",
            "execution_count": null,
            "metadata": {},
            "outputs": [],
            "source": [
                "# Sample test case (96-bit modulus; chosen to be weak against Pollard)\n# Expected: 11383681921319537288908740243\n# Time limit: 2s (not enforced by this notebook)\npollardRSA(39391301692695605110305428041,21776410089693805557011295993,5704668659989860792072848972)"
            ]
        },
        {
            "cell_type": "code",
            "execution_count": null,
            "metadata": {},
            "outputs": [],
            "source": [
                "# Sample test case (96-bit modulus; chosen to be weak against Pollard)\n# Expected: 5425507017863544705763892975\n# Time limit: 2s (not enforced by this notebook)\npollardRSA(28211876960068038254749948949,9620127754763623062963294773,5138654021226780912831426703)"
            ]
        }
    ],
    "metadata": {
        "kernelspec": {
            "display_name": "Python 3",
            "language": "python",
            "name": "python3"
        },
        "language_info": {
            "codemirror_mode": {
                "name": "ipython",
                "version": 3
            },
            "file_extension": ".py",
            "mimetype": "text/x-python",
            "name": "python",
            "nbconvert_exporter": "python",
            "pygments_lexer": "ipython3",
            "version": "3.7.1"
        }
    },
    "nbformat": 4,
    "nbformat_minor": 2
}