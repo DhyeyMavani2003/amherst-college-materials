{
    "cells": [
        {
            "cell_type": "markdown",
            "metadata": {},
            "source": [
                "Write a function $\\texttt{kthroot(k,y,p)}$, that takes an integer $y$, a prime $p$, and an element $y \\in \\mathbb{Z} / p \\mathbb{Z}$, and determines an element $x \\in \\mathbb{Z} / p \\mathbb{Z}$ such that $x^k \\equiv y \\pmod{p}$. You may assume that $\\gcd(k,p-1) = 1$ in all test cases. In the largest test cases, $p$ will be $256$ bits long, but a naive approach will receive partial credit.\n"
            ]
        },
        {
            "cell_type": "code",
            "execution_count": null,
            "metadata": {
                "mainSource": true
            },
            "outputs": [],
            "source": [
                "# Run this cell every time you change your source code.\n",
                "import importlib, kthrootSoln\nimportlib.reload(kthrootSoln)\nfrom kthrootSoln import kthroot"
            ]
        },
        {
            "cell_type": "code",
            "execution_count": null,
            "metadata": {},
            "outputs": [],
            "source": [
                "# Sample test case (3-bit prime modulus)\n# Expected: 2\n# Time limit: 1s (not enforced by this notebook)\nkthroot(3,3,5)"
            ]
        },
        {
            "cell_type": "code",
            "execution_count": null,
            "metadata": {},
            "outputs": [],
            "source": [
                "# Sample test case (6-bit prime modulus)\n# Expected: 11\n# Time limit: 1s (not enforced by this notebook)\nkthroot(13,7,41)"
            ]
        },
        {
            "cell_type": "code",
            "execution_count": null,
            "metadata": {},
            "outputs": [],
            "source": [
                "# Sample test case (12-bit prime modulus)\n# Expected: 1810\n# Time limit: 1s (not enforced by this notebook)\nkthroot(2027,2273,2707)"
            ]
        },
        {
            "cell_type": "code",
            "execution_count": null,
            "metadata": {},
            "outputs": [],
            "source": [
                "# Sample test case (24-bit prime modulus)\n# Expected: 4783942\n# Time limit: 1s (not enforced by this notebook)\nkthroot(9159071,11453170,12286471)"
            ]
        },
        {
            "cell_type": "code",
            "execution_count": null,
            "metadata": {},
            "outputs": [],
            "source": [
                "# Sample test case (36-bit prime modulus)\n# Expected: 44338255084\n# Time limit: 1s (not enforced by this notebook)\nkthroot(13808442595,30221397059,63101209973)"
            ]
        },
        {
            "cell_type": "code",
            "execution_count": null,
            "metadata": {},
            "outputs": [],
            "source": [
                "# Sample test case (64-bit prime modulus)\n# Expected: 7268638303625801492\n# Time limit: 1s (not enforced by this notebook)\nkthroot(2639215214124686773,11579854162457523886,11783068337755780801)"
            ]
        },
        {
            "cell_type": "code",
            "execution_count": null,
            "metadata": {},
            "outputs": [],
            "source": [
                "# Sample test case (128-bit prime modulus)\n# Expected: 151530826226828464736962800916531051598\n# Time limit: 1s (not enforced by this notebook)\nkthroot(154115128055673266084371593275907519013,189364493518493421858273403559582768232,270437018173223329037427140816087119597)"
            ]
        },
        {
            "cell_type": "code",
            "execution_count": null,
            "metadata": {},
            "outputs": [],
            "source": [
                "# Sample test case (256-bit prime modulus)\n# Expected: 103344682663531261477843725618244404150779236953446922566569223997545882708735\n# Time limit: 1s (not enforced by this notebook)\nkthroot(8442335452572316963159595481506819438032693733314299749494725285202500020045,81280342291712442093047335957126677795263791367543745112787525668326653515983,103552350285104025016087434093619796081171640832809329190075152953033941335077)"
            ]
        }
    ],
    "metadata": {
        "kernelspec": {
            "display_name": "Python 3",
            "language": "python",
            "name": "python3"
        },
        "language_info": {
            "codemirror_mode": {
                "name": "ipython",
                "version": 3
            },
            "file_extension": ".py",
            "mimetype": "text/x-python",
            "name": "python",
            "nbconvert_exporter": "python",
            "pygments_lexer": "ipython3",
            "version": "3.7.1"
        }
    },
    "nbformat": 4,
    "nbformat_minor": 2
}