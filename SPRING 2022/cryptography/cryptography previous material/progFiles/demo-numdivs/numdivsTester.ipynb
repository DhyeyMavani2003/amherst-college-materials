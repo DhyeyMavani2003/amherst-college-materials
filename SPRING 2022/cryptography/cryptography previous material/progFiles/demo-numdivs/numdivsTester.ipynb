{
    "cells": [
        {
            "cell_type": "markdown",
            "metadata": {},
            "source": [
                "Write a function $\\texttt{numdivs(n)}$, which takes a positive integer $n$ as input and returns the number of divisors of $n$.\n"
            ]
        },
        {
            "cell_type": "code",
            "execution_count": null,
            "metadata": {
                "mainSource": true
            },
            "outputs": [],
            "source": [
                "# Run this cell every time you change your source code.\n",
                "import importlib, numdivsSoln\nimportlib.reload(numdivsSoln)\nfrom numdivsSoln import numdivs"
            ]
        },
        {
            "cell_type": "code",
            "execution_count": null,
            "metadata": {},
            "outputs": [],
            "source": [
                "# Sample test case 1 (random 1-bit integer)\n# Expected: 2\n# Time limit: 1s (not enforced by this notebook)\nnumdivs(2)"
            ]
        },
        {
            "cell_type": "code",
            "execution_count": null,
            "metadata": {},
            "outputs": [],
            "source": [
                "# Sample test case 2 (random 2-bit integer)\n# Expected: 2\n# Time limit: 1s (not enforced by this notebook)\nnumdivs(2)"
            ]
        },
        {
            "cell_type": "code",
            "execution_count": null,
            "metadata": {},
            "outputs": [],
            "source": [
                "# Sample test case 3 (random 3-bit integer)\n# Expected: 2\n# Time limit: 1s (not enforced by this notebook)\nnumdivs(7)"
            ]
        },
        {
            "cell_type": "code",
            "execution_count": null,
            "metadata": {},
            "outputs": [],
            "source": [
                "# Sample test case 4 (random 4-bit integer)\n# Expected: 2\n# Time limit: 1s (not enforced by this notebook)\nnumdivs(13)"
            ]
        },
        {
            "cell_type": "code",
            "execution_count": null,
            "metadata": {},
            "outputs": [],
            "source": [
                "# Sample test case 5 (random 5-bit integer)\n# Expected: 3\n# Time limit: 1s (not enforced by this notebook)\nnumdivs(25)"
            ]
        },
        {
            "cell_type": "code",
            "execution_count": null,
            "metadata": {},
            "outputs": [],
            "source": [
                "# Sample test case 6 (random 6-bit integer)\n# Expected: 2\n# Time limit: 1s (not enforced by this notebook)\nnumdivs(41)"
            ]
        },
        {
            "cell_type": "code",
            "execution_count": null,
            "metadata": {},
            "outputs": [],
            "source": [
                "# Sample test case 7 (random 7-bit integer)\n# Expected: 8\n# Time limit: 1s (not enforced by this notebook)\nnumdivs(102)"
            ]
        },
        {
            "cell_type": "code",
            "execution_count": null,
            "metadata": {},
            "outputs": [],
            "source": [
                "# Sample test case 8 (random 8-bit integer)\n# Expected: 10\n# Time limit: 1s (not enforced by this notebook)\nnumdivs(208)"
            ]
        },
        {
            "cell_type": "code",
            "execution_count": null,
            "metadata": {},
            "outputs": [],
            "source": [
                "# Sample test case 9 (random 9-bit integer)\n# Expected: 4\n# Time limit: 1s (not enforced by this notebook)\nnumdivs(339)"
            ]
        },
        {
            "cell_type": "code",
            "execution_count": null,
            "metadata": {},
            "outputs": [],
            "source": [
                "# Sample test case 10 (random 10-bit integer)\n# Expected: 4\n# Time limit: 1s (not enforced by this notebook)\nnumdivs(527)"
            ]
        }
    ],
    "metadata": {
        "kernelspec": {
            "display_name": "Python 3",
            "language": "python",
            "name": "python3"
        },
        "language_info": {
            "codemirror_mode": {
                "name": "ipython",
                "version": 3
            },
            "file_extension": ".py",
            "mimetype": "text/x-python",
            "name": "python",
            "nbconvert_exporter": "python",
            "pygments_lexer": "ipython3",
            "version": "3.7.1"
        }
    },
    "nbformat": 4,
    "nbformat_minor": 2
}