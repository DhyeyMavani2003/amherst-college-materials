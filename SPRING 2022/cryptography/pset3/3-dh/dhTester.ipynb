{
 "cells": [
  {
   "cell_type": "markdown",
   "metadata": {},
   "source": [
    "Write a function $\\texttt{dh(g,p,B)}$ that performs Alice's role in Diffie-Hellman key exchange, using a randomly chosen secret number $a$. More precisely: you are given a prime number $p$, an element $g \\in \\mathbb{Z} / p \\mathbb{Z}$, and Bob's transmission $B$. Your function should return a pair of two numbers $A,S$, where $A$ is the number you transmit to Bob, and $S$ is the shared secret. You should look up how to generate random numbers in Python (don't worry about finding a \"cryptographically secure\" random number generator, just use the standard one in Python). The prime $p$ will be between $16$ and $256$ bits long, and the autograder will run your code several times on each input to make sure that it appears to be choosing the secret number $a$ randomly.\n"
   ]
  },
  {
   "cell_type": "code",
   "execution_count": 13,
   "metadata": {
    "mainSource": true
   },
   "outputs": [],
   "source": [
    "# Run this cell every time you change your source code.\n",
    "import importlib, dhSoln\n",
    "importlib.reload(dhSoln)\n",
    "from dhSoln import dh"
   ]
  },
  {
   "cell_type": "code",
   "execution_count": 8,
   "metadata": {},
   "outputs": [
    {
     "data": {
      "text/plain": [
       "(26878, 17874)"
      ]
     },
     "execution_count": 8,
     "metadata": {},
     "output_type": "execute_result"
    }
   ],
   "source": [
    "# Sample test case (16-bit prime)\n",
    "# Bob's secret number: b = 8420\n",
    "# To see if it worked: check that A^b is congruent to S mod p.\n",
    "# Time limit: 1s (not enforced by this notebook)\n",
    "dh(9852,36191,18272)\n"
   ]
  },
  {
   "cell_type": "code",
   "execution_count": 9,
   "metadata": {},
   "outputs": [
    {
     "data": {
      "text/plain": [
       "(526497, 855493)"
      ]
     },
     "execution_count": 9,
     "metadata": {},
     "output_type": "execute_result"
    }
   ],
   "source": [
    "# Sample test case (20-bit prime)\n",
    "# Bob's secret number: b = 20781\n",
    "# To see if it worked: check that A^b is congruent to S mod p.\n",
    "# Time limit: 1s (not enforced by this notebook)\n",
    "dh(979727,1008781,806363)"
   ]
  },
  {
   "cell_type": "code",
   "execution_count": 10,
   "metadata": {},
   "outputs": [
    {
     "data": {
      "text/plain": [
       "(2326896149, 2954903222)"
      ]
     },
     "execution_count": 10,
     "metadata": {},
     "output_type": "execute_result"
    }
   ],
   "source": [
    "# Sample test case (32-bit prime)\n",
    "# Bob's secret number: b = 2620794649\n",
    "# To see if it worked: check that A^b is congruent to S mod p.\n",
    "# Time limit: 1s (not enforced by this notebook)\n",
    "dh(3105266877,3728085301,512369686)"
   ]
  },
  {
   "cell_type": "code",
   "execution_count": 11,
   "metadata": {},
   "outputs": [
    {
     "data": {
      "text/plain": [
       "(5192169443705422383, 13784247876509347184)"
      ]
     },
     "execution_count": 11,
     "metadata": {},
     "output_type": "execute_result"
    }
   ],
   "source": [
    "# Sample test case (64-bit prime)\n",
    "# Bob's secret number: b = 8144000413413958833\n",
    "# To see if it worked: check that A^b is congruent to S mod p.\n",
    "# Time limit: 1s (not enforced by this notebook)\n",
    "dh(22855072982521659,15019432016395572863,2228752477163229461)"
   ]
  },
  {
   "cell_type": "code",
   "execution_count": 12,
   "metadata": {},
   "outputs": [
    {
     "data": {
      "text/plain": [
       "(128401288612383621306303880938949268903,\n",
       " 191999178593046979947752949724134542842)"
      ]
     },
     "execution_count": 12,
     "metadata": {},
     "output_type": "execute_result"
    }
   ],
   "source": [
    "# Sample test case (128-bit prime)\n",
    "# Bob's secret number: b = 8227437274020755462302265827581753695\n",
    "# To see if it worked: check that A^b is congruent to S mod p.\n",
    "# Time limit: 1s (not enforced by this notebook)\n",
    "dh(101394862415722661894582952121266406086,215249136879187833772314845668824032741,74672268806819156275237367590934464331)"
   ]
  },
  {
   "cell_type": "code",
   "execution_count": null,
   "metadata": {},
   "outputs": [],
   "source": []
  }
 ],
 "metadata": {
  "kernelspec": {
   "display_name": "Python 3 (ipykernel)",
   "language": "python",
   "name": "python3"
  },
  "language_info": {
   "codemirror_mode": {
    "name": "ipython",
    "version": 3
   },
   "file_extension": ".py",
   "mimetype": "text/x-python",
   "name": "python",
   "nbconvert_exporter": "python",
   "pygments_lexer": "ipython3",
   "version": "3.9.7"
  }
 },
 "nbformat": 4,
 "nbformat_minor": 2
}
