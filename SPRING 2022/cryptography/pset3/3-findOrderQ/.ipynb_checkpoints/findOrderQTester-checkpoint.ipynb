{
 "cells": [
  {
   "cell_type": "markdown",
   "metadata": {},
   "source": [
    "Write a function $\\texttt{findOrderQ(q,p)}$ that takes a prime number $p$ and returns an element $g \\in \\mathbb{Z} / p \\mathbb{Z}$ of order $q$ if possible. See Written Problem 4 for a way to do this. If it is *not* possible to find such an element $g$, your function should $\\texttt{return None}$.\n",
    "\n"
   ]
  },
  {
   "cell_type": "code",
   "execution_count": 2,
   "metadata": {
    "mainSource": true
   },
   "outputs": [
    {
     "ename": "SyntaxError",
     "evalue": "EOF while scanning triple-quoted string literal (findOrderQSoln.py, line 49)",
     "output_type": "error",
     "traceback": [
      "Traceback \u001b[0;36m(most recent call last)\u001b[0m:\n",
      "  File \u001b[1;32m\"/Users/dhyeymavani/opt/anaconda3/lib/python3.9/site-packages/IPython/core/interactiveshell.py\"\u001b[0m, line \u001b[1;32m3444\u001b[0m, in \u001b[1;35mrun_code\u001b[0m\n    exec(code_obj, self.user_global_ns, self.user_ns)\n",
      "\u001b[0;36m  File \u001b[0;32m\"/var/folders/rb/x4vhwjb16wj764ztdb96gnlh0000gn/T/ipykernel_5308/3842198627.py\"\u001b[0;36m, line \u001b[0;32m2\u001b[0;36m, in \u001b[0;35m<module>\u001b[0;36m\u001b[0m\n\u001b[0;31m    import importlib, findOrderQSoln\u001b[0m\n",
      "\u001b[0;36m  File \u001b[0;32m\"/Users/dhyeymavani/Desktop/SPRING 2022/cryptography/pset3/3-findOrderQ/findOrderQSoln.py\"\u001b[0;36m, line \u001b[0;32m49\u001b[0m\n\u001b[0;31m    return (prevV%m)\u001b[0m\n\u001b[0m                    \n^\u001b[0m\n\u001b[0;31mSyntaxError\u001b[0m\u001b[0;31m:\u001b[0m EOF while scanning triple-quoted string literal\n"
     ]
    }
   ],
   "source": [
    "# Run this cell every time you change your source code.\n",
    "import importlib, findOrderQSoln\n",
    "importlib.reload(findOrderQSoln)\n",
    "from findOrderQSoln import findOrderQ"
   ]
  },
  {
   "cell_type": "code",
   "execution_count": null,
   "metadata": {},
   "outputs": [],
   "source": [
    "# Sample test case (3-bit q, 7-bit p)\n",
    "# Expected: Many answers possible\n",
    "# Time limit: 2s (not enforced by this notebook)\n",
    "findOrderQ(5,71)"
   ]
  },
  {
   "cell_type": "code",
   "execution_count": null,
   "metadata": {},
   "outputs": [],
   "source": [
    "# Sample test case (3-bit q, 7-bit p)\n",
    "# Expected: None\n",
    "# Time limit: 2s (not enforced by this notebook)\n",
    "findOrderQ(7,103)"
   ]
  },
  {
   "cell_type": "code",
   "execution_count": null,
   "metadata": {},
   "outputs": [],
   "source": [
    "# Sample test case (5-bit q, 10-bit p)\n",
    "# Expected: Many answers possible\n",
    "# Time limit: 2s (not enforced by this notebook)\n",
    "findOrderQ(19,647)"
   ]
  },
  {
   "cell_type": "code",
   "execution_count": null,
   "metadata": {},
   "outputs": [],
   "source": [
    "# Sample test case (5-bit q, 10-bit p)\n",
    "# Expected: None\n",
    "# Time limit: 2s (not enforced by this notebook)\n",
    "findOrderQ(17,521)"
   ]
  },
  {
   "cell_type": "code",
   "execution_count": null,
   "metadata": {},
   "outputs": [],
   "source": [
    "# Sample test case (128-bit q, 256-bit p)\n",
    "# Expected: Many answers possible\n",
    "# Time limit: 2s (not enforced by this notebook)\n",
    "findOrderQ(259624423329128907937871816773300023439,84573520431382887117858045974959516268045141303575924695294306195837151957819)"
   ]
  },
  {
   "cell_type": "code",
   "execution_count": null,
   "metadata": {},
   "outputs": [],
   "source": [
    "# Sample test case (128-bit q, 256-bit p)\n",
    "# Expected: None\n",
    "# Time limit: 2s (not enforced by this notebook)\n",
    "findOrderQ(252128726496463920773885805980857530121,93975569528503478529450006798731958974555027815394562376388189920123552176919)"
   ]
  },
  {
   "cell_type": "code",
   "execution_count": null,
   "metadata": {},
   "outputs": [],
   "source": []
  }
 ],
 "metadata": {
  "kernelspec": {
   "display_name": "Python 3 (ipykernel)",
   "language": "python",
   "name": "python3"
  },
  "language_info": {
   "codemirror_mode": {
    "name": "ipython",
    "version": 3
   },
   "file_extension": ".py",
   "mimetype": "text/x-python",
   "name": "python",
   "nbconvert_exporter": "python",
   "pygments_lexer": "ipython3",
   "version": "3.9.7"
  }
 },
 "nbformat": 4,
 "nbformat_minor": 2
}
