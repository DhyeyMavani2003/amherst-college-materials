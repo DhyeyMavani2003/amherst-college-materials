{
 "cells": [
  {
   "cell_type": "markdown",
   "metadata": {},
   "source": [
    "Implement the Pohlig-Hellman algorithm. That is, write a funciton $\\texttt{ph(g,h,p)}$ that solves the discrete logarithm problem $g^x \\equiv h \\pmod{p}$ under the assumption that $p$ is a ``weak'' prime, in the sense that $p-1$ factors into small prime factors. More specifically: you may assume that $p-1$ factors into prime powers, all $16$ bits or smaller, but $p$ may be as large as $64$ bits in length.\n"
   ]
  },
  {
   "cell_type": "code",
   "execution_count": null,
   "metadata": {
    "mainSource": true
   },
   "outputs": [],
   "source": [
    "# Run this cell every time you change your source code.\n",
    "import importlib, phSoln\n",
    "importlib.reload(phSoln)\n",
    "from phSoln import ph"
   ]
  },
  {
   "cell_type": "code",
   "execution_count": null,
   "metadata": {},
   "outputs": [],
   "source": [
    "# Sample test case\n",
    "# Expected: 5482232824117125917 (other answers possible)\n",
    "# Time limit: 1s (not enforced by this notebook)\n",
    "ph(8321393754542960635,3344919100639848838,11581718196270238999)"
   ]
  },
  {
   "cell_type": "code",
   "execution_count": null,
   "metadata": {},
   "outputs": [],
   "source": [
    "# Sample test case\n",
    "# Expected: 2412219620573587919 (other answers possible)\n",
    "# Time limit: 1s (not enforced by this notebook)\n",
    "ph(14114141024226206439,10600996659133106772,14309149662427967351)"
   ]
  },
  {
   "cell_type": "code",
   "execution_count": null,
   "metadata": {},
   "outputs": [],
   "source": [
    "# Sample test case\n",
    "# Expected: 3101430506417826181 (other answers possible)\n",
    "# Time limit: 1s (not enforced by this notebook)\n",
    "ph(12286430250283575811,1208954460440325036,15287404941364350001)"
   ]
  },
  {
   "cell_type": "code",
   "execution_count": null,
   "metadata": {},
   "outputs": [],
   "source": [
    "# Sample test case\n",
    "# Expected: 5391281024944729746 (other answers possible)\n",
    "# Time limit: 1s (not enforced by this notebook)\n",
    "ph(6106133344058325195,7656581980228785989,9660686164214139737)"
   ]
  }
 ],
 "metadata": {
  "kernelspec": {
   "display_name": "Python 3 (ipykernel)",
   "language": "python",
   "name": "python3"
  },
  "language_info": {
   "codemirror_mode": {
    "name": "ipython",
    "version": 3
   },
   "file_extension": ".py",
   "mimetype": "text/x-python",
   "name": "python",
   "nbconvert_exporter": "python",
   "pygments_lexer": "ipython3",
   "version": "3.9.7"
  }
 },
 "nbformat": 4,
 "nbformat_minor": 2
}
