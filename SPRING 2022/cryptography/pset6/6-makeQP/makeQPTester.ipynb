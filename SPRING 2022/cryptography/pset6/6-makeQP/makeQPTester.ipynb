{
 "cells": [
  {
   "cell_type": "markdown",
   "metadata": {},
   "source": [
    "Write a function $\\texttt{makeQP(qbits,pbits)}$ that generates two primes numbers $q$ and $p$ such that $q$ is exactly $\\texttt{qbits}$ bits long, $p$ is exactly $\\texttt{pbits}$ bits long, and $p \\equiv 1 \\pmod{q}$. Recall that $p$ is ``exactly $n$ bits long'' means that $2^{n-1} \\leq p < 2^n$.\n",
    "\n",
    "Take a moment to remind yourself why it is useful to construct primes this way, even if it's only the prime $p$ that you want (e.g. for Diffie-Hellman parameters).\n"
   ]
  },
  {
   "cell_type": "code",
   "execution_count": 56,
   "metadata": {
    "mainSource": true
   },
   "outputs": [],
   "source": [
    "# Run this cell every time you change your source code.\n",
    "import importlib, makeQPSoln\n",
    "importlib.reload(makeQPSoln)\n",
    "from makeQPSoln import makeQP,checkQP"
   ]
  },
  {
   "cell_type": "code",
   "execution_count": 57,
   "metadata": {},
   "outputs": [
    {
     "name": "stdout",
     "output_type": "stream",
     "text": [
      "Your code produced:\n",
      "\tq=5\n",
      "\tp=31\n",
      "Checking the output...\n",
      "q has the correct number of bits.\n",
      "p is 5 bits long, but should be 6 bits long\n",
      "p is 1 mod q, as desired.\n",
      "q is prime.\n",
      "p is prime.\n"
     ]
    }
   ],
   "source": [
    "# Sample test case (3-bit q; 6-bit p)\n",
    "# Expected: Many possible answers. A few lines to check whether your answer works are provided in the testing notebook, but you'll need to provide your own prime-testing function.\n",
    "q,p = makeQP(3,6)\n",
    "print('Your code produced:\\n\\tq=%d\\n\\tp=%d'%(q,p))\n",
    "print('Checking the output...')\n",
    "checkQP(q,p,3,6)\n"
   ]
  },
  {
   "cell_type": "code",
   "execution_count": 58,
   "metadata": {},
   "outputs": [
    {
     "name": "stdout",
     "output_type": "stream",
     "text": [
      "Your code produced:\n",
      "\tq=17\n",
      "\tp=647\n",
      "Checking the output...\n",
      "q has the correct number of bits.\n",
      "p has the correct number of bits.\n",
      "p is 1 mod q, as desired.\n",
      "q is prime.\n",
      "p is prime.\n"
     ]
    }
   ],
   "source": [
    "# Sample test case (5-bit q; 10-bit p)\n",
    "# Expected: Many possible answers. A few lines to check whether your answer works are provided in the testing notebook, but you'll need to provide your own prime-testing function.\n",
    "q,p = makeQP(5,10)\n",
    "print('Your code produced:\\n\\tq=%d\\n\\tp=%d'%(q,p))\n",
    "print('Checking the output...')\n",
    "checkQP(q,p,5,10)\n"
   ]
  },
  {
   "cell_type": "code",
   "execution_count": 59,
   "metadata": {},
   "outputs": [
    {
     "name": "stdout",
     "output_type": "stream",
     "text": [
      "Your code produced:\n",
      "\tq=883\n",
      "\tp=665783\n",
      "Checking the output...\n",
      "q has the correct number of bits.\n",
      "p has the correct number of bits.\n",
      "p is 1 mod q, as desired.\n",
      "q is prime.\n",
      "p is prime.\n"
     ]
    }
   ],
   "source": [
    "# Sample test case (10-bit q; 20-bit p)\n",
    "# Expected: Many possible answers. A few lines to check whether your answer works are provided in the testing notebook, but you'll need to provide your own prime-testing function.\n",
    "q,p = makeQP(10,20)\n",
    "print('Your code produced:\\n\\tq=%d\\n\\tp=%d'%(q,p))\n",
    "print('Checking the output...')\n",
    "checkQP(q,p,10,20)\n"
   ]
  },
  {
   "cell_type": "code",
   "execution_count": 60,
   "metadata": {},
   "outputs": [
    {
     "name": "stdout",
     "output_type": "stream",
     "text": [
      "Your code produced:\n",
      "\tq=2664240883\n",
      "\tp=185463136347397\n",
      "Checking the output...\n",
      "q has the correct number of bits.\n",
      "p has the correct number of bits.\n",
      "p is 1 mod q, as desired.\n",
      "q is prime.\n",
      "p is prime.\n"
     ]
    }
   ],
   "source": [
    "# Sample test case (32-bit q; 48-bit p)\n",
    "# Expected: Many possible answers. A few lines to check whether your answer works are provided in the testing notebook, but you'll need to provide your own prime-testing function.\n",
    "q,p = makeQP(32,48)\n",
    "print('Your code produced:\\n\\tq=%d\\n\\tp=%d'%(q,p))\n",
    "print('Checking the output...')\n",
    "checkQP(q,p,32,48)\n"
   ]
  },
  {
   "cell_type": "code",
   "execution_count": 61,
   "metadata": {},
   "outputs": [
    {
     "name": "stdout",
     "output_type": "stream",
     "text": [
      "Your code produced:\n",
      "\tq=16194587216615354333\n",
      "\tp=838721538892044784320377633741\n",
      "Checking the output...\n",
      "q has the correct number of bits.\n",
      "p has the correct number of bits.\n",
      "p is 1 mod q, as desired.\n",
      "q is prime.\n",
      "p is prime.\n"
     ]
    }
   ],
   "source": [
    "# Sample test case (64-bit q; 100-bit p)\n",
    "# Expected: Many possible answers. A few lines to check whether your answer works are provided in the testing notebook, but you'll need to provide your own prime-testing function.\n",
    "q,p = makeQP(64,100)\n",
    "print('Your code produced:\\n\\tq=%d\\n\\tp=%d'%(q,p))\n",
    "print('Checking the output...')\n",
    "checkQP(q,p,64,100)\n"
   ]
  },
  {
   "cell_type": "code",
   "execution_count": 62,
   "metadata": {},
   "outputs": [
    {
     "name": "stdout",
     "output_type": "stream",
     "text": [
      "Your code produced:\n",
      "\tq=60000379641845429183540764585533183195514756134870787477528367128812409484683\n",
      "\tp=7976151256793842081184545897253511084228897478569189468629157448593402857014542745220799172611751811944656372238564538567016199835260880577711983265202967\n",
      "Checking the output...\n",
      "q has the correct number of bits.\n",
      "p has the correct number of bits.\n",
      "p is 1 mod q, as desired.\n",
      "q is prime.\n",
      "p is prime.\n"
     ]
    }
   ],
   "source": [
    "# Sample test case (256-bit q; 512-bit p)\n",
    "# Expected: Many possible answers. A few lines to check whether your answer works are provided in the testing notebook, but you'll need to provide your own prime-testing function.\n",
    "q,p = makeQP(256,512)\n",
    "print('Your code produced:\\n\\tq=%d\\n\\tp=%d'%(q,p))\n",
    "print('Checking the output...')\n",
    "checkQP(q,p,256,512)\n"
   ]
  },
  {
   "cell_type": "code",
   "execution_count": null,
   "metadata": {},
   "outputs": [],
   "source": []
  },
  {
   "cell_type": "code",
   "execution_count": null,
   "metadata": {},
   "outputs": [],
   "source": []
  }
 ],
 "metadata": {
  "kernelspec": {
   "display_name": "Python 3 (ipykernel)",
   "language": "python",
   "name": "python3"
  },
  "language_info": {
   "codemirror_mode": {
    "name": "ipython",
    "version": 3
   },
   "file_extension": ".py",
   "mimetype": "text/x-python",
   "name": "python",
   "nbconvert_exporter": "python",
   "pygments_lexer": "ipython3",
   "version": "3.9.7"
  }
 },
 "nbformat": 4,
 "nbformat_minor": 2
}
