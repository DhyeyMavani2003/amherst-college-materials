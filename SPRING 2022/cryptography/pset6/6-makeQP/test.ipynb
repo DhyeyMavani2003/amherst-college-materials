{
 "cells": [
  {
   "cell_type": "code",
   "execution_count": 8,
   "id": "90a6cbd7",
   "metadata": {},
   "outputs": [],
   "source": [
    "# Run this cell every time you change your source code.\n",
    "import importlib, test\n",
    "importlib.reload(test)\n",
    "from test import test"
   ]
  },
  {
   "cell_type": "code",
   "execution_count": 9,
   "id": "e1c3d08a",
   "metadata": {},
   "outputs": [
    {
     "data": {
      "text/plain": [
       "10"
      ]
     },
     "execution_count": 9,
     "metadata": {},
     "output_type": "execute_result"
    }
   ],
   "source": [
    "test()"
   ]
  },
  {
   "cell_type": "code",
   "execution_count": null,
   "id": "d1ef18f2",
   "metadata": {},
   "outputs": [],
   "source": []
  }
 ],
 "metadata": {
  "kernelspec": {
   "display_name": "Python 3.9.7 64-bit",
   "language": "python",
   "name": "python397jvsc74a57bd0aee8b7b246df8f9039afb4144a1f6fd8d2ca17a180786b69acc140d282b71a49"
  },
  "language_info": {
   "codemirror_mode": {
    "name": "ipython",
    "version": 3
   },
   "file_extension": ".py",
   "mimetype": "text/x-python",
   "name": "python",
   "nbconvert_exporter": "python",
   "pygments_lexer": "ipython3",
   "version": "3.9.7"
  }
 },
 "nbformat": 4,
 "nbformat_minor": 5
}
