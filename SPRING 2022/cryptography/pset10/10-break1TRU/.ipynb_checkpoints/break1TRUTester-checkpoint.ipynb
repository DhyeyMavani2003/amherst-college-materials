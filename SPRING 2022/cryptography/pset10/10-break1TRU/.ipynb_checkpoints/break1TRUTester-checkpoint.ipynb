{
 "cells": [
  {
   "cell_type": "markdown",
   "metadata": {},
   "source": [
    "You will be given the public parameter $q$, Alice's public key $h$, and a ciphertext $e$ for the congruential cryptosystem (which I called ``1TRU'' in class). Write a function $\\mathtt{break1TRU(q,h,e)}$ that extracts the plaintext (without knowing the private key). \n",
    "\n",
    "The first ten non-sample test cases will be small enough that a brute force approach should work. For the remaining test cases I suggest that you use Gauss's lattice basis reduction algorithm.\n",
    "\n",
    "Note: this system's summary table is p. 351 in the 1st edition, p. 375 in the 2nd edition. The 1st edition's table has two typos: under ``Encryption'', the first line should say ``$m < \\sqrt{q/4}$'' (not $\\sqrt{q/2}$). Under ``Decryption,'' the first line should say ``$a \\equiv fe \\pmod{q}$'' (not $\\pmod{e}$).\n"
   ]
  },
  {
   "cell_type": "code",
   "execution_count": 36,
   "metadata": {
    "mainSource": true
   },
   "outputs": [
    {
     "data": {
      "text/plain": [
       "<module 'break1TRUSoln' from '/Users/dhyeymavani/Desktop/SPRING 2022/cryptography/pset10/10-break1TRU/break1TRUSoln.py'>"
      ]
     },
     "execution_count": 36,
     "metadata": {},
     "output_type": "execute_result"
    }
   ],
   "source": [
    "# Run this cell every time you change your source code.\n",
    "import importlib, break1TRUSoln\n",
    "from break1TRUSoln import break1TRU\n",
    "importlib.reload(break1TRUSoln)\n",
    "# NOTE: I've rewritten this cell compared to previous assignments. I think this version will help to show you more informative error messages."
   ]
  },
  {
   "cell_type": "code",
   "execution_count": 37,
   "metadata": {},
   "outputs": [
    {
     "data": {
      "text/plain": [
       "(2280, -1001)"
      ]
     },
     "execution_count": 37,
     "metadata": {},
     "output_type": "execute_result"
    }
   ],
   "source": [
    "# Sample test case (8-bit modulus q)\n",
    "# Expected: 1\n",
    "break1TRU(137,3,7)"
   ]
  },
  {
   "cell_type": "code",
   "execution_count": 38,
   "metadata": {},
   "outputs": [
    {
     "ename": "SyntaxError",
     "evalue": "cannot assign to operator (2688446002.py, line 3)",
     "output_type": "error",
     "traceback": [
      "\u001b[0;36m  File \u001b[0;32m\"/var/folders/rb/x4vhwjb16wj764ztdb96gnlh0000gn/T/ipykernel_38956/2688446002.py\"\u001b[0;36m, line \u001b[0;32m3\u001b[0m\n\u001b[0;31m    v1 = (1446860, 1420089) and v2 = (6513996, 6393464).\u001b[0m\n\u001b[0m         ^\u001b[0m\n\u001b[0;31mSyntaxError\u001b[0m\u001b[0;31m:\u001b[0m cannot assign to operator\n"
     ]
    }
   ],
   "source": [
    "# Sample test case (9-bit modulus q)\n",
    "# Expected: 2\n",
    "break1TRU(463,7,37)"
   ]
  },
  {
   "cell_type": "code",
   "execution_count": 29,
   "metadata": {},
   "outputs": [
    {
     "data": {
      "text/plain": [
       "(7, 13)"
      ]
     },
     "execution_count": 29,
     "metadata": {},
     "output_type": "execute_result"
    }
   ],
   "source": [
    "# Sample test case (10-bit modulus q)\n",
    "# Expected: 4\n",
    "break1TRU(941,674,424)"
   ]
  },
  {
   "cell_type": "code",
   "execution_count": 30,
   "metadata": {},
   "outputs": [
    {
     "data": {
      "text/plain": [
       "(1746282734179174, 0)"
      ]
     },
     "execution_count": 30,
     "metadata": {},
     "output_type": "execute_result"
    }
   ],
   "source": [
    "# Sample test case (256-bit modulus q)\n",
    "# Expected: 56594075296458419347069407974729191900\n",
    "break1TRU(112246726463404963265008235742091499872727967128635938898559789925417728209901,36521593923011372510014274040426802920922138718903067119718640770171115088680,56027879616125842262320254933540331732215229548959168856924879479119834098000)"
   ]
  },
  {
   "cell_type": "code",
   "execution_count": 31,
   "metadata": {},
   "outputs": [
    {
     "data": {
      "text/plain": [
       "(-19, -69)"
      ]
     },
     "execution_count": 31,
     "metadata": {},
     "output_type": "execute_result"
    }
   ],
   "source": [
    "# Sample test case (16-bit modulus q)\n",
    "# Expected: 17\n",
    "break1TRU(59441,15646,34659)"
   ]
  },
  {
   "cell_type": "code",
   "execution_count": 32,
   "metadata": {},
   "outputs": [
    {
     "data": {
      "text/plain": [
       "(-8349658758160020, 0)"
      ]
     },
     "execution_count": 32,
     "metadata": {},
     "output_type": "execute_result"
    }
   ],
   "source": [
    "# Sample test case (256-bit modulus q)\n",
    "# Expected: 36227787848582555447330744952117178303\n",
    "break1TRU(107339074520540890627955042001293479459814919490472675804549958970474199437421,84619377357658964890212996383929027265458459101663230365592505914955069086221,42614647145716770311443331419618220569404638307759782893164760501751204677481)"
   ]
  },
  {
   "cell_type": "code",
   "execution_count": null,
   "metadata": {},
   "outputs": [],
   "source": []
  }
 ],
 "metadata": {
  "kernelspec": {
   "display_name": "Python 3 (ipykernel)",
   "language": "python",
   "name": "python3"
  },
  "language_info": {
   "codemirror_mode": {
    "name": "ipython",
    "version": 3
   },
   "file_extension": ".py",
   "mimetype": "text/x-python",
   "name": "python",
   "nbconvert_exporter": "python",
   "pygments_lexer": "ipython3",
   "version": "3.9.7"
  }
 },
 "nbformat": 4,
 "nbformat_minor": 2
}
