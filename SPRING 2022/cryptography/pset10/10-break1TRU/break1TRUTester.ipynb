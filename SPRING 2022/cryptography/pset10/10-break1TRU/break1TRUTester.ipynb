{
 "cells": [
  {
   "cell_type": "markdown",
   "metadata": {},
   "source": [
    "You will be given the public parameter $q$, Alice's public key $h$, and a ciphertext $e$ for the congruential cryptosystem (which I called ``1TRU'' in class). Write a function $\\mathtt{break1TRU(q,h,e)}$ that extracts the plaintext (without knowing the private key). \n",
    "\n",
    "The first ten non-sample test cases will be small enough that a brute force approach should work. For the remaining test cases I suggest that you use Gauss's lattice basis reduction algorithm.\n",
    "\n",
    "Note: this system's summary table is p. 351 in the 1st edition, p. 375 in the 2nd edition. The 1st edition's table has two typos: under ``Encryption'', the first line should say ``$m < \\sqrt{q/4}$'' (not $\\sqrt{q/2}$). Under ``Decryption,'' the first line should say ``$a \\equiv fe \\pmod{q}$'' (not $\\pmod{e}$).\n"
   ]
  },
  {
   "cell_type": "code",
   "execution_count": 363,
   "metadata": {
    "mainSource": true
   },
   "outputs": [
    {
     "data": {
      "text/plain": [
       "<module 'break1TRUSoln' from '/Users/dhyeymavani/Desktop/SPRING 2022/cryptography/pset10/10-break1TRU/break1TRUSoln.py'>"
      ]
     },
     "execution_count": 363,
     "metadata": {},
     "output_type": "execute_result"
    }
   ],
   "source": [
    "# Run this cell every time you change your source code.\n",
    "import importlib, break1TRUSoln\n",
    "from break1TRUSoln import break1TRU\n",
    "importlib.reload(break1TRUSoln)\n",
    "# NOTE: I've rewritten this cell compared to previous assignments. I think this version will help to show you more informative error messages."
   ]
  },
  {
   "cell_type": "code",
   "execution_count": 364,
   "metadata": {},
   "outputs": [
    {
     "data": {
      "text/plain": [
       "1"
      ]
     },
     "execution_count": 364,
     "metadata": {},
     "output_type": "execute_result"
    }
   ],
   "source": [
    "# Sample test case (8-bit modulus q)\n",
    "# Expected: 1\n",
    "break1TRU(137,3,7)"
   ]
  },
  {
   "cell_type": "code",
   "execution_count": 365,
   "metadata": {},
   "outputs": [
    {
     "data": {
      "text/plain": [
       "2"
      ]
     },
     "execution_count": 365,
     "metadata": {},
     "output_type": "execute_result"
    }
   ],
   "source": [
    "# Sample test case (9-bit modulus q)\n",
    "# Expected: 2\n",
    "break1TRU(463,7,37)"
   ]
  },
  {
   "cell_type": "code",
   "execution_count": 366,
   "metadata": {},
   "outputs": [
    {
     "data": {
      "text/plain": [
       "4"
      ]
     },
     "execution_count": 366,
     "metadata": {},
     "output_type": "execute_result"
    }
   ],
   "source": [
    "# Sample test case (10-bit modulus q)\n",
    "# Expected: 4\n",
    "break1TRU(941,674,424)"
   ]
  },
  {
   "cell_type": "code",
   "execution_count": 367,
   "metadata": {},
   "outputs": [
    {
     "data": {
      "text/plain": [
       "56594075296458419347069407974729191900"
      ]
     },
     "execution_count": 367,
     "metadata": {},
     "output_type": "execute_result"
    }
   ],
   "source": [
    "# Sample test case (256-bit modulus q)\n",
    "# Expected: 56594075296458419347069407974729191900\n",
    "break1TRU(112246726463404963265008235742091499872727967128635938898559789925417728209901,36521593923011372510014274040426802920922138718903067119718640770171115088680,56027879616125842262320254933540331732215229548959168856924879479119834098000)"
   ]
  },
  {
   "cell_type": "code",
   "execution_count": 368,
   "metadata": {},
   "outputs": [
    {
     "data": {
      "text/plain": [
       "17"
      ]
     },
     "execution_count": 368,
     "metadata": {},
     "output_type": "execute_result"
    }
   ],
   "source": [
    "# Sample test case (16-bit modulus q)\n",
    "# Expected: 17\n",
    "break1TRU(59441,15646,34659)"
   ]
  },
  {
   "cell_type": "code",
   "execution_count": 369,
   "metadata": {},
   "outputs": [
    {
     "data": {
      "text/plain": [
       "36227787848582555447330744952117178303"
      ]
     },
     "execution_count": 369,
     "metadata": {},
     "output_type": "execute_result"
    }
   ],
   "source": [
    "# Sample test case (256-bit modulus q)\n",
    "# Expected: 36227787848582555447330744952117178303\n",
    "break1TRU(107339074520540890627955042001293479459814919490472675804549958970474199437421,84619377357658964890212996383929027265458459101663230365592505914955069086221,42614647145716770311443331419618220569404638307759782893164760501751204677481)"
   ]
  },
  {
   "cell_type": "code",
   "execution_count": null,
   "metadata": {},
   "outputs": [],
   "source": []
  },
  {
   "cell_type": "code",
   "execution_count": null,
   "metadata": {},
   "outputs": [],
   "source": []
  },
  {
   "cell_type": "code",
   "execution_count": null,
   "metadata": {},
   "outputs": [],
   "source": []
  }
 ],
 "metadata": {
  "kernelspec": {
   "display_name": "Python 3 (ipykernel)",
   "language": "python",
   "name": "python3"
  },
  "language_info": {
   "codemirror_mode": {
    "name": "ipython",
    "version": 3
   },
   "file_extension": ".py",
   "mimetype": "text/x-python",
   "name": "python",
   "nbconvert_exporter": "python",
   "pygments_lexer": "ipython3",
   "version": "3.9.7"
  }
 },
 "nbformat": 4,
 "nbformat_minor": 2
}
