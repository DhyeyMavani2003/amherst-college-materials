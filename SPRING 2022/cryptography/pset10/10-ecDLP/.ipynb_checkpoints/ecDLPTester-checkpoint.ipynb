{
 "cells": [
  {
   "cell_type": "markdown",
   "metadata": {},
   "source": [
    "Write a function $\\texttt{ecDLP(P,Q,A,B,p,q)}$ to solve the elliptic curve discrete logarithm problem, in cases where the prime $p$ is up to 28 bits. Here, $P,Q$ are points on the curve $Y^2 \\equiv X^3 + A X + B \\pmod{p}$, and you are given, for convenience, the number $q$ of points on the curve (which you may assume to be prime). The function should return the minimum nonnegative $n$ such that $n \\cdot P = Q$. Note that if you find any such solution $n'$, then you can find the minimum solution by computing $n' \\pmod{q}$.\n",
    "\n",
    "A naive trial-and-error approach will earn partial credit, but to solve all test cases I recommend adapting the BSGS algorithm to the setting of elliptic curves\n"
   ]
  },
  {
   "cell_type": "code",
   "execution_count": null,
   "metadata": {
    "mainSource": true
   },
   "outputs": [],
   "source": [
    "# Run this cell every time you change your source code.\n",
    "import importlib, ecDLPSoln\n",
    "importlib.reload(ecDLPSoln)\n",
    "from ecDLPSoln import ecDLP"
   ]
  },
  {
   "cell_type": "code",
   "execution_count": null,
   "metadata": {},
   "outputs": [],
   "source": [
    "# Sample test case (3-bit modulus)\n",
    "# Expected: 3\n",
    "# Time limit: 1s (not enforced by this notebook)\n",
    "ecDLP((1, 2),(0, 1),2,1,5,7)"
   ]
  },
  {
   "cell_type": "code",
   "execution_count": null,
   "metadata": {},
   "outputs": [],
   "source": [
    "# Sample test case (4-bit modulus)\n",
    "# Expected: 2\n",
    "# Time limit: 1s (not enforced by this notebook)\n",
    "ecDLP((10, 1),(5, 2),7,9,11,17)"
   ]
  },
  {
   "cell_type": "code",
   "execution_count": null,
   "metadata": {},
   "outputs": [],
   "source": [
    "# Sample test case (5-bit modulus)\n",
    "# Expected: 12\n",
    "# Time limit: 1s (not enforced by this notebook)\n",
    "ecDLP((16, 15),(1, 4),5,10,17,23)"
   ]
  },
  {
   "cell_type": "code",
   "execution_count": null,
   "metadata": {},
   "outputs": [],
   "source": [
    "# Sample test case (14-bit modulus)\n",
    "# Expected: 5173\n",
    "# Time limit: 1s (not enforced by this notebook)\n",
    "ecDLP((13826, 7953),(2561, 5312),12057,8649,16033,16189)"
   ]
  },
  {
   "cell_type": "code",
   "execution_count": null,
   "metadata": {},
   "outputs": [],
   "source": [
    "# Sample test case (28-bit modulus)\n",
    "# Expected: 152406980\n",
    "# Time limit: 1s (not enforced by this notebook)\n",
    "ecDLP((10906124, 6845701),(135605525, 57056440),143544335,117949918,158397847,158374199)"
   ]
  }
 ],
 "metadata": {
  "kernelspec": {
   "display_name": "Python 3 (ipykernel)",
   "language": "python",
   "name": "python3"
  },
  "language_info": {
   "codemirror_mode": {
    "name": "ipython",
    "version": 3
   },
   "file_extension": ".py",
   "mimetype": "text/x-python",
   "name": "python",
   "nbconvert_exporter": "python",
   "pygments_lexer": "ipython3",
   "version": "3.9.7"
  }
 },
 "nbformat": 4,
 "nbformat_minor": 2
}
